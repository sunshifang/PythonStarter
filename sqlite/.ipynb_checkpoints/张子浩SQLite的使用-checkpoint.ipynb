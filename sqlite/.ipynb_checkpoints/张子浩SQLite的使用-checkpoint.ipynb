{
 "cells": [
  {
   "cell_type": "markdown",
   "metadata": {},
   "source": [
    "### SqLite是什么？\n",
    "SqLite是一个进程内的数据库，实现了自给自足的、无服务器的、零配置的、事务性的SQL数据库引擎，可以按程序需求进行静态或动态连接，SQLite直接访问其存储文件。\n",
    "\n",
    "### 为什么要用SQLite\n",
    "○ 无服务器\n",
    "○ 不需要配置\n",
    "○ 结构简单，一个完整的SQLite数据库存储在一个单一的跨平台的磁盘文件。\n",
    "○ 非常小，轻量级\n",
    "○ 不需要外部依赖\n",
    "○ 事物兼容ACID，允许从多个进程或线程安全访问。\n",
    "○ 支持SQL92标准的大多数查询语言功能。\n",
    "○ 使用ANSI-C编写，提供了简单和易于使用的API\n",
    "○ 跨平台，在UNIX(Linux,Mac OS-X,Android,IOS)和Windows(Win32,WinCE,WinRT）中运行。\n",
    "\n",
    "### 在Windows上安装SQLite\n",
    "○ 从官网上下载window预编译的二进制文件，具体下载SQLite-dll和SqLite-tools\n",
    "○ 下载的文件解压后统一放到一个目录中\n",
    "    sqldiff.ext\n",
    "    sqlite3.def\n",
    "    sqlite3.dll\n",
    "    sqlite3.exe\n",
    "    sqlite3_analyzer.exe\n",
    "○ 添加目录到PATH环境变量\n",
    "○ 在命令提示符下输入sqlite3，显示出版本、帮助等提示信息，安装结束。\n",
    "\n",
    "### 创建数据库\n",
    "命令：DbName.db; 即可。\n"
   ]
  }
 ],
 "metadata": {
  "kernelspec": {
   "display_name": "Python 3",
   "language": "python",
   "name": "python3"
  },
  "language_info": {
   "codemirror_mode": {
    "name": "ipython",
    "version": 3
   },
   "file_extension": ".py",
   "mimetype": "text/x-python",
   "name": "python",
   "nbconvert_exporter": "python",
   "pygments_lexer": "ipython3",
   "version": "3.7.4"
  }
 },
 "nbformat": 4,
 "nbformat_minor": 2
}
