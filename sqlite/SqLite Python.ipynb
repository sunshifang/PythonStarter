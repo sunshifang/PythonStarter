{
 "cells": [
  {
   "cell_type": "code",
   "execution_count": null,
   "metadata": {},
   "outputs": [],
   "source": [
    "sqlite3.connect(database[,timeout,other optional arguments])\n",
    "打开一个到SQLite数据库文件的连接，如果数据库打开成功，则返回一个连接对象。\n",
    "当一个数据库被多个连接访问，且其中一个修改了数据库，此时SqLite数据库被锁定，直到事物提交。\n",
    "timeout表示连接等待锁定的持续时间，直到发生异常断开连接。timeout参数默认是5.0秒。\n",
    "如果给定的数据库名称不存在，则创建一个数据库。可以指定数据库文件的路径。"
   ]
  },
  {
   "cell_type": "code",
   "execution_count": null,
   "metadata": {
    "collapsed": true
   },
   "outputs": [],
   "source": [
    "connection.cursor([cursorCloass])\n",
    "该历程创建一个cursor，将在Python数据库编程中用到。该方法接受一个单一可选参数继承自sqlite3.Cursor的cursorClass。"
   ]
  },
  {
   "cell_type": "code",
   "execution_count": null,
   "metadata": {},
   "outputs": [],
   "source": [
    "cursor.execute(sql[,optional parameters])\n",
    "执行一个SQL语句。该SQL语句可以被参数化(用占位符代替SQL文本)。支持问号和命名站位符\n",
    "例如：cursor.execute(\"insert into people values(?,?)\",(who,age))"
   ]
  },
  {
   "cell_type": "markdown",
   "metadata": {},
   "source": [
    "connection.execute(sql[,optional parameters])\n",
    "由光标(cursor)对象提供的方法的快捷方式，它通过调用光标(cursor)方法创建了一个中间的光标对象，然后通过给定参数调用光标的execute方法"
   ]
  },
  {
   "cell_type": "raw",
   "metadata": {},
   "source": [
    "cursor.executemany(sql,seq_of_parameters)\n",
    "该例程对seq_of_parameters中的所有参数或映射执行一个SQL命令。"
   ]
  },
  {
   "cell_type": "code",
   "execution_count": null,
   "metadata": {},
   "outputs": [],
   "source": [
    "connection.ececutemany(sql[,parameters])\n",
    "光标对象提供的快捷方式"
   ]
  },
  {
   "cell_type": "code",
   "execution_count": null,
   "metadata": {},
   "outputs": [],
   "source": [
    "cursor.executescript(sql_script)\n",
    "通过执行脚本文件能够执行多个sql语句，语句间用分号(;)分隔。"
   ]
  },
  {
   "cell_type": "code",
   "execution_count": null,
   "metadata": {},
   "outputs": [],
   "source": [
    "connection.executescript(sql_script)\n",
    "cursor对象的快捷方式"
   ]
  },
  {
   "cell_type": "code",
   "execution_count": null,
   "metadata": {},
   "outputs": [],
   "source": [
    "connection.total_changes()\n",
    "返回自数据库连接打开以来被修改、插入或删除数据的总行数"
   ]
  },
  {
   "cell_type": "code",
   "execution_count": null,
   "metadata": {
    "collapsed": true
   },
   "outputs": [],
   "source": [
    "connection.commit()\n",
    "提交当前事务。如果未调用该方法，自上次调用commit以来所做的任何动作对其他数据库连接来说是不可见的。"
   ]
  },
  {
   "cell_type": "code",
   "execution_count": null,
   "metadata": {
    "collapsed": true
   },
   "outputs": [],
   "source": [
    "connection.rollback()\n",
    "回滚自上次调用commit（）以来对数据库所做的更改。"
   ]
  },
  {
   "cell_type": "code",
   "execution_count": null,
   "metadata": {
    "collapsed": true
   },
   "outputs": [],
   "source": [
    "connection.clos()\n",
    "关闭数据库连接。注意，该操作不会自动调用commit()，不调用commit()方法直接关闭数据库连接，所有对数据库的更改将丢失。"
   ]
  },
  {
   "cell_type": "code",
   "execution_count": null,
   "metadata": {},
   "outputs": [],
   "source": [
    "cursor.fetchone()\n",
    "获取查询结果中的下一行，返回一个单一的序列，当没有更多可用的数据时，则返回None。"
   ]
  },
  {
   "cell_type": "code",
   "execution_count": null,
   "metadata": {},
   "outputs": [],
   "source": [
    "cursor.fetchmany([size=cursor.arranysize])\n",
    "获取查询结果集中的下一行组，返回一个列表。当没有更多的可用行时，则返回一个空列表，该方法尝试获取由size参数指定的尽可能多的行。"
   ]
  },
  {
   "cell_type": "raw",
   "metadata": {},
   "source": [
    "cursor.fetchall()\n",
    "获取查询结果集中所有(剩余)的行，返回一个列表。当没有可用行时，则返回一个空的列表。"
   ]
  },
  {
   "cell_type": "code",
   "execution_count": 3,
   "metadata": {},
   "outputs": [
    {
     "name": "stdout",
     "output_type": "stream",
     "text": [
      "opened database successfully\n",
      "Table created successfully\n"
     ]
    }
   ],
   "source": [
    "import sqlite3\n",
    "conn = sqlite3.connect('db/test.db')\n",
    "print(\"opened database successfully\")\n",
    "cur = conn.cursor()\n",
    "cur.execute('''\n",
    "    create table company(\n",
    "        id int primary key not null,\n",
    "        Name TEXT not null,\n",
    "        Age int not null,\n",
    "        Address char(50),\n",
    "        Slary real\n",
    "    );''')\n",
    "print('Table created successfully')\n",
    "conn.commit()\n",
    "conn.close()"
   ]
  },
  {
   "cell_type": "code",
   "execution_count": 9,
   "metadata": {},
   "outputs": [
    {
     "name": "stdout",
     "output_type": "stream",
     "text": [
      "Opend database successfully\n",
      "Records create successfully\n"
     ]
    }
   ],
   "source": [
    "import sqlite3\n",
    "conn = sqlite3.connect('db/test.db')\n",
    "cur = conn.cursor()\n",
    "print('Opend database successfully')\n",
    "cur.execute(\"insert into company(id,Name,Age,Address,Slary)\\\n",
    "             values(1,'Paul',32,'California',20000.00);\")\n",
    "cur.execute(\"INSERT INTO COMPANY (ID,NAME,AGE,ADDRESS,SLARY) \\\n",
    "      VALUES (2, 'Allen', 25, 'Texas', 15000.00 );\")\n",
    "\n",
    "cur.execute(\"INSERT INTO COMPANY (ID,NAME,AGE,ADDRESS,SLARY) \\\n",
    "      VALUES (3, 'Teddy', 23, 'Norway', 20000.00 );\")\n",
    "\n",
    "cur.execute(\"INSERT INTO COMPANY (ID,NAME,AGE,ADDRESS,SLARY) \\\n",
    "      VALUES (4, 'Mark', 25, 'Rich-Mond ', 65000.00 );\")\n",
    "conn.commit()\n",
    "print('Records create successfully');\n",
    "conn.close()"
   ]
  },
  {
   "cell_type": "code",
   "execution_count": 11,
   "metadata": {},
   "outputs": [
    {
     "name": "stdout",
     "output_type": "stream",
     "text": [
      "Opened database successfuuly\n",
      "id =  1\n",
      "Name =  Paul\n",
      "Age =  32\n",
      "Address =  California\n",
      "Slary =  20000.0\n",
      "id =  2\n",
      "Name =  Allen\n",
      "Age =  25\n",
      "Address =  Texas\n",
      "Slary =  15000.0\n",
      "id =  3\n",
      "Name =  Teddy\n",
      "Age =  23\n",
      "Address =  Norway\n",
      "Slary =  20000.0\n",
      "id =  4\n",
      "Name =  Mark\n",
      "Age =  25\n",
      "Address =  Rich-Mond \n",
      "Slary =  65000.0\n"
     ]
    }
   ],
   "source": [
    "import sqlite3\n",
    "conn = sqlite3.connect('db/test.db')\n",
    "cursor = conn.cursor()\n",
    "print('Opened database successfuuly')\n",
    "result = cursor.execute(\"select * from company\")\n",
    "for row in result:\n",
    "    print(\"id = \",row[0])\n",
    "    print('Name = ',row[1])\n",
    "    print('Age = ',row[2])\n",
    "    print('Address = ',row[3])\n",
    "    print('Slary = ',row[4])\n",
    "    \n",
    "conn.close()"
   ]
  },
  {
   "cell_type": "code",
   "execution_count": 8,
   "metadata": {},
   "outputs": [
    {
     "name": "stdout",
     "output_type": "stream",
     "text": [
      "影响到的行数 1\n",
      "(1, 'Paul', 32, 'California', 25000.0)\n"
     ]
    }
   ],
   "source": [
    "import sqlite3\n",
    "conn = sqlite3.connect('db/test.db')\n",
    "cur = conn.cursor()\n",
    "cur.execute(\"update company set slary=25000.00 where id=1\")\n",
    "conn.commit()\n",
    "print(\"影响到的行数\",conn.total_changes)\n",
    "row = cur.execute(\"select * from company\")\n",
    "r = row.fetchone()\n",
    "#for r in row:\n",
    "print(r)\n",
    "#cursor = conn.execute(\"select * from company\")\n",
    "#for row in cursor:\n",
    "#    print(\"结果是：\",cursor[1])"
   ]
  },
  {
   "cell_type": "code",
   "execution_count": null,
   "metadata": {},
   "outputs": [],
   "source": []
  },
  {
   "cell_type": "code",
   "execution_count": null,
   "metadata": {},
   "outputs": [],
   "source": []
  },
  {
   "cell_type": "code",
   "execution_count": null,
   "metadata": {},
   "outputs": [],
   "source": []
  },
  {
   "cell_type": "code",
   "execution_count": null,
   "metadata": {},
   "outputs": [],
   "source": []
  },
  {
   "cell_type": "code",
   "execution_count": null,
   "metadata": {},
   "outputs": [],
   "source": []
  },
  {
   "cell_type": "code",
   "execution_count": null,
   "metadata": {},
   "outputs": [],
   "source": []
  },
  {
   "cell_type": "code",
   "execution_count": null,
   "metadata": {},
   "outputs": [],
   "source": []
  }
 ],
 "metadata": {
  "kernelspec": {
   "display_name": "Python 3",
   "language": "python",
   "name": "python3"
  },
  "language_info": {
   "codemirror_mode": {
    "name": "ipython",
    "version": 3
   },
   "file_extension": ".py",
   "mimetype": "text/x-python",
   "name": "python",
   "nbconvert_exporter": "python",
   "pygments_lexer": "ipython3",
   "version": "3.7.4"
  }
 },
 "nbformat": 4,
 "nbformat_minor": 2
}
