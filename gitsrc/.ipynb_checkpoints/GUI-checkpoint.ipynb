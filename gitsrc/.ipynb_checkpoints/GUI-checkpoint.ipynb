{
 "cells": [
  {
   "cell_type": "markdown",
   "metadata": {},
   "source": [
    "# 基于tkinter模块开发GUI\n",
    "\n",
    "1.导入tkinter模块中我们需要的东西\n",
    "2.创建一个顶层窗口对象并用它来承载整个GUI应用。\n",
    "3.在顶层窗口上添加GUI组件\n",
    "4.通过代码将这些GUI组件的功能组织起来\n",
    "5.进入主事件循环(mian loop)"
   ]
  },
  {
   "cell_type": "code",
   "execution_count": 3,
   "metadata": {},
   "outputs": [],
   "source": [
    "import tkinter\n",
    "import tkinter.messagebox\n",
    "\n",
    "def main():\n",
    "    flag = True\n",
    "    \n",
    "    #修改标签上的文字\n",
    "    def change_label_text():\n",
    "        nonlocal flag\n",
    "        flag = not flag\n",
    "        color, msg = ('red','hello, world!')\\\n",
    "            if flag else ('blue', 'Goodbye,World!')\n",
    "        label.config(text=msg, fg=color)\n",
    "        \n",
    "    #确认退出\n",
    "    def confirm_to_quit():\n",
    "        if tkinter.messagebox.askokcancel('温馨提示', '确定要退出吗？'):\n",
    "            top.quit()\n",
    "            \n",
    "    #创建顶层窗口\n",
    "    top = tkinter.Tk()\n",
    "    #设置窗口大小\n",
    "    top.geometry('240x160')\n",
    "    #设置窗口标题\n",
    "    top.title('小游戏')\n",
    "    #创建标签对象并添加到顶层窗口\n",
    "    label = tkinter.Label(top,text='Hello, world!', font='Arial -32', fg='red')\n",
    "    label.pack(expand=1)\n",
    "    #创建一个装按钮的容器\n",
    "    panel = tkinter.Frame(top)\n",
    "    #创建按钮对象，指定添加到哪个容器中，通过command参数绑定事件回调函数\n",
    "    button1 = tkinter.Button(panel,text='修改', command=change_label_text)\n",
    "    button1.pack(side='left')\n",
    "    button2 = tkinter.Button(panel,text='退出', command=confirm_to_quit)\n",
    "    button2.pack(side='right')\n",
    "    panel.pack()\n",
    "    #开启主事件循环\n",
    "    tkinter.mainloop()\n",
    "    \n",
    "if __name__ == '__main__':\n",
    "    main()"
   ]
  }
 ],
 "metadata": {
  "kernelspec": {
   "display_name": "Python 3",
   "language": "python",
   "name": "python3"
  },
  "language_info": {
   "codemirror_mode": {
    "name": "ipython",
    "version": 3
   },
   "file_extension": ".py",
   "mimetype": "text/x-python",
   "name": "python",
   "nbconvert_exporter": "python",
   "pygments_lexer": "ipython3",
   "version": "3.7.4"
  }
 },
 "nbformat": 4,
 "nbformat_minor": 2
}
