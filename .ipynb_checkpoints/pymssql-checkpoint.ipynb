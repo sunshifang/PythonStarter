{
 "cells": [
  {
   "cell_type": "code",
   "execution_count": 8,
   "metadata": {},
   "outputs": [
    {
     "name": "stdout",
     "output_type": "stream",
     "text": [
      "用while循环遍历，每次获取一行数据\n",
      "ME1911190006\n",
      "使用for循环来迭代查询结果\n",
      "(27524, 'ME1911190006', 'JJ47D20337', 'JPG-16B', False, 1.0, 158.05, 158.05, 0.0, 0.0, 'QJ01-19863(P7889)', '电缆固定头', 'PCS', '黄明喜', '否', 1, None, None, 0.0, None, None, None, None, None, None, None)\n",
      "<class 'pymssql.Cursor'>\n",
      "False\n",
      "False\n",
      "True\n"
     ]
    }
   ],
   "source": [
    "# pymssql实训\n",
    "import pymssql\n",
    "\n",
    "conn = pymssql.connect(\"192.168.2.107\", \"sa\", \"Aa123456\", \"otcwms\")\n",
    "cursor = conn.cursor()\n",
    "\n",
    "sql = \"\"\"\n",
    "select a.*,\n",
    "\t(case \n",
    "\t\twhen b.auditPoint1=1 and a.currInstate<=0 then '生产部审核'\n",
    "\t\twhen b.auditPoint2=1 and a.currInstate<=1 then '购买部审核'\n",
    "\t\twhen b.auditPoint3=1 and a.currInstate<=2 then '国外购买G审核'\n",
    "\t\twhen b.auditPoint4=1 and a.currInstate<=3 then '资材系统G审核'\n",
    "\t\twhen b.auditPoint5=1 and a.currInstate<=4 then '资材部长审核'\n",
    "\t\twhen b.auditPoint6=1 and a.currInstate<=5 then '总经理审核'        \n",
    "    else ''\n",
    "    end) currCheckInstantState,\n",
    "    (case when isnull(a.isValidateInOut,1)=1 then '是' else '否' end) as isValidateInOutDesc\n",
    "from \n",
    "(\n",
    "\tSELECT *, (case when instantState='提交' then 0 \n",
    "\t\twhen instantState='生产部审核通过' then 1 \n",
    "\t\twhen instantState='购买部审核通过' then 2 \n",
    "\t\twhen instantState='国外购买G审核通过' then 3 \n",
    "\t\twhen instantState='资材系统G审核通过' then 4 \n",
    "\t\twhen instantState='资材部长审核通过' then 5 \n",
    "\t\twhen instantState='总经理审核通过' then 6\n",
    "\t\telse 999\n",
    "\t\tend) currInstate\n",
    "\tfrom vCElseOutStockBill\n",
    ") a \n",
    "left join \n",
    "(\n",
    "    select *,id as billTypeId\n",
    "    from dbo.LBillType\n",
    "    where module in ('其他入库','其他出库')\n",
    ")b on a.billTypeId=b.billTypeId\n",
    "where 1=1  and a.isrtDt >='2019-10-22' and a.principalEmpNm like '%张宝祥%' order by a.isrtDt desc,a.billNo\n",
    "\"\"\"\n",
    "sql = \"\"\"\n",
    "select id,billNo,productNo,spec,isForbidDelivery,planAmount,price,moneySum,factAmount,oweAmount,mark,\n",
    "\tproductNm,unitNm,productPrincipalEmpNm,isForbidDeliveryDesc,oweSort,oweInvoice,oweArriveDt,oweArriveAmount,oweTrackEmp,oweDepart,\n",
    "\toweMark,oweInspectionAmount,oweInspectionDt,oweInStockAmount,oweTeamProductDt \n",
    "from vCElseOutStockDetail_Full\n",
    "where billNo='ME1911190006'\n",
    "order by id\n",
    "\"\"\"\n",
    "#SELECT top 5 * FROM vLProduct\"\n",
    "cursor.execute(sql)\n",
    "row = cursor.fetchone()\n",
    "print(\"用while循环遍历，每次获取一行数据\")\n",
    "while row:\n",
    "    print(row[1])\n",
    "    row = cursor.fetchone()\n",
    "\n",
    "print(\"使用for循环来迭代查询结果\")\n",
    "cursor.execute(sql)\n",
    "for row in cursor:\n",
    "    print(row)\n",
    "\n",
    "print(type(cursor))\n",
    "print(isinstance(cursor,tuple))\n",
    "print(isinstance(cursor,list))\n",
    "print(isinstance(cursor,pymssql.Cursor))\n",
    "cursor.close()\n",
    "conn.close()"
   ]
  },
  {
   "cell_type": "code",
   "execution_count": null,
   "metadata": {},
   "outputs": [],
   "source": []
  }
 ],
 "metadata": {
  "kernelspec": {
   "display_name": "Python 3",
   "language": "python",
   "name": "python3"
  },
  "language_info": {
   "codemirror_mode": {
    "name": "ipython",
    "version": 3
   },
   "file_extension": ".py",
   "mimetype": "text/x-python",
   "name": "python",
   "nbconvert_exporter": "python",
   "pygments_lexer": "ipython3",
   "version": "3.7.4"
  }
 },
 "nbformat": 4,
 "nbformat_minor": 2
}
