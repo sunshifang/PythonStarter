{
 "cells": [
  {
   "cell_type": "markdown",
   "metadata": {},
   "source": [
    "# Python数据分析\n",
    "## 第1章 数据分析基础\n",
    "### 1.1 数据分析是什么\n",
    "利用合适的工具在统计学理论的支撑下，对数据进行一定程度的预处理，然后结合具体业务分析数据，帮助相关业务部门监控、定位、分析、解决问题，从而帮助企业高效率决策，提高经营效率，发现业务机会点，让企业获得持续竞争优势。\n",
    "### 1.2 为什么要做数据分析\n",
    "数据分析可以把隐藏在大量数据背后的信息提炼出来，总结出数据的内置规律。\n",
    "#### 1.2.1 现状分析\n",
    "回答业务在过去发生了什么，具体体现在两个方面：\n",
    "第一，告诉你现阶段整体运营情况，通过各个关键指标的表现情况来衡量企业的运营状况，掌握企业目前的发展趋势。\n",
    "第二，告诉你企业各项业务的构成，对企业运营现状有更深入的了解。\n",
    "现状分析一般通过日程报表来实现，如日报、周报、月报等形式。\n",
    "#### 1.2.2 原因分析\n",
    "回答某一现状为什么会存在\n",
    "原因分析一般通过专题分析来完成，根据企业运营情况选择针对某一现状进行原因分析。\n",
    "#### 1.2.3 预测分析\n",
    "回答未来可能发生什么\n",
    "预测分析一般通过专题分析来完成，通常在制订企业季度、年度计划时进行。\n",
    "### 1.3 数据分析究竟在分析什么\n",
    "数据分析的重点在分析，而不在工具\n",
    "#### 1.3.1 总体概览指标\n",
    "又称统计绝对数，反映某一数据指标的整体规模大小，总量多少的指标。\n",
    "我们把经常关注的总体概览指标称为关键性指标，这些指标的数值将会直接决定公司的盈利情况。\n",
    "#### 1.3.2 对比性指标\n",
    "对比性指标是说明现象之间数量对比关系的指标，常见的就是同比、环比、差值这几个指标。\n",
    "同比是指相邻时间段内某一共同时间点上指标的对比。\n",
    "环比相邻时间段内指标的对比\n",
    "差(值)是两时间段内的指标直接做差，差的绝对值就是两个时间段内指标的变化量。\n",
    "#### 1.3.3 集中趋势指标\n",
    "集中趋势指标用来反映某一现象在一定时间段内所达到的一般水平，通常用平均指标来表示。平均指标分为数值平均和位置平均。\n",
    "数值平均是统计数列中所有数值平均的结果，有普通平均数和加权平均数两种。\n",
    "    普通平均的所有数值的权重都是1，而加权平均中不同数值的权重是不一样的，在算平均值时不同数值要乘以不同的权重。\n",
    "位置平均是基于某个特殊位置上的数或者普遍出现的数，即用出现次数最多的数值来作为这一系列数值的整体一般水平。基于位置的指标最常用的就是中位数，基于出现次数最多的指标就是众数。\n",
    "    众数是一系列数值中出现次数最多的数值，是总体中最普遍的值，因此可以用来代表一般水平。如果数据可以分成多组，则为每组找出一个众数。注意：众数只有在总体内单位足够多时才又意义。\n",
    "    中位数是将一系列值中的每一个值按照从小到大顺序排列，处于中间位置的数值就是中位数。因为处于中间位置，有一半变量值大于该值，一半小于该值，所以可以用这样的中等水平来表示正体的一般水平。\n",
    "#### 1.3.4 离散程度指标\n",
    "离散程度指标用来表示总体分布的离散(波动)情况的指标，如果这个指标较大，则说明数据波动比较大，反之则说明数据相对比较稳定。\n",
    "全距(又称极差)、方差、标准差等几个指标用于衡量数值的离散情况\n",
    "    极差：由于平均数让我们确定一批数据的中心，但是无法知道数据的变动情况，因此引入极差。极差的计算方法：数据中最大数(上界)减去最小数(下界)。\n",
    "    极差存在的问题主要有两方面\n",
    "    · 问题1：容易受异常值影响\n",
    "            引入4分位概念，将数据从小到大排列后一分为四，最小的四分位数为下四分位数，最大的四分位数为上四分位数，中间的四分位数为中位数。\n",
    "    · 问题2：极差只表示了数据的宽度，没有描述清楚上下界之间的分布形态。\n",
    "            引入方差和标准差两个概念来衡量数据的分散性。\n",
    "方差是每个数值与均值距离的平方的平均值，方差越小说明个数值与均值之间的差距越小，数值越稳定。\n",
    "标准差是方差的开发，表示数值与均值距离的平均值。\n",
    "#### 1.3.5 相关性指标\n",
    "相关系数是反应数据整体内的变量之间存在的关系，一个变化时另一个会怎样变化。\n",
    "r(x,y) = Cov(x,y) / sqrt((Var[x]Var[y]))\n",
    "其中，\n",
    "    r(x,y)：相关系数\n",
    "    Cov(x,y)：x与y的协方差\n",
    "    Var[x]：x的方差\n",
    "    Var[y]：y的方差\n",
    "相关系数要注意以几点\n",
    "· 相关系数r的范围为[-1,1]\n",
    "· r的绝对值越大，表示相关性越强。\n",
    "· r的正负代表相关性方向，正代表正相关，负代表负相关。\n",
    "#### 1.3.6 相关关系与因果关系\n",
    "相关关系不等于因果关系，相关关系只能说明两件事情有关联，而因果关系是说明一件事情导致了另一件事情的发生。\n",
    "### 1.4 数据分析的常规流程\n",
    "熟悉工具 → 明确目的 → 获取数据 → 熟悉数据 → 处理数据 → 分析数据 → 得出结论 → 验证结论 → 展示结论\n",
    "#### 1.4.1 熟悉工具\n",
    "数据分析是利用合适的工具和合适的理论挖掘隐藏在数据背后的信息，因此数据分析的第一步就是熟悉工具，知道工具提供了哪些功能，如何调用这些功能。\n",
    "#### 1.4.2 明确目的\n",
    "例如，希望通过数据分析发现流失用户都有哪些特征，希望通过数据分析找到销量上涨的原因。\n",
    "#### 1.4.3 获取数据\n",
    "获取数据是要明确以下几点：\n",
    "· 需要什么指标\n",
    "· 需要什么时间段的数据\n",
    "· 这些数据都存在哪个数据库的哪个表中\n",
    "· 怎么提取，是自己写sql还是可以直接从ERP系统中下载。\n",
    "#### 1.4.4 熟悉数\n",
    "看一下有多少数据及数据类型，每个指标大概有哪些值，是否能满足要求，如果不够就要再取数据、再次熟悉数据。\n",
    "#### 1.4.5 处理数据\n",
    "获取到的数据是原始数据，这些数据中一般会有一些特殊数据，需要对这些数据进行提前处理。常见的特殊数据有以下几种：\n",
    "· 异常数据：需要结合具体业务进行处理。电商平台上找出刷单商户，那么异常值就是重点研究对象。分析用户年龄的话，大于100和小于0的数据要删除。\n",
    "· 重复数据：删除处理\n",
    "· 缺失数据：缺失比例高于30%，一般会放弃这个指标，也就是删除处理，低于30%的指标进行填充处理，用0、均值或者众数进行填充。\n",
    "· 测试数据：删除处理\n",
    "#### 1.4.6 分析数据\n",
    "分析数据主要围绕总体概览指标、对比性指标、集中趋势指标、离散程度指标和相关性指标展开。经常采用的方法就是下钻法：例如当我们发现某一天的销量突然下滑/上涨时，我们会去看是哪个地区的销量下滑/上涨，进而再去看哪个品类、哪个产品的销量出现xiah/上涨，层层下钻，最后找到问题产生的真正原因。\n",
    "#### 1.4.7 得出结论\n",
    "通过分析数据，可以得出结论\n",
    "#### 1.4.8 验证结论\n",
    "例如，做新媒体数据分析，通过分析发现情感类文章的点赞量、转发量更高，这只是你分析的结论，但是这个结论正确吗？你可以再写几篇情感类文章验证一下。\n",
    "#### 1.4.9 展示结论\n",
    "分析出结论，并且结论得到验证以后就可以把这个结论分享给有关人员，这时候就需要考虑如何展示结论，以什么形式展现，这就要用到数据可视化了。\n",
    "### 1.5 数据分析工具：Excel与Python\n",
    "## 第2章 Python基础知识\n",
    "### 2.1 Python是什么\n",
    "### 2.2 Python的下载与安装\n",
    "#### 2.2.1 安装教程\n",
    "Python分为官方版本和开源版本(Anaconda),开源版本中默认安装了很多常用的第三方库。\n",
    "#### 2.2.2 IDE与IDLE\n",
    "### 2.3 介绍Jupyter Notebook\n",
    "#### 2.3.1 新建Jupyter Notebook文件\n",
    "#### 2.3.2 运行你的第一段代码\n",
    "#### 2.3.3 重命名Jupyter Notebook文件\n",
    "#### 2.3.4 保存Jupyter Notebook文件\n",
    "File → Save and Checkpoint 用默认文件名保存在默认路径下\n",
    "File → Download as 相当于另存为，可以选择文件格式及保存位置。\n",
    "#### 2.3.5 导入本地Jupyter Notebook文件\n",
    "打开文件后点上传按钮\n",
    "#### 2.3.6 Jupyter Notebook与Markdown\n",
    "对应的是code选项和标记选项，标记选项是个文本框，便于编辑操作。\n",
    "#### 2.3.7 为Jupyter Notebook添加目录\n",
    "### 2.4 基本概念\n",
    "#### 2.4.1 数\n",
    "#### 2.4.2 变量\n",
    "#### 2.4.3 标识符\n",
    "#### 2.4.4 数据类型\n",
    "主要有数和字符串两种，数包括整型和浮点型，可以使用type()函数来查看具体值的数据类型"
   ]
  },
  {
   "cell_type": "code",
   "execution_count": 3,
   "metadata": {},
   "outputs": [
    {
     "name": "stdout",
     "output_type": "stream",
     "text": [
      "type(1) = <class 'int'>\n",
      "type(1.0) = <class 'float'>\n",
      "type('hello world') = <class 'str'>\n"
     ]
    }
   ],
   "source": [
    "print(\"type(1) =\",type(1))\n",
    "print(\"type(1.0) =\",type(1.0))\n",
    "print(\"type('hello world') =\",type('hello world'))"
   ]
  },
  {
   "cell_type": "markdown",
   "metadata": {},
   "source": [
    "#### 2.4.5 输出与输出格式设置\n",
    "使用str.format()方法进行设定，str是一个字符串，将format()里面的内容填充到str字符串的{}中，几种常用的主要形式如下："
   ]
  },
  {
   "cell_type": "code",
   "execution_count": 7,
   "metadata": {},
   "outputs": [
    {
     "name": "stdout",
     "output_type": "stream",
     "text": [
      "一对一填充：\n",
      "'我正在学习：{}'.format('python基础知识')\n",
      "我正在学习：python基础知识\n",
      "\n",
      "多对多填充：\n",
      "'{}约{:.2f}亿'.format('2018年中国单身人数', 2)\n",
      "2018年中国单身人数约2.00亿\n",
      "\n",
      "浮点数设置\n",
      ".2f表示以浮点型展示，且显示小数点后两位\n",
      "\n",
      "百分数设置\n",
      ".2%表示百分比形式展示，且展示小数点后两位\n",
      "'中国男性占总人口的比例：{:.2%}'.format(0.519)\n",
      "中国男性占总人口的比例：51.90%\n"
     ]
    }
   ],
   "source": [
    "print('一对一填充：')\n",
    "print(\"'我正在学习：{}'.format('python基础知识')\")\n",
    "print('我正在学习：{}'.format('python基础知识'))\n",
    "print(\"\")\n",
    "print('多对多填充：')\n",
    "print(\"'{}约{:.2f}亿'.format('2018年中国单身人数', 2)\")\n",
    "print('{}约{:.2f}亿'.format('2018年中国单身人数', 2))\n",
    "print(\"\")\n",
    "print('浮点数设置')\n",
    "print('.2f表示以浮点型展示，且显示小数点后两位')\n",
    "print(\"\")\n",
    "print('百分数设置')\n",
    "print('.2%表示百分比形式展示，且展示小数点后两位')\n",
    "print(\"'中国男性占总人口的比例：{:.2%}'.format(0.519)\")\n",
    "print('中国男性占总人口的比例：{:.2%}'.format(0.519))"
   ]
  },
  {
   "cell_type": "markdown",
   "metadata": {},
   "source": [
    "#### 2.4.6 缩进与注释\n",
    "缩进是语法格式的一部分，是强制的，否则有语法错误\n",
    "单行注释用 # ，多行注释用 ''' 或 \"\"\"\n",
    "\n",
    "### 2.5 字符串\n",
    "#### 2.5.1 字符串的概念\n",
    "字符串是由0个或多个字符组成的有限串行，是用单引号或双引号括起来的，符号是str(string的缩写)\n",
    "#### 2.5.2 字符串的连接\n",
    "用加号 + 进行连接"
   ]
  },
  {
   "cell_type": "code",
   "execution_count": 9,
   "metadata": {},
   "outputs": [
    {
     "data": {
      "text/plain": [
       "'张俊红'"
      ]
     },
     "execution_count": 9,
     "metadata": {},
     "output_type": "execute_result"
    }
   ],
   "source": [
    "\"张\" + \"俊红\""
   ]
  },
  {
   "cell_type": "code",
   "execution_count": 10,
   "metadata": {},
   "outputs": [
    {
     "data": {
      "text/plain": [
       "'Python真强大Python真强大Python真强大'"
      ]
     },
     "execution_count": 10,
     "metadata": {},
     "output_type": "execute_result"
    }
   ],
   "source": [
    "#### 2.5.3 字符串的复制 用 * 号\n",
    "\"Python真强大\"*3"
   ]
  },
  {
   "cell_type": "code",
   "execution_count": 11,
   "metadata": {},
   "outputs": [
    {
     "data": {
      "text/plain": [
       "11"
      ]
     },
     "execution_count": 11,
     "metadata": {},
     "output_type": "execute_result"
    }
   ],
   "source": [
    "#### 2.5.4 获取字符串的长度\n",
    "len('13199369591')"
   ]
  },
  {
   "cell_type": "code",
   "execution_count": 12,
   "metadata": {},
   "outputs": [
    {
     "data": {
      "text/plain": [
       "True"
      ]
     },
     "execution_count": 12,
     "metadata": {},
     "output_type": "execute_result"
    }
   ],
   "source": [
    "#### 2.5.5 字符串查找  in 和 not in\n",
    "\"测试\" in \"新产品上线测试号\""
   ]
  },
  {
   "cell_type": "code",
   "execution_count": 13,
   "metadata": {},
   "outputs": [
    {
     "data": {
      "text/plain": [
       "True"
      ]
     },
     "execution_count": 13,
     "metadata": {},
     "output_type": "execute_result"
    }
   ],
   "source": [
    "\"测试\" not in \"我是一个正常的用户\""
   ]
  },
  {
   "cell_type": "code",
   "execution_count": 14,
   "metadata": {},
   "outputs": [
    {
     "data": {
      "text/plain": [
       "2"
      ]
     },
     "execution_count": 14,
     "metadata": {},
     "output_type": "execute_result"
    }
   ],
   "source": [
    "#find查找字符，返回字符的位置\n",
    "\"Abc\".find('c')"
   ]
  },
  {
   "cell_type": "code",
   "execution_count": 15,
   "metadata": {},
   "outputs": [
    {
     "data": {
      "text/plain": [
       "-1"
      ]
     },
     "execution_count": 15,
     "metadata": {},
     "output_type": "execute_result"
    }
   ],
   "source": [
    "#查找不到，返回-1\n",
    "\"Abc\".find('d')"
   ]
  },
  {
   "cell_type": "code",
   "execution_count": null,
   "metadata": {},
   "outputs": [],
   "source": [
    "#### 2.5.6 字符串索引\n",
    "字符串索引是指通过字符串中值所处的位置对值进行选取，字符串中的位置是从0开始的"
   ]
  },
  {
   "cell_type": "code",
   "execution_count": null,
   "metadata": {},
   "outputs": [],
   "source": [
    "获取字符串中第一位的值"
   ]
  },
  {
   "cell_type": "code",
   "execution_count": 16,
   "metadata": {},
   "outputs": [
    {
     "data": {
      "text/plain": [
       "'P'"
      ]
     },
     "execution_count": 16,
     "metadata": {},
     "output_type": "execute_result"
    }
   ],
   "source": [
    "a = \"Python数据分析\"\n",
    "a[0]"
   ]
  },
  {
   "cell_type": "code",
   "execution_count": null,
   "metadata": {},
   "outputs": [],
   "source": [
    "获取字符串中第4位的值"
   ]
  },
  {
   "cell_type": "code",
   "execution_count": 17,
   "metadata": {},
   "outputs": [
    {
     "data": {
      "text/plain": [
       "'h'"
      ]
     },
     "execution_count": 17,
     "metadata": {},
     "output_type": "execute_result"
    }
   ],
   "source": [
    "a[3]"
   ]
  },
  {
   "cell_type": "code",
   "execution_count": null,
   "metadata": {},
   "outputs": [],
   "source": [
    "获取字符串中第2位到第4位之间的值，且不包含第4位"
   ]
  },
  {
   "cell_type": "code",
   "execution_count": null,
   "metadata": {},
   "outputs": [],
   "source": [
    "a[1:3]"
   ]
  },
  {
   "cell_type": "code",
   "execution_count": null,
   "metadata": {},
   "outputs": [],
   "source": [
    "索引的第1位和最后一位可以省略不写，但冒号: 不能省略，-1表示倒数第1位"
   ]
  },
  {
   "cell_type": "code",
   "execution_count": 18,
   "metadata": {},
   "outputs": [
    {
     "data": {
      "text/plain": [
       "'析'"
      ]
     },
     "execution_count": 18,
     "metadata": {},
     "output_type": "execute_result"
    }
   ],
   "source": [
    "a[-1]"
   ]
  },
  {
   "cell_type": "code",
   "execution_count": null,
   "metadata": {},
   "outputs": [],
   "source": [
    "#### 2.5.7 字符串分隔 split()\n",
    "字符串分隔是先将一个字符用某个分隔符分开，然后将分隔后的值以列表的形式返回，用的函数是split()"
   ]
  },
  {
   "cell_type": "code",
   "execution_count": 20,
   "metadata": {},
   "outputs": [
    {
     "name": "stdout",
     "output_type": "stream",
     "text": [
      "['abc']\n",
      "['abc']\n"
     ]
    }
   ],
   "source": [
    "#将字符串abc用逗号分隔\n",
    "print('abc'.split(','))\n",
    "#将字符串abc用|进行分隔\n",
    "print('abc'.split('|'))"
   ]
  },
  {
   "cell_type": "code",
   "execution_count": null,
   "metadata": {},
   "outputs": [],
   "source": [
    "#### 2.5.8 移除字符 strip()\n",
    "移除字符串首尾指定的字符，默认移除字符串首尾的空格或换行符"
   ]
  },
  {
   "cell_type": "code",
   "execution_count": 22,
   "metadata": {},
   "outputs": [
    {
     "name": "stdout",
     "output_type": "stream",
     "text": [
      "a\n",
      "a\n",
      "a\n"
     ]
    }
   ],
   "source": [
    "#移除空格\n",
    "print(\" a \".strip())\n",
    "#移除换行符\n",
    "print(\"\\ta\\t\".strip())\n",
    "#移除指定的字符A\n",
    "print(\"AaA\".strip('A'))"
   ]
  },
  {
   "cell_type": "markdown",
   "metadata": {},
   "source": [
    "### 2.6 数据结构---列表\n",
    "#### 2.6.1 列表的概念\n",
    "列表(list)是用来存储一组有序元素的数据结构，元素之间用逗号隔开。列表中的数据元素应该包括在方括号内，列表是可变的数据类型，创建列表后，你可以添加、删除或者修改列表中的元素，方括号中的数据类型可以是int型，也可以是str型。\n",
    "#### 2.6.2 新建一个列表\n",
    "直接将数据用方括号括起来就行"
   ]
  },
  {
   "cell_type": "code",
   "execution_count": null,
   "metadata": {},
   "outputs": [],
   "source": [
    "#建立一个空列表\n",
    "null_list = []\n",
    "#建立一个int型列表\n",
    "int_list = [1,2,3]\n",
    "#建立一个str型列表\n",
    "str_list = ['a','b','c']\n",
    "#建立一个int+str型列表\n",
    "int_str_list = [1,2,'a','b']"
   ]
  },
  {
   "cell_type": "code",
   "execution_count": null,
   "metadata": {},
   "outputs": [],
   "source": [
    "####2.6.3 列表的复制\n",
    "列表的复制与字符串类似，也是使用*"
   ]
  },
  {
   "cell_type": "code",
   "execution_count": 1,
   "metadata": {},
   "outputs": [
    {
     "name": "stdout",
     "output_type": "stream",
     "text": [
      "[1, 2, 3, 1, 2, 3, 1, 2, 3]\n",
      "[1, 2, 'a', 'b', 1, 2, 'a', 'b']\n"
     ]
    }
   ],
   "source": [
    "int_list = [1,2,3]\n",
    "print(int_list*3)\n",
    "int_str_list = [1,2,'a','b']\n",
    "print(int_str_list * 2)"
   ]
  },
  {
   "cell_type": "code",
   "execution_count": null,
   "metadata": {},
   "outputs": [],
   "source": [
    "#### 2.6.4 列表的合并\n",
    "列表的合并就是将两个现有的list合并在一起，主要有两种实现方式。\n",
    "一种是利用 + 操作符，和字符串的连接类似；另一种是extend()函数"
   ]
  },
  {
   "cell_type": "code",
   "execution_count": 4,
   "metadata": {},
   "outputs": [
    {
     "name": "stdout",
     "output_type": "stream",
     "text": [
      "int_list = [1,2,3]\n",
      "str_list = ['a','b','c']\n",
      "str_list + int_list =  ['a', 'b', 'c', 1, 2, 3]\n",
      "int_list + str_list =  [1, 2, 3, 'a', 'b', 'c']\n",
      "str_list.extend(int_list)= ['a', 'b', 'c', 1, 2, 3]\n",
      "int_list.extend(str_list)= [1, 2, 3, 'a', 'b', 'c']\n"
     ]
    }
   ],
   "source": [
    "int_list = [1,2,3]\n",
    "str_list = ['a','b','c']\n",
    "print(\"int_list = [1,2,3]\")\n",
    "print(\"str_list = ['a','b','c']\")\n",
    "print(\"str_list + int_list = \",str_list + int_list)\n",
    "print(\"int_list + str_list = \",int_list + str_list)\n",
    "str_list.extend(int_list)\n",
    "print(\"str_list.extend(int_list)=\",str_list)\n",
    "str_list = ['a','b','c']\n",
    "int_list.extend(str_list)\n",
    "print(\"int_list.extend(str_list)=\",int_list)"
   ]
  },
  {
   "cell_type": "markdown",
   "metadata": {},
   "source": [
    "#### 2.6.5 向列表中插入新元素\n",
    "列表是可变的，也就是当新建一个列表后你还可以对这个列表进行操作，对列表进行插入元素的操作主要有append()和insert()两个函数。这两个函数会直接改变原列表，不会直接输出结果，需要调用原列表名来获取插入新元素以后的列表。"
   ]
  },
  {
   "cell_type": "code",
   "execution_count": 5,
   "metadata": {},
   "outputs": [
    {
     "name": "stdout",
     "output_type": "stream",
     "text": [
      "int_list.append(4)= [1, 2, 3, 4]\n",
      "int_list.insert(2,4) [1, 2, 4, 3]\n"
     ]
    }
   ],
   "source": [
    "#函数append()是在列表末尾插入新的元素\n",
    "int_list = [1,2,3]\n",
    "int_list.append(4)\n",
    "print(\"int_list.append(4)=\",int_list)\n",
    "\n",
    "#函数insert()是在列表的指定位置插入新的元素\n",
    "int_list = [1,2,3]\n",
    "int_list.insert(2,4) #表示在第3位插入元素4\n",
    "print(\"int_list.insert(2,4)\",int_list)"
   ]
  },
  {
   "cell_type": "code",
   "execution_count": null,
   "metadata": {},
   "outputs": [],
   "source": [
    "#### 2.6.6 获取列表中值出现的次数\n",
    "利用count()函数获取某个值在列表中出现的次数"
   ]
  },
  {
   "cell_type": "code",
   "execution_count": 6,
   "metadata": {},
   "outputs": [
    {
     "data": {
      "text/plain": [
       "3"
      ]
     },
     "execution_count": 6,
     "metadata": {},
     "output_type": "execute_result"
    }
   ],
   "source": [
    "score_list = [\"一班\",\"一班\",\"三班\",\"二班\",\"一班\"]\n",
    "score_list.count(\"一班\")"
   ]
  },
  {
   "cell_type": "code",
   "execution_count": null,
   "metadata": {},
   "outputs": [],
   "source": [
    "#### 2.6.7 获取列表中值出现的位置\n",
    "就是获取元素在列表中的索引，用index()函数"
   ]
  },
  {
   "cell_type": "code",
   "execution_count": 7,
   "metadata": {},
   "outputs": [
    {
     "data": {
      "text/plain": [
       "2"
      ]
     },
     "execution_count": 7,
     "metadata": {},
     "output_type": "execute_result"
    }
   ],
   "source": [
    "sale_list = [\"倪晓玲\",\"乔兴金\",\"杨欣竹\",\"王元玲\"]\n",
    "sale_list.index('杨欣竹')"
   ]
  },
  {
   "cell_type": "code",
   "execution_count": 8,
   "metadata": {},
   "outputs": [
    {
     "name": "stdout",
     "output_type": "stream",
     "text": [
      "a\n",
      "\n",
      "['b', 'c']\n"
     ]
    }
   ],
   "source": [
    "#### 2.6.8 获取列表中指定位置的值\n",
    "#利用的方法和字符串的索引值是一样的，主要有普通索引和切片索引两种。\n",
    "#普通索引是获取某一特定位置的值\n",
    "v = ['a','b','c','d','e']\n",
    "print(v[0])\n",
    "print(\"\")\n",
    "#切片索引是获取某一位置区间内的值\n",
    "print(v[1:3]) #应该返回两个值，左闭右开，不包含右边位置上的元素。"
   ]
  },
  {
   "cell_type": "code",
   "execution_count": 6,
   "metadata": {},
   "outputs": [
    {
     "name": "stdout",
     "output_type": "stream",
     "text": [
      "b\n",
      "v.remove('c') =  None\n",
      "['a', 'b', 'd', 'e']\n"
     ]
    }
   ],
   "source": [
    "#### 2.6.9 删除列表中的值\n",
    "#对列表中的值进行删除时，有pop()和remove()两个函数可用。\n",
    "#pop()函数是根据列表中的位置进行删除，也就是删除指定位置的值，并且返回被删除的元素\n",
    "v = ['a','b','c','d','e']\n",
    "print(v.pop(1))  #删除b元素\n",
    "\n",
    "#remove()函数是根据列表中的元素进行删除，也就是删除某一元素。remove函数没有返回值。\n",
    "v = ['a','b','c','d','e']\n",
    "print(\"v.remove('c') = \",v.remove('c'))\n",
    "print(v)"
   ]
  },
  {
   "cell_type": "code",
   "execution_count": 10,
   "metadata": {},
   "outputs": [
    {
     "name": "stdout",
     "output_type": "stream",
     "text": [
      "None\n",
      "[1, 2, 3, 4]\n",
      "None\n",
      "[4, 3, 2, 1]\n"
     ]
    }
   ],
   "source": [
    "#### 2.6.10 对列表中的值进行排序\n",
    "#对列表中的值进行排序用的是sort()函数，默认采用升序排列,没有返回值\n",
    "s = [1,3,2,4]\n",
    "print(s.sort())\n",
    "print(s)\n",
    "print(s.sort(reverse=True))\n",
    "print(s)"
   ]
  },
  {
   "cell_type": "markdown",
   "metadata": {},
   "source": [
    "### 2.7 数据结构 --- 字典\n",
    "#### 2.7.1 字典的概念\n",
    "字典(dict)是一种键值对的结构，类似于通过联系人姓名查找地址和联系人详细信息的地址簿，即把键(名字)和值(详细信息)联系在一起。注意，键必须是唯一的，就像如果有两个人恰巧同名，那么你无法找到正确的信息一样。\n",
    "键值在对字典中以{key1:value1,key2:value2}方式标记。注意，键值对内部用冒号分隔，而各个对之间用逗号分隔，所有这些都包含在花括号中。"
   ]
  },
  {
   "cell_type": "code",
   "execution_count": 13,
   "metadata": {},
   "outputs": [
    {
     "name": "stdout",
     "output_type": "stream",
     "text": [
      "{'张三': 13313581900, '李四': 15517896750}\n",
      "{'张三': 13313581900, '李四': 15517896750}\n",
      "{'张三': 13313581900, '李四': 15517896750}\n"
     ]
    }
   ],
   "source": [
    "#### 2.7.2 新建一个字典\n",
    "#先创建一个空的字典，然后向该字典内输入值。\n",
    "test_dict = {}\n",
    "test_dict['张三'] = 13313581900\n",
    "test_dict['李四'] = 15517896750\n",
    "print(test_dict)\n",
    "#将值直接以键值对的形式传入字典中\n",
    "d2 = {'张三':13313581900,'李四':15517896750}\n",
    "print(d2)\n",
    "#将键值以列表的形式存放在元组中，然后用dict进行转换\n",
    "contact = (['张三',13313581900],['李四',15517896750])\n",
    "d3 = dict(contact)\n",
    "print(d3)"
   ]
  },
  {
   "cell_type": "code",
   "execution_count": 14,
   "metadata": {},
   "outputs": [
    {
     "name": "stdout",
     "output_type": "stream",
     "text": [
      "d2.keys() =  dict_keys(['张三', '李四'])\n",
      "d2.values() =  dict_values([13313581900, 15517896750])\n",
      "d2.items() =  dict_items([('张三', 13313581900), ('李四', 15517896750)])\n"
     ]
    }
   ],
   "source": [
    "#### 2.7.3 字典的keys()、values()和items()方法\n",
    "#keys()方法用来获取字典内的所有键。\n",
    "d2 = {'张三':13313581900,'李四':15517896750}\n",
    "print(\"d2.keys() = \",d2.keys())\n",
    "#values()用来获取字典内的所有值\n",
    "print(\"d2.values() = \",d2.values())\n",
    "#items()用来得到一组组的键值对\n",
    "print(\"d2.items() = \",d2.items())"
   ]
  },
  {
   "cell_type": "code",
   "execution_count": 15,
   "metadata": {},
   "outputs": [
    {
     "name": "stdout",
     "output_type": "stream",
     "text": [
      "(1, 2, 3)\n",
      "('a', 'b', 'c')\n"
     ]
    }
   ],
   "source": [
    "### 2.8 数据结构 --- 元组\n",
    "#### 2.8.1 元组的概念\n",
    "#元组与列表虽然有类似，也有不同之处：元组的元素不能修改，元组使用小括号，而列表使用中括号\n",
    "#### 2.8.2 新建一个元组\n",
    "#元组的创建比较简单，直接将一组数据元素用小括号括起来即可。\n",
    "tup = (1,2,3)\n",
    "print(tup)\n",
    "tup2 = ('a','b','c')\n",
    "print(tup2)"
   ]
  },
  {
   "cell_type": "code",
   "execution_count": 16,
   "metadata": {},
   "outputs": [
    {
     "data": {
      "text/plain": [
       "3"
      ]
     },
     "execution_count": 16,
     "metadata": {},
     "output_type": "execute_result"
    }
   ],
   "source": [
    "#### 2.8.3 获取元组的长度\n",
    "#获取元组长度的方法与获取列表的长度方法一致，都使用len()函数\n",
    "tup = (1,2,3)\n",
    "len(tup)"
   ]
  },
  {
   "cell_type": "code",
   "execution_count": 17,
   "metadata": {},
   "outputs": [
    {
     "name": "stdout",
     "output_type": "stream",
     "text": [
      "3\n",
      "4\n",
      "(2, 3)\n",
      "(1, 2, 3)\n",
      "(2, 3, 4, 5)\n"
     ]
    }
   ],
   "source": [
    "#### 2.8.4 获取元组内的元素\n",
    "#元组内元素的获取方法主要分为普通索引和切片索引两种\n",
    "tup = (1,2,3,4,5)\n",
    "#普通索引\n",
    "print(tup[2])\n",
    "print(tup[3])\n",
    "#切片索引\n",
    "print(tup[1:3])\n",
    "print(tup[:3])\n",
    "print(tup[1:])"
   ]
  },
  {
   "cell_type": "code",
   "execution_count": 19,
   "metadata": {},
   "outputs": [
    {
     "name": "stdout",
     "output_type": "stream",
     "text": [
      "(1, 2, 3, 4, 5)\n",
      "[1, 2, 3, 4, 5]\n",
      "(1, 2, 3, 4, 5)\n"
     ]
    }
   ],
   "source": [
    "#### 2.8.5 元组与列表相互转换\n",
    "#使用list()将元组转换为列表\n",
    "print(tup)\n",
    "print(list(tup))\n",
    "#使用tuple()将列表转化为元组\n",
    "print(tuple(list(tup)))"
   ]
  },
  {
   "cell_type": "markdown",
   "metadata": {},
   "source": [
    "#### 2.8.6 zip()函数\n",
    "zip()函数用于将可迭代的对象(列表、元组)作为参数，将对象中对应的元素打包成一个个元组，然后返回这些元组组成的列表。zip()函数常与for循环一起迭代使用。"
   ]
  },
  {
   "cell_type": "code",
   "execution_count": 20,
   "metadata": {},
   "outputs": [
    {
     "name": "stdout",
     "output_type": "stream",
     "text": [
      "(1, 'a')\n",
      "(2, 'b')\n",
      "(3, 'c')\n",
      "(4, 'd')\n",
      "(1, 'a')\n",
      "(2, 'b')\n",
      "(3, 'c')\n",
      "(4, 'd')\n"
     ]
    }
   ],
   "source": [
    "#当可迭代对象是列表时：\n",
    "list_a = [1,2,3,4]\n",
    "list_b = ['a','b','c','d']\n",
    "for i in zip(list_a,list_b):\n",
    "    print(i)\n",
    "\n",
    "#当可迭代对象是元组时：\n",
    "tup_a = (1,2,3,4)\n",
    "tup_b = ['a','b','c','d']\n",
    "for i in zip(tup_a,tup_b):\n",
    "    print(i)"
   ]
  },
  {
   "cell_type": "markdown",
   "metadata": {},
   "source": [
    "### 2.9 运算符\n",
    "#### 2.9.1 算术运算符\n",
    "+ - * / %（取余数） **（幂运算） //（取商的整数部分）\n",
    "#### 2.9.2 比较运算符\n",
    "== != <> > < >= <=\n",
    "#### 2.9.3 逻辑运算符\n",
    "and or not"
   ]
  },
  {
   "cell_type": "markdown",
   "metadata": {},
   "source": [
    "### 2.10 循环语句\n",
    "#### 2.10.1 for循环\n",
    "for循环用来遍历任何序列的项目，这个序列可以是一个列表也可以是一个字符串，针对这个序列中的每个项目去执行相应的操作。"
   ]
  },
  {
   "cell_type": "code",
   "execution_count": 21,
   "metadata": {},
   "outputs": [
    {
     "name": "stdout",
     "output_type": "stream",
     "text": [
      "我目前正在学习：Excel\n",
      "我目前正在学习：SQL\n",
      "我目前正在学习：Python\n",
      "我目前正在学习：统计学\n"
     ]
    }
   ],
   "source": [
    "subject = [\"Excel\",\"SQL\",\"Python\",\"统计学\"]\n",
    "for sub in subject:\n",
    "    print(\"我目前正在学习：{}\".format(sub))"
   ]
  },
  {
   "cell_type": "markdown",
   "metadata": {},
   "source": [
    "#### 2.10.2 while循环\n",
    "while循环用来循环执行某程序，即当条件满足时，一直执行某程序，直到条件不满足时，终止程序。"
   ]
  },
  {
   "cell_type": "code",
   "execution_count": 24,
   "metadata": {},
   "outputs": [
    {
     "name": "stdout",
     "output_type": "stream",
     "text": [
      "我已经学习数据分析0周啦\n",
      "我已经学习数据分析1周啦\n",
      "我已经学习数据分析2周啦\n",
      "我已经学习数据分析3周啦\n",
      "我已经学习数据分析4周啦\n",
      "我已经学习数据分析5周啦\n",
      "我已经学习数据分析6周啦\n",
      "我已经学习数据分析7周啦\n",
      "我已经学习数据分析8周啦，我可以去找工作啦！\n"
     ]
    }
   ],
   "source": [
    "week = 0 #从0开始学习\n",
    "while week <=7:\n",
    "    print(\"我已经学习数据分析{}周啦\".format(week))\n",
    "    week += 1\n",
    "print(\"我已经学习数据分析{}周啦，我可以去找工作啦！\".format(week))"
   ]
  },
  {
   "cell_type": "markdown",
   "metadata": {},
   "source": [
    "### 2.11 条件语句\n",
    "#### 2.11.1 if语句\n",
    "if条件语句是程序先去品判断某个条件是否满足，如果该条件满足，则执行判断语句后的程序。if条件后面要执行的程序需要缩进。"
   ]
  },
  {
   "cell_type": "code",
   "execution_count": 25,
   "metadata": {},
   "outputs": [
    {
     "name": "stdout",
     "output_type": "stream",
     "text": [
      "可以找到好工作\n"
     ]
    }
   ],
   "source": [
    "is_study = 1\n",
    "if is_study == 1:\n",
    "    print(\"可以找到好工作\")"
   ]
  },
  {
   "cell_type": "code",
   "execution_count": null,
   "metadata": {},
   "outputs": [],
   "source": [
    "#当条件为否时的代码\n",
    "is_study = 1\n",
    "if is_study == 0:\n",
    "    print(\"很难找到一个好工作\")"
   ]
  },
  {
   "cell_type": "markdown",
   "metadata": {},
   "source": [
    "2.11.2 else语句\n",
    "else语句是if语句的补充，if条件语句只说明了条件满足时程序做什么，没说明条件不满足时程序做什么。else语句就是说明条件不满足时程序做什么。"
   ]
  },
  {
   "cell_type": "code",
   "execution_count": 2,
   "metadata": {},
   "outputs": [
    {
     "name": "stdout",
     "output_type": "stream",
     "text": [
      "很难找到一个好工作！\n"
     ]
    }
   ],
   "source": [
    "is_study = 0\n",
    "if is_study == 1:\n",
    "    print(\"可以找到一个好工作！\")\n",
    "else:\n",
    "    print(\"很难找到一个好工作！\")"
   ]
  },
  {
   "cell_type": "markdown",
   "metadata": {},
   "source": [
    "2.11.3 elif语句\n",
    "当需要对多条语句进行判断时，可以使用elif语句。"
   ]
  },
  {
   "cell_type": "code",
   "execution_count": 3,
   "metadata": {},
   "outputs": [
    {
     "name": "stdout",
     "output_type": "stream",
     "text": [
      "80-90分\n"
     ]
    }
   ],
   "source": [
    "score = 80\n",
    "if score < 60:\n",
    "    print(\"小于60分\")\n",
    "elif score < 70:\n",
    "    print(\"60-70分\")\n",
    "elif score < 80:\n",
    "    print(\"70-80分\")\n",
    "elif score < 90:\n",
    "    print(\"80-90分\")\n",
    "else:\n",
    "    print(\"90分以上\")"
   ]
  },
  {
   "cell_type": "markdown",
   "metadata": {},
   "source": [
    "# 2.12 函数\n",
    "函数是在一个程序中可以被重复使用的一段程序。这段程序是由一块语句和一个名称组成的，在程序中可以通过这个名称执行这段程序。\n",
    "#### 2.12.1 普通函数\n",
    "普通函数一般有函数名（必须）、参数、语句块（必须）、return、变量这几部分组成，语法如下\n",
    "def 函数名（参数）：\n",
    "    语句块\n",
    "#### 2.12.2 匿名函数lambda\n",
    "就是没有名字的函数，也就是省略了def定义函数的过程。lambda只是一个表达式，没有函数体，使用方法如下：\n",
    "lambda arg1，arg2, ... : expression\n",
    "arg1,arg2表示具体的参数，expression表示参数要执行的操作。"
   ]
  },
  {
   "cell_type": "code",
   "execution_count": 1,
   "metadata": {},
   "outputs": [
    {
     "name": "stdout",
     "output_type": "stream",
     "text": [
      "3\n",
      "3\n"
     ]
    }
   ],
   "source": [
    "def two_sum(x,y):\n",
    "    result = x + y\n",
    "    return result\n",
    "\n",
    "print(two_sum(1,2))\n",
    "\n",
    "f = lambda x,y:x+y\n",
    "print(f(1,2))"
   ]
  },
  {
   "cell_type": "markdown",
   "metadata": {},
   "source": [
    "### 2.13 高级特性\n",
    "#### 2.13.1 列表生成式\n",
    "列表生成式可以提高程序性能，简化程序代码。大数据量使用for循环，程序的运行会变得很慢。\n",
    "简单例子，需要对列表中的每个值求平方，然后将结果组成一个新的列表"
   ]
  },
  {
   "cell_type": "code",
   "execution_count": 2,
   "metadata": {},
   "outputs": [
    {
     "name": "stdout",
     "output_type": "stream",
     "text": [
      "[1, 4, 9, 16]\n"
     ]
    }
   ],
   "source": [
    "num = [1,2,3,4]\n",
    "new = []\n",
    "for i in num:\n",
    "    new.append(i**2)\n",
    "print(new)"
   ]
  },
  {
   "cell_type": "code",
   "execution_count": 3,
   "metadata": {},
   "outputs": [
    {
     "name": "stdout",
     "output_type": "stream",
     "text": [
      "[1, 4, 9, 16]\n"
     ]
    }
   ],
   "source": [
    "num = [1,2,3,4]\n",
    "new = [i**2 for i in num]\n",
    "print(new)"
   ]
  },
  {
   "cell_type": "code",
   "execution_count": 4,
   "metadata": {},
   "outputs": [
    {
     "name": "stdout",
     "output_type": "stream",
     "text": [
      "['Aa', 'Ab', 'Ac', 'Ba', 'Bb', 'Bc', 'Ca', 'Cb', 'Cc']\n"
     ]
    }
   ],
   "source": [
    "list1 = ['A','B','C']\n",
    "list2 = ['a','b','c']\n",
    "new = []\n",
    "for m in list1:\n",
    "    for n in list2:\n",
    "        new.append(m+n)\n",
    "print(new)"
   ]
  },
  {
   "cell_type": "code",
   "execution_count": 6,
   "metadata": {},
   "outputs": [
    {
     "name": "stdout",
     "output_type": "stream",
     "text": [
      "['Aa', 'Ab', 'Ac', 'Ba', 'Bb', 'Bc', 'Ca', 'Cb', 'Cc']\n"
     ]
    }
   ],
   "source": [
    "list1 = ['A','B','C']\n",
    "list2 = ['a','b','c']\n",
    "new = [m+n for m in list1 for n in list2]\n",
    "print(new)"
   ]
  },
  {
   "cell_type": "markdown",
   "metadata": {},
   "source": [
    "#### 2.13.2 map 函数\n",
    "map函数的表现形式是map（function, args），表示对序列args中的每个值进行function操作，最终得到一个结果序列，其生成的结果序列不会直接把所有的结果显示出来，要想获取到结果，需要用for循环进行遍历，也可以用list方法，将结果生成一个列表。遍历输出结果或直接用list输出结果后，序列的指针都被移动到序列的末尾，不能再进行遍历输出。"
   ]
  },
  {
   "cell_type": "code",
   "execution_count": 10,
   "metadata": {},
   "outputs": [
    {
     "name": "stdout",
     "output_type": "stream",
     "text": [
      "<map object at 0x00000000051B1A08>\n",
      "4\n",
      "4\n",
      "4\n",
      "b= [4, 4, 4]\n"
     ]
    }
   ],
   "source": [
    "a = map(lambda x,y:x+y,[1,2,3],[3,2,1])\n",
    "print(a)\n",
    "b = list(a)\n",
    "\n",
    "a = map(lambda x,y:x+y,[1,2,3],[3,2,1])\n",
    "for i in a:\n",
    "    print(i)\n",
    "\n",
    "print(\"b=\",b)"
   ]
  },
  {
   "cell_type": "markdown",
   "metadata": {},
   "source": [
    "### 2.14 模块\n",
    "模块是升级版的函数，在一段函数中可以通过函数名多次调用函数，但是必须在定义函数的这段程序里面调用。在任意函数中都可以通过模块名去调用该模块对应的程序，只要导入模块就可以了。导入模块的方法主要有两种：\n",
    "import module_name #直接import具体的模块名。\n",
    "from module1 import module2 #从一个较大的模块中import较小的模块\n",
    "数据分析领域用的比较多的三个模块是Numpy pandas matplotlib，Python中还有很多类似的模块，正是因为这类模块的存在，使得Python在实现很多类似功能时变得很简单，不需要关注细节，只要知道如何调用就可以了，所以Python手动越来越多的人欢迎。\n",
    "\n",
    "## 第3章 Pandas数据结构\n",
    "为了在书写模块名的方便，在引用模块时给模块起个别名来代替复杂的模块名，是模块名的简称。\n",
    "### 3.1 Series数据结构\n",
    "#### 3.1.1 Series是什么\n",
    "Series是一种类似于一维数组的对象，由一组数据及一组与之相关的数据标签（即索引）组成。数据标签类似于Excel的行标题或列标题。\n",
    "#### 3.1.2 创建一个Series\n",
    "创建一个Series利用的方法是pandas.Series()，通过传入不同的对象即可实现。\n",
    "不指定索引会使用默认索引（从0开始的数做索引/标签）"
   ]
  },
  {
   "cell_type": "code",
   "execution_count": 18,
   "metadata": {},
   "outputs": [
    {
     "name": "stdout",
     "output_type": "stream",
     "text": [
      "0    a\n",
      "1    b\n",
      "2    c\n",
      "3    d\n",
      "dtype: object\n",
      "A    a\n",
      "B    b\n",
      "C    c\n",
      "D    d\n",
      "dtype: object\n"
     ]
    }
   ],
   "source": [
    "#传入一个列表\n",
    "import pandas as pd\n",
    "s1 = pd.Series(['a','b','c','d'])\n",
    "print(s1)\n",
    "s2 = pd.Series(['a','b','c','d'],index = ['A','B','C','D'])\n",
    "print(s2)"
   ]
  },
  {
   "cell_type": "code",
   "execution_count": 3,
   "metadata": {},
   "outputs": [
    {
     "data": {
      "text/plain": [
       "a    1\n",
       "b    2\n",
       "c    3\n",
       "d    4\n",
       "dtype: int64"
      ]
     },
     "execution_count": 3,
     "metadata": {},
     "output_type": "execute_result"
    }
   ],
   "source": [
    "#传入一个字典，字典的key值就是标签，value就是数据值\n",
    "import pandas as pd\n",
    "s3 = pd.Series({'a':1,'b':2,'c':3,'d':4})\n",
    "s3"
   ]
  },
  {
   "cell_type": "code",
   "execution_count": 8,
   "metadata": {},
   "outputs": [
    {
     "data": {
      "text/plain": [
       "Index(['a', 'b', 'c', 'd'], dtype='object')"
      ]
     },
     "execution_count": 8,
     "metadata": {},
     "output_type": "execute_result"
    }
   ],
   "source": [
    "#### 3.1.3 利用index方法获取Series的索引\n",
    "s3.index"
   ]
  },
  {
   "cell_type": "code",
   "execution_count": 9,
   "metadata": {},
   "outputs": [
    {
     "data": {
      "text/plain": [
       "array([1, 2, 3, 4], dtype=int64)"
      ]
     },
     "execution_count": 9,
     "metadata": {},
     "output_type": "execute_result"
    }
   ],
   "source": [
    "#### 3.1.4 利用values方法获取Series的值\n",
    "s3.values"
   ]
  },
  {
   "cell_type": "markdown",
   "metadata": {},
   "source": [
    "### 3.2 DataFrame表格型数据结构\n",
    "#### 3.2.1 DataFrame是什么\n",
    "Series是由一组数据与一组索引(行索引)组成的数据结构，而DateFrame是由一组数据与一对索引(行索引和列索引组成的表格)型数据结构。之所以叫表格线数据结构，是因为DataFrame这种表格型数据结构和Excel的数据存储形式很相近。下面这种数据结构和Excel很像，既有行索引又有列索引，由行索引和列索引确定唯一的值。"
   ]
  },
  {
   "cell_type": "code",
   "execution_count": 10,
   "metadata": {},
   "outputs": [
    {
     "data": {
      "text/html": [
       "<div>\n",
       "<style scoped>\n",
       "    .dataframe tbody tr th:only-of-type {\n",
       "        vertical-align: middle;\n",
       "    }\n",
       "\n",
       "    .dataframe tbody tr th {\n",
       "        vertical-align: top;\n",
       "    }\n",
       "\n",
       "    .dataframe thead th {\n",
       "        text-align: right;\n",
       "    }\n",
       "</style>\n",
       "<table border=\"1\" class=\"dataframe\">\n",
       "  <thead>\n",
       "    <tr style=\"text-align: right;\">\n",
       "      <th></th>\n",
       "      <th>技能</th>\n",
       "    </tr>\n",
       "  </thead>\n",
       "  <tbody>\n",
       "    <tr>\n",
       "      <td>第一</td>\n",
       "      <td>Excel</td>\n",
       "    </tr>\n",
       "    <tr>\n",
       "      <td>第二</td>\n",
       "      <td>SQL</td>\n",
       "    </tr>\n",
       "    <tr>\n",
       "      <td>第三</td>\n",
       "      <td>Python</td>\n",
       "    </tr>\n",
       "    <tr>\n",
       "      <td>第四</td>\n",
       "      <td>PPT</td>\n",
       "    </tr>\n",
       "  </tbody>\n",
       "</table>\n",
       "</div>"
      ],
      "text/plain": [
       "        技能\n",
       "第一   Excel\n",
       "第二     SQL\n",
       "第三  Python\n",
       "第四     PPT"
      ]
     },
     "execution_count": 10,
     "metadata": {},
     "output_type": "execute_result"
    }
   ],
   "source": [
    "df = pd.DataFrame(['Excel','SQL','Python','PPT'],columns=['技能'],index=['第一','第二','第三','第四'])\n",
    "df"
   ]
  },
  {
   "cell_type": "code",
   "execution_count": 15,
   "metadata": {},
   "outputs": [
    {
     "name": "stdout",
     "output_type": "stream",
     "text": [
      "   0\n",
      "0  a\n",
      "1  b\n",
      "2  c\n",
      "3  d\n"
     ]
    }
   ],
   "source": [
    "#### 3.2.2 创建一个DataFrame\n",
    "#传入一个列表\n",
    "df1 = pd.DataFrame(['a','b','c','d'])\n",
    "print(df1)"
   ]
  },
  {
   "cell_type": "code",
   "execution_count": 18,
   "metadata": {},
   "outputs": [
    {
     "name": "stdout",
     "output_type": "stream",
     "text": [
      "   0  1\n",
      "0  a  A\n",
      "1  b  B\n",
      "2  c  C\n",
      "3  d  D\n"
     ]
    }
   ],
   "source": [
    "#传入一个嵌套列表\n",
    "df2 = pd.DataFrame([['a','A'],['b','B'],['c','C'],['d','D']])\n",
    "print(df2)"
   ]
  },
  {
   "cell_type": "code",
   "execution_count": 19,
   "metadata": {},
   "outputs": [
    {
     "name": "stdout",
     "output_type": "stream",
     "text": [
      "  小写 大写\n",
      "0  a  A\n",
      "1  b  B\n",
      "2  c  C\n",
      "3  d  D\n"
     ]
    }
   ],
   "source": [
    "#设置列索引\n",
    "df3 = pd.DataFrame([['a','A'],['b','B'],['c','C'],['d','D']],\n",
    "                  columns=['小写','大写']\n",
    "                  )\n",
    "print(df3)"
   ]
  },
  {
   "cell_type": "code",
   "execution_count": 20,
   "metadata": {},
   "outputs": [
    {
     "name": "stdout",
     "output_type": "stream",
     "text": [
      "   0  1\n",
      "一  a  A\n",
      "二  b  B\n",
      "三  c  C\n",
      "四  d  D\n"
     ]
    }
   ],
   "source": [
    "#设置行索引\n",
    "df4 = pd.DataFrame([['a','A'],['b','B'],['c','C'],['d','D']],\n",
    "                  index=['一','二','三','四']\n",
    "                  )\n",
    "print(df4)"
   ]
  },
  {
   "cell_type": "code",
   "execution_count": 21,
   "metadata": {},
   "outputs": [
    {
     "name": "stdout",
     "output_type": "stream",
     "text": [
      "  小写 大写\n",
      "一  a  A\n",
      "二  b  B\n",
      "三  c  C\n",
      "四  d  D\n"
     ]
    }
   ],
   "source": [
    "#同时设置行、列索引\n",
    "df5 = pd.DataFrame([['a','A'],['b','B'],['c','C'],['d','D']],\n",
    "                   columns=['小写','大写'],\n",
    "                   index=['一','二','三','四']\n",
    "                  )\n",
    "print(df5)"
   ]
  },
  {
   "cell_type": "code",
   "execution_count": 24,
   "metadata": {},
   "outputs": [
    {
     "name": "stdout",
     "output_type": "stream",
     "text": [
      "  小写 大写\n",
      "一  a  A\n",
      "二  b  B\n",
      "三  c  C\n",
      "四  d  D\n"
     ]
    }
   ],
   "source": [
    "#传入一个字典\n",
    "df6 = pd.DataFrame({'小写':['a','b','c','d'],'大写':['A','B','C','D']},\n",
    "                   index=['一','二','三','四']\n",
    "                  )\n",
    "print(df6)"
   ]
  },
  {
   "cell_type": "code",
   "execution_count": 27,
   "metadata": {},
   "outputs": [
    {
     "name": "stdout",
     "output_type": "stream",
     "text": [
      "Index(['小写', '大写'], dtype='object')\n",
      "Index(['一', '二', '三', '四'], dtype='object')\n"
     ]
    }
   ],
   "source": [
    "#### 3.2.3 获取DataFrame的行、列索引\n",
    "#利用columns方法获取DataFrame的列索引\n",
    "print(df6.columns)\n",
    "#利用index方法获取DataFrame的行索引\n",
    "print(df6.index)"
   ]
  },
  {
   "cell_type": "code",
   "execution_count": null,
   "metadata": {},
   "outputs": [],
   "source": [
    "#### 3.2.4 获取DataFrame的值\n",
    "在第6章说明"
   ]
  },
  {
   "cell_type": "markdown",
   "metadata": {},
   "source": [
    "## 第4章 获取数据源\n",
    "### 4.1 导入外部数据\n",
    "导入数据主要用到的是Pandas里的read_x()方法，x表示导入文件的格式。\n",
    "#### 4.1.1 导入.xlsx文件\n",
    "在Excel中双击文件即可导入。\n",
    "Python使用read_excel()，导入时可以指定下列参数\n",
    "sheet_name：指定导入哪个sheet，设为0从0开始计数\n",
    "index_col：指定行索引，指定excel数据表的第几列作为列索引，默认使用0开始的默认索引\n",
    "header：指定列索引，指定excel数据表的第几行作为列索引，默认使用从0开始的默认索引。\n",
    "usecol：指定导入列，该参数没有看到预期的效果。\n"
   ]
  },
  {
   "cell_type": "code",
   "execution_count": 48,
   "metadata": {},
   "outputs": [
    {
     "name": "stdout",
     "output_type": "stream",
     "text": [
      "        批号             机种        文件号         电压   数量\n",
      "序号                                                  \n",
      "1    B3350      K10012P02  K10012P02        NaN   44\n",
      "2    B3351          K5999  K10011J01        NaN   44\n",
      "3    B3352      BKPT-5003  QK0045H00        NaN   88\n",
      "4    B3354     A2RB-4105C  L22941A00        NaN  150\n",
      "5    B3355          K5857  QK0064B00        NaN  200\n",
      "..     ...            ...        ...        ...  ...\n",
      "114  P8102      CPXDG-600      C0182       380V   50\n",
      "115  P8105  CPVE-500(S-2)      C1005       380V   50\n",
      "116  P8158      CPXDG-600      C0238       380V   10\n",
      "117  P8159       CPVE-400      C1017  380V/415V   65\n",
      "118  P8160       CPVS-500      C0320       415V   30\n",
      "\n",
      "[118 rows x 5 columns]\n"
     ]
    }
   ],
   "source": [
    "df7 = pd.read_excel(r\"D:\\#条形码系统\\出库合计\\2019\\12月\\出库单目录.xlsx\",\n",
    "                    sheet_name='Sheet1',\n",
    "                    index_col=0,\n",
    "                    header=0,\n",
    "                    usecol=[0,2]\n",
    "                   )\n",
    "print(df7)"
   ]
  },
  {
   "cell_type": "code",
   "execution_count": 51,
   "metadata": {},
   "outputs": [
    {
     "name": "stdout",
     "output_type": "stream",
     "text": [
      "      序号     批号             机种        文件号         电压   数量\n",
      "0      1  B3350      K10012P02  K10012P02        NaN   44\n",
      "1      2  B3351          K5999  K10011J01        NaN   44\n",
      "2      3  B3352      BKPT-5003  QK0045H00        NaN   88\n",
      "3      4  B3354     A2RB-4105C  L22941A00        NaN  150\n",
      "4      5  B3355          K5857  QK0064B00        NaN  200\n",
      "..   ...    ...            ...        ...        ...  ...\n",
      "113  114  P8102      CPXDG-600      C0182       380V   50\n",
      "114  115  P8105  CPVE-500(S-2)      C1005       380V   50\n",
      "115  116  P8158      CPXDG-600      C0238       380V   10\n",
      "116  117  P8159       CPVE-400      C1017  380V/415V   65\n",
      "117  118  P8160       CPVS-500      C0320       415V   30\n",
      "\n",
      "[118 rows x 6 columns]\n"
     ]
    }
   ],
   "source": [
    "df7 = pd.read_excel(r\"D:\\#条形码系统\\出库合计\\2019\\12月\\出库单目录.xlsx\",\n",
    "                    usecolS=[2]\n",
    "                   )\n",
    "print(df7)"
   ]
  },
  {
   "cell_type": "code",
   "execution_count": 3,
   "metadata": {},
   "outputs": [
    {
     "name": "stdout",
     "output_type": "stream",
     "text": [
      "          资材编号   品名               规格   单位  数量\n",
      "0   JJ36A12083   标签           NK1799  PCS   1\n",
      "1   JJ36E00646   标签          NC4629B  PCS   1\n",
      "2   JJ36E00657   标签           NC4873  PCS   1\n",
      "3   JJ36E21722  表示板           NK5891  PCS   2\n",
      "4   JJ36E60019   标签           NK5319  PCS   1\n",
      "5   JJ36E60916   标签           NT0006  PCS   1\n",
      "6   JJ36E90315   标签           NL0060  PCS   2\n",
      "7   JJ36E90326   标签           NL0061  PCS   2\n",
      "8   JJ36F42742   标签          NK3384B  PCS   1\n",
      "9   MM36D00154  说明书  CPSS-135(P7436)  PCS   1\n",
      "10  MM36D00155  说明书  CPSS-135(P7973)  PCS   1\n"
     ]
    }
   ],
   "source": [
    "#### 4.1.2 导入CSV文件\n",
    "#直接导入，只需要指明文件路径\n",
    "import pandas as pd\n",
    "df8 = pd.read_csv(r\"维修焊机用标签.csv\")\n",
    "print(df8)"
   ]
  },
  {
   "cell_type": "code",
   "execution_count": 5,
   "metadata": {},
   "outputs": [
    {
     "name": "stdout",
     "output_type": "stream",
     "text": [
      "          资材编号   品名               规格   单位  数量\n",
      "0   JJ36A12083   标签           NK1799  PCS   1\n",
      "1   JJ36E00646   标签          NC4629B  PCS   1\n",
      "2   JJ36E00657   标签           NC4873  PCS   1\n",
      "3   JJ36E21722  表示板           NK5891  PCS   2\n",
      "4   JJ36E60019   标签           NK5319  PCS   1\n",
      "5   JJ36E60916   标签           NT0006  PCS   1\n",
      "6   JJ36E90315   标签           NL0060  PCS   2\n",
      "7   JJ36E90326   标签           NL0061  PCS   2\n",
      "8   JJ36F42742   标签          NK3384B  PCS   1\n",
      "9   MM36D00154  说明书  CPSS-135(P7436)  PCS   1\n",
      "10  MM36D00155  说明书  CPSS-135(P7973)  PCS   1\n"
     ]
    }
   ],
   "source": [
    "#sep 设置分隔符号\n",
    "df9 = pd.read_csv(r\"维修焊机用标签.csv\",\n",
    "                 sep=',')\n",
    "print(df9)"
   ]
  },
  {
   "cell_type": "code",
   "execution_count": 6,
   "metadata": {},
   "outputs": [
    {
     "name": "stdout",
     "output_type": "stream",
     "text": [
      "         资材编号   品名       规格   单位  数量\n",
      "0  JJ36A12083   标签   NK1799  PCS   1\n",
      "1  JJ36E00646   标签  NC4629B  PCS   1\n",
      "2  JJ36E00657   标签   NC4873  PCS   1\n",
      "3  JJ36E21722  表示板   NK5891  PCS   2\n",
      "4  JJ36E60019   标签   NK5319  PCS   1\n"
     ]
    }
   ],
   "source": [
    "#nrows 设置读取行数\n",
    "df9 = pd.read_csv(r\"维修焊机用标签.csv\",\n",
    "    sep=',',\n",
    "    nrows=5\n",
    "        \n",
    ")\n",
    "print(df9)"
   ]
  },
  {
   "cell_type": "code",
   "execution_count": 16,
   "metadata": {
    "scrolled": false
   },
   "outputs": [
    {
     "name": "stdout",
     "output_type": "stream",
     "text": [
      "         资材编号   品名       规格   单位  数量\n",
      "0  JJ36A12083   标签   NK1799  PCS   1\n",
      "1  JJ36E00646   标签  NC4629B  PCS   1\n",
      "2  JJ36E00657   标签   NC4873  PCS   1\n",
      "3  JJ36E21722  表示板   NK5891  PCS   2\n",
      "4  JJ36E60019   标签   NK5319  PCS   1\n"
     ]
    }
   ],
   "source": [
    "#encoding 设置编码方式，支持UTF-8  ANSI\n",
    "df10 = pd.read_csv(r\"D:\\#条形码系统\\盘点\\专用材料统计\\CPSS\\维修焊机用标签.csv\",\n",
    "    sep=',',\n",
    "    nrows=5,\n",
    "    encoding='ANSI',\n",
    "    engine='python'\n",
    ")\n",
    "print(df10)"
   ]
  },
  {
   "cell_type": "code",
   "execution_count": 20,
   "metadata": {},
   "outputs": [
    {
     "name": "stdout",
     "output_type": "stream",
     "text": [
      "         资材编号   品名       规格   单位  数量\n",
      "0  JJ36A12083   标签   NK1799  PCS   1\n",
      "1  JJ36E00646   标签  NC4629B  PCS   1\n",
      "2  JJ36E00657   标签   NC4873  PCS   1\n",
      "3  JJ36E21722  表示板   NK5891  PCS   2\n",
      "4  JJ36E60019   标签   NK5319  PCS   1\n"
     ]
    }
   ],
   "source": [
    "#### 4.1.3 导入.txt文件\n",
    "#在Python中导入txt文件的方法是read_table(),该方法还可以导入csv文件，导入csv文件时也需要指定sep参数.\n",
    "df11 = pd.read_table(r\"D:\\#条形码系统\\盘点\\专用材料统计\\CPSS\\维修焊机用标签.txt\",\n",
    "    sep=',',\n",
    "    nrows=5,\n",
    "    encoding='ANSI',\n",
    "    engine='python'\n",
    ")\n",
    "print(df11)"
   ]
  },
  {
   "cell_type": "code",
   "execution_count": 23,
   "metadata": {},
   "outputs": [
    {
     "name": "stdout",
     "output_type": "stream",
     "text": [
      "         资材编号   品名       规格   单位  数量\n",
      "0  JJ36A12083   标签   NK1799  PCS   1\n",
      "1  JJ36E00646   标签  NC4629B  PCS   1\n",
      "2  JJ36E00657   标签   NC4873  PCS   1\n",
      "3  JJ36E21722  表示板   NK5891  PCS   2\n",
      "4  JJ36E60019   标签   NK5319  PCS   1\n"
     ]
    }
   ],
   "source": [
    "df12 = pd.read_table(r\"D:\\#条形码系统\\盘点\\专用材料统计\\CPSS\\维修焊机用标签.csv\",\n",
    "    sep=',',\n",
    "    nrows=5,\n",
    "    encoding='ANSI',\n",
    "    engine='python'\n",
    ")\n",
    "print(df12)"
   ]
  },
  {
   "cell_type": "code",
   "execution_count": 27,
   "metadata": {},
   "outputs": [
    {
     "name": "stdout",
     "output_type": "stream",
     "text": [
      "   id   productNo productNm                spec  unitId   price kosProductNo  \\\n",
      "0   1  JB47D20577        衬套             TB-3545      12   26.49                \n",
      "1   2  JJ45B40001        电阻       TM-7EP 20KOHM      12  180.00                \n",
      "2   3  JJ45C40031      陶瓷电容  RDE5C1H102J0K1H03B      12    7.40                \n",
      "3   4  MZ74A00048         轴           K10001B04      12   23.00                \n",
      "4   5  MZ75A00067        把手           K10001D01      12    2.90                \n",
      "5   6  MZ76M00001       塑料袋                  A4      12    0.21                \n",
      "6   7  MZ76M00002       塑料袋              XC-350      12    1.47                \n",
      "7   8  MZ76M00003       塑料袋              XC-500      12    2.00                \n",
      "8   9  MZ76M00004       塑料袋         XC-350(出口用）      12    9.50                \n",
      "9  10  MZ76M00006       塑料袋         AEP-300(出口)      12   11.23                \n",
      "\n",
      "  productSort manageSort isSelfProduce  ...  defaultSupplyerNo  \\\n",
      "0                      B          None  ...        8000078M008   \n",
      "1                      B          None  ...        8000078M008   \n",
      "2                      B          None  ...        8000078M008   \n",
      "3                      B          None  ...        1337800M008   \n",
      "4                      B          None  ...        1337800M008   \n",
      "5                      D          None  ...        1383300M006   \n",
      "6                      D          None  ...        1383300M006   \n",
      "7                      D          None  ...        1383300M006   \n",
      "8                      D          None  ...        1383300M006   \n",
      "9                      D          None  ...        1383300M006   \n",
      "\n",
      "   defaultSupplyerNm isExemptInspection isExemptInspectionDesc  \\\n",
      "0            株式会社达谊恒                  1                      ●   \n",
      "1            株式会社达谊恒                  1                      ●   \n",
      "2            株式会社达谊恒                  0                          \n",
      "3       南通振康焊接机电有限公司                  1                      ●   \n",
      "4       南通振康焊接机电有限公司                  1                      ●   \n",
      "5  牡丹江市西安区新源塑料包装物加工部                  1                      ●   \n",
      "6  牡丹江市西安区新源塑料包装物加工部                  1                      ●   \n",
      "7  牡丹江市西安区新源塑料包装物加工部                  1                      ●   \n",
      "8  牡丹江市西安区新源塑料包装物加工部                  1                      ●   \n",
      "9  牡丹江市西安区新源塑料包装物加工部                  1                      ●   \n",
      "\n",
      "   isFullInspection  isFullInspectionDesc  isSpotInspection  \\\n",
      "0                 0                                       0   \n",
      "1                 0                                       0   \n",
      "2                 1                     ●                 0   \n",
      "3                 0                                       0   \n",
      "4                 0                                       0   \n",
      "5                 0                                       0   \n",
      "6                 0                                       0   \n",
      "7                 0                                       0   \n",
      "8                 0                                       0   \n",
      "9                 0                                       0   \n",
      "\n",
      "   isSpotInspectionDesc  inspectionSortDesc inspectionBigSort  \n",
      "0                                        免检                免检  \n",
      "1                                        免检                免检  \n",
      "2                                        全检                全检  \n",
      "3                                        免检                免检  \n",
      "4                                        免检                免检  \n",
      "5                                        免检                免检  \n",
      "6                                        免检                免检  \n",
      "7                                        免检                免检  \n",
      "8                                        免检                免检  \n",
      "9                                        免检                免检  \n",
      "\n",
      "[10 rows x 45 columns]\n"
     ]
    }
   ],
   "source": [
    "#### 4.1.4 导入sql文件\n",
    "#Python导入sql文件分为两步，第一步连接数据库，第二步利用Python执行sql查询语句。\n",
    "import pymssql\n",
    "conn = pymssql.connect(\"192.168.2.107\", \"sa\", \"Aa123456\", \"otcwms\")\n",
    "sql = \"SELECT top 10 * FROM vLProduct\"\n",
    "df13 = pd.read_sql(sql,conn)\n",
    "print(df13)"
   ]
  },
  {
   "cell_type": "code",
   "execution_count": null,
   "metadata": {},
   "outputs": [],
   "source": [
    "### 4.2 新建数据\n",
    "#指新建DataFrame数据，\n",
    "### 4.3 熟悉数据\n",
    "#当我们有了数据源以后，应该先熟悉数据，充分熟悉数据后有利于进行更好的分析数据。"
   ]
  },
  {
   "cell_type": "code",
   "execution_count": 28,
   "metadata": {},
   "outputs": [
    {
     "name": "stdout",
     "output_type": "stream",
     "text": [
      "   id   productNo productNm                spec  unitId   price kosProductNo  \\\n",
      "0   1  JB47D20577        衬套             TB-3545      12   26.49                \n",
      "1   2  JJ45B40001        电阻       TM-7EP 20KOHM      12  180.00                \n",
      "2   3  JJ45C40031      陶瓷电容  RDE5C1H102J0K1H03B      12    7.40                \n",
      "3   4  MZ74A00048         轴           K10001B04      12   23.00                \n",
      "4   5  MZ75A00067        把手           K10001D01      12    2.90                \n",
      "\n",
      "  productSort manageSort isSelfProduce  ...  defaultSupplyerNo  \\\n",
      "0                      B          None  ...        8000078M008   \n",
      "1                      B          None  ...        8000078M008   \n",
      "2                      B          None  ...        8000078M008   \n",
      "3                      B          None  ...        1337800M008   \n",
      "4                      B          None  ...        1337800M008   \n",
      "\n",
      "  defaultSupplyerNm isExemptInspection isExemptInspectionDesc  \\\n",
      "0           株式会社达谊恒                  1                      ●   \n",
      "1           株式会社达谊恒                  1                      ●   \n",
      "2           株式会社达谊恒                  0                          \n",
      "3      南通振康焊接机电有限公司                  1                      ●   \n",
      "4      南通振康焊接机电有限公司                  1                      ●   \n",
      "\n",
      "   isFullInspection  isFullInspectionDesc  isSpotInspection  \\\n",
      "0                 0                                       0   \n",
      "1                 0                                       0   \n",
      "2                 1                     ●                 0   \n",
      "3                 0                                       0   \n",
      "4                 0                                       0   \n",
      "\n",
      "   isSpotInspectionDesc  inspectionSortDesc inspectionBigSort  \n",
      "0                                        免检                免检  \n",
      "1                                        免检                免检  \n",
      "2                                        全检                全检  \n",
      "3                                        免检                免检  \n",
      "4                                        免检                免检  \n",
      "\n",
      "[5 rows x 45 columns]\n"
     ]
    }
   ],
   "source": [
    "#### 4.3.1 利用head预览前几行\n",
    "#pandas.head()默认预览前5行\n",
    "print(df13.head())"
   ]
  },
  {
   "cell_type": "code",
   "execution_count": 30,
   "metadata": {},
   "outputs": [
    {
     "name": "stdout",
     "output_type": "stream",
     "text": [
      "   id   productNo productNm           spec  unitId   price kosProductNo  \\\n",
      "0   1  JB47D20577        衬套        TB-3545      12   26.49                \n",
      "1   2  JJ45B40001        电阻  TM-7EP 20KOHM      12  180.00                \n",
      "\n",
      "  productSort manageSort isSelfProduce  ...  defaultSupplyerNo  \\\n",
      "0                      B          None  ...        8000078M008   \n",
      "1                      B          None  ...        8000078M008   \n",
      "\n",
      "  defaultSupplyerNm isExemptInspection isExemptInspectionDesc  \\\n",
      "0           株式会社达谊恒                  1                      ●   \n",
      "1           株式会社达谊恒                  1                      ●   \n",
      "\n",
      "   isFullInspection  isFullInspectionDesc  isSpotInspection  \\\n",
      "0                 0                                       0   \n",
      "1                 0                                       0   \n",
      "\n",
      "   isSpotInspectionDesc  inspectionSortDesc inspectionBigSort  \n",
      "0                                        免检                免检  \n",
      "1                                        免检                免检  \n",
      "\n",
      "[2 rows x 45 columns]\n"
     ]
    }
   ],
   "source": [
    "print(df13.head(2))"
   ]
  },
  {
   "cell_type": "code",
   "execution_count": 32,
   "metadata": {},
   "outputs": [
    {
     "name": "stdout",
     "output_type": "stream",
     "text": [
      "(10, 45)\n"
     ]
    }
   ],
   "source": [
    "#### 4.3.2 利用shape获取数据表的大小\n",
    "print(df13.shape)"
   ]
  },
  {
   "cell_type": "code",
   "execution_count": 33,
   "metadata": {},
   "outputs": [
    {
     "name": "stdout",
     "output_type": "stream",
     "text": [
      "<class 'pandas.core.frame.DataFrame'>\n",
      "RangeIndex: 10 entries, 0 to 9\n",
      "Data columns (total 45 columns):\n",
      "id                                    10 non-null int64\n",
      "productNo                             10 non-null object\n",
      "productNm                             10 non-null object\n",
      "spec                                  10 non-null object\n",
      "unitId                                10 non-null int64\n",
      "price                                 10 non-null float64\n",
      "kosProductNo                          10 non-null object\n",
      "productSort                           10 non-null object\n",
      "manageSort                            10 non-null object\n",
      "isSelfProduce                         0 non-null object\n",
      "isNeedInspection                      10 non-null bool\n",
      "inspectionSort                        10 non-null object\n",
      "inspectionStandardSeconds             0 non-null object\n",
      "inspectionSortUpdtDt                  0 non-null object\n",
      "minPackAmount                         10 non-null float64\n",
      "defaultWareLocatorId                  10 non-null int64\n",
      "productPrincipalEmpId                 10 non-null int64\n",
      "defaultSupplyerId                     10 non-null int64\n",
      "safeStockAmount                       10 non-null float64\n",
      "maxSockPeriod                         0 non-null object\n",
      "productType                           10 non-null object\n",
      "isForbidDelivery                      0 non-null object\n",
      "is3c                                  0 non-null object\n",
      "notNeedInspectionSortChangeWarning    0 non-null object\n",
      "isDel                                 10 non-null bool\n",
      "isrtEmpId                             10 non-null int64\n",
      "isrtDt                                10 non-null datetime64[ns]\n",
      "updtEmpId                             10 non-null int64\n",
      "updtDt                                10 non-null datetime64[ns]\n",
      "unitNm                                10 non-null object\n",
      "updtEmpNm                             0 non-null object\n",
      "productPrincipalEmpNo                 10 non-null object\n",
      "productPrincipalEmpNm                 10 non-null object\n",
      "defaultWareLocatorNo                  10 non-null object\n",
      "defaultWareLocatorNm                  10 non-null object\n",
      "defaultSupplyerNo                     10 non-null object\n",
      "defaultSupplyerNm                     10 non-null object\n",
      "isExemptInspection                    10 non-null int64\n",
      "isExemptInspectionDesc                10 non-null object\n",
      "isFullInspection                      10 non-null int64\n",
      "isFullInspectionDesc                  10 non-null object\n",
      "isSpotInspection                      10 non-null int64\n",
      "isSpotInspectionDesc                  10 non-null object\n",
      "inspectionSortDesc                    10 non-null object\n",
      "inspectionBigSort                     10 non-null object\n",
      "dtypes: bool(2), datetime64[ns](2), float64(3), int64(10), object(28)\n",
      "memory usage: 3.5+ KB\n",
      "None\n"
     ]
    }
   ],
   "source": [
    "#### 4.3.3 利用info获取数据类型,还可以查看表结构\n",
    "print(df13.info())"
   ]
  },
  {
   "cell_type": "code",
   "execution_count": 34,
   "metadata": {},
   "outputs": [
    {
     "name": "stdout",
     "output_type": "stream",
     "text": [
      "             id  unitId       price  minPackAmount  defaultWareLocatorId  \\\n",
      "count  10.00000    10.0   10.000000           10.0             10.000000   \n",
      "mean    5.50000    12.0   26.420000            1.0           1069.000000   \n",
      "std     3.02765     0.0   54.707601            0.0            301.925672   \n",
      "min     1.00000    12.0    0.210000            1.0            427.000000   \n",
      "25%     3.25000    12.0    2.225000            1.0            926.250000   \n",
      "50%     5.50000    12.0    8.450000            1.0           1073.000000   \n",
      "75%     7.75000    12.0   20.057500            1.0           1334.250000   \n",
      "max    10.00000    12.0  180.000000            1.0           1404.000000   \n",
      "\n",
      "       productPrincipalEmpId  defaultSupplyerId  safeStockAmount  isrtEmpId  \\\n",
      "count              10.000000           10.00000        10.000000       10.0   \n",
      "mean             2007.900000          173.80000        45.000000        0.0   \n",
      "std                 2.643651          109.31077        82.462113        0.0   \n",
      "min              2006.000000           96.00000         0.000000        0.0   \n",
      "25%              2006.000000          110.00000         0.000000        0.0   \n",
      "50%              2006.500000          110.00000         0.000000        0.0   \n",
      "75%              2010.000000          276.50000        56.250000        0.0   \n",
      "max              2012.000000          332.00000       240.000000        0.0   \n",
      "\n",
      "       updtEmpId  isExemptInspection  isFullInspection  isSpotInspection  \n",
      "count       10.0           10.000000         10.000000              10.0  \n",
      "mean         0.0            0.900000          0.100000               0.0  \n",
      "std          0.0            0.316228          0.316228               0.0  \n",
      "min          0.0            0.000000          0.000000               0.0  \n",
      "25%          0.0            1.000000          0.000000               0.0  \n",
      "50%          0.0            1.000000          0.000000               0.0  \n",
      "75%          0.0            1.000000          0.000000               0.0  \n",
      "max          0.0            1.000000          1.000000               0.0  \n"
     ]
    }
   ],
   "source": [
    "#### 4.3.4 利用describe获取数值分布情况\n",
    "#数值分布情况是指均值、最值、方差及分位数等\n",
    "print(df13.describe())"
   ]
  },
  {
   "cell_type": "code",
   "execution_count": 55,
   "metadata": {},
   "outputs": [
    {
     "name": "stdout",
     "output_type": "stream",
     "text": [
      "<class 'pandas.core.frame.DataFrame'>\n",
      "RangeIndex: 20 entries, 0 to 19\n",
      "Data columns (total 5 columns):\n",
      "资材编号    20 non-null object\n",
      "品名      19 non-null object\n",
      "规格      20 non-null object\n",
      "单位      18 non-null object\n",
      "数量      19 non-null float64\n",
      "dtypes: float64(1), object(4)\n",
      "memory usage: 928.0+ bytes\n",
      "None\n"
     ]
    }
   ],
   "source": [
    "## 第5章 数据预处理\n",
    "#数据预处理通常是指对不规整的数据进行处理，数据不规整包括缺失数据、重复数据、异常数据等几种情况\n",
    "### 5.1 缺失值处理\n",
    "#缺失值是指由某些原因导致部分数据为空，对于为空的数据一般有两种处理方式，一是删除，另一种是填充。\n",
    "#Excel查看缺失值一般用定位来实现。\n",
    "#Python中直接调用info()方法就会返回每一列的缺失情况。\n",
    "#### 5.1.1 缺失值查看\n",
    "df12 = pd.read_table(r\"D:\\#条形码系统\\盘点\\专用材料统计\\CPSS\\维修焊机用标签.csv\",\n",
    "    sep=',',\n",
    "    #nrows=5,\n",
    "    encoding='ANSI',\n",
    "    engine='python'\n",
    ")\n",
    "print(df12.info())\n"
   ]
  },
  {
   "cell_type": "code",
   "execution_count": 47,
   "metadata": {},
   "outputs": [
    {
     "name": "stdout",
     "output_type": "stream",
     "text": [
      "         资材编号   品名       规格   单位   数量\n",
      "0  JJ36A12083   标签   NK1799  PCS  1.0\n",
      "1  JJ36E00646   标签  NC4629B  PCS  NaN\n",
      "2  JJ36E00657   标签   NC4873  PCS  1.0\n",
      "3  JJ36E21722  表示板   NK5891  PCS  2.0\n",
      "4  JJ36E60019   标签   NK5319  PCS  1.0\n",
      "         资材编号   品名      规格   单位   数量\n",
      "0  JJ36A12083   标签  NK1799  PCS  1.0\n",
      "2  JJ36E00657   标签  NC4873  PCS  1.0\n",
      "3  JJ36E21722  表示板  NK5891  PCS  2.0\n",
      "4  JJ36E60019   标签  NK5319  PCS  1.0\n",
      "         资材编号   品名       规格   单位   数量\n",
      "0  JJ36A12083   标签   NK1799  PCS  1.0\n",
      "1  JJ36E00646   标签  NC4629B  PCS  NaN\n",
      "2  JJ36E00657   标签   NC4873  PCS  1.0\n",
      "3  JJ36E21722  表示板   NK5891  PCS  2.0\n",
      "4  JJ36E60019   标签   NK5319  PCS  1.0\n"
     ]
    }
   ],
   "source": [
    "#### 5.1.2 缺失值删除dropna\n",
    "print(df12)\n",
    "print(df12.dropna())\n",
    "print(df12.dropna(how='all'))"
   ]
  },
  {
   "cell_type": "code",
   "execution_count": 56,
   "metadata": {},
   "outputs": [
    {
     "name": "stdout",
     "output_type": "stream",
     "text": [
      "          资材编号   品名               规格   单位   数量\n",
      "0   JJ36A12083   标签           NK1799  PCS  1.0\n",
      "1   JJ36E00646   标签          NC4629B  PCS  NaN\n",
      "2   JJ36E00657   标签           NC4873  NaN  1.0\n",
      "3   JJ36E21722  表示板           NK5891  PCS  2.0\n",
      "4   JJ36E60019   标签           NK5319  PCS  1.0\n",
      "5   JJ36E60916  NaN           NT0006  PCS  1.0\n",
      "6   JJ36E90315   标签           NL0060  PCS  2.0\n",
      "7   JJ36E90326   标签           NL0061  PCS  2.0\n",
      "8   JJ36F42742   标签          NK3384B  PCS  1.0\n",
      "9   MM36D00154  说明书  CPSS-135(P7436)  NaN  1.0\n",
      "10  MM36D00155  说明书  CPSS-135(P7973)  PCS  1.0\n",
      "11  JJ36E60019   标签           NK5319  PCS  1.0\n",
      "12  JJ36E60019   标签           NK5319  PCS  1.0\n",
      "13  JJ36E90315   标签           NL0060  PCS  2.0\n",
      "14  JJ36E90326   标签           NL0061  PCS  2.0\n",
      "15  JJ36F42742   标签          NK3384B  PCS  1.0\n",
      "16  JJ36E90315   标签           NL0060  PCS  2.0\n",
      "17  JJ36E90326   标签           NL0061  PCS  2.0\n",
      "18  JJ36F42742   标签          NK3384B  PCS  1.0\n",
      "19  JJ36A12083   标签           NK1799  PCS  1.0\n",
      "          资材编号   品名               规格   单位   数量\n",
      "0   JJ36A12083   标签           NK1799  PCS  1.0\n",
      "1   JJ36E00646   标签          NC4629B  PCS  0.0\n",
      "2   JJ36E00657   标签           NC4873    0  1.0\n",
      "3   JJ36E21722  表示板           NK5891  PCS  2.0\n",
      "4   JJ36E60019   标签           NK5319  PCS  1.0\n",
      "5   JJ36E60916    0           NT0006  PCS  1.0\n",
      "6   JJ36E90315   标签           NL0060  PCS  2.0\n",
      "7   JJ36E90326   标签           NL0061  PCS  2.0\n",
      "8   JJ36F42742   标签          NK3384B  PCS  1.0\n",
      "9   MM36D00154  说明书  CPSS-135(P7436)    0  1.0\n",
      "10  MM36D00155  说明书  CPSS-135(P7973)  PCS  1.0\n",
      "11  JJ36E60019   标签           NK5319  PCS  1.0\n",
      "12  JJ36E60019   标签           NK5319  PCS  1.0\n",
      "13  JJ36E90315   标签           NL0060  PCS  2.0\n",
      "14  JJ36E90326   标签           NL0061  PCS  2.0\n",
      "15  JJ36F42742   标签          NK3384B  PCS  1.0\n",
      "16  JJ36E90315   标签           NL0060  PCS  2.0\n",
      "17  JJ36E90326   标签           NL0061  PCS  2.0\n",
      "18  JJ36F42742   标签          NK3384B  PCS  1.0\n",
      "19  JJ36A12083   标签           NK1799  PCS  1.0\n",
      "          资材编号   品名               规格   单位   数量\n",
      "0   JJ36A12083   标签           NK1799  PCS  1.0\n",
      "1   JJ36E00646   标签          NC4629B  PCS  0.0\n",
      "2   JJ36E00657   标签           NC4873    个  1.0\n",
      "3   JJ36E21722  表示板           NK5891  PCS  2.0\n",
      "4   JJ36E60019   标签           NK5319  PCS  1.0\n",
      "5   JJ36E60916   名称           NT0006  PCS  1.0\n",
      "6   JJ36E90315   标签           NL0060  PCS  2.0\n",
      "7   JJ36E90326   标签           NL0061  PCS  2.0\n",
      "8   JJ36F42742   标签          NK3384B  PCS  1.0\n",
      "9   MM36D00154  说明书  CPSS-135(P7436)    个  1.0\n",
      "10  MM36D00155  说明书  CPSS-135(P7973)  PCS  1.0\n",
      "11  JJ36E60019   标签           NK5319  PCS  1.0\n",
      "12  JJ36E60019   标签           NK5319  PCS  1.0\n",
      "13  JJ36E90315   标签           NL0060  PCS  2.0\n",
      "14  JJ36E90326   标签           NL0061  PCS  2.0\n",
      "15  JJ36F42742   标签          NK3384B  PCS  1.0\n",
      "16  JJ36E90315   标签           NL0060  PCS  2.0\n",
      "17  JJ36E90326   标签           NL0061  PCS  2.0\n",
      "18  JJ36F42742   标签          NK3384B  PCS  1.0\n",
      "19  JJ36A12083   标签           NK1799  PCS  1.0\n"
     ]
    }
   ],
   "source": [
    "#### 5.1.3 缺失值填充fillna()\n",
    "print(df12)\n",
    "print(df12.fillna(0))\n",
    "print(df12.fillna({\"品名\":\"名称\",\"单位\":\"个\",\"数量\":0}))"
   ]
  },
  {
   "cell_type": "code",
   "execution_count": 61,
   "metadata": {},
   "outputs": [
    {
     "name": "stdout",
     "output_type": "stream",
     "text": [
      "          资材编号   品名               规格   单位   数量\n",
      "0   JJ36A12083   标签           NK1799  PCS  1.0\n",
      "1   JJ36E00646   标签          NC4629B  PCS  NaN\n",
      "2   JJ36E00657   标签           NC4873  NaN  1.0\n",
      "3   JJ36E21722  表示板           NK5891  PCS  2.0\n",
      "4   JJ36E60019   标签           NK5319  PCS  1.0\n",
      "5   JJ36E60916  NaN           NT0006  PCS  1.0\n",
      "6   JJ36E90315   标签           NL0060  PCS  2.0\n",
      "7   JJ36E90326   标签           NL0061  PCS  2.0\n",
      "8   JJ36F42742   标签          NK3384B  PCS  1.0\n",
      "9   MM36D00154  说明书  CPSS-135(P7436)  NaN  1.0\n",
      "10  MM36D00155  说明书  CPSS-135(P7973)  PCS  1.0\n",
      "11  JJ36E60019   标签           NK5319  PCS  1.0\n",
      "12  JJ36E60019   标签           NK5319  PCS  1.0\n",
      "13  JJ36E90315   标签           NL0060  PCS  2.0\n",
      "14  JJ36E90326   标签           NL0061  PCS  2.0\n",
      "15  JJ36F42742   标签          NK3384B  PCS  1.0\n",
      "16  JJ36E90315   标签           NL0060  PCS  2.0\n",
      "17  JJ36E90326   标签           NL0061  PCS  2.0\n",
      "18  JJ36F42742   标签          NK3384B  PCS  1.0\n",
      "19  JJ36A12083   标签           NK1799  PCS  1.0\n",
      "\n",
      "keep=False不保留，删除所有重复值,first保留第一数据，last保留最后一个数据\n",
      "          资材编号   品名               规格   单位   数量\n",
      "1   JJ36E00646   标签          NC4629B  PCS  NaN\n",
      "2   JJ36E00657   标签           NC4873  NaN  1.0\n",
      "3   JJ36E21722  表示板           NK5891  PCS  2.0\n",
      "5   JJ36E60916  NaN           NT0006  PCS  1.0\n",
      "9   MM36D00154  说明书  CPSS-135(P7436)  NaN  1.0\n",
      "10  MM36D00155  说明书  CPSS-135(P7973)  PCS  1.0\n",
      "\n",
      "subset按多列去重\n",
      "          资材编号   品名               规格   单位   数量\n",
      "0   JJ36A12083   标签           NK1799  PCS  1.0\n",
      "2   JJ36E00657   标签           NC4873  NaN  1.0\n",
      "3   JJ36E21722  表示板           NK5891  PCS  2.0\n",
      "5   JJ36E60916  NaN           NT0006  PCS  1.0\n",
      "9   MM36D00154  说明书  CPSS-135(P7436)  NaN  1.0\n",
      "10  MM36D00155  说明书  CPSS-135(P7973)  PCS  1.0\n",
      "          资材编号   品名               规格   单位   数量\n",
      "9   MM36D00154  说明书  CPSS-135(P7436)  NaN  1.0\n",
      "19  JJ36A12083   标签           NK1799  PCS  1.0\n"
     ]
    }
   ],
   "source": [
    "### 5.2 重复值处理\n",
    "#重复数据一般都是删除处理\n",
    "print(df12)\n",
    "print(\"\")\n",
    "print(\"keep=False不保留，删除所有重复值,first保留第一数据，last保留最后一个数据\")\n",
    "print(df12.drop_duplicates(keep=False))\n",
    "print(\"\")\n",
    "print(\"subset按多列去重\")\n",
    "print(df12.drop_duplicates(subset=[\"品名\",\"单位\"],keep='first'))\n",
    "print(df12.drop_duplicates({\"单位\"},keep='last'))"
   ]
  },
  {
   "cell_type": "code",
   "execution_count": 63,
   "metadata": {},
   "outputs": [
    {
     "name": "stdout",
     "output_type": "stream",
     "text": [
      "          资材编号   品名               规格   单位   数量\n",
      "0   JJ36A12083   标签           NK1799  PCS  1.0\n",
      "1   JJ36E00646   标签          NC4629B  PCS  NaN\n",
      "2   JJ36E00657   标签           NC4873  NaN  1.0\n",
      "3   JJ36E21722  表示板           NK5891  PCS  2.0\n",
      "4   JJ36E60019   标签           NK5319  PCS  1.0\n",
      "5   JJ36E60916  NaN           NT0006  PCS  1.0\n",
      "6   JJ36E90315   标签           NL0060  PCS  2.0\n",
      "7   JJ36E90326   标签           NL0061  PCS  2.0\n",
      "8   JJ36F42742   标签          NK3384B  PCS  1.0\n",
      "9   MM36D00154  说明书  CPSS-135(P7436)  NaN  1.0\n",
      "10  MM36D00155  说明书  CPSS-135(P7973)  PCS  1.0\n",
      "11  JJ36E60019   标签           NK5319  PCS  1.0\n",
      "12  JJ36E60019   标签           NK5319  PCS  1.0\n",
      "13  JJ36E90315   标签           NL0060  PCS  2.0\n",
      "14  JJ36E90326   标签           NL0061  PCS  2.0\n",
      "15  JJ36F42742   标签          NK3384B  PCS  1.0\n",
      "16  JJ36E90315   标签           NL0060  PCS  2.0\n",
      "17  JJ36E90326   标签           NL0061  PCS  2.0\n",
      "18  JJ36F42742   标签          NK3384B  PCS  1.0\n",
      "19  JJ36A12083   标签           NK1799  PCS  1.0\n"
     ]
    }
   ],
   "source": [
    "### 5.3 异常值的检测与处理\n",
    "#异常值就是相比正常数据而言过高或过低的数据，比如一个人的年龄是0岁或者300岁都是异常值。\n",
    "#### 5.3.1 异常值检测\n",
    "#发现异常值的方式主要有以下三种：\n",
    "#○ 根据业务经验划定不同指标的正常范围，超过该范围的值算作异常值。\n",
    "#○ 通过绘制箱型图，把大于(小于)箱型图上边缘(下边缘)的点称为异常值。\n",
    "#○ 如果数据服从正态分布，则可以利用3q原则：如果一个数值与平均值之间的偏差超过3倍标准差，就认为是异常值。\n",
    "#### 5.3.2 异常值处理\n",
    "#异常值的处理一般有以下几种处理方式：\n",
    "# ○ 最常用的处理方式是删除\n",
    "# ○ 把异常值当作缺失值来填充--就是替换。\n",
    "# ○ 把异常值当作特殊情况，研究异常值出现的原因。\n",
    "print(df12.replace({\"pcs\":\"个\"}))"
   ]
  },
  {
   "cell_type": "code",
   "execution_count": 65,
   "metadata": {},
   "outputs": [
    {
     "name": "stdout",
     "output_type": "stream",
     "text": [
      "object\n",
      "float64\n"
     ]
    }
   ],
   "source": [
    "### 5.4 数据类型转换\n",
    "#### 5.4.1 数据类型\n",
    "#Pandas主要有6种数据类型，\n",
    "# ○ int 整型数 整数，没有小数点\n",
    "# ○ float 浮点数 含有小数点的数\n",
    "# ○ object Python对象类型\n",
    "# ○ string_ 字符串类型 经常用S表示，S10表示长度为10的字符串。\n",
    "# ○ unicode_ 固定长度的unicode类型，跟字符串定义方式一样。\n",
    "# ○ datetime64[ns] 时间格式\n",
    "#在Python中，不仅可以用info()方法获取每一列的数据类型，还可以通过 dtype 方法来获取某一列的数据类型。\n",
    "print(df12[\"单位\"].dtype)\n",
    "print(df12[\"数量\"].dtype)"
   ]
  },
  {
   "cell_type": "code",
   "execution_count": 67,
   "metadata": {},
   "outputs": [
    {
     "data": {
      "text/plain": [
       "0     1\n",
       "1     0\n",
       "2     1\n",
       "3     2\n",
       "4     1\n",
       "5     1\n",
       "6     2\n",
       "7     2\n",
       "8     1\n",
       "9     1\n",
       "10    1\n",
       "11    1\n",
       "12    1\n",
       "13    2\n",
       "14    2\n",
       "15    1\n",
       "16    2\n",
       "17    2\n",
       "18    1\n",
       "19    1\n",
       "Name: 数量, dtype: int32"
      ]
     },
     "execution_count": 67,
     "metadata": {},
     "output_type": "execute_result"
    }
   ],
   "source": [
    "#### 5.4.2 类型转换 astype()\n",
    "#不同数据类型可以做的事情是不一样的，所以需要对数据类型进行转化，把数据转换为我们需要的类型。\n",
    "df12.fillna(0)[\"数量\"].astype(\"int\")"
   ]
  },
  {
   "cell_type": "markdown",
   "metadata": {},
   "source": [
    "### 5.5 索引设置\n",
    "#索引是查找数据的依据，设置索引的目的是便于我们查找数据。\n",
    "#### 5.5.1 为无索引表添加索引\n",
    "#在Python中，如果表没有索引，会默认从0开始的自然数做索引，通过给表的columns参数传入列索引值，index参数传入行索引值达到给无索引表添加索引的目的。\n",
    "#### 5.5.2 重新设置索引 set_index()  set_columns()"
   ]
  },
  {
   "cell_type": "code",
   "execution_count": 79,
   "metadata": {
    "scrolled": true
   },
   "outputs": [
    {
     "name": "stdout",
     "output_type": "stream",
     "text": [
      "             1    2                3    4    5\n",
      "0   JJ36A12083   标签           NK1799  PCS  1.0\n",
      "1   JJ36E00646   标签          NC4629B  PCS  NaN\n",
      "2   JJ36E00657   标签           NC4873  NaN  1.0\n",
      "3   JJ36E21722  表示板           NK5891  PCS  2.0\n",
      "4   JJ36E60019   标签           NK5319  PCS  1.0\n",
      "5   JJ36E60916  NaN           NT0006  PCS  1.0\n",
      "6   JJ36E90315   标签           NL0060  PCS  2.0\n",
      "7   JJ36E90326   标签           NL0061  PCS  2.0\n",
      "8   JJ36F42742   标签          NK3384B  PCS  1.0\n",
      "9   MM36D00154  说明书  CPSS-135(P7436)  NaN  1.0\n",
      "10  MM36D00155  说明书  CPSS-135(P7973)  PCS  1.0\n",
      "11  JJ36E60019   标签           NK5319  PCS  1.0\n",
      "12  JJ36E60019   标签           NK5319  PCS  1.0\n",
      "13  JJ36E90315   标签           NL0060  PCS  2.0\n",
      "14  JJ36E90326   标签           NL0061  PCS  2.0\n",
      "15  JJ36F42742   标签          NK3384B  PCS  1.0\n",
      "16  JJ36E90315   标签           NL0060  PCS  2.0\n",
      "17  JJ36E90326   标签           NL0061  PCS  2.0\n",
      "18  JJ36F42742   标签          NK3384B  PCS  1.0\n",
      "19  JJ36A12083   标签           NK1799  PCS  1.0\n",
      "             1    2                3    4    5\n",
      "0   JJ36A12083   标签           NK1799  PCS  1.0\n",
      "1   JJ36E00646   标签          NC4629B  PCS  NaN\n",
      "2   JJ36E00657   标签           NC4873  NaN  1.0\n",
      "3   JJ36E21722  表示板           NK5891  PCS  2.0\n",
      "4   JJ36E60019   标签           NK5319  PCS  1.0\n",
      "5   JJ36E60916  NaN           NT0006  PCS  1.0\n",
      "6   JJ36E90315   标签           NL0060  PCS  2.0\n",
      "7   JJ36E90326   标签           NL0061  PCS  2.0\n",
      "8   JJ36F42742   标签          NK3384B  PCS  1.0\n",
      "9   MM36D00154  说明书  CPSS-135(P7436)  NaN  1.0\n",
      "10  MM36D00155  说明书  CPSS-135(P7973)  PCS  1.0\n",
      "11  JJ36E60019   标签           NK5319  PCS  1.0\n",
      "12  JJ36E60019   标签           NK5319  PCS  1.0\n",
      "13  JJ36E90315   标签           NL0060  PCS  2.0\n",
      "14  JJ36E90326   标签           NL0061  PCS  2.0\n",
      "15  JJ36F42742   标签          NK3384B  PCS  1.0\n",
      "16  JJ36E90315   标签           NL0060  PCS  2.0\n",
      "17  JJ36E90326   标签           NL0061  PCS  2.0\n",
      "18  JJ36F42742   标签          NK3384B  PCS  1.0\n",
      "19  JJ36A12083   标签           NK1799  PCS  1.0\n",
      "             1    2                3    4    5\n",
      "0   JJ36A12083   标签           NK1799  PCS  1.0\n",
      "1   JJ36E00646   标签          NC4629B  PCS  NaN\n",
      "2   JJ36E00657   标签           NC4873  NaN  1.0\n",
      "3   JJ36E21722  表示板           NK5891  PCS  2.0\n",
      "4   JJ36E60019   标签           NK5319  PCS  1.0\n",
      "5   JJ36E60916  NaN           NT0006  PCS  1.0\n",
      "6   JJ36E90315   标签           NL0060  PCS  2.0\n",
      "7   JJ36E90326   标签           NL0061  PCS  2.0\n",
      "8   JJ36F42742   标签          NK3384B  PCS  1.0\n",
      "9   MM36D00154  说明书  CPSS-135(P7436)  NaN  1.0\n",
      "10  MM36D00155  说明书  CPSS-135(P7973)  PCS  1.0\n",
      "11  JJ36E60019   标签           NK5319  PCS  1.0\n",
      "12  JJ36E60019   标签           NK5319  PCS  1.0\n",
      "13  JJ36E90315   标签           NL0060  PCS  2.0\n",
      "14  JJ36E90326   标签           NL0061  PCS  2.0\n",
      "15  JJ36F42742   标签          NK3384B  PCS  1.0\n",
      "16  JJ36E90315   标签           NL0060  PCS  2.0\n",
      "17  JJ36E90326   标签           NL0061  PCS  2.0\n",
      "18  JJ36F42742   标签          NK3384B  PCS  1.0\n",
      "19  JJ36A12083   标签           NK1799  PCS  1.0\n"
     ]
    }
   ],
   "source": [
    "print(df12)\n",
    "df12.set_columns=[\"1\",\"2\",\"3\",\"4\",\"5\"]\n",
    "print(df12)\n",
    "df12.set_index(\"2\")\n",
    "print(df12)"
   ]
  },
  {
   "cell_type": "code",
   "execution_count": 3,
   "metadata": {},
   "outputs": [
    {
     "name": "stdout",
     "output_type": "stream",
     "text": [
      "         资材编号   品名       规格   单位   数量\n",
      "0  JJ36A12083   标签   NK1799  PCS  1.0\n",
      "1  JJ36E00646   标签  NC4629B  PCS  NaN\n",
      "2  JJ36E00657   标签   NC4873  NaN  1.0\n",
      "3  JJ36E21722  表示板   NK5891  PCS  2.0\n",
      "4  JJ36E60019   标签   NK5319  PCS  1.0\n",
      "        新资材编号  新品名       规格   单位   数量\n",
      "0  JJ36A12083   标签   NK1799  PCS  1.0\n",
      "1  JJ36E00646   标签  NC4629B  PCS  NaN\n",
      "2  JJ36E00657   标签   NC4873  NaN  1.0\n",
      "3  JJ36E21722  表示板   NK5891  PCS  2.0\n",
      "4  JJ36E60019   标签   NK5319  PCS  1.0\n",
      "         资材编号   品名       规格   单位   数量\n",
      "一  JJ36A12083   标签   NK1799  PCS  1.0\n",
      "二  JJ36E00646   标签  NC4629B  PCS  NaN\n",
      "三  JJ36E00657   标签   NC4873  NaN  1.0\n",
      "四  JJ36E21722  表示板   NK5891  PCS  2.0\n",
      "五  JJ36E60019   标签   NK5319  PCS  1.0\n"
     ]
    }
   ],
   "source": [
    "#### 5.5.3 重命名索引 rename(columns = {\"原索引名\":\"新索引名\"}，index={\"new\",\"old\"})\n",
    "import pandas as pd\n",
    "df12 = pd.read_table(r\"D:\\#条形码系统\\盘点\\专用材料统计\\CPSS\\维修焊机用标签.csv\",\n",
    "    sep=',',\n",
    "    nrows=5,\n",
    "    encoding='ANSI',\n",
    "    engine='python'\n",
    ")\n",
    "print(df12)\n",
    "print(df12.rename(columns={\"资材编号\":\"新资材编号\",\"品名\":\"新品名\"}))\n",
    "print(df12.rename(index={0:\"一\",1:\"二\",2:\"三\",3:\"四\",4:\"五\"}))"
   ]
  },
  {
   "cell_type": "code",
   "execution_count": 6,
   "metadata": {},
   "outputs": [
    {
     "name": "stdout",
     "output_type": "stream",
     "text": [
      "         资材编号\n",
      "0  JJ36A12083\n",
      "1  JJ36E00646\n",
      "2  JJ36E00657\n",
      "3  JJ36E21722\n",
      "4  JJ36E60019\n",
      "         资材编号   品名       规格   单位\n",
      "0  JJ36A12083   标签   NK1799  PCS\n",
      "1  JJ36E00646   标签  NC4629B  PCS\n",
      "2  JJ36E00657   标签   NC4873  NaN\n",
      "3  JJ36E21722  表示板   NK5891  PCS\n",
      "4  JJ36E60019   标签   NK5319  PCS\n",
      "         资材编号       规格\n",
      "0  JJ36A12083   NK1799\n",
      "1  JJ36E00646  NC4629B\n",
      "2  JJ36E00657   NC4873\n",
      "3  JJ36E21722   NK5891\n",
      "4  JJ36E60019   NK5319\n"
     ]
    }
   ],
   "source": [
    "#### 5.5.4 重置索引\n",
    "#重置索引主要用作层次化索引表中，重置索引是将索引列当作一个columns进行返回\n",
    "#暂时没有参考数据。\n",
    "\n",
    "## 第6章 数据选择\n",
    "### 6.1 列选择\n",
    "#### 6.1.1 选择某一列某几列\n",
    "#在Python中,在df后面的方括号中传入列名即可，多个列通过列表传入\n",
    "print(df12[['资材编号']])\n",
    "print(df12[['资材编号','品名','规格','单位']])\n",
    "#在Python中通过传入列名选择数据的方式称为普通索引\n",
    "#除了传入具体的列名，我们还可以传入具体列的位置，即第几列，对数据进行选取，通过传入位置来获取数据时需要用iloc方法\n",
    "#iloc后的方括号中传入的是行、列数据，用逗号隔开，冒号是切片表示方法，代表所有行或列\n",
    "print(df12.iloc[:,[0,2]]) #获取第1列和第3列的数值"
   ]
  },
  {
   "cell_type": "code",
   "execution_count": 3,
   "metadata": {},
   "outputs": [
    {
     "data": {
      "text/html": [
       "<div>\n",
       "<style scoped>\n",
       "    .dataframe tbody tr th:only-of-type {\n",
       "        vertical-align: middle;\n",
       "    }\n",
       "\n",
       "    .dataframe tbody tr th {\n",
       "        vertical-align: top;\n",
       "    }\n",
       "\n",
       "    .dataframe thead th {\n",
       "        text-align: right;\n",
       "    }\n",
       "</style>\n",
       "<table border=\"1\" class=\"dataframe\">\n",
       "  <thead>\n",
       "    <tr style=\"text-align: right;\">\n",
       "      <th></th>\n",
       "      <th>品名</th>\n",
       "      <th>规格</th>\n",
       "    </tr>\n",
       "  </thead>\n",
       "  <tbody>\n",
       "    <tr>\n",
       "      <td>0</td>\n",
       "      <td>标签</td>\n",
       "      <td>NK1799</td>\n",
       "    </tr>\n",
       "    <tr>\n",
       "      <td>1</td>\n",
       "      <td>标签</td>\n",
       "      <td>NC4629B</td>\n",
       "    </tr>\n",
       "    <tr>\n",
       "      <td>2</td>\n",
       "      <td>标签</td>\n",
       "      <td>NC4873</td>\n",
       "    </tr>\n",
       "    <tr>\n",
       "      <td>3</td>\n",
       "      <td>表示板</td>\n",
       "      <td>NK5891</td>\n",
       "    </tr>\n",
       "    <tr>\n",
       "      <td>4</td>\n",
       "      <td>标签</td>\n",
       "      <td>NK5319</td>\n",
       "    </tr>\n",
       "  </tbody>\n",
       "</table>\n",
       "</div>"
      ],
      "text/plain": [
       "    品名       规格\n",
       "0   标签   NK1799\n",
       "1   标签  NC4629B\n",
       "2   标签   NC4873\n",
       "3  表示板   NK5891\n",
       "4   标签   NK5319"
      ]
     },
     "execution_count": 3,
     "metadata": {},
     "output_type": "execute_result"
    }
   ],
   "source": [
    "#### 6.1.2 选择连续的某几列\n",
    "#通过传入连续的列名或者连续的区间即可\n",
    "import pandas as pd\n",
    "df12 = pd.read_table(r\"D:\\#条形码系统\\盘点\\专用材料统计\\CPSS\\维修焊机用标签.csv\",\n",
    "    sep=',',\n",
    "    nrows=5,\n",
    "    encoding='ANSI',\n",
    "    engine='python'\n",
    ")\n",
    "df12.iloc[:,1:3]"
   ]
  },
  {
   "cell_type": "code",
   "execution_count": null,
   "metadata": {},
   "outputs": [],
   "source": [
    "### 6.2 行选择\n",
    "#### 6.2.1 选择某一行或某几行\n",
    "#在Python中，获取行的方式主要有两种，一种是普通索引，即传入具体行的名称；另一种是位置索引，即传入行的序号，用iloc方法。\n",
    "#传入多个参数时需要使用列表b"
   ]
  },
  {
   "cell_type": "code",
   "execution_count": 4,
   "metadata": {},
   "outputs": [
    {
     "data": {
      "text/html": [
       "<div>\n",
       "<style scoped>\n",
       "    .dataframe tbody tr th:only-of-type {\n",
       "        vertical-align: middle;\n",
       "    }\n",
       "\n",
       "    .dataframe tbody tr th {\n",
       "        vertical-align: top;\n",
       "    }\n",
       "\n",
       "    .dataframe thead th {\n",
       "        text-align: right;\n",
       "    }\n",
       "</style>\n",
       "<table border=\"1\" class=\"dataframe\">\n",
       "  <thead>\n",
       "    <tr style=\"text-align: right;\">\n",
       "      <th></th>\n",
       "      <th>资材编号</th>\n",
       "      <th>品名</th>\n",
       "      <th>规格</th>\n",
       "      <th>单位</th>\n",
       "      <th>数量</th>\n",
       "    </tr>\n",
       "  </thead>\n",
       "  <tbody>\n",
       "    <tr>\n",
       "      <td>0</td>\n",
       "      <td>JJ36A12083</td>\n",
       "      <td>标签</td>\n",
       "      <td>NK1799</td>\n",
       "      <td>PCS</td>\n",
       "      <td>1.0</td>\n",
       "    </tr>\n",
       "    <tr>\n",
       "      <td>1</td>\n",
       "      <td>JJ36E00646</td>\n",
       "      <td>标签</td>\n",
       "      <td>NC4629B</td>\n",
       "      <td>PCS</td>\n",
       "      <td>NaN</td>\n",
       "    </tr>\n",
       "    <tr>\n",
       "      <td>2</td>\n",
       "      <td>JJ36E00657</td>\n",
       "      <td>标签</td>\n",
       "      <td>NC4873</td>\n",
       "      <td>NaN</td>\n",
       "      <td>1.0</td>\n",
       "    </tr>\n",
       "    <tr>\n",
       "      <td>3</td>\n",
       "      <td>JJ36E21722</td>\n",
       "      <td>表示板</td>\n",
       "      <td>NK5891</td>\n",
       "      <td>PCS</td>\n",
       "      <td>2.0</td>\n",
       "    </tr>\n",
       "    <tr>\n",
       "      <td>4</td>\n",
       "      <td>JJ36E60019</td>\n",
       "      <td>标签</td>\n",
       "      <td>NK5319</td>\n",
       "      <td>PCS</td>\n",
       "      <td>1.0</td>\n",
       "    </tr>\n",
       "  </tbody>\n",
       "</table>\n",
       "</div>"
      ],
      "text/plain": [
       "         资材编号   品名       规格   单位   数量\n",
       "0  JJ36A12083   标签   NK1799  PCS  1.0\n",
       "1  JJ36E00646   标签  NC4629B  PCS  NaN\n",
       "2  JJ36E00657   标签   NC4873  NaN  1.0\n",
       "3  JJ36E21722  表示板   NK5891  PCS  2.0\n",
       "4  JJ36E60019   标签   NK5319  PCS  1.0"
      ]
     },
     "execution_count": 4,
     "metadata": {},
     "output_type": "execute_result"
    }
   ],
   "source": [
    "df12"
   ]
  },
  {
   "cell_type": "code",
   "execution_count": 13,
   "metadata": {},
   "outputs": [
    {
     "data": {
      "text/html": [
       "<div>\n",
       "<style scoped>\n",
       "    .dataframe tbody tr th:only-of-type {\n",
       "        vertical-align: middle;\n",
       "    }\n",
       "\n",
       "    .dataframe tbody tr th {\n",
       "        vertical-align: top;\n",
       "    }\n",
       "\n",
       "    .dataframe thead th {\n",
       "        text-align: right;\n",
       "    }\n",
       "</style>\n",
       "<table border=\"1\" class=\"dataframe\">\n",
       "  <thead>\n",
       "    <tr style=\"text-align: right;\">\n",
       "      <th></th>\n",
       "      <th>资材编号</th>\n",
       "      <th>品名</th>\n",
       "      <th>规格</th>\n",
       "      <th>单位</th>\n",
       "      <th>数量</th>\n",
       "    </tr>\n",
       "  </thead>\n",
       "  <tbody>\n",
       "    <tr>\n",
       "      <td>一</td>\n",
       "      <td>JJ36A12083</td>\n",
       "      <td>标签</td>\n",
       "      <td>NK1799</td>\n",
       "      <td>PCS</td>\n",
       "      <td>1.0</td>\n",
       "    </tr>\n",
       "    <tr>\n",
       "      <td>二</td>\n",
       "      <td>JJ36E00646</td>\n",
       "      <td>标签</td>\n",
       "      <td>NC4629B</td>\n",
       "      <td>PCS</td>\n",
       "      <td>NaN</td>\n",
       "    </tr>\n",
       "    <tr>\n",
       "      <td>三</td>\n",
       "      <td>JJ36E00657</td>\n",
       "      <td>标签</td>\n",
       "      <td>NC4873</td>\n",
       "      <td>NaN</td>\n",
       "      <td>1.0</td>\n",
       "    </tr>\n",
       "    <tr>\n",
       "      <td>四</td>\n",
       "      <td>JJ36E21722</td>\n",
       "      <td>表示板</td>\n",
       "      <td>NK5891</td>\n",
       "      <td>PCS</td>\n",
       "      <td>2.0</td>\n",
       "    </tr>\n",
       "    <tr>\n",
       "      <td>五</td>\n",
       "      <td>JJ36E60019</td>\n",
       "      <td>标签</td>\n",
       "      <td>NK5319</td>\n",
       "      <td>PCS</td>\n",
       "      <td>1.0</td>\n",
       "    </tr>\n",
       "  </tbody>\n",
       "</table>\n",
       "</div>"
      ],
      "text/plain": [
       "         资材编号   品名       规格   单位   数量\n",
       "一  JJ36A12083   标签   NK1799  PCS  1.0\n",
       "二  JJ36E00646   标签  NC4629B  PCS  NaN\n",
       "三  JJ36E00657   标签   NC4873  NaN  1.0\n",
       "四  JJ36E21722  表示板   NK5891  PCS  2.0\n",
       "五  JJ36E60019   标签   NK5319  PCS  1.0"
      ]
     },
     "execution_count": 13,
     "metadata": {},
     "output_type": "execute_result"
    }
   ],
   "source": [
    "df = df12.rename(index={0:\"一\",1:\"二\",2:\"三\",3:\"四\",4:\"五\"})\n",
    "df"
   ]
  },
  {
   "cell_type": "code",
   "execution_count": 15,
   "metadata": {},
   "outputs": [
    {
     "data": {
      "text/html": [
       "<div>\n",
       "<style scoped>\n",
       "    .dataframe tbody tr th:only-of-type {\n",
       "        vertical-align: middle;\n",
       "    }\n",
       "\n",
       "    .dataframe tbody tr th {\n",
       "        vertical-align: top;\n",
       "    }\n",
       "\n",
       "    .dataframe thead th {\n",
       "        text-align: right;\n",
       "    }\n",
       "</style>\n",
       "<table border=\"1\" class=\"dataframe\">\n",
       "  <thead>\n",
       "    <tr style=\"text-align: right;\">\n",
       "      <th></th>\n",
       "      <th>资材编号</th>\n",
       "      <th>品名</th>\n",
       "      <th>规格</th>\n",
       "      <th>单位</th>\n",
       "      <th>数量</th>\n",
       "    </tr>\n",
       "  </thead>\n",
       "  <tbody>\n",
       "    <tr>\n",
       "      <td>一</td>\n",
       "      <td>JJ36A12083</td>\n",
       "      <td>标签</td>\n",
       "      <td>NK1799</td>\n",
       "      <td>PCS</td>\n",
       "      <td>1.0</td>\n",
       "    </tr>\n",
       "    <tr>\n",
       "      <td>二</td>\n",
       "      <td>JJ36E00646</td>\n",
       "      <td>标签</td>\n",
       "      <td>NC4629B</td>\n",
       "      <td>PCS</td>\n",
       "      <td>NaN</td>\n",
       "    </tr>\n",
       "  </tbody>\n",
       "</table>\n",
       "</div>"
      ],
      "text/plain": [
       "         资材编号  品名       规格   单位   数量\n",
       "一  JJ36A12083  标签   NK1799  PCS  1.0\n",
       "二  JJ36E00646  标签  NC4629B  PCS  NaN"
      ]
     },
     "execution_count": 15,
     "metadata": {},
     "output_type": "execute_result"
    }
   ],
   "source": [
    "df.loc[[\"一\",\"二\"]]"
   ]
  },
  {
   "cell_type": "code",
   "execution_count": 16,
   "metadata": {},
   "outputs": [
    {
     "data": {
      "text/plain": [
       "资材编号    JJ36A12083\n",
       "品名              标签\n",
       "规格          NK1799\n",
       "单位             PCS\n",
       "数量               1\n",
       "Name: 一, dtype: object"
      ]
     },
     "execution_count": 16,
     "metadata": {},
     "output_type": "execute_result"
    }
   ],
   "source": [
    "df.iloc[0]"
   ]
  },
  {
   "cell_type": "code",
   "execution_count": 17,
   "metadata": {},
   "outputs": [
    {
     "data": {
      "text/html": [
       "<div>\n",
       "<style scoped>\n",
       "    .dataframe tbody tr th:only-of-type {\n",
       "        vertical-align: middle;\n",
       "    }\n",
       "\n",
       "    .dataframe tbody tr th {\n",
       "        vertical-align: top;\n",
       "    }\n",
       "\n",
       "    .dataframe thead th {\n",
       "        text-align: right;\n",
       "    }\n",
       "</style>\n",
       "<table border=\"1\" class=\"dataframe\">\n",
       "  <thead>\n",
       "    <tr style=\"text-align: right;\">\n",
       "      <th></th>\n",
       "      <th>资材编号</th>\n",
       "      <th>品名</th>\n",
       "      <th>规格</th>\n",
       "      <th>单位</th>\n",
       "      <th>数量</th>\n",
       "    </tr>\n",
       "  </thead>\n",
       "  <tbody>\n",
       "    <tr>\n",
       "      <td>一</td>\n",
       "      <td>JJ36A12083</td>\n",
       "      <td>标签</td>\n",
       "      <td>NK1799</td>\n",
       "      <td>PCS</td>\n",
       "      <td>1.0</td>\n",
       "    </tr>\n",
       "    <tr>\n",
       "      <td>二</td>\n",
       "      <td>JJ36E00646</td>\n",
       "      <td>标签</td>\n",
       "      <td>NC4629B</td>\n",
       "      <td>PCS</td>\n",
       "      <td>NaN</td>\n",
       "    </tr>\n",
       "    <tr>\n",
       "      <td>三</td>\n",
       "      <td>JJ36E00657</td>\n",
       "      <td>标签</td>\n",
       "      <td>NC4873</td>\n",
       "      <td>NaN</td>\n",
       "      <td>1.0</td>\n",
       "    </tr>\n",
       "  </tbody>\n",
       "</table>\n",
       "</div>"
      ],
      "text/plain": [
       "         资材编号  品名       规格   单位   数量\n",
       "一  JJ36A12083  标签   NK1799  PCS  1.0\n",
       "二  JJ36E00646  标签  NC4629B  PCS  NaN\n",
       "三  JJ36E00657  标签   NC4873  NaN  1.0"
      ]
     },
     "execution_count": 17,
     "metadata": {},
     "output_type": "execute_result"
    }
   ],
   "source": [
    "df.iloc[[0,1,2]]"
   ]
  },
  {
   "cell_type": "code",
   "execution_count": 18,
   "metadata": {},
   "outputs": [
    {
     "data": {
      "text/html": [
       "<div>\n",
       "<style scoped>\n",
       "    .dataframe tbody tr th:only-of-type {\n",
       "        vertical-align: middle;\n",
       "    }\n",
       "\n",
       "    .dataframe tbody tr th {\n",
       "        vertical-align: top;\n",
       "    }\n",
       "\n",
       "    .dataframe thead th {\n",
       "        text-align: right;\n",
       "    }\n",
       "</style>\n",
       "<table border=\"1\" class=\"dataframe\">\n",
       "  <thead>\n",
       "    <tr style=\"text-align: right;\">\n",
       "      <th></th>\n",
       "      <th>资材编号</th>\n",
       "      <th>品名</th>\n",
       "      <th>规格</th>\n",
       "      <th>单位</th>\n",
       "      <th>数量</th>\n",
       "    </tr>\n",
       "  </thead>\n",
       "  <tbody>\n",
       "    <tr>\n",
       "      <td>一</td>\n",
       "      <td>JJ36A12083</td>\n",
       "      <td>标签</td>\n",
       "      <td>NK1799</td>\n",
       "      <td>PCS</td>\n",
       "      <td>1.0</td>\n",
       "    </tr>\n",
       "    <tr>\n",
       "      <td>二</td>\n",
       "      <td>JJ36E00646</td>\n",
       "      <td>标签</td>\n",
       "      <td>NC4629B</td>\n",
       "      <td>PCS</td>\n",
       "      <td>NaN</td>\n",
       "    </tr>\n",
       "    <tr>\n",
       "      <td>三</td>\n",
       "      <td>JJ36E00657</td>\n",
       "      <td>标签</td>\n",
       "      <td>NC4873</td>\n",
       "      <td>NaN</td>\n",
       "      <td>1.0</td>\n",
       "    </tr>\n",
       "  </tbody>\n",
       "</table>\n",
       "</div>"
      ],
      "text/plain": [
       "         资材编号  品名       规格   单位   数量\n",
       "一  JJ36A12083  标签   NK1799  PCS  1.0\n",
       "二  JJ36E00646  标签  NC4629B  PCS  NaN\n",
       "三  JJ36E00657  标签   NC4873  NaN  1.0"
      ]
     },
     "execution_count": 18,
     "metadata": {},
     "output_type": "execute_result"
    }
   ],
   "source": [
    "df.iloc[0:3]"
   ]
  },
  {
   "cell_type": "code",
   "execution_count": 19,
   "metadata": {},
   "outputs": [
    {
     "data": {
      "text/html": [
       "<div>\n",
       "<style scoped>\n",
       "    .dataframe tbody tr th:only-of-type {\n",
       "        vertical-align: middle;\n",
       "    }\n",
       "\n",
       "    .dataframe tbody tr th {\n",
       "        vertical-align: top;\n",
       "    }\n",
       "\n",
       "    .dataframe thead th {\n",
       "        text-align: right;\n",
       "    }\n",
       "</style>\n",
       "<table border=\"1\" class=\"dataframe\">\n",
       "  <thead>\n",
       "    <tr style=\"text-align: right;\">\n",
       "      <th></th>\n",
       "      <th>资材编号</th>\n",
       "      <th>品名</th>\n",
       "      <th>规格</th>\n",
       "      <th>单位</th>\n",
       "      <th>数量</th>\n",
       "    </tr>\n",
       "  </thead>\n",
       "  <tbody>\n",
       "    <tr>\n",
       "      <td>一</td>\n",
       "      <td>JJ36A12083</td>\n",
       "      <td>标签</td>\n",
       "      <td>NK1799</td>\n",
       "      <td>PCS</td>\n",
       "      <td>1.0</td>\n",
       "    </tr>\n",
       "    <tr>\n",
       "      <td>二</td>\n",
       "      <td>JJ36E00646</td>\n",
       "      <td>标签</td>\n",
       "      <td>NC4629B</td>\n",
       "      <td>PCS</td>\n",
       "      <td>NaN</td>\n",
       "    </tr>\n",
       "    <tr>\n",
       "      <td>三</td>\n",
       "      <td>JJ36E00657</td>\n",
       "      <td>标签</td>\n",
       "      <td>NC4873</td>\n",
       "      <td>NaN</td>\n",
       "      <td>1.0</td>\n",
       "    </tr>\n",
       "    <tr>\n",
       "      <td>四</td>\n",
       "      <td>JJ36E21722</td>\n",
       "      <td>表示板</td>\n",
       "      <td>NK5891</td>\n",
       "      <td>PCS</td>\n",
       "      <td>2.0</td>\n",
       "    </tr>\n",
       "    <tr>\n",
       "      <td>五</td>\n",
       "      <td>JJ36E60019</td>\n",
       "      <td>标签</td>\n",
       "      <td>NK5319</td>\n",
       "      <td>PCS</td>\n",
       "      <td>1.0</td>\n",
       "    </tr>\n",
       "  </tbody>\n",
       "</table>\n",
       "</div>"
      ],
      "text/plain": [
       "         资材编号   品名       规格   单位   数量\n",
       "一  JJ36A12083   标签   NK1799  PCS  1.0\n",
       "二  JJ36E00646   标签  NC4629B  PCS  NaN\n",
       "三  JJ36E00657   标签   NC4873  NaN  1.0\n",
       "四  JJ36E21722  表示板   NK5891  PCS  2.0\n",
       "五  JJ36E60019   标签   NK5319  PCS  1.0"
      ]
     },
     "execution_count": 19,
     "metadata": {},
     "output_type": "execute_result"
    }
   ],
   "source": [
    "#### 6.2.3 选择满足条件的行\n",
    "#直接在表名后面指明哪列要满足什么条件，就可以把满足条件的列筛选出来\n",
    "df"
   ]
  },
  {
   "cell_type": "code",
   "execution_count": 26,
   "metadata": {},
   "outputs": [
    {
     "data": {
      "text/html": [
       "<div>\n",
       "<style scoped>\n",
       "    .dataframe tbody tr th:only-of-type {\n",
       "        vertical-align: middle;\n",
       "    }\n",
       "\n",
       "    .dataframe tbody tr th {\n",
       "        vertical-align: top;\n",
       "    }\n",
       "\n",
       "    .dataframe thead th {\n",
       "        text-align: right;\n",
       "    }\n",
       "</style>\n",
       "<table border=\"1\" class=\"dataframe\">\n",
       "  <thead>\n",
       "    <tr style=\"text-align: right;\">\n",
       "      <th></th>\n",
       "      <th>资材编号</th>\n",
       "      <th>品名</th>\n",
       "      <th>规格</th>\n",
       "      <th>单位</th>\n",
       "      <th>数量</th>\n",
       "    </tr>\n",
       "  </thead>\n",
       "  <tbody>\n",
       "    <tr>\n",
       "      <td>0</td>\n",
       "      <td>JJ36A12083</td>\n",
       "      <td>标签</td>\n",
       "      <td>NK1799</td>\n",
       "      <td>PCS</td>\n",
       "      <td>1.0</td>\n",
       "    </tr>\n",
       "    <tr>\n",
       "      <td>1</td>\n",
       "      <td>JJ36E00646</td>\n",
       "      <td>标签</td>\n",
       "      <td>NC4629B</td>\n",
       "      <td>PCS</td>\n",
       "      <td>NaN</td>\n",
       "    </tr>\n",
       "    <tr>\n",
       "      <td>4</td>\n",
       "      <td>JJ36E60019</td>\n",
       "      <td>标签</td>\n",
       "      <td>NK5319</td>\n",
       "      <td>PCS</td>\n",
       "      <td>1.0</td>\n",
       "    </tr>\n",
       "  </tbody>\n",
       "</table>\n",
       "</div>"
      ],
      "text/plain": [
       "         资材编号  品名       规格   单位   数量\n",
       "0  JJ36A12083  标签   NK1799  PCS  1.0\n",
       "1  JJ36E00646  标签  NC4629B  PCS  NaN\n",
       "4  JJ36E60019  标签   NK5319  PCS  1.0"
      ]
     },
     "execution_count": 26,
     "metadata": {},
     "output_type": "execute_result"
    }
   ],
   "source": [
    "df12[(df12[\"单位\"]==\"PCS\") & (df12['品名']=='标签')]"
   ]
  },
  {
   "cell_type": "code",
   "execution_count": 28,
   "metadata": {},
   "outputs": [
    {
     "data": {
      "text/html": [
       "<div>\n",
       "<style scoped>\n",
       "    .dataframe tbody tr th:only-of-type {\n",
       "        vertical-align: middle;\n",
       "    }\n",
       "\n",
       "    .dataframe tbody tr th {\n",
       "        vertical-align: top;\n",
       "    }\n",
       "\n",
       "    .dataframe thead th {\n",
       "        text-align: right;\n",
       "    }\n",
       "</style>\n",
       "<table border=\"1\" class=\"dataframe\">\n",
       "  <thead>\n",
       "    <tr style=\"text-align: right;\">\n",
       "      <th></th>\n",
       "      <th>资材编号</th>\n",
       "      <th>品名</th>\n",
       "    </tr>\n",
       "  </thead>\n",
       "  <tbody>\n",
       "    <tr>\n",
       "      <td>0</td>\n",
       "      <td>JJ36A12083</td>\n",
       "      <td>标签</td>\n",
       "    </tr>\n",
       "    <tr>\n",
       "      <td>1</td>\n",
       "      <td>JJ36E00646</td>\n",
       "      <td>标签</td>\n",
       "    </tr>\n",
       "  </tbody>\n",
       "</table>\n",
       "</div>"
      ],
      "text/plain": [
       "         资材编号  品名\n",
       "0  JJ36A12083  标签\n",
       "1  JJ36E00646  标签"
      ]
     },
     "execution_count": 28,
     "metadata": {},
     "output_type": "execute_result"
    }
   ],
   "source": [
    "### 6.3 行列同时选择\n",
    "#### 6.3.1 普通索引+普通索引选择指定的行和列 【loc()方法】\n",
    "#loc方法中第1对方括号表示行索引，传入索引名称；第2对方括号表示列索引，传入列索引名称\n",
    "df12.loc[[0,1],['资材编号','品名']]"
   ]
  },
  {
   "cell_type": "code",
   "execution_count": 31,
   "metadata": {},
   "outputs": [
    {
     "data": {
      "text/html": [
       "<div>\n",
       "<style scoped>\n",
       "    .dataframe tbody tr th:only-of-type {\n",
       "        vertical-align: middle;\n",
       "    }\n",
       "\n",
       "    .dataframe tbody tr th {\n",
       "        vertical-align: top;\n",
       "    }\n",
       "\n",
       "    .dataframe thead th {\n",
       "        text-align: right;\n",
       "    }\n",
       "</style>\n",
       "<table border=\"1\" class=\"dataframe\">\n",
       "  <thead>\n",
       "    <tr style=\"text-align: right;\">\n",
       "      <th></th>\n",
       "      <th>规格</th>\n",
       "      <th>单位</th>\n",
       "    </tr>\n",
       "  </thead>\n",
       "  <tbody>\n",
       "    <tr>\n",
       "      <td>1</td>\n",
       "      <td>NC4629B</td>\n",
       "      <td>PCS</td>\n",
       "    </tr>\n",
       "    <tr>\n",
       "      <td>2</td>\n",
       "      <td>NC4873</td>\n",
       "      <td>NaN</td>\n",
       "    </tr>\n",
       "  </tbody>\n",
       "</table>\n",
       "</div>"
      ],
      "text/plain": [
       "        规格   单位\n",
       "1  NC4629B  PCS\n",
       "2   NC4873  NaN"
      ]
     },
     "execution_count": 31,
     "metadata": {},
     "output_type": "execute_result"
    }
   ],
   "source": [
    "#### 6.3.2 位置索引+位置索引选择指定的行和列【iloc()方法】\n",
    "#iloc方法的第1对方括号表示行索引的选择，传入要选择行索引的位置，第2对方括号表示列索引的选择\n",
    "df12.iloc[[1,2],[2,3]]"
   ]
  },
  {
   "cell_type": "code",
   "execution_count": 34,
   "metadata": {},
   "outputs": [
    {
     "data": {
      "text/html": [
       "<div>\n",
       "<style scoped>\n",
       "    .dataframe tbody tr th:only-of-type {\n",
       "        vertical-align: middle;\n",
       "    }\n",
       "\n",
       "    .dataframe tbody tr th {\n",
       "        vertical-align: top;\n",
       "    }\n",
       "\n",
       "    .dataframe thead th {\n",
       "        text-align: right;\n",
       "    }\n",
       "</style>\n",
       "<table border=\"1\" class=\"dataframe\">\n",
       "  <thead>\n",
       "    <tr style=\"text-align: right;\">\n",
       "      <th></th>\n",
       "      <th>品名</th>\n",
       "      <th>规格</th>\n",
       "      <th>单位</th>\n",
       "    </tr>\n",
       "  </thead>\n",
       "  <tbody>\n",
       "    <tr>\n",
       "      <td>0</td>\n",
       "      <td>标签</td>\n",
       "      <td>NK1799</td>\n",
       "      <td>PCS</td>\n",
       "    </tr>\n",
       "    <tr>\n",
       "      <td>1</td>\n",
       "      <td>标签</td>\n",
       "      <td>NC4629B</td>\n",
       "      <td>PCS</td>\n",
       "    </tr>\n",
       "    <tr>\n",
       "      <td>3</td>\n",
       "      <td>表示板</td>\n",
       "      <td>NK5891</td>\n",
       "      <td>PCS</td>\n",
       "    </tr>\n",
       "    <tr>\n",
       "      <td>4</td>\n",
       "      <td>标签</td>\n",
       "      <td>NK5319</td>\n",
       "      <td>PCS</td>\n",
       "    </tr>\n",
       "  </tbody>\n",
       "</table>\n",
       "</div>"
      ],
      "text/plain": [
       "    品名       规格   单位\n",
       "0   标签   NK1799  PCS\n",
       "1   标签  NC4629B  PCS\n",
       "3  表示板   NK5891  PCS\n",
       "4   标签   NK5319  PCS"
      ]
     },
     "execution_count": 34,
     "metadata": {},
     "output_type": "execute_result"
    }
   ],
   "source": [
    "#### 6.3.3 布尔索引+普通索引选择指定的行和列\n",
    "#布尔索引是对表格的行进行条件选择，符合条件的的行被选择出来，然后再通过普通索引选择列\n",
    "df12[df12['单位']=='PCS'][['品名','规格','单位']]"
   ]
  },
  {
   "cell_type": "code",
   "execution_count": 35,
   "metadata": {},
   "outputs": [
    {
     "data": {
      "text/html": [
       "<div>\n",
       "<style scoped>\n",
       "    .dataframe tbody tr th:only-of-type {\n",
       "        vertical-align: middle;\n",
       "    }\n",
       "\n",
       "    .dataframe tbody tr th {\n",
       "        vertical-align: top;\n",
       "    }\n",
       "\n",
       "    .dataframe thead th {\n",
       "        text-align: right;\n",
       "    }\n",
       "</style>\n",
       "<table border=\"1\" class=\"dataframe\">\n",
       "  <thead>\n",
       "    <tr style=\"text-align: right;\">\n",
       "      <th></th>\n",
       "      <th>资材编号</th>\n",
       "      <th>品名</th>\n",
       "    </tr>\n",
       "  </thead>\n",
       "  <tbody>\n",
       "    <tr>\n",
       "      <td>0</td>\n",
       "      <td>JJ36A12083</td>\n",
       "      <td>标签</td>\n",
       "    </tr>\n",
       "    <tr>\n",
       "      <td>1</td>\n",
       "      <td>JJ36E00646</td>\n",
       "      <td>标签</td>\n",
       "    </tr>\n",
       "  </tbody>\n",
       "</table>\n",
       "</div>"
      ],
      "text/plain": [
       "         资材编号  品名\n",
       "0  JJ36A12083  标签\n",
       "1  JJ36E00646  标签"
      ]
     },
     "execution_count": 35,
     "metadata": {},
     "output_type": "execute_result"
    }
   ],
   "source": [
    "#### 6.3.4 切片索引+切片索引选择指定行和列\n",
    "#切片的选择规则是左闭右开\n",
    "df12.iloc[0:2,0:2]"
   ]
  },
  {
   "cell_type": "code",
   "execution_count": 40,
   "metadata": {},
   "outputs": [
    {
     "data": {
      "text/html": [
       "<div>\n",
       "<style scoped>\n",
       "    .dataframe tbody tr th:only-of-type {\n",
       "        vertical-align: middle;\n",
       "    }\n",
       "\n",
       "    .dataframe tbody tr th {\n",
       "        vertical-align: top;\n",
       "    }\n",
       "\n",
       "    .dataframe thead th {\n",
       "        text-align: right;\n",
       "    }\n",
       "</style>\n",
       "<table border=\"1\" class=\"dataframe\">\n",
       "  <thead>\n",
       "    <tr style=\"text-align: right;\">\n",
       "      <th></th>\n",
       "      <th>资材编号</th>\n",
       "      <th>规格</th>\n",
       "      <th>单位</th>\n",
       "      <th>数量</th>\n",
       "    </tr>\n",
       "  </thead>\n",
       "  <tbody>\n",
       "    <tr>\n",
       "      <td>0</td>\n",
       "      <td>JJ36A12083</td>\n",
       "      <td>NK1799</td>\n",
       "      <td>PCS</td>\n",
       "      <td>1.0</td>\n",
       "    </tr>\n",
       "    <tr>\n",
       "      <td>1</td>\n",
       "      <td>JJ36E00646</td>\n",
       "      <td>NC4629B</td>\n",
       "      <td>PCS</td>\n",
       "      <td>NaN</td>\n",
       "    </tr>\n",
       "    <tr>\n",
       "      <td>2</td>\n",
       "      <td>JJ36E00657</td>\n",
       "      <td>NC4873</td>\n",
       "      <td>NaN</td>\n",
       "      <td>1.0</td>\n",
       "    </tr>\n",
       "  </tbody>\n",
       "</table>\n",
       "</div>"
      ],
      "text/plain": [
       "         资材编号       规格   单位   数量\n",
       "0  JJ36A12083   NK1799  PCS  1.0\n",
       "1  JJ36E00646  NC4629B  PCS  NaN\n",
       "2  JJ36E00657   NC4873  NaN  1.0"
      ]
     },
     "execution_count": 40,
     "metadata": {},
     "output_type": "execute_result"
    }
   ],
   "source": [
    "#### 6.3.5 切片索引+普通索引选择指定的行和列\n",
    "# ○ 如果是普通索引，就直接传入行或列名，用loc方法\n",
    "# ○ 如果是切片索引，就是传入行或列的位置区间，要用iloc方法。\n",
    "# ○ 如果是切片索引+普通索引，也就是行(列)用切片索引，列(行)用普通索引，这种交叉索引要用ix方法。ix已经废弃，要用loc方法代替。\n",
    "df12\n",
    "df12.loc[0:2,['资材编号','规格','单位','数量']]"
   ]
  }
 ],
 "metadata": {
  "kernelspec": {
   "display_name": "Python 3",
   "language": "python",
   "name": "python3"
  },
  "language_info": {
   "codemirror_mode": {
    "name": "ipython",
    "version": 3
   },
   "file_extension": ".py",
   "mimetype": "text/x-python",
   "name": "python",
   "nbconvert_exporter": "python",
   "pygments_lexer": "ipython3",
   "version": "3.7.4"
  }
 },
 "nbformat": 4,
 "nbformat_minor": 2
}
