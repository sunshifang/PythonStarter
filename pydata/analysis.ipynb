{
 "cells": [
  {
   "cell_type": "markdown",
   "metadata": {},
   "source": [
    "# Python数据分析\n",
    "## 第1章 数据分析基础\n",
    "### 1.1 数据分析是什么\n",
    "利用合适的工具在统计学理论的支撑下，对数据进行一定程度的预处理，然后结合具体业务分析数据，帮助相关业务部门监控、定位、分析、解决问题，从而帮助企业高效率决策，提高经营效率，发现业务机会点，让企业获得持续竞争优势。\n",
    "### 1.2 为什么要做数据分析\n",
    "数据分析可以把隐藏在大量数据背后的信息提炼出来，总结出数据的内置规律。\n",
    "#### 1.2.1 现状分析\n",
    "回答业务在过去发生了什么，具体体现在两个方面：\n",
    "第一，告诉你现阶段整体运营情况，通过各个关键指标的表现情况来衡量企业的运营状况，掌握企业目前的发展趋势。\n",
    "第二，告诉你企业各项业务的构成，对企业运营现状有更深入的了解。\n",
    "现状分析一般通过日程报表来实现，如日报、周报、月报等形式。\n",
    "#### 1.2.2 原因分析\n",
    "回答某一现状为什么会存在\n",
    "原因分析一般通过专题分析来完成，根据企业运营情况选择针对某一现状进行原因分析。\n",
    "#### 1.2.3 预测分析\n",
    "回答未来可能发生什么\n",
    "预测分析一般通过专题分析来完成，通常在制订企业季度、年度计划时进行。\n",
    "### 1.3 数据分析究竟在分析什么\n",
    "数据分析的重点在分析，而不在工具\n",
    "#### 1.3.1 总体概览指标\n",
    "又称统计绝对数，反映某一数据指标的整体规模大小，总量多少的指标。\n",
    "我们把经常关注的总体概览指标称为关键性指标，这些指标的数值将会直接决定公司的盈利情况。\n",
    "#### 1.3.2 对比性指标\n",
    "对比性指标是说明现象之间数量对比关系的指标，常见的就是同比、环比、差值这几个指标。\n",
    "同比是指相邻时间段内某一共同时间点上指标的对比。\n",
    "环比相邻时间段内指标的对比\n",
    "差(值)是两时间段内的指标直接做差，差的绝对值就是两个时间段内指标的变化量。\n",
    "#### 1.3.3 集中趋势指标\n",
    "集中趋势指标用来反映某一现象在一定时间段内所达到的一般水平，通常用平均指标来表示。平均指标分为数值平均和位置平均。\n",
    "数值平均是统计数列中所有数值平均的结果，有普通平均数和加权平均数两种。\n",
    "    普通平均的所有数值的权重都是1，而加权平均中不同数值的权重是不一样的，在算平均值时不同数值要乘以不同的权重。\n",
    "位置平均是基于某个特殊位置上的数或者普遍出现的数，即用出现次数最多的数值来作为这一系列数值的整体一般水平。基于位置的指标最常用的就是中位数，基于出现次数最多的指标就是众数。\n",
    "    众数是一系列数值中出现次数最多的数值，是总体中最普遍的值，因此可以用来代表一般水平。如果数据可以分成多组，则为每组找出一个众数。注意：众数只有在总体内单位足够多时才又意义。\n",
    "    中位数是将一系列值中的每一个值按照从小到大顺序排列，处于中间位置的数值就是中位数。因为处于中间位置，有一半变量值大于该值，一半小于该值，所以可以用这样的中等水平来表示正体的一般水平。\n",
    "#### 1.3.4 离散程度指标\n",
    "离散程度指标用来表示总体分布的离散(波动)情况的指标，如果这个指标较大，则说明数据波动比较大，反之则说明数据相对比较稳定。\n",
    "全距(又称极差)、方差、标准差等几个指标用于衡量数值的离散情况\n",
    "    极差：由于平均数让我们确定一批数据的中心，但是无法知道数据的变动情况，因此引入极差。极差的计算方法：数据中最大数(上界)减去最小数(下界)。\n",
    "    极差存在的问题主要有两方面\n",
    "    · 问题1：容易受异常值影响\n",
    "            引入4分位概念，将数据从小到大排列后一分为四，最小的四分位数为下四分位数，最大的四分位数为上四分位数，中间的四分位数为中位数。\n",
    "    · 问题2：极差只表示了数据的宽度，没有描述清楚上下界之间的分布形态。\n",
    "            引入方差和标准差两个概念来衡量数据的分散性。\n",
    "方差是每个数值与均值距离的平方的平均值，方差越小说明个数值与均值之间的差距越小，数值越稳定。\n",
    "标准差是方差的开发，表示数值与均值距离的平均值。\n",
    "#### 1.3.5 相关性指标\n",
    "相关系数是反应数据整体内的变量之间存在的关系，一个变化时另一个会怎样变化。\n",
    "r(x,y) = Cov(x,y) / sqrt((Var[x]Var[y]))\n",
    "其中，\n",
    "    r(x,y)：相关系数\n",
    "    Cov(x,y)：x与y的协方差\n",
    "    Var[x]：x的方差\n",
    "    Var[y]：y的方差\n",
    "相关系数要注意以几点\n",
    "· 相关系数r的范围为[-1,1]\n",
    "· r的绝对值越大，表示相关性越强。\n",
    "· r的正负代表相关性方向，正代表正相关，负代表负相关。\n",
    "#### 1.3.6 相关关系与因果关系\n",
    "相关关系不等于因果关系，相关关系只能说明两件事情有关联，而因果关系是说明一件事情导致了另一件事情的发生。\n",
    "### 1.4 数据分析的常规流程\n",
    "熟悉工具 → 明确目的 → 获取数据 → 熟悉数据 → 处理数据 → 分析数据 → 得出结论 → 验证结论 → 展示结论\n",
    "#### 1.4.1 熟悉工具\n",
    "数据分析是利用合适的工具和合适的理论挖掘隐藏在数据背后的信息，因此数据分析的第一步就是熟悉工具，知道工具提供了哪些功能，如何调用这些功能。\n",
    "#### 1.4.2 明确目的\n",
    "例如，希望通过数据分析发现流失用户都有哪些特征，希望通过数据分析找到销量上涨的原因。\n",
    "#### 1.4.3 获取数据\n",
    "获取数据是要明确以下几点：\n",
    "· 需要什么指标\n",
    "· 需要什么时间段的数据\n",
    "· 这些数据都存在哪个数据库的哪个表中\n",
    "· 怎么提取，是自己写sql还是可以直接从ERP系统中下载。\n",
    "#### 1.4.4 熟悉数\n",
    "看一下有多少数据及数据类型，每个指标大概有哪些值，是否能满足要求，如果不够就要再取数据、再次熟悉数据。\n",
    "#### 1.4.5 处理数据\n",
    "获取到的数据是原始数据，这些数据中一般会有一些特殊数据，需要对这些数据进行提前处理。常见的特殊数据有以下几种：\n",
    "· 异常数据：需要结合具体业务进行处理。电商平台上找出刷单商户，那么异常值就是重点研究对象。分析用户年龄的话，大于100和小于0的数据要删除。\n",
    "· 重复数据：删除处理\n",
    "· 缺失数据：缺失比例高于30%，一般会放弃这个指标，也就是删除处理，低于30%的指标进行填充处理，用0、均值或者众数进行填充。\n",
    "· 测试数据：删除处理\n",
    "#### 1.4.6 分析数据\n",
    "分析数据主要围绕总体概览指标、对比性指标、集中趋势指标、离散程度指标和相关性指标展开。经常采用的方法就是下钻法：例如当我们发现某一天的销量突然下滑/上涨时，我们会去看是哪个地区的销量下滑/上涨，进而再去看哪个品类、哪个产品的销量出现xiah/上涨，层层下钻，最后找到问题产生的真正原因。\n",
    "#### 1.4.7 得出结论\n",
    "通过分析数据，可以得出结论\n",
    "#### 1.4.8 验证结论\n",
    "例如，做新媒体数据分析，通过分析发现情感类文章的点赞量、转发量更高，这只是你分析的结论，但是这个结论正确吗？你可以再写几篇情感类文章验证一下。\n",
    "#### 1.4.9 展示结论\n",
    "分析出结论，并且结论得到验证以后就可以把这个结论分享给有关人员，这时候就需要考虑如何展示结论，以什么形式展现，这就要用到数据可视化了。\n",
    "### 1.5 数据分析工具：Excel与Python\n",
    "## 第2章 Python基础知识\n",
    "### 2.1 Python是什么\n",
    "### 2.2 Python的下载与安装\n",
    "#### 2.2.1 安装教程\n",
    "Python分为官方版本和开源版本(Anaconda),开源版本中默认安装了很多常用的第三方库。\n",
    "#### 2.2.2 IDE与IDLE\n",
    "### 2.3 介绍Jupyter Notebook\n",
    "#### 2.3.1 新建Jupyter Notebook文件\n",
    "#### 2.3.2 运行你的第一段代码\n",
    "#### 2.3.3 重命名Jupyter Notebook文件\n",
    "#### 2.3.4 保存Jupyter Notebook文件\n",
    "File → Save and Checkpoint 用默认文件名保存在默认路径下\n",
    "File → Download as 相当于另存为，可以选择文件格式及保存位置。\n",
    "#### 2.3.5 导入本地Jupyter Notebook文件\n",
    "打开文件后点上传按钮\n",
    "#### 2.3.6 Jupyter Notebook与Markdown\n",
    "对应的是code选项和标记选项，标记选项是个文本框，便于编辑操作。\n",
    "#### 2.3.7 为Jupyter Notebook添加目录\n",
    "### 2.4 基本概念\n",
    "#### 2.4.1 数\n",
    "#### 2.4.2 变量\n",
    "#### 2.4.3 标识符\n",
    "#### 2.4.4 数据类型\n",
    "主要有数和字符串两种，数包括整型和浮点型，可以使用type()函数来查看具体值的数据类型"
   ]
  },
  {
   "cell_type": "code",
   "execution_count": 3,
   "metadata": {},
   "outputs": [
    {
     "name": "stdout",
     "output_type": "stream",
     "text": [
      "type(1) = <class 'int'>\n",
      "type(1.0) = <class 'float'>\n",
      "type('hello world') = <class 'str'>\n"
     ]
    }
   ],
   "source": [
    "print(\"type(1) =\",type(1))\n",
    "print(\"type(1.0) =\",type(1.0))\n",
    "print(\"type('hello world') =\",type('hello world'))"
   ]
  },
  {
   "cell_type": "markdown",
   "metadata": {},
   "source": [
    "#### 2.4.5 输出与输出格式设置\n",
    "使用str.format()方法进行设定，str是一个字符串，将format()里面的内容填充到str字符串的{}中，几种常用的主要形式如下："
   ]
  },
  {
   "cell_type": "code",
   "execution_count": 7,
   "metadata": {},
   "outputs": [
    {
     "name": "stdout",
     "output_type": "stream",
     "text": [
      "一对一填充：\n",
      "'我正在学习：{}'.format('python基础知识')\n",
      "我正在学习：python基础知识\n",
      "\n",
      "多对多填充：\n",
      "'{}约{:.2f}亿'.format('2018年中国单身人数', 2)\n",
      "2018年中国单身人数约2.00亿\n",
      "\n",
      "浮点数设置\n",
      ".2f表示以浮点型展示，且显示小数点后两位\n",
      "\n",
      "百分数设置\n",
      ".2%表示百分比形式展示，且展示小数点后两位\n",
      "'中国男性占总人口的比例：{:.2%}'.format(0.519)\n",
      "中国男性占总人口的比例：51.90%\n"
     ]
    }
   ],
   "source": [
    "print('一对一填充：')\n",
    "print(\"'我正在学习：{}'.format('python基础知识')\")\n",
    "print('我正在学习：{}'.format('python基础知识'))\n",
    "print(\"\")\n",
    "print('多对多填充：')\n",
    "print(\"'{}约{:.2f}亿'.format('2018年中国单身人数', 2)\")\n",
    "print('{}约{:.2f}亿'.format('2018年中国单身人数', 2))\n",
    "print(\"\")\n",
    "print('浮点数设置')\n",
    "print('.2f表示以浮点型展示，且显示小数点后两位')\n",
    "print(\"\")\n",
    "print('百分数设置')\n",
    "print('.2%表示百分比形式展示，且展示小数点后两位')\n",
    "print(\"'中国男性占总人口的比例：{:.2%}'.format(0.519)\")\n",
    "print('中国男性占总人口的比例：{:.2%}'.format(0.519))"
   ]
  },
  {
   "cell_type": "markdown",
   "metadata": {},
   "source": [
    "#### 2.4.6 缩进与注释\n",
    "缩进是语法格式的一部分，是强制的，否则有语法错误\n",
    "单行注释用 # ，多行注释用 ''' 或 \"\"\"\n",
    "\n",
    "### 2.5 字符串\n",
    "#### 2.5.1 字符串的概念\n",
    "字符串是由0个或多个字符组成的有限串行，是用单引号或双引号括起来的，符号是str(string的缩写)\n",
    "#### 2.5.2 字符串的连接\n",
    "用加号 + 进行连接"
   ]
  },
  {
   "cell_type": "code",
   "execution_count": 9,
   "metadata": {},
   "outputs": [
    {
     "data": {
      "text/plain": [
       "'张俊红'"
      ]
     },
     "execution_count": 9,
     "metadata": {},
     "output_type": "execute_result"
    }
   ],
   "source": [
    "\"张\" + \"俊红\""
   ]
  },
  {
   "cell_type": "code",
   "execution_count": 10,
   "metadata": {},
   "outputs": [
    {
     "data": {
      "text/plain": [
       "'Python真强大Python真强大Python真强大'"
      ]
     },
     "execution_count": 10,
     "metadata": {},
     "output_type": "execute_result"
    }
   ],
   "source": [
    "#### 2.5.3 字符串的复制 用 * 号\n",
    "\"Python真强大\"*3"
   ]
  },
  {
   "cell_type": "code",
   "execution_count": 11,
   "metadata": {},
   "outputs": [
    {
     "data": {
      "text/plain": [
       "11"
      ]
     },
     "execution_count": 11,
     "metadata": {},
     "output_type": "execute_result"
    }
   ],
   "source": [
    "#### 2.5.4 获取字符串的长度\n",
    "len('13199369591')"
   ]
  },
  {
   "cell_type": "code",
   "execution_count": 12,
   "metadata": {},
   "outputs": [
    {
     "data": {
      "text/plain": [
       "True"
      ]
     },
     "execution_count": 12,
     "metadata": {},
     "output_type": "execute_result"
    }
   ],
   "source": [
    "#### 2.5.5 字符串查找  in 和 not in\n",
    "\"测试\" in \"新产品上线测试号\""
   ]
  },
  {
   "cell_type": "code",
   "execution_count": 13,
   "metadata": {},
   "outputs": [
    {
     "data": {
      "text/plain": [
       "True"
      ]
     },
     "execution_count": 13,
     "metadata": {},
     "output_type": "execute_result"
    }
   ],
   "source": [
    "\"测试\" not in \"我是一个正常的用户\""
   ]
  },
  {
   "cell_type": "code",
   "execution_count": 14,
   "metadata": {},
   "outputs": [
    {
     "data": {
      "text/plain": [
       "2"
      ]
     },
     "execution_count": 14,
     "metadata": {},
     "output_type": "execute_result"
    }
   ],
   "source": [
    "#find查找字符，返回字符的位置\n",
    "\"Abc\".find('c')"
   ]
  },
  {
   "cell_type": "code",
   "execution_count": 15,
   "metadata": {},
   "outputs": [
    {
     "data": {
      "text/plain": [
       "-1"
      ]
     },
     "execution_count": 15,
     "metadata": {},
     "output_type": "execute_result"
    }
   ],
   "source": [
    "#查找不到，返回-1\n",
    "\"Abc\".find('d')"
   ]
  },
  {
   "cell_type": "code",
   "execution_count": null,
   "metadata": {},
   "outputs": [],
   "source": [
    "#### 2.5.6 字符串索引\n",
    "字符串索引是指通过字符串中值所处的位置对值进行选取，字符串中的位置是从0开始的"
   ]
  },
  {
   "cell_type": "code",
   "execution_count": null,
   "metadata": {},
   "outputs": [],
   "source": [
    "获取字符串中第一位的值"
   ]
  },
  {
   "cell_type": "code",
   "execution_count": 16,
   "metadata": {},
   "outputs": [
    {
     "data": {
      "text/plain": [
       "'P'"
      ]
     },
     "execution_count": 16,
     "metadata": {},
     "output_type": "execute_result"
    }
   ],
   "source": [
    "a = \"Python数据分析\"\n",
    "a[0]"
   ]
  },
  {
   "cell_type": "code",
   "execution_count": null,
   "metadata": {},
   "outputs": [],
   "source": [
    "获取字符串中第4位的值"
   ]
  },
  {
   "cell_type": "code",
   "execution_count": 17,
   "metadata": {},
   "outputs": [
    {
     "data": {
      "text/plain": [
       "'h'"
      ]
     },
     "execution_count": 17,
     "metadata": {},
     "output_type": "execute_result"
    }
   ],
   "source": [
    "a[3]"
   ]
  },
  {
   "cell_type": "code",
   "execution_count": null,
   "metadata": {},
   "outputs": [],
   "source": [
    "获取字符串中第2位到第4位之间的值，且不包含第4位"
   ]
  },
  {
   "cell_type": "code",
   "execution_count": null,
   "metadata": {},
   "outputs": [],
   "source": [
    "a[1:3]"
   ]
  },
  {
   "cell_type": "code",
   "execution_count": null,
   "metadata": {},
   "outputs": [],
   "source": [
    "索引的第1位和最后一位可以省略不写，但冒号: 不能省略，-1表示倒数第1位"
   ]
  },
  {
   "cell_type": "code",
   "execution_count": 18,
   "metadata": {},
   "outputs": [
    {
     "data": {
      "text/plain": [
       "'析'"
      ]
     },
     "execution_count": 18,
     "metadata": {},
     "output_type": "execute_result"
    }
   ],
   "source": [
    "a[-1]"
   ]
  },
  {
   "cell_type": "code",
   "execution_count": null,
   "metadata": {},
   "outputs": [],
   "source": [
    "#### 2.5.7 字符串分隔 split()\n",
    "字符串分隔是先将一个字符用某个分隔符分开，然后将分隔后的值以列表的形式返回，用的函数是split()"
   ]
  },
  {
   "cell_type": "code",
   "execution_count": 20,
   "metadata": {},
   "outputs": [
    {
     "name": "stdout",
     "output_type": "stream",
     "text": [
      "['abc']\n",
      "['abc']\n"
     ]
    }
   ],
   "source": [
    "#将字符串abc用逗号分隔\n",
    "print('abc'.split(','))\n",
    "#将字符串abc用|进行分隔\n",
    "print('abc'.split('|'))"
   ]
  },
  {
   "cell_type": "code",
   "execution_count": null,
   "metadata": {},
   "outputs": [],
   "source": [
    "#### 2.5.8 移除字符 strip()\n",
    "移除字符串首尾指定的字符，默认移除字符串首尾的空格或换行符"
   ]
  },
  {
   "cell_type": "code",
   "execution_count": 22,
   "metadata": {},
   "outputs": [
    {
     "name": "stdout",
     "output_type": "stream",
     "text": [
      "a\n",
      "a\n",
      "a\n"
     ]
    }
   ],
   "source": [
    "#移除空格\n",
    "print(\" a \".strip())\n",
    "#移除换行符\n",
    "print(\"\\ta\\t\".strip())\n",
    "#移除指定的字符A\n",
    "print(\"AaA\".strip('A'))"
   ]
  },
  {
   "cell_type": "markdown",
   "metadata": {},
   "source": [
    "### 2.6 数据结构---列表\n",
    "#### 2.6.1 列表的概念\n",
    "列表(list)是用来存储一组有序元素的数据结构，元素之间用逗号隔开。列表中的数据元素应该包括在方括号内，列表是可变的数据类型，创建列表后，你可以添加、删除或者修改列表中的元素，方括号中的数据类型可以是int型，也可以是str型。\n",
    "#### 2.6.2 新建一个列表\n",
    "直接将数据用方括号括起来就行"
   ]
  },
  {
   "cell_type": "code",
   "execution_count": null,
   "metadata": {},
   "outputs": [],
   "source": [
    "#建立一个空列表\n",
    "null_list = []\n",
    "#建立一个int型列表\n",
    "int_list = [1,2,3]\n",
    "#建立一个str型列表\n",
    "str_list = ['a','b','c']\n",
    "#建立一个int+str型列表\n",
    "int_str_list = [1,2,'a','b']"
   ]
  },
  {
   "cell_type": "code",
   "execution_count": null,
   "metadata": {},
   "outputs": [],
   "source": [
    "####2.6.3 列表的复制\n",
    "列表的复制与字符串类似，也是使用*"
   ]
  },
  {
   "cell_type": "code",
   "execution_count": 1,
   "metadata": {},
   "outputs": [
    {
     "name": "stdout",
     "output_type": "stream",
     "text": [
      "[1, 2, 3, 1, 2, 3, 1, 2, 3]\n",
      "[1, 2, 'a', 'b', 1, 2, 'a', 'b']\n"
     ]
    }
   ],
   "source": [
    "int_list = [1,2,3]\n",
    "print(int_list*3)\n",
    "int_str_list = [1,2,'a','b']\n",
    "print(int_str_list * 2)"
   ]
  },
  {
   "cell_type": "code",
   "execution_count": null,
   "metadata": {},
   "outputs": [],
   "source": [
    "#### 2.6.4 列表的合并\n",
    "列表的合并就是将两个现有的list合并在一起，主要有两种实现方式。\n",
    "一种是利用 + 操作符，和字符串的连接类似；另一种是extend()函数"
   ]
  },
  {
   "cell_type": "code",
   "execution_count": 4,
   "metadata": {},
   "outputs": [
    {
     "name": "stdout",
     "output_type": "stream",
     "text": [
      "int_list = [1,2,3]\n",
      "str_list = ['a','b','c']\n",
      "str_list + int_list =  ['a', 'b', 'c', 1, 2, 3]\n",
      "int_list + str_list =  [1, 2, 3, 'a', 'b', 'c']\n",
      "str_list.extend(int_list)= ['a', 'b', 'c', 1, 2, 3]\n",
      "int_list.extend(str_list)= [1, 2, 3, 'a', 'b', 'c']\n"
     ]
    }
   ],
   "source": [
    "int_list = [1,2,3]\n",
    "str_list = ['a','b','c']\n",
    "print(\"int_list = [1,2,3]\")\n",
    "print(\"str_list = ['a','b','c']\")\n",
    "print(\"str_list + int_list = \",str_list + int_list)\n",
    "print(\"int_list + str_list = \",int_list + str_list)\n",
    "str_list.extend(int_list)\n",
    "print(\"str_list.extend(int_list)=\",str_list)\n",
    "str_list = ['a','b','c']\n",
    "int_list.extend(str_list)\n",
    "print(\"int_list.extend(str_list)=\",int_list)"
   ]
  },
  {
   "cell_type": "markdown",
   "metadata": {},
   "source": [
    "#### 2.6.5 向列表中插入新元素\n",
    "列表是可变的，也就是当新建一个列表后你还可以对这个列表进行操作，对列表进行插入元素的操作主要有append()和insert()两个函数。这两个函数会直接改变原列表，不会直接输出结果，需要调用原列表名来获取插入新元素以后的列表。"
   ]
  },
  {
   "cell_type": "code",
   "execution_count": 5,
   "metadata": {},
   "outputs": [
    {
     "name": "stdout",
     "output_type": "stream",
     "text": [
      "int_list.append(4)= [1, 2, 3, 4]\n",
      "int_list.insert(2,4) [1, 2, 4, 3]\n"
     ]
    }
   ],
   "source": [
    "#函数append()是在列表末尾插入新的元素\n",
    "int_list = [1,2,3]\n",
    "int_list.append(4)\n",
    "print(\"int_list.append(4)=\",int_list)\n",
    "\n",
    "#函数insert()是在列表的指定位置插入新的元素\n",
    "int_list = [1,2,3]\n",
    "int_list.insert(2,4) #表示在第3位插入元素4\n",
    "print(\"int_list.insert(2,4)\",int_list)"
   ]
  },
  {
   "cell_type": "code",
   "execution_count": null,
   "metadata": {},
   "outputs": [],
   "source": [
    "#### 2.6.6 获取列表中值出现的次数\n",
    "利用count()函数获取某个值在列表中出现的次数"
   ]
  },
  {
   "cell_type": "code",
   "execution_count": 6,
   "metadata": {},
   "outputs": [
    {
     "data": {
      "text/plain": [
       "3"
      ]
     },
     "execution_count": 6,
     "metadata": {},
     "output_type": "execute_result"
    }
   ],
   "source": [
    "score_list = [\"一班\",\"一班\",\"三班\",\"二班\",\"一班\"]\n",
    "score_list.count(\"一班\")"
   ]
  },
  {
   "cell_type": "code",
   "execution_count": null,
   "metadata": {},
   "outputs": [],
   "source": [
    "#### 2.6.7 获取列表中值出现的位置\n",
    "就是获取元素在列表中的索引，用index()函数"
   ]
  },
  {
   "cell_type": "code",
   "execution_count": 7,
   "metadata": {},
   "outputs": [
    {
     "data": {
      "text/plain": [
       "2"
      ]
     },
     "execution_count": 7,
     "metadata": {},
     "output_type": "execute_result"
    }
   ],
   "source": [
    "sale_list = [\"倪晓玲\",\"乔兴金\",\"杨欣竹\",\"王元玲\"]\n",
    "sale_list.index('杨欣竹')"
   ]
  },
  {
   "cell_type": "code",
   "execution_count": 8,
   "metadata": {},
   "outputs": [
    {
     "name": "stdout",
     "output_type": "stream",
     "text": [
      "a\n",
      "\n",
      "['b', 'c']\n"
     ]
    }
   ],
   "source": [
    "#### 2.6.8 获取列表中指定位置的值\n",
    "#利用的方法和字符串的索引值是一样的，主要有普通索引和切片索引两种。\n",
    "#普通索引是获取某一特定位置的值\n",
    "v = ['a','b','c','d','e']\n",
    "print(v[0])\n",
    "print(\"\")\n",
    "#切片索引是获取某一位置区间内的值\n",
    "print(v[1:3]) #应该返回两个值，左闭右开，不包含右边位置上的元素。"
   ]
  },
  {
   "cell_type": "code",
   "execution_count": 6,
   "metadata": {},
   "outputs": [
    {
     "name": "stdout",
     "output_type": "stream",
     "text": [
      "b\n",
      "v.remove('c') =  None\n",
      "['a', 'b', 'd', 'e']\n"
     ]
    }
   ],
   "source": [
    "#### 2.6.9 删除列表中的值\n",
    "#对列表中的值进行删除时，有pop()和remove()两个函数可用。\n",
    "#pop()函数是根据列表中的位置进行删除，也就是删除指定位置的值，并且返回被删除的元素\n",
    "v = ['a','b','c','d','e']\n",
    "print(v.pop(1))  #删除b元素\n",
    "\n",
    "#remove()函数是根据列表中的元素进行删除，也就是删除某一元素。remove函数没有返回值。\n",
    "v = ['a','b','c','d','e']\n",
    "print(\"v.remove('c') = \",v.remove('c'))\n",
    "print(v)"
   ]
  },
  {
   "cell_type": "code",
   "execution_count": 10,
   "metadata": {},
   "outputs": [
    {
     "name": "stdout",
     "output_type": "stream",
     "text": [
      "None\n",
      "[1, 2, 3, 4]\n",
      "None\n",
      "[4, 3, 2, 1]\n"
     ]
    }
   ],
   "source": [
    "#### 2.6.10 对列表中的值进行排序\n",
    "#对列表中的值进行排序用的是sort()函数，默认采用升序排列,没有返回值\n",
    "s = [1,3,2,4]\n",
    "print(s.sort())\n",
    "print(s)\n",
    "print(s.sort(reverse=True))\n",
    "print(s)"
   ]
  },
  {
   "cell_type": "markdown",
   "metadata": {},
   "source": [
    "### 2.7 数据结构 --- 字典\n",
    "#### 2.7.1 字典的概念\n",
    "字典(dict)是一种键值对的结构，类似于通过联系人姓名查找地址和联系人详细信息的地址簿，即把键(名字)和值(详细信息)联系在一起。注意，键必须是唯一的，就像如果有两个人恰巧同名，那么你无法找到正确的信息一样。\n",
    "键值在对字典中以{key1:value1,key2:value2}方式标记。注意，键值对内部用冒号分隔，而各个对之间用逗号分隔，所有这些都包含在花括号中。"
   ]
  },
  {
   "cell_type": "code",
   "execution_count": 13,
   "metadata": {},
   "outputs": [
    {
     "name": "stdout",
     "output_type": "stream",
     "text": [
      "{'张三': 13313581900, '李四': 15517896750}\n",
      "{'张三': 13313581900, '李四': 15517896750}\n",
      "{'张三': 13313581900, '李四': 15517896750}\n"
     ]
    }
   ],
   "source": [
    "#### 2.7.2 新建一个字典\n",
    "#先创建一个空的字典，然后向该字典内输入值。\n",
    "test_dict = {}\n",
    "test_dict['张三'] = 13313581900\n",
    "test_dict['李四'] = 15517896750\n",
    "print(test_dict)\n",
    "#将值直接以键值对的形式传入字典中\n",
    "d2 = {'张三':13313581900,'李四':15517896750}\n",
    "print(d2)\n",
    "#将键值以列表的形式存放在元组中，然后用dict进行转换\n",
    "contact = (['张三',13313581900],['李四',15517896750])\n",
    "d3 = dict(contact)\n",
    "print(d3)"
   ]
  },
  {
   "cell_type": "code",
   "execution_count": 14,
   "metadata": {},
   "outputs": [
    {
     "name": "stdout",
     "output_type": "stream",
     "text": [
      "d2.keys() =  dict_keys(['张三', '李四'])\n",
      "d2.values() =  dict_values([13313581900, 15517896750])\n",
      "d2.items() =  dict_items([('张三', 13313581900), ('李四', 15517896750)])\n"
     ]
    }
   ],
   "source": [
    "#### 2.7.3 字典的keys()、values()和items()方法\n",
    "#keys()方法用来获取字典内的所有键。\n",
    "d2 = {'张三':13313581900,'李四':15517896750}\n",
    "print(\"d2.keys() = \",d2.keys())\n",
    "#values()用来获取字典内的所有值\n",
    "print(\"d2.values() = \",d2.values())\n",
    "#items()用来得到一组组的键值对\n",
    "print(\"d2.items() = \",d2.items())"
   ]
  },
  {
   "cell_type": "code",
   "execution_count": 15,
   "metadata": {},
   "outputs": [
    {
     "name": "stdout",
     "output_type": "stream",
     "text": [
      "(1, 2, 3)\n",
      "('a', 'b', 'c')\n"
     ]
    }
   ],
   "source": [
    "### 2.8 数据结构 --- 元组\n",
    "#### 2.8.1 元组的概念\n",
    "#元组与列表虽然有类似，也有不同之处：元组的元素不能修改，元组使用小括号，而列表使用中括号\n",
    "#### 2.8.2 新建一个元组\n",
    "#元组的创建比较简单，直接将一组数据元素用小括号括起来即可。\n",
    "tup = (1,2,3)\n",
    "print(tup)\n",
    "tup2 = ('a','b','c')\n",
    "print(tup2)"
   ]
  },
  {
   "cell_type": "code",
   "execution_count": 16,
   "metadata": {},
   "outputs": [
    {
     "data": {
      "text/plain": [
       "3"
      ]
     },
     "execution_count": 16,
     "metadata": {},
     "output_type": "execute_result"
    }
   ],
   "source": [
    "#### 2.8.3 获取元组的长度\n",
    "#获取元组长度的方法与获取列表的长度方法一致，都使用len()函数\n",
    "tup = (1,2,3)\n",
    "len(tup)"
   ]
  },
  {
   "cell_type": "code",
   "execution_count": 17,
   "metadata": {},
   "outputs": [
    {
     "name": "stdout",
     "output_type": "stream",
     "text": [
      "3\n",
      "4\n",
      "(2, 3)\n",
      "(1, 2, 3)\n",
      "(2, 3, 4, 5)\n"
     ]
    }
   ],
   "source": [
    "#### 2.8.4 获取元组内的元素\n",
    "#元组内元素的获取方法主要分为普通索引和切片索引两种\n",
    "tup = (1,2,3,4,5)\n",
    "#普通索引\n",
    "print(tup[2])\n",
    "print(tup[3])\n",
    "#切片索引\n",
    "print(tup[1:3])\n",
    "print(tup[:3])\n",
    "print(tup[1:])"
   ]
  },
  {
   "cell_type": "code",
   "execution_count": 19,
   "metadata": {},
   "outputs": [
    {
     "name": "stdout",
     "output_type": "stream",
     "text": [
      "(1, 2, 3, 4, 5)\n",
      "[1, 2, 3, 4, 5]\n",
      "(1, 2, 3, 4, 5)\n"
     ]
    }
   ],
   "source": [
    "#### 2.8.5 元组与列表相互转换\n",
    "#使用list()将元组转换为列表\n",
    "print(tup)\n",
    "print(list(tup))\n",
    "#使用tuple()将列表转化为元组\n",
    "print(tuple(list(tup)))"
   ]
  },
  {
   "cell_type": "markdown",
   "metadata": {},
   "source": [
    "#### 2.8.6 zip()函数\n",
    "zip()函数用于将可迭代的对象(列表、元组)作为参数，将对象中对应的元素打包成一个个元组，然后返回这些元组组成的列表。zip()函数常与for循环一起迭代使用。"
   ]
  },
  {
   "cell_type": "code",
   "execution_count": 20,
   "metadata": {},
   "outputs": [
    {
     "name": "stdout",
     "output_type": "stream",
     "text": [
      "(1, 'a')\n",
      "(2, 'b')\n",
      "(3, 'c')\n",
      "(4, 'd')\n",
      "(1, 'a')\n",
      "(2, 'b')\n",
      "(3, 'c')\n",
      "(4, 'd')\n"
     ]
    }
   ],
   "source": [
    "#当可迭代对象是列表时：\n",
    "list_a = [1,2,3,4]\n",
    "list_b = ['a','b','c','d']\n",
    "for i in zip(list_a,list_b):\n",
    "    print(i)\n",
    "\n",
    "#当可迭代对象是元组时：\n",
    "tup_a = (1,2,3,4)\n",
    "tup_b = ['a','b','c','d']\n",
    "for i in zip(tup_a,tup_b):\n",
    "    print(i)"
   ]
  },
  {
   "cell_type": "markdown",
   "metadata": {},
   "source": [
    "### 2.9 运算符\n",
    "#### 2.9.1 算术运算符\n",
    "+ - * / %（取余数） **（幂运算） //（取商的整数部分）\n",
    "#### 2.9.2 比较运算符\n",
    "== != <> > < >= <=\n",
    "#### 2.9.3 逻辑运算符\n",
    "and or not"
   ]
  },
  {
   "cell_type": "markdown",
   "metadata": {},
   "source": [
    "### 2.10 循环语句\n",
    "#### 2.10.1 for循环\n",
    "for循环用来遍历任何序列的项目，这个序列可以是一个列表也可以是一个字符串，针对这个序列中的每个项目去执行相应的操作。"
   ]
  },
  {
   "cell_type": "code",
   "execution_count": 21,
   "metadata": {},
   "outputs": [
    {
     "name": "stdout",
     "output_type": "stream",
     "text": [
      "我目前正在学习：Excel\n",
      "我目前正在学习：SQL\n",
      "我目前正在学习：Python\n",
      "我目前正在学习：统计学\n"
     ]
    }
   ],
   "source": [
    "subject = [\"Excel\",\"SQL\",\"Python\",\"统计学\"]\n",
    "for sub in subject:\n",
    "    print(\"我目前正在学习：{}\".format(sub))"
   ]
  },
  {
   "cell_type": "markdown",
   "metadata": {},
   "source": [
    "#### 2.10.2 while循环\n",
    "while循环用来循环执行某程序，即当条件满足时，一直执行某程序，直到条件不满足时，终止程序。"
   ]
  },
  {
   "cell_type": "code",
   "execution_count": 24,
   "metadata": {},
   "outputs": [
    {
     "name": "stdout",
     "output_type": "stream",
     "text": [
      "我已经学习数据分析0周啦\n",
      "我已经学习数据分析1周啦\n",
      "我已经学习数据分析2周啦\n",
      "我已经学习数据分析3周啦\n",
      "我已经学习数据分析4周啦\n",
      "我已经学习数据分析5周啦\n",
      "我已经学习数据分析6周啦\n",
      "我已经学习数据分析7周啦\n",
      "我已经学习数据分析8周啦，我可以去找工作啦！\n"
     ]
    }
   ],
   "source": [
    "week = 0 #从0开始学习\n",
    "while week <=7:\n",
    "    print(\"我已经学习数据分析{}周啦\".format(week))\n",
    "    week += 1\n",
    "print(\"我已经学习数据分析{}周啦，我可以去找工作啦！\".format(week))"
   ]
  },
  {
   "cell_type": "markdown",
   "metadata": {},
   "source": [
    "### 2.11 条件语句\n",
    "#### 2.11.1 if语句\n",
    "if条件语句是程序先去品判断某个条件是否满足，如果该条件满足，则执行判断语句后的程序。if条件后面要执行的程序需要缩进。"
   ]
  },
  {
   "cell_type": "code",
   "execution_count": 25,
   "metadata": {},
   "outputs": [
    {
     "name": "stdout",
     "output_type": "stream",
     "text": [
      "可以找到好工作\n"
     ]
    }
   ],
   "source": [
    "is_study = 1\n",
    "if is_study == 1:\n",
    "    print(\"可以找到好工作\")"
   ]
  },
  {
   "cell_type": "code",
   "execution_count": null,
   "metadata": {},
   "outputs": [],
   "source": [
    "#当条件为否时的代码\n",
    "is_study = 1\n",
    "if is_study == 0:\n",
    "    print(\"很难找到一个好工作\")"
   ]
  },
  {
   "cell_type": "markdown",
   "metadata": {},
   "source": [
    "2.11.2 else语句\n",
    "else语句是if语句的补充，if条件语句只说明了条件满足时程序做什么，没说明条件不满足时程序做什么。else语句就是说明条件不满足时程序做什么。"
   ]
  },
  {
   "cell_type": "code",
   "execution_count": 2,
   "metadata": {},
   "outputs": [
    {
     "name": "stdout",
     "output_type": "stream",
     "text": [
      "很难找到一个好工作！\n"
     ]
    }
   ],
   "source": [
    "is_study = 0\n",
    "if is_study == 1:\n",
    "    print(\"可以找到一个好工作！\")\n",
    "else:\n",
    "    print(\"很难找到一个好工作！\")"
   ]
  },
  {
   "cell_type": "markdown",
   "metadata": {},
   "source": [
    "2.11.3 elif语句\n",
    "当需要对多条语句进行判断时，可以使用elif语句。"
   ]
  },
  {
   "cell_type": "code",
   "execution_count": 3,
   "metadata": {},
   "outputs": [
    {
     "name": "stdout",
     "output_type": "stream",
     "text": [
      "80-90分\n"
     ]
    }
   ],
   "source": [
    "score = 80\n",
    "if score < 60:\n",
    "    print(\"小于60分\")\n",
    "elif score < 70:\n",
    "    print(\"60-70分\")\n",
    "elif score < 80:\n",
    "    print(\"70-80分\")\n",
    "elif score < 90:\n",
    "    print(\"80-90分\")\n",
    "else:\n",
    "    print(\"90分以上\")"
   ]
  }
 ],
 "metadata": {
  "kernelspec": {
   "display_name": "Python 3",
   "language": "python",
   "name": "python3"
  },
  "language_info": {
   "codemirror_mode": {
    "name": "ipython",
    "version": 3
   },
   "file_extension": ".py",
   "mimetype": "text/x-python",
   "name": "python",
   "nbconvert_exporter": "python",
   "pygments_lexer": "ipython3",
   "version": "3.7.4"
  }
 },
 "nbformat": 4,
 "nbformat_minor": 2
}
