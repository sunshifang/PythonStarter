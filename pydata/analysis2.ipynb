{
 "cells": [
  {
   "cell_type": "code",
   "execution_count": 2,
   "metadata": {},
   "outputs": [],
   "source": [
    "## 第7章 数值操作\n",
    "### 7.1 数值替换\n",
    "#数值替换就是将数值A替换成B，可以用在异常数据替换处理、缺失值填充处理中。主要有一对一替换、多对一替换、多对多替换三种方法。\n",
    "#### 7.1.1 一对一替换\n",
    "#将某一区域中的一个值全部替换成另一个值。\n",
    "#在Python中对某个值进行替换利用的是replace(A,B)方法，就是将A替换成B。\n",
    "#可以对指定列进行替换，也可以对全表进行替换\n",
    "#与Excel一样也是先选定范围，然后再进行操作(比如替换)\n",
    "#replace可以代替fillna, df.replace(np.NaN,0)。用0去替换空值或将空值填充为0，结果一样。"
   ]
  },
  {
   "cell_type": "code",
   "execution_count": 9,
   "metadata": {},
   "outputs": [
    {
     "data": {
      "text/html": [
       "<div>\n",
       "<style scoped>\n",
       "    .dataframe tbody tr th:only-of-type {\n",
       "        vertical-align: middle;\n",
       "    }\n",
       "\n",
       "    .dataframe tbody tr th {\n",
       "        vertical-align: top;\n",
       "    }\n",
       "\n",
       "    .dataframe thead th {\n",
       "        text-align: right;\n",
       "    }\n",
       "</style>\n",
       "<table border=\"1\" class=\"dataframe\">\n",
       "  <thead>\n",
       "    <tr style=\"text-align: right;\">\n",
       "      <th></th>\n",
       "      <th>资材编号</th>\n",
       "      <th>品名</th>\n",
       "      <th>规格</th>\n",
       "      <th>单位</th>\n",
       "      <th>数量</th>\n",
       "    </tr>\n",
       "  </thead>\n",
       "  <tbody>\n",
       "    <tr>\n",
       "      <td>0</td>\n",
       "      <td>JJ36A12083</td>\n",
       "      <td>label</td>\n",
       "      <td>NK1799</td>\n",
       "      <td>PCS</td>\n",
       "      <td>1</td>\n",
       "    </tr>\n",
       "    <tr>\n",
       "      <td>1</td>\n",
       "      <td>JJ36E00646</td>\n",
       "      <td>label</td>\n",
       "      <td>NC4629B</td>\n",
       "      <td>PCS</td>\n",
       "      <td>1</td>\n",
       "    </tr>\n",
       "    <tr>\n",
       "      <td>2</td>\n",
       "      <td>JJ36E00657</td>\n",
       "      <td>label</td>\n",
       "      <td>NC4873</td>\n",
       "      <td>PCS</td>\n",
       "      <td>1</td>\n",
       "    </tr>\n",
       "    <tr>\n",
       "      <td>3</td>\n",
       "      <td>JJ36E21722</td>\n",
       "      <td>表示板</td>\n",
       "      <td>NK5891</td>\n",
       "      <td>PCS</td>\n",
       "      <td>2</td>\n",
       "    </tr>\n",
       "  </tbody>\n",
       "</table>\n",
       "</div>"
      ],
      "text/plain": [
       "         资材编号     品名       规格   单位  数量\n",
       "0  JJ36A12083  label   NK1799  PCS   1\n",
       "1  JJ36E00646  label  NC4629B  PCS   1\n",
       "2  JJ36E00657  label   NC4873  PCS   1\n",
       "3  JJ36E21722    表示板   NK5891  PCS   2"
      ]
     },
     "execution_count": 9,
     "metadata": {},
     "output_type": "execute_result"
    }
   ],
   "source": [
    "import pandas as pd\n",
    "df = pd.read_csv(\"./维修焊机用标签.csv\")\n",
    "df['品名'].replace('表示板','标签')\n",
    "df.replace('表示板','标签')\n",
    "df.iloc[0:4].replace('标签','label')"
   ]
  },
  {
   "cell_type": "code",
   "execution_count": 11,
   "metadata": {},
   "outputs": [
    {
     "data": {
      "text/html": [
       "<div>\n",
       "<style scoped>\n",
       "    .dataframe tbody tr th:only-of-type {\n",
       "        vertical-align: middle;\n",
       "    }\n",
       "\n",
       "    .dataframe tbody tr th {\n",
       "        vertical-align: top;\n",
       "    }\n",
       "\n",
       "    .dataframe thead th {\n",
       "        text-align: right;\n",
       "    }\n",
       "</style>\n",
       "<table border=\"1\" class=\"dataframe\">\n",
       "  <thead>\n",
       "    <tr style=\"text-align: right;\">\n",
       "      <th></th>\n",
       "      <th>资材编号</th>\n",
       "      <th>品名</th>\n",
       "      <th>规格</th>\n",
       "      <th>单位</th>\n",
       "      <th>数量</th>\n",
       "    </tr>\n",
       "  </thead>\n",
       "  <tbody>\n",
       "    <tr>\n",
       "      <td>0</td>\n",
       "      <td>JJ36A12083</td>\n",
       "      <td>标签</td>\n",
       "      <td>NK1799</td>\n",
       "      <td>PCS</td>\n",
       "      <td>1</td>\n",
       "    </tr>\n",
       "    <tr>\n",
       "      <td>1</td>\n",
       "      <td>JJ36E00646</td>\n",
       "      <td>标签</td>\n",
       "      <td>NC4629B</td>\n",
       "      <td>PCS</td>\n",
       "      <td>1</td>\n",
       "    </tr>\n",
       "    <tr>\n",
       "      <td>2</td>\n",
       "      <td>JJ36E00657</td>\n",
       "      <td>标签</td>\n",
       "      <td>NC4873</td>\n",
       "      <td>PCS</td>\n",
       "      <td>1</td>\n",
       "    </tr>\n",
       "    <tr>\n",
       "      <td>3</td>\n",
       "      <td>JJ36E21722</td>\n",
       "      <td>表示板</td>\n",
       "      <td>NK5891</td>\n",
       "      <td>PCS</td>\n",
       "      <td>2</td>\n",
       "    </tr>\n",
       "    <tr>\n",
       "      <td>4</td>\n",
       "      <td>JJ36E60019</td>\n",
       "      <td>标签</td>\n",
       "      <td>NK5319</td>\n",
       "      <td>PCS</td>\n",
       "      <td>1</td>\n",
       "    </tr>\n",
       "    <tr>\n",
       "      <td>5</td>\n",
       "      <td>JJ36E60916</td>\n",
       "      <td>标签</td>\n",
       "      <td>NT0006</td>\n",
       "      <td>PCS</td>\n",
       "      <td>1</td>\n",
       "    </tr>\n",
       "    <tr>\n",
       "      <td>6</td>\n",
       "      <td>JJ36E90315</td>\n",
       "      <td>标签</td>\n",
       "      <td>XXXXXX</td>\n",
       "      <td>PCS</td>\n",
       "      <td>2</td>\n",
       "    </tr>\n",
       "    <tr>\n",
       "      <td>7</td>\n",
       "      <td>JJ36E90326</td>\n",
       "      <td>标签</td>\n",
       "      <td>XXXXXX</td>\n",
       "      <td>PCS</td>\n",
       "      <td>2</td>\n",
       "    </tr>\n",
       "    <tr>\n",
       "      <td>8</td>\n",
       "      <td>JJ36F42742</td>\n",
       "      <td>标签</td>\n",
       "      <td>NK3384B</td>\n",
       "      <td>PCS</td>\n",
       "      <td>1</td>\n",
       "    </tr>\n",
       "    <tr>\n",
       "      <td>9</td>\n",
       "      <td>MM36D00154</td>\n",
       "      <td>说明书</td>\n",
       "      <td>CPSS-135(P7436)</td>\n",
       "      <td>PCS</td>\n",
       "      <td>1</td>\n",
       "    </tr>\n",
       "    <tr>\n",
       "      <td>10</td>\n",
       "      <td>MM36D00155</td>\n",
       "      <td>说明书</td>\n",
       "      <td>CPSS-135(P7973)</td>\n",
       "      <td>PCS</td>\n",
       "      <td>1</td>\n",
       "    </tr>\n",
       "  </tbody>\n",
       "</table>\n",
       "</div>"
      ],
      "text/plain": [
       "          资材编号   品名               规格   单位  数量\n",
       "0   JJ36A12083   标签           NK1799  PCS   1\n",
       "1   JJ36E00646   标签          NC4629B  PCS   1\n",
       "2   JJ36E00657   标签           NC4873  PCS   1\n",
       "3   JJ36E21722  表示板           NK5891  PCS   2\n",
       "4   JJ36E60019   标签           NK5319  PCS   1\n",
       "5   JJ36E60916   标签           NT0006  PCS   1\n",
       "6   JJ36E90315   标签           XXXXXX  PCS   2\n",
       "7   JJ36E90326   标签           XXXXXX  PCS   2\n",
       "8   JJ36F42742   标签          NK3384B  PCS   1\n",
       "9   MM36D00154  说明书  CPSS-135(P7436)  PCS   1\n",
       "10  MM36D00155  说明书  CPSS-135(P7973)  PCS   1"
      ]
     },
     "execution_count": 11,
     "metadata": {},
     "output_type": "execute_result"
    }
   ],
   "source": [
    "#### 7.1.2 多对一替换\n",
    "#Excel通过if函数来实现\n",
    "# =if(or(D:D=240,D:D=260,D:D=280),33,D:D)\n",
    "#Python同样还是使用replace([A,B],C),表示将A、B替换成C。\n",
    "df.replace(['NL0060','NL0061'],\"XXXXXX\")"
   ]
  },
  {
   "cell_type": "code",
   "execution_count": 14,
   "metadata": {},
   "outputs": [
    {
     "data": {
      "text/html": [
       "<div>\n",
       "<style scoped>\n",
       "    .dataframe tbody tr th:only-of-type {\n",
       "        vertical-align: middle;\n",
       "    }\n",
       "\n",
       "    .dataframe tbody tr th {\n",
       "        vertical-align: top;\n",
       "    }\n",
       "\n",
       "    .dataframe thead th {\n",
       "        text-align: right;\n",
       "    }\n",
       "</style>\n",
       "<table border=\"1\" class=\"dataframe\">\n",
       "  <thead>\n",
       "    <tr style=\"text-align: right;\">\n",
       "      <th></th>\n",
       "      <th>资材编号</th>\n",
       "      <th>品名</th>\n",
       "      <th>规格</th>\n",
       "      <th>单位</th>\n",
       "      <th>数量</th>\n",
       "    </tr>\n",
       "  </thead>\n",
       "  <tbody>\n",
       "    <tr>\n",
       "      <td>0</td>\n",
       "      <td>JJ36A12083</td>\n",
       "      <td>标签1</td>\n",
       "      <td>NK1799</td>\n",
       "      <td>PCS</td>\n",
       "      <td>1</td>\n",
       "    </tr>\n",
       "    <tr>\n",
       "      <td>1</td>\n",
       "      <td>JJ36E00646</td>\n",
       "      <td>标签1</td>\n",
       "      <td>NC4629B</td>\n",
       "      <td>PCS</td>\n",
       "      <td>1</td>\n",
       "    </tr>\n",
       "    <tr>\n",
       "      <td>2</td>\n",
       "      <td>JJ36E00657</td>\n",
       "      <td>标签1</td>\n",
       "      <td>NC4873</td>\n",
       "      <td>PCS</td>\n",
       "      <td>1</td>\n",
       "    </tr>\n",
       "    <tr>\n",
       "      <td>3</td>\n",
       "      <td>JJ36E21722</td>\n",
       "      <td>表示板1</td>\n",
       "      <td>NK5891</td>\n",
       "      <td>PCS</td>\n",
       "      <td>2</td>\n",
       "    </tr>\n",
       "    <tr>\n",
       "      <td>4</td>\n",
       "      <td>JJ36E60019</td>\n",
       "      <td>标签1</td>\n",
       "      <td>NK5319</td>\n",
       "      <td>PCS</td>\n",
       "      <td>1</td>\n",
       "    </tr>\n",
       "    <tr>\n",
       "      <td>5</td>\n",
       "      <td>JJ36E60916</td>\n",
       "      <td>标签1</td>\n",
       "      <td>NT0006</td>\n",
       "      <td>PCS</td>\n",
       "      <td>1</td>\n",
       "    </tr>\n",
       "    <tr>\n",
       "      <td>6</td>\n",
       "      <td>JJ36E90315</td>\n",
       "      <td>标签1</td>\n",
       "      <td>NL0060</td>\n",
       "      <td>PCS</td>\n",
       "      <td>2</td>\n",
       "    </tr>\n",
       "    <tr>\n",
       "      <td>7</td>\n",
       "      <td>JJ36E90326</td>\n",
       "      <td>标签1</td>\n",
       "      <td>NL0061</td>\n",
       "      <td>PCS</td>\n",
       "      <td>2</td>\n",
       "    </tr>\n",
       "    <tr>\n",
       "      <td>8</td>\n",
       "      <td>JJ36F42742</td>\n",
       "      <td>标签1</td>\n",
       "      <td>NK3384B</td>\n",
       "      <td>PCS</td>\n",
       "      <td>1</td>\n",
       "    </tr>\n",
       "    <tr>\n",
       "      <td>9</td>\n",
       "      <td>MM36D00154</td>\n",
       "      <td>说明书</td>\n",
       "      <td>CPSS-135(P7436)</td>\n",
       "      <td>PCS</td>\n",
       "      <td>1</td>\n",
       "    </tr>\n",
       "    <tr>\n",
       "      <td>10</td>\n",
       "      <td>MM36D00155</td>\n",
       "      <td>说明书</td>\n",
       "      <td>CPSS-135(P7973)</td>\n",
       "      <td>PCS</td>\n",
       "      <td>1</td>\n",
       "    </tr>\n",
       "  </tbody>\n",
       "</table>\n",
       "</div>"
      ],
      "text/plain": [
       "          资材编号    品名               规格   单位  数量\n",
       "0   JJ36A12083   标签1           NK1799  PCS   1\n",
       "1   JJ36E00646   标签1          NC4629B  PCS   1\n",
       "2   JJ36E00657   标签1           NC4873  PCS   1\n",
       "3   JJ36E21722  表示板1           NK5891  PCS   2\n",
       "4   JJ36E60019   标签1           NK5319  PCS   1\n",
       "5   JJ36E60916   标签1           NT0006  PCS   1\n",
       "6   JJ36E90315   标签1           NL0060  PCS   2\n",
       "7   JJ36E90326   标签1           NL0061  PCS   2\n",
       "8   JJ36F42742   标签1          NK3384B  PCS   1\n",
       "9   MM36D00154   说明书  CPSS-135(P7436)  PCS   1\n",
       "10  MM36D00155   说明书  CPSS-135(P7973)  PCS   1"
      ]
     },
     "execution_count": 14,
     "metadata": {},
     "output_type": "execute_result"
    }
   ],
   "source": [
    "#### 7.1.3 多对多替换\n",
    "#多对多替换其实就是某个区域内的一对一替换，\n",
    "#Excel需要用if函数的嵌套来实现。\n",
    "# =if(D:D=240,32,IF(D:D=260,33,if(D:D=280,34,D:D)))\n",
    "#Python还是使用replace({'A':'a','B':'b'}),表示用a替换A，b替换B。\n",
    "df.replace({'标签':'标签1','表示板':'表示板1'})"
   ]
  },
  {
   "cell_type": "code",
   "execution_count": 17,
   "metadata": {},
   "outputs": [
    {
     "data": {
      "text/html": [
       "<div>\n",
       "<style scoped>\n",
       "    .dataframe tbody tr th:only-of-type {\n",
       "        vertical-align: middle;\n",
       "    }\n",
       "\n",
       "    .dataframe tbody tr th {\n",
       "        vertical-align: top;\n",
       "    }\n",
       "\n",
       "    .dataframe thead th {\n",
       "        text-align: right;\n",
       "    }\n",
       "</style>\n",
       "<table border=\"1\" class=\"dataframe\">\n",
       "  <thead>\n",
       "    <tr style=\"text-align: right;\">\n",
       "      <th></th>\n",
       "      <th>资材编号</th>\n",
       "      <th>品名</th>\n",
       "      <th>规格</th>\n",
       "      <th>单位</th>\n",
       "      <th>数量</th>\n",
       "    </tr>\n",
       "  </thead>\n",
       "  <tbody>\n",
       "    <tr>\n",
       "      <td>0</td>\n",
       "      <td>JJ36A12083</td>\n",
       "      <td>标签</td>\n",
       "      <td>NK1799</td>\n",
       "      <td>PCS</td>\n",
       "      <td>1</td>\n",
       "    </tr>\n",
       "    <tr>\n",
       "      <td>1</td>\n",
       "      <td>JJ36E00646</td>\n",
       "      <td>标签</td>\n",
       "      <td>NC4629B</td>\n",
       "      <td>PCS</td>\n",
       "      <td>1</td>\n",
       "    </tr>\n",
       "    <tr>\n",
       "      <td>2</td>\n",
       "      <td>JJ36E00657</td>\n",
       "      <td>标签</td>\n",
       "      <td>NC4873</td>\n",
       "      <td>PCS</td>\n",
       "      <td>1</td>\n",
       "    </tr>\n",
       "    <tr>\n",
       "      <td>3</td>\n",
       "      <td>JJ36E21722</td>\n",
       "      <td>表示板</td>\n",
       "      <td>NK5891</td>\n",
       "      <td>PCS</td>\n",
       "      <td>2</td>\n",
       "    </tr>\n",
       "    <tr>\n",
       "      <td>4</td>\n",
       "      <td>JJ36E60019</td>\n",
       "      <td>标签</td>\n",
       "      <td>NK5319</td>\n",
       "      <td>PCS</td>\n",
       "      <td>1</td>\n",
       "    </tr>\n",
       "    <tr>\n",
       "      <td>5</td>\n",
       "      <td>JJ36E60916</td>\n",
       "      <td>标签</td>\n",
       "      <td>NT0006</td>\n",
       "      <td>PCS</td>\n",
       "      <td>1</td>\n",
       "    </tr>\n",
       "    <tr>\n",
       "      <td>6</td>\n",
       "      <td>JJ36E90315</td>\n",
       "      <td>标签</td>\n",
       "      <td>NL0060</td>\n",
       "      <td>PCS</td>\n",
       "      <td>2</td>\n",
       "    </tr>\n",
       "    <tr>\n",
       "      <td>7</td>\n",
       "      <td>JJ36E90326</td>\n",
       "      <td>标签</td>\n",
       "      <td>NL0061</td>\n",
       "      <td>PCS</td>\n",
       "      <td>2</td>\n",
       "    </tr>\n",
       "    <tr>\n",
       "      <td>8</td>\n",
       "      <td>JJ36F42742</td>\n",
       "      <td>标签</td>\n",
       "      <td>NK3384B</td>\n",
       "      <td>PCS</td>\n",
       "      <td>1</td>\n",
       "    </tr>\n",
       "    <tr>\n",
       "      <td>9</td>\n",
       "      <td>MM36D00154</td>\n",
       "      <td>说明书</td>\n",
       "      <td>CPSS-135(P7436)</td>\n",
       "      <td>PCS</td>\n",
       "      <td>1</td>\n",
       "    </tr>\n",
       "    <tr>\n",
       "      <td>10</td>\n",
       "      <td>MM36D00155</td>\n",
       "      <td>说明书</td>\n",
       "      <td>CPSS-135(P7973)</td>\n",
       "      <td>PCS</td>\n",
       "      <td>1</td>\n",
       "    </tr>\n",
       "  </tbody>\n",
       "</table>\n",
       "</div>"
      ],
      "text/plain": [
       "          资材编号   品名               规格   单位  数量\n",
       "0   JJ36A12083   标签           NK1799  PCS   1\n",
       "1   JJ36E00646   标签          NC4629B  PCS   1\n",
       "2   JJ36E00657   标签           NC4873  PCS   1\n",
       "3   JJ36E21722  表示板           NK5891  PCS   2\n",
       "4   JJ36E60019   标签           NK5319  PCS   1\n",
       "5   JJ36E60916   标签           NT0006  PCS   1\n",
       "6   JJ36E90315   标签           NL0060  PCS   2\n",
       "7   JJ36E90326   标签           NL0061  PCS   2\n",
       "8   JJ36F42742   标签          NK3384B  PCS   1\n",
       "9   MM36D00154  说明书  CPSS-135(P7436)  PCS   1\n",
       "10  MM36D00155  说明书  CPSS-135(P7973)  PCS   1"
      ]
     },
     "execution_count": 17,
     "metadata": {},
     "output_type": "execute_result"
    }
   ],
   "source": [
    "### 7.2 数值排序\n",
    "#### 7.2.1 按照一列数值进行排序\n",
    "#整个表都以某一列为准，进行升序或降序排列\n",
    "#Python需要用到sort_values()方法，参数指明列名及升序还是降序\n",
    "df.sort_values(by=['资材编号'],ascending=True)"
   ]
  },
  {
   "cell_type": "code",
   "execution_count": 34,
   "metadata": {},
   "outputs": [
    {
     "data": {
      "text/html": [
       "<div>\n",
       "<style scoped>\n",
       "    .dataframe tbody tr th:only-of-type {\n",
       "        vertical-align: middle;\n",
       "    }\n",
       "\n",
       "    .dataframe tbody tr th {\n",
       "        vertical-align: top;\n",
       "    }\n",
       "\n",
       "    .dataframe thead th {\n",
       "        text-align: right;\n",
       "    }\n",
       "</style>\n",
       "<table border=\"1\" class=\"dataframe\">\n",
       "  <thead>\n",
       "    <tr style=\"text-align: right;\">\n",
       "      <th></th>\n",
       "      <th>资材编号</th>\n",
       "      <th>品名</th>\n",
       "      <th>规格</th>\n",
       "      <th>单位</th>\n",
       "      <th>数量</th>\n",
       "    </tr>\n",
       "  </thead>\n",
       "  <tbody>\n",
       "    <tr>\n",
       "      <td>0</td>\n",
       "      <td>JJ36A12083</td>\n",
       "      <td>标签</td>\n",
       "      <td>NK1799</td>\n",
       "      <td>PCS</td>\n",
       "      <td>1</td>\n",
       "    </tr>\n",
       "    <tr>\n",
       "      <td>3</td>\n",
       "      <td>JJ36E21722</td>\n",
       "      <td>表示板</td>\n",
       "      <td>NK5891</td>\n",
       "      <td>PCS</td>\n",
       "      <td>2</td>\n",
       "    </tr>\n",
       "    <tr>\n",
       "      <td>4</td>\n",
       "      <td>JJ36E60019</td>\n",
       "      <td>标签</td>\n",
       "      <td>NK5319</td>\n",
       "      <td>PCS</td>\n",
       "      <td>1</td>\n",
       "    </tr>\n",
       "    <tr>\n",
       "      <td>5</td>\n",
       "      <td>JJ36E60916</td>\n",
       "      <td>标签</td>\n",
       "      <td>NT0006</td>\n",
       "      <td>PCS</td>\n",
       "      <td>1</td>\n",
       "    </tr>\n",
       "    <tr>\n",
       "      <td>6</td>\n",
       "      <td>JJ36E90315</td>\n",
       "      <td>标签</td>\n",
       "      <td>NL0060</td>\n",
       "      <td>PCS</td>\n",
       "      <td>2</td>\n",
       "    </tr>\n",
       "    <tr>\n",
       "      <td>7</td>\n",
       "      <td>JJ36E90326</td>\n",
       "      <td>标签</td>\n",
       "      <td>NL0061</td>\n",
       "      <td>PCS</td>\n",
       "      <td>2</td>\n",
       "    </tr>\n",
       "    <tr>\n",
       "      <td>8</td>\n",
       "      <td>JJ36F42742</td>\n",
       "      <td>标签</td>\n",
       "      <td>NK3384B</td>\n",
       "      <td>PCS</td>\n",
       "      <td>1</td>\n",
       "    </tr>\n",
       "    <tr>\n",
       "      <td>9</td>\n",
       "      <td>MM36D00154</td>\n",
       "      <td>说明书</td>\n",
       "      <td>CPSS-135(P7436)</td>\n",
       "      <td>PCS</td>\n",
       "      <td>1</td>\n",
       "    </tr>\n",
       "    <tr>\n",
       "      <td>10</td>\n",
       "      <td>MM36D00155</td>\n",
       "      <td>说明书</td>\n",
       "      <td>CPSS-135(P7973)</td>\n",
       "      <td>PCS</td>\n",
       "      <td>1</td>\n",
       "    </tr>\n",
       "    <tr>\n",
       "      <td>1</td>\n",
       "      <td>JJ36E00646</td>\n",
       "      <td>标签</td>\n",
       "      <td>NC4629B</td>\n",
       "      <td>NaN</td>\n",
       "      <td>1</td>\n",
       "    </tr>\n",
       "    <tr>\n",
       "      <td>2</td>\n",
       "      <td>JJ36E00657</td>\n",
       "      <td>标签</td>\n",
       "      <td>NC4873</td>\n",
       "      <td>NaN</td>\n",
       "      <td>1</td>\n",
       "    </tr>\n",
       "  </tbody>\n",
       "</table>\n",
       "</div>"
      ],
      "text/plain": [
       "          资材编号   品名               规格   单位  数量\n",
       "0   JJ36A12083   标签           NK1799  PCS   1\n",
       "3   JJ36E21722  表示板           NK5891  PCS   2\n",
       "4   JJ36E60019   标签           NK5319  PCS   1\n",
       "5   JJ36E60916   标签           NT0006  PCS   1\n",
       "6   JJ36E90315   标签           NL0060  PCS   2\n",
       "7   JJ36E90326   标签           NL0061  PCS   2\n",
       "8   JJ36F42742   标签          NK3384B  PCS   1\n",
       "9   MM36D00154  说明书  CPSS-135(P7436)  PCS   1\n",
       "10  MM36D00155  说明书  CPSS-135(P7973)  PCS   1\n",
       "1   JJ36E00646   标签          NC4629B  NaN   1\n",
       "2   JJ36E00657   标签           NC4873  NaN   1"
      ]
     },
     "execution_count": 34,
     "metadata": {},
     "output_type": "execute_result"
    }
   ],
   "source": [
    "#### 7.2.2 按照有缺失值的列进行排序\n",
    "#在Python中，当待排序的列中有缺失值时，可以通过设置na_position参数对缺失值的显示位置进行设置，默认参数值为last，可以不写，缺失值在最后。\n",
    "df = pd.read_csv(\"./维修焊机用标签.csv\",encoding='ANSI',sep='\\t')\n",
    "df\n",
    "df.sort_values(by=['单位'],ascending=True,na_position=\"last\")"
   ]
  },
  {
   "cell_type": "code",
   "execution_count": 36,
   "metadata": {},
   "outputs": [
    {
     "data": {
      "text/html": [
       "<div>\n",
       "<style scoped>\n",
       "    .dataframe tbody tr th:only-of-type {\n",
       "        vertical-align: middle;\n",
       "    }\n",
       "\n",
       "    .dataframe tbody tr th {\n",
       "        vertical-align: top;\n",
       "    }\n",
       "\n",
       "    .dataframe thead th {\n",
       "        text-align: right;\n",
       "    }\n",
       "</style>\n",
       "<table border=\"1\" class=\"dataframe\">\n",
       "  <thead>\n",
       "    <tr style=\"text-align: right;\">\n",
       "      <th></th>\n",
       "      <th>资材编号</th>\n",
       "      <th>品名</th>\n",
       "      <th>规格</th>\n",
       "      <th>单位</th>\n",
       "      <th>数量</th>\n",
       "    </tr>\n",
       "  </thead>\n",
       "  <tbody>\n",
       "    <tr>\n",
       "      <td>6</td>\n",
       "      <td>JJ36E90315</td>\n",
       "      <td>标签</td>\n",
       "      <td>NL0060</td>\n",
       "      <td>PCS</td>\n",
       "      <td>2</td>\n",
       "    </tr>\n",
       "    <tr>\n",
       "      <td>7</td>\n",
       "      <td>JJ36E90326</td>\n",
       "      <td>标签</td>\n",
       "      <td>NL0061</td>\n",
       "      <td>PCS</td>\n",
       "      <td>2</td>\n",
       "    </tr>\n",
       "    <tr>\n",
       "      <td>0</td>\n",
       "      <td>JJ36A12083</td>\n",
       "      <td>标签</td>\n",
       "      <td>NK1799</td>\n",
       "      <td>PCS</td>\n",
       "      <td>1</td>\n",
       "    </tr>\n",
       "    <tr>\n",
       "      <td>1</td>\n",
       "      <td>JJ36E00646</td>\n",
       "      <td>标签</td>\n",
       "      <td>NC4629B</td>\n",
       "      <td>NaN</td>\n",
       "      <td>1</td>\n",
       "    </tr>\n",
       "    <tr>\n",
       "      <td>2</td>\n",
       "      <td>JJ36E00657</td>\n",
       "      <td>标签</td>\n",
       "      <td>NC4873</td>\n",
       "      <td>NaN</td>\n",
       "      <td>1</td>\n",
       "    </tr>\n",
       "    <tr>\n",
       "      <td>4</td>\n",
       "      <td>JJ36E60019</td>\n",
       "      <td>标签</td>\n",
       "      <td>NK5319</td>\n",
       "      <td>PCS</td>\n",
       "      <td>1</td>\n",
       "    </tr>\n",
       "    <tr>\n",
       "      <td>5</td>\n",
       "      <td>JJ36E60916</td>\n",
       "      <td>标签</td>\n",
       "      <td>NT0006</td>\n",
       "      <td>PCS</td>\n",
       "      <td>1</td>\n",
       "    </tr>\n",
       "    <tr>\n",
       "      <td>8</td>\n",
       "      <td>JJ36F42742</td>\n",
       "      <td>标签</td>\n",
       "      <td>NK3384B</td>\n",
       "      <td>PCS</td>\n",
       "      <td>1</td>\n",
       "    </tr>\n",
       "    <tr>\n",
       "      <td>3</td>\n",
       "      <td>JJ36E21722</td>\n",
       "      <td>表示板</td>\n",
       "      <td>NK5891</td>\n",
       "      <td>PCS</td>\n",
       "      <td>2</td>\n",
       "    </tr>\n",
       "    <tr>\n",
       "      <td>9</td>\n",
       "      <td>MM36D00154</td>\n",
       "      <td>说明书</td>\n",
       "      <td>CPSS-135(P7436)</td>\n",
       "      <td>PCS</td>\n",
       "      <td>1</td>\n",
       "    </tr>\n",
       "    <tr>\n",
       "      <td>10</td>\n",
       "      <td>MM36D00155</td>\n",
       "      <td>说明书</td>\n",
       "      <td>CPSS-135(P7973)</td>\n",
       "      <td>PCS</td>\n",
       "      <td>1</td>\n",
       "    </tr>\n",
       "  </tbody>\n",
       "</table>\n",
       "</div>"
      ],
      "text/plain": [
       "          资材编号   品名               规格   单位  数量\n",
       "6   JJ36E90315   标签           NL0060  PCS   2\n",
       "7   JJ36E90326   标签           NL0061  PCS   2\n",
       "0   JJ36A12083   标签           NK1799  PCS   1\n",
       "1   JJ36E00646   标签          NC4629B  NaN   1\n",
       "2   JJ36E00657   标签           NC4873  NaN   1\n",
       "4   JJ36E60019   标签           NK5319  PCS   1\n",
       "5   JJ36E60916   标签           NT0006  PCS   1\n",
       "8   JJ36F42742   标签          NK3384B  PCS   1\n",
       "3   JJ36E21722  表示板           NK5891  PCS   2\n",
       "9   MM36D00154  说明书  CPSS-135(P7436)  PCS   1\n",
       "10  MM36D00155  说明书  CPSS-135(P7973)  PCS   1"
      ]
     },
     "execution_count": 36,
     "metadata": {},
     "output_type": "execute_result"
    }
   ],
   "source": [
    "#### 7.2.3 按照多列值进行排序\n",
    "#同时依据多列数据进行升序、降序排列，当第一列出现重复值时，按照第2列进行排序……以此类推。\n",
    "#在Python中实现按照多列进行排序，用到的方法同样是sort_values()方法分别以列表的形式指明要排序的列以及排序方式即可。\n",
    "df.sort_values(by=['品名','数量'],ascending=[True,False])"
   ]
  },
  {
   "cell_type": "code",
   "execution_count": null,
   "metadata": {},
   "outputs": [],
   "source": [
    "### 7.3 数值排名\n",
    "#数值排名和数值排序是相对应的，排名会新增一列，这一列用来存放数据的排名情况，排名是从1开始的。\n",
    "#Excel中的rank.eq函数就是用来给学生成绩进行排名的的、\n",
    "#Python中对数值进行排名，需要用到rank()方法。rank方法主要有两个参数：\n",
    "#ascending排序方式，默认是升序排列\n",
    "#method重复值的处理方式：\n",
    "# ○ average 与Excel中rank.avg函数的功能一样\n",
    "# ○ first 按值在所有的待排列数据中出现的先后顺序排名\n",
    "# ○ min 与Excel中的rank.eq函数的功能一样\n",
    "# ○ max 与min相反，取重复值对应的最大排名。"
   ]
  },
  {
   "cell_type": "code",
   "execution_count": 39,
   "metadata": {},
   "outputs": [
    {
     "data": {
      "text/plain": [
       "0      3.5\n",
       "1      3.5\n",
       "2      3.5\n",
       "3      3.5\n",
       "4      3.5\n",
       "5      3.5\n",
       "6      7.0\n",
       "7      8.0\n",
       "8     11.0\n",
       "9     11.0\n",
       "10    11.0\n",
       "11    11.0\n",
       "12    11.0\n",
       "13    14.0\n",
       "14    15.0\n",
       "15    16.0\n",
       "16    17.0\n",
       "17    20.0\n",
       "18    20.0\n",
       "19    20.0\n",
       "20    20.0\n",
       "21    20.0\n",
       "Name: test, dtype: float64"
      ]
     },
     "execution_count": 39,
     "metadata": {},
     "output_type": "execute_result"
    }
   ],
   "source": [
    "df = pd.read_excel('../english.xlsx')\n",
    "df['test'].rank(method='average')"
   ]
  },
  {
   "cell_type": "code",
   "execution_count": 41,
   "metadata": {},
   "outputs": [
    {
     "data": {
      "text/html": [
       "<div>\n",
       "<style scoped>\n",
       "    .dataframe tbody tr th:only-of-type {\n",
       "        vertical-align: middle;\n",
       "    }\n",
       "\n",
       "    .dataframe tbody tr th {\n",
       "        vertical-align: top;\n",
       "    }\n",
       "\n",
       "    .dataframe thead th {\n",
       "        text-align: right;\n",
       "    }\n",
       "</style>\n",
       "<table border=\"1\" class=\"dataframe\">\n",
       "  <thead>\n",
       "    <tr style=\"text-align: right;\">\n",
       "      <th></th>\n",
       "      <th>单词</th>\n",
       "      <th>意义</th>\n",
       "      <th>test</th>\n",
       "      <th>Unnamed: 3</th>\n",
       "      <th>Unnamed: 4</th>\n",
       "    </tr>\n",
       "  </thead>\n",
       "  <tbody>\n",
       "    <tr>\n",
       "      <td>0</td>\n",
       "      <td>officially</td>\n",
       "      <td>官方的 正式的</td>\n",
       "      <td>1</td>\n",
       "      <td>19.5</td>\n",
       "      <td>1</td>\n",
       "    </tr>\n",
       "    <tr>\n",
       "      <td>1</td>\n",
       "      <td>Keep-Alive</td>\n",
       "      <td>长连接</td>\n",
       "      <td>1</td>\n",
       "      <td>19.5</td>\n",
       "      <td>1</td>\n",
       "    </tr>\n",
       "    <tr>\n",
       "      <td>2</td>\n",
       "      <td>great on</td>\n",
       "      <td>熟悉的 热衷于</td>\n",
       "      <td>1</td>\n",
       "      <td>19.5</td>\n",
       "      <td>1</td>\n",
       "    </tr>\n",
       "    <tr>\n",
       "      <td>3</td>\n",
       "      <td>prose</td>\n",
       "      <td>散文</td>\n",
       "      <td>1</td>\n",
       "      <td>19.5</td>\n",
       "      <td>1</td>\n",
       "    </tr>\n",
       "    <tr>\n",
       "      <td>4</td>\n",
       "      <td>get out of</td>\n",
       "      <td>摆脱</td>\n",
       "      <td>1</td>\n",
       "      <td>19.5</td>\n",
       "      <td>1</td>\n",
       "    </tr>\n",
       "    <tr>\n",
       "      <td>5</td>\n",
       "      <td>in mind</td>\n",
       "      <td>在心里</td>\n",
       "      <td>1</td>\n",
       "      <td>19.5</td>\n",
       "      <td>1</td>\n",
       "    </tr>\n",
       "    <tr>\n",
       "      <td>6</td>\n",
       "      <td>contributions</td>\n",
       "      <td>捐款 贡献</td>\n",
       "      <td>2</td>\n",
       "      <td>16.0</td>\n",
       "      <td>7</td>\n",
       "    </tr>\n",
       "    <tr>\n",
       "      <td>7</td>\n",
       "      <td>as obvious</td>\n",
       "      <td>一目了然 显而易见</td>\n",
       "      <td>3</td>\n",
       "      <td>15.0</td>\n",
       "      <td>8</td>\n",
       "    </tr>\n",
       "    <tr>\n",
       "      <td>8</td>\n",
       "      <td>webpage</td>\n",
       "      <td>网页</td>\n",
       "      <td>4</td>\n",
       "      <td>12.0</td>\n",
       "      <td>9</td>\n",
       "    </tr>\n",
       "    <tr>\n",
       "      <td>9</td>\n",
       "      <td>pass in</td>\n",
       "      <td>传入</td>\n",
       "      <td>4</td>\n",
       "      <td>12.0</td>\n",
       "      <td>9</td>\n",
       "    </tr>\n",
       "    <tr>\n",
       "      <td>10</td>\n",
       "      <td>seamlessly</td>\n",
       "      <td>天衣无缝</td>\n",
       "      <td>4</td>\n",
       "      <td>12.0</td>\n",
       "      <td>9</td>\n",
       "    </tr>\n",
       "    <tr>\n",
       "      <td>11</td>\n",
       "      <td>raw</td>\n",
       "      <td>未经加工的</td>\n",
       "      <td>4</td>\n",
       "      <td>12.0</td>\n",
       "      <td>9</td>\n",
       "    </tr>\n",
       "    <tr>\n",
       "      <td>12</td>\n",
       "      <td>explicitly</td>\n",
       "      <td>明确的</td>\n",
       "      <td>4</td>\n",
       "      <td>12.0</td>\n",
       "      <td>9</td>\n",
       "    </tr>\n",
       "    <tr>\n",
       "      <td>13</td>\n",
       "      <td>case-insensitive</td>\n",
       "      <td>不区分大小写</td>\n",
       "      <td>5</td>\n",
       "      <td>9.0</td>\n",
       "      <td>14</td>\n",
       "    </tr>\n",
       "    <tr>\n",
       "      <td>14</td>\n",
       "      <td>satisfied</td>\n",
       "      <td>满意的 满足的</td>\n",
       "      <td>6</td>\n",
       "      <td>8.0</td>\n",
       "      <td>15</td>\n",
       "    </tr>\n",
       "    <tr>\n",
       "      <td>15</td>\n",
       "      <td>profiler</td>\n",
       "      <td>分析器</td>\n",
       "      <td>7</td>\n",
       "      <td>7.0</td>\n",
       "      <td>16</td>\n",
       "    </tr>\n",
       "    <tr>\n",
       "      <td>16</td>\n",
       "      <td>discontinued</td>\n",
       "      <td>停产 停止</td>\n",
       "      <td>8</td>\n",
       "      <td>6.0</td>\n",
       "      <td>17</td>\n",
       "    </tr>\n",
       "    <tr>\n",
       "      <td>17</td>\n",
       "      <td>deprecation</td>\n",
       "      <td>反对</td>\n",
       "      <td>10</td>\n",
       "      <td>3.0</td>\n",
       "      <td>18</td>\n",
       "    </tr>\n",
       "    <tr>\n",
       "      <td>18</td>\n",
       "      <td>fragment</td>\n",
       "      <td>片段</td>\n",
       "      <td>10</td>\n",
       "      <td>3.0</td>\n",
       "      <td>18</td>\n",
       "    </tr>\n",
       "    <tr>\n",
       "      <td>19</td>\n",
       "      <td>paddle</td>\n",
       "      <td>桨 船桨</td>\n",
       "      <td>10</td>\n",
       "      <td>3.0</td>\n",
       "      <td>18</td>\n",
       "    </tr>\n",
       "    <tr>\n",
       "      <td>20</td>\n",
       "      <td>inspector</td>\n",
       "      <td>检查</td>\n",
       "      <td>10</td>\n",
       "      <td>3.0</td>\n",
       "      <td>18</td>\n",
       "    </tr>\n",
       "    <tr>\n",
       "      <td>21</td>\n",
       "      <td>rank</td>\n",
       "      <td>地位 级别 军衔</td>\n",
       "      <td>10</td>\n",
       "      <td>3.0</td>\n",
       "      <td>18</td>\n",
       "    </tr>\n",
       "  </tbody>\n",
       "</table>\n",
       "</div>"
      ],
      "text/plain": [
       "                  单词         意义  test  Unnamed: 3  Unnamed: 4\n",
       "0         officially    官方的 正式的     1        19.5           1\n",
       "1         Keep-Alive        长连接     1        19.5           1\n",
       "2           great on    熟悉的 热衷于     1        19.5           1\n",
       "3              prose         散文     1        19.5           1\n",
       "4         get out of         摆脱     1        19.5           1\n",
       "5            in mind        在心里     1        19.5           1\n",
       "6      contributions      捐款 贡献     2        16.0           7\n",
       "7         as obvious  一目了然 显而易见     3        15.0           8\n",
       "8            webpage         网页     4        12.0           9\n",
       "9            pass in         传入     4        12.0           9\n",
       "10        seamlessly       天衣无缝     4        12.0           9\n",
       "11               raw      未经加工的     4        12.0           9\n",
       "12        explicitly        明确的     4        12.0           9\n",
       "13  case-insensitive     不区分大小写     5         9.0          14\n",
       "14         satisfied    满意的 满足的     6         8.0          15\n",
       "15          profiler        分析器     7         7.0          16\n",
       "16      discontinued      停产 停止     8         6.0          17\n",
       "17       deprecation         反对    10         3.0          18\n",
       "18          fragment         片段    10         3.0          18\n",
       "19            paddle       桨 船桨    10         3.0          18\n",
       "20         inspector         检查    10         3.0          18\n",
       "21              rank   地位 级别 军衔    10         3.0          18"
      ]
     },
     "execution_count": 41,
     "metadata": {},
     "output_type": "execute_result"
    }
   ],
   "source": [
    "df"
   ]
  },
  {
   "cell_type": "code",
   "execution_count": 40,
   "metadata": {},
   "outputs": [
    {
     "data": {
      "text/plain": [
       "0      1.0\n",
       "1      2.0\n",
       "2      3.0\n",
       "3      4.0\n",
       "4      5.0\n",
       "5      6.0\n",
       "6      7.0\n",
       "7      8.0\n",
       "8      9.0\n",
       "9     10.0\n",
       "10    11.0\n",
       "11    12.0\n",
       "12    13.0\n",
       "13    14.0\n",
       "14    15.0\n",
       "15    16.0\n",
       "16    17.0\n",
       "17    18.0\n",
       "18    19.0\n",
       "19    20.0\n",
       "20    21.0\n",
       "21    22.0\n",
       "Name: test, dtype: float64"
      ]
     },
     "execution_count": 40,
     "metadata": {},
     "output_type": "execute_result"
    }
   ],
   "source": [
    "df['test'].rank(method='first')"
   ]
  },
  {
   "cell_type": "code",
   "execution_count": 43,
   "metadata": {},
   "outputs": [
    {
     "data": {
      "text/plain": [
       "0      1.0\n",
       "1      1.0\n",
       "2      1.0\n",
       "3      1.0\n",
       "4      1.0\n",
       "5      1.0\n",
       "6      7.0\n",
       "7      8.0\n",
       "8      9.0\n",
       "9      9.0\n",
       "10     9.0\n",
       "11     9.0\n",
       "12     9.0\n",
       "13    14.0\n",
       "14    15.0\n",
       "15    16.0\n",
       "16    17.0\n",
       "17    18.0\n",
       "18    18.0\n",
       "19    18.0\n",
       "20    18.0\n",
       "21    18.0\n",
       "Name: test, dtype: float64"
      ]
     },
     "execution_count": 43,
     "metadata": {},
     "output_type": "execute_result"
    }
   ],
   "source": [
    "df['test'].rank(method='min')"
   ]
  },
  {
   "cell_type": "code",
   "execution_count": 44,
   "metadata": {},
   "outputs": [
    {
     "data": {
      "text/plain": [
       "0      6.0\n",
       "1      6.0\n",
       "2      6.0\n",
       "3      6.0\n",
       "4      6.0\n",
       "5      6.0\n",
       "6      7.0\n",
       "7      8.0\n",
       "8     13.0\n",
       "9     13.0\n",
       "10    13.0\n",
       "11    13.0\n",
       "12    13.0\n",
       "13    14.0\n",
       "14    15.0\n",
       "15    16.0\n",
       "16    17.0\n",
       "17    22.0\n",
       "18    22.0\n",
       "19    22.0\n",
       "20    22.0\n",
       "21    22.0\n",
       "Name: test, dtype: float64"
      ]
     },
     "execution_count": 44,
     "metadata": {},
     "output_type": "execute_result"
    }
   ],
   "source": [
    "df['test'].rank(method='max')"
   ]
  },
  {
   "cell_type": "code",
   "execution_count": 46,
   "metadata": {},
   "outputs": [
    {
     "data": {
      "text/html": [
       "<div>\n",
       "<style scoped>\n",
       "    .dataframe tbody tr th:only-of-type {\n",
       "        vertical-align: middle;\n",
       "    }\n",
       "\n",
       "    .dataframe tbody tr th {\n",
       "        vertical-align: top;\n",
       "    }\n",
       "\n",
       "    .dataframe thead th {\n",
       "        text-align: right;\n",
       "    }\n",
       "</style>\n",
       "<table border=\"1\" class=\"dataframe\">\n",
       "  <thead>\n",
       "    <tr style=\"text-align: right;\">\n",
       "      <th></th>\n",
       "      <th>单词</th>\n",
       "      <th>意义</th>\n",
       "      <th>test</th>\n",
       "      <th>Unnamed: 3</th>\n",
       "      <th>Unnamed: 4</th>\n",
       "    </tr>\n",
       "  </thead>\n",
       "  <tbody>\n",
       "    <tr>\n",
       "      <td>0</td>\n",
       "      <td>officially</td>\n",
       "      <td>官方的 正式的</td>\n",
       "      <td>1</td>\n",
       "      <td>19.5</td>\n",
       "      <td>1</td>\n",
       "    </tr>\n",
       "    <tr>\n",
       "      <td>1</td>\n",
       "      <td>Keep-Alive</td>\n",
       "      <td>长连接</td>\n",
       "      <td>1</td>\n",
       "      <td>19.5</td>\n",
       "      <td>1</td>\n",
       "    </tr>\n",
       "    <tr>\n",
       "      <td>2</td>\n",
       "      <td>great on</td>\n",
       "      <td>熟悉的 热衷于</td>\n",
       "      <td>1</td>\n",
       "      <td>19.5</td>\n",
       "      <td>1</td>\n",
       "    </tr>\n",
       "    <tr>\n",
       "      <td>3</td>\n",
       "      <td>prose</td>\n",
       "      <td>散文</td>\n",
       "      <td>1</td>\n",
       "      <td>19.5</td>\n",
       "      <td>1</td>\n",
       "    </tr>\n",
       "    <tr>\n",
       "      <td>4</td>\n",
       "      <td>get out of</td>\n",
       "      <td>摆脱</td>\n",
       "      <td>1</td>\n",
       "      <td>19.5</td>\n",
       "      <td>1</td>\n",
       "    </tr>\n",
       "  </tbody>\n",
       "</table>\n",
       "</div>"
      ],
      "text/plain": [
       "           单词       意义  test  Unnamed: 3  Unnamed: 4\n",
       "0  officially  官方的 正式的     1        19.5           1\n",
       "1  Keep-Alive      长连接     1        19.5           1\n",
       "2    great on  熟悉的 热衷于     1        19.5           1\n",
       "3       prose       散文     1        19.5           1\n",
       "4  get out of       摆脱     1        19.5           1"
      ]
     },
     "execution_count": 46,
     "metadata": {},
     "output_type": "execute_result"
    }
   ],
   "source": [
    "### 7.4 数值删除\n",
    "#数值删除是对数据表中一些无用的数据进行删除操作\n",
    "#### 7.4.1 删除列\n",
    "#在Python中，用drop()方法删除列，在参数中指明列名或列位置。\n",
    "#在drop()方法后的括号中直接传入待删除的列名，需要加一个axis，并让其参数等于1，表示删除列。\n",
    "#也可以在drop()方法的参数中直接传入待删除列的位置，也要用到axis=1"
   ]
  },
  {
   "cell_type": "code",
   "execution_count": 47,
   "metadata": {},
   "outputs": [
    {
     "data": {
      "text/html": [
       "<div>\n",
       "<style scoped>\n",
       "    .dataframe tbody tr th:only-of-type {\n",
       "        vertical-align: middle;\n",
       "    }\n",
       "\n",
       "    .dataframe tbody tr th {\n",
       "        vertical-align: top;\n",
       "    }\n",
       "\n",
       "    .dataframe thead th {\n",
       "        text-align: right;\n",
       "    }\n",
       "</style>\n",
       "<table border=\"1\" class=\"dataframe\">\n",
       "  <thead>\n",
       "    <tr style=\"text-align: right;\">\n",
       "      <th></th>\n",
       "      <th>单词</th>\n",
       "      <th>意义</th>\n",
       "      <th>test</th>\n",
       "      <th>Unnamed: 3</th>\n",
       "      <th>Unnamed: 4</th>\n",
       "    </tr>\n",
       "  </thead>\n",
       "  <tbody>\n",
       "    <tr>\n",
       "      <td>0</td>\n",
       "      <td>officially</td>\n",
       "      <td>官方的 正式的</td>\n",
       "      <td>1</td>\n",
       "      <td>19.5</td>\n",
       "      <td>1</td>\n",
       "    </tr>\n",
       "    <tr>\n",
       "      <td>1</td>\n",
       "      <td>Keep-Alive</td>\n",
       "      <td>长连接</td>\n",
       "      <td>1</td>\n",
       "      <td>19.5</td>\n",
       "      <td>1</td>\n",
       "    </tr>\n",
       "    <tr>\n",
       "      <td>2</td>\n",
       "      <td>great on</td>\n",
       "      <td>熟悉的 热衷于</td>\n",
       "      <td>1</td>\n",
       "      <td>19.5</td>\n",
       "      <td>1</td>\n",
       "    </tr>\n",
       "    <tr>\n",
       "      <td>3</td>\n",
       "      <td>prose</td>\n",
       "      <td>散文</td>\n",
       "      <td>1</td>\n",
       "      <td>19.5</td>\n",
       "      <td>1</td>\n",
       "    </tr>\n",
       "    <tr>\n",
       "      <td>4</td>\n",
       "      <td>get out of</td>\n",
       "      <td>摆脱</td>\n",
       "      <td>1</td>\n",
       "      <td>19.5</td>\n",
       "      <td>1</td>\n",
       "    </tr>\n",
       "  </tbody>\n",
       "</table>\n",
       "</div>"
      ],
      "text/plain": [
       "           单词       意义  test  Unnamed: 3  Unnamed: 4\n",
       "0  officially  官方的 正式的     1        19.5           1\n",
       "1  Keep-Alive      长连接     1        19.5           1\n",
       "2    great on  熟悉的 热衷于     1        19.5           1\n",
       "3       prose       散文     1        19.5           1\n",
       "4  get out of       摆脱     1        19.5           1"
      ]
     },
     "execution_count": 47,
     "metadata": {},
     "output_type": "execute_result"
    }
   ],
   "source": [
    "df[0:5]"
   ]
  },
  {
   "cell_type": "code",
   "execution_count": 51,
   "metadata": {},
   "outputs": [
    {
     "data": {
      "text/html": [
       "<div>\n",
       "<style scoped>\n",
       "    .dataframe tbody tr th:only-of-type {\n",
       "        vertical-align: middle;\n",
       "    }\n",
       "\n",
       "    .dataframe tbody tr th {\n",
       "        vertical-align: top;\n",
       "    }\n",
       "\n",
       "    .dataframe thead th {\n",
       "        text-align: right;\n",
       "    }\n",
       "</style>\n",
       "<table border=\"1\" class=\"dataframe\">\n",
       "  <thead>\n",
       "    <tr style=\"text-align: right;\">\n",
       "      <th></th>\n",
       "      <th>单词</th>\n",
       "      <th>Unnamed: 3</th>\n",
       "      <th>Unnamed: 4</th>\n",
       "    </tr>\n",
       "  </thead>\n",
       "  <tbody>\n",
       "    <tr>\n",
       "      <td>0</td>\n",
       "      <td>officially</td>\n",
       "      <td>19.5</td>\n",
       "      <td>1</td>\n",
       "    </tr>\n",
       "    <tr>\n",
       "      <td>1</td>\n",
       "      <td>Keep-Alive</td>\n",
       "      <td>19.5</td>\n",
       "      <td>1</td>\n",
       "    </tr>\n",
       "    <tr>\n",
       "      <td>2</td>\n",
       "      <td>great on</td>\n",
       "      <td>19.5</td>\n",
       "      <td>1</td>\n",
       "    </tr>\n",
       "    <tr>\n",
       "      <td>3</td>\n",
       "      <td>prose</td>\n",
       "      <td>19.5</td>\n",
       "      <td>1</td>\n",
       "    </tr>\n",
       "    <tr>\n",
       "      <td>4</td>\n",
       "      <td>get out of</td>\n",
       "      <td>19.5</td>\n",
       "      <td>1</td>\n",
       "    </tr>\n",
       "    <tr>\n",
       "      <td>5</td>\n",
       "      <td>in mind</td>\n",
       "      <td>19.5</td>\n",
       "      <td>1</td>\n",
       "    </tr>\n",
       "    <tr>\n",
       "      <td>6</td>\n",
       "      <td>contributions</td>\n",
       "      <td>16.0</td>\n",
       "      <td>7</td>\n",
       "    </tr>\n",
       "    <tr>\n",
       "      <td>7</td>\n",
       "      <td>as obvious</td>\n",
       "      <td>15.0</td>\n",
       "      <td>8</td>\n",
       "    </tr>\n",
       "    <tr>\n",
       "      <td>8</td>\n",
       "      <td>webpage</td>\n",
       "      <td>12.0</td>\n",
       "      <td>9</td>\n",
       "    </tr>\n",
       "    <tr>\n",
       "      <td>9</td>\n",
       "      <td>pass in</td>\n",
       "      <td>12.0</td>\n",
       "      <td>9</td>\n",
       "    </tr>\n",
       "    <tr>\n",
       "      <td>10</td>\n",
       "      <td>seamlessly</td>\n",
       "      <td>12.0</td>\n",
       "      <td>9</td>\n",
       "    </tr>\n",
       "    <tr>\n",
       "      <td>11</td>\n",
       "      <td>raw</td>\n",
       "      <td>12.0</td>\n",
       "      <td>9</td>\n",
       "    </tr>\n",
       "    <tr>\n",
       "      <td>12</td>\n",
       "      <td>explicitly</td>\n",
       "      <td>12.0</td>\n",
       "      <td>9</td>\n",
       "    </tr>\n",
       "    <tr>\n",
       "      <td>13</td>\n",
       "      <td>case-insensitive</td>\n",
       "      <td>9.0</td>\n",
       "      <td>14</td>\n",
       "    </tr>\n",
       "    <tr>\n",
       "      <td>14</td>\n",
       "      <td>satisfied</td>\n",
       "      <td>8.0</td>\n",
       "      <td>15</td>\n",
       "    </tr>\n",
       "    <tr>\n",
       "      <td>15</td>\n",
       "      <td>profiler</td>\n",
       "      <td>7.0</td>\n",
       "      <td>16</td>\n",
       "    </tr>\n",
       "    <tr>\n",
       "      <td>16</td>\n",
       "      <td>discontinued</td>\n",
       "      <td>6.0</td>\n",
       "      <td>17</td>\n",
       "    </tr>\n",
       "    <tr>\n",
       "      <td>17</td>\n",
       "      <td>deprecation</td>\n",
       "      <td>3.0</td>\n",
       "      <td>18</td>\n",
       "    </tr>\n",
       "    <tr>\n",
       "      <td>18</td>\n",
       "      <td>fragment</td>\n",
       "      <td>3.0</td>\n",
       "      <td>18</td>\n",
       "    </tr>\n",
       "    <tr>\n",
       "      <td>19</td>\n",
       "      <td>paddle</td>\n",
       "      <td>3.0</td>\n",
       "      <td>18</td>\n",
       "    </tr>\n",
       "    <tr>\n",
       "      <td>20</td>\n",
       "      <td>inspector</td>\n",
       "      <td>3.0</td>\n",
       "      <td>18</td>\n",
       "    </tr>\n",
       "    <tr>\n",
       "      <td>21</td>\n",
       "      <td>rank</td>\n",
       "      <td>3.0</td>\n",
       "      <td>18</td>\n",
       "    </tr>\n",
       "  </tbody>\n",
       "</table>\n",
       "</div>"
      ],
      "text/plain": [
       "                  单词  Unnamed: 3  Unnamed: 4\n",
       "0         officially        19.5           1\n",
       "1         Keep-Alive        19.5           1\n",
       "2           great on        19.5           1\n",
       "3              prose        19.5           1\n",
       "4         get out of        19.5           1\n",
       "5            in mind        19.5           1\n",
       "6      contributions        16.0           7\n",
       "7         as obvious        15.0           8\n",
       "8            webpage        12.0           9\n",
       "9            pass in        12.0           9\n",
       "10        seamlessly        12.0           9\n",
       "11               raw        12.0           9\n",
       "12        explicitly        12.0           9\n",
       "13  case-insensitive         9.0          14\n",
       "14         satisfied         8.0          15\n",
       "15          profiler         7.0          16\n",
       "16      discontinued         6.0          17\n",
       "17       deprecation         3.0          18\n",
       "18          fragment         3.0          18\n",
       "19            paddle         3.0          18\n",
       "20         inspector         3.0          18\n",
       "21              rank         3.0          18"
      ]
     },
     "execution_count": 51,
     "metadata": {},
     "output_type": "execute_result"
    }
   ],
   "source": [
    "df.drop([\"意义\",\"test\"],axis=1)"
   ]
  },
  {
   "cell_type": "code",
   "execution_count": 3,
   "metadata": {},
   "outputs": [
    {
     "data": {
      "text/html": [
       "<div>\n",
       "<style scoped>\n",
       "    .dataframe tbody tr th:only-of-type {\n",
       "        vertical-align: middle;\n",
       "    }\n",
       "\n",
       "    .dataframe tbody tr th {\n",
       "        vertical-align: top;\n",
       "    }\n",
       "\n",
       "    .dataframe thead th {\n",
       "        text-align: right;\n",
       "    }\n",
       "</style>\n",
       "<table border=\"1\" class=\"dataframe\">\n",
       "  <thead>\n",
       "    <tr style=\"text-align: right;\">\n",
       "      <th></th>\n",
       "      <th>单词</th>\n",
       "      <th>意义</th>\n",
       "      <th>数据</th>\n",
       "      <th>avg</th>\n",
       "      <th>first</th>\n",
       "    </tr>\n",
       "  </thead>\n",
       "  <tbody>\n",
       "    <tr>\n",
       "      <td>0</td>\n",
       "      <td>officially</td>\n",
       "      <td>官方的 正式的</td>\n",
       "      <td>1</td>\n",
       "      <td>19.5</td>\n",
       "      <td>1</td>\n",
       "    </tr>\n",
       "    <tr>\n",
       "      <td>1</td>\n",
       "      <td>Keep-Alive</td>\n",
       "      <td>长连接</td>\n",
       "      <td>1</td>\n",
       "      <td>19.5</td>\n",
       "      <td>1</td>\n",
       "    </tr>\n",
       "    <tr>\n",
       "      <td>2</td>\n",
       "      <td>great on</td>\n",
       "      <td>熟悉的 热衷于</td>\n",
       "      <td>1</td>\n",
       "      <td>19.5</td>\n",
       "      <td>1</td>\n",
       "    </tr>\n",
       "    <tr>\n",
       "      <td>3</td>\n",
       "      <td>prose</td>\n",
       "      <td>散文</td>\n",
       "      <td>1</td>\n",
       "      <td>19.5</td>\n",
       "      <td>1</td>\n",
       "    </tr>\n",
       "    <tr>\n",
       "      <td>4</td>\n",
       "      <td>get out of</td>\n",
       "      <td>摆脱</td>\n",
       "      <td>1</td>\n",
       "      <td>19.5</td>\n",
       "      <td>1</td>\n",
       "    </tr>\n",
       "    <tr>\n",
       "      <td>5</td>\n",
       "      <td>in mind</td>\n",
       "      <td>在心里</td>\n",
       "      <td>1</td>\n",
       "      <td>19.5</td>\n",
       "      <td>1</td>\n",
       "    </tr>\n",
       "    <tr>\n",
       "      <td>6</td>\n",
       "      <td>contributions</td>\n",
       "      <td>捐款 贡献</td>\n",
       "      <td>2</td>\n",
       "      <td>16.0</td>\n",
       "      <td>7</td>\n",
       "    </tr>\n",
       "    <tr>\n",
       "      <td>7</td>\n",
       "      <td>as obvious</td>\n",
       "      <td>一目了然 显而易见</td>\n",
       "      <td>3</td>\n",
       "      <td>15.0</td>\n",
       "      <td>8</td>\n",
       "    </tr>\n",
       "    <tr>\n",
       "      <td>8</td>\n",
       "      <td>webpage</td>\n",
       "      <td>网页</td>\n",
       "      <td>4</td>\n",
       "      <td>12.0</td>\n",
       "      <td>9</td>\n",
       "    </tr>\n",
       "    <tr>\n",
       "      <td>9</td>\n",
       "      <td>pass in</td>\n",
       "      <td>传入</td>\n",
       "      <td>4</td>\n",
       "      <td>12.0</td>\n",
       "      <td>9</td>\n",
       "    </tr>\n",
       "    <tr>\n",
       "      <td>10</td>\n",
       "      <td>seamlessly</td>\n",
       "      <td>天衣无缝</td>\n",
       "      <td>4</td>\n",
       "      <td>12.0</td>\n",
       "      <td>9</td>\n",
       "    </tr>\n",
       "    <tr>\n",
       "      <td>11</td>\n",
       "      <td>raw</td>\n",
       "      <td>未经加工的</td>\n",
       "      <td>4</td>\n",
       "      <td>12.0</td>\n",
       "      <td>9</td>\n",
       "    </tr>\n",
       "    <tr>\n",
       "      <td>12</td>\n",
       "      <td>explicitly</td>\n",
       "      <td>明确的</td>\n",
       "      <td>4</td>\n",
       "      <td>12.0</td>\n",
       "      <td>9</td>\n",
       "    </tr>\n",
       "    <tr>\n",
       "      <td>13</td>\n",
       "      <td>case-insensitive</td>\n",
       "      <td>不区分大小写</td>\n",
       "      <td>5</td>\n",
       "      <td>9.0</td>\n",
       "      <td>14</td>\n",
       "    </tr>\n",
       "    <tr>\n",
       "      <td>14</td>\n",
       "      <td>satisfied</td>\n",
       "      <td>满意的 满足的</td>\n",
       "      <td>6</td>\n",
       "      <td>8.0</td>\n",
       "      <td>15</td>\n",
       "    </tr>\n",
       "    <tr>\n",
       "      <td>15</td>\n",
       "      <td>profiler</td>\n",
       "      <td>分析器</td>\n",
       "      <td>7</td>\n",
       "      <td>7.0</td>\n",
       "      <td>16</td>\n",
       "    </tr>\n",
       "    <tr>\n",
       "      <td>16</td>\n",
       "      <td>discontinued</td>\n",
       "      <td>停产 停止</td>\n",
       "      <td>8</td>\n",
       "      <td>6.0</td>\n",
       "      <td>17</td>\n",
       "    </tr>\n",
       "    <tr>\n",
       "      <td>17</td>\n",
       "      <td>deprecation</td>\n",
       "      <td>反对</td>\n",
       "      <td>10</td>\n",
       "      <td>3.0</td>\n",
       "      <td>18</td>\n",
       "    </tr>\n",
       "    <tr>\n",
       "      <td>18</td>\n",
       "      <td>fragment</td>\n",
       "      <td>片段</td>\n",
       "      <td>10</td>\n",
       "      <td>3.0</td>\n",
       "      <td>18</td>\n",
       "    </tr>\n",
       "    <tr>\n",
       "      <td>19</td>\n",
       "      <td>paddle</td>\n",
       "      <td>桨 船桨</td>\n",
       "      <td>10</td>\n",
       "      <td>3.0</td>\n",
       "      <td>18</td>\n",
       "    </tr>\n",
       "    <tr>\n",
       "      <td>20</td>\n",
       "      <td>inspector</td>\n",
       "      <td>检查</td>\n",
       "      <td>10</td>\n",
       "      <td>3.0</td>\n",
       "      <td>18</td>\n",
       "    </tr>\n",
       "    <tr>\n",
       "      <td>21</td>\n",
       "      <td>rank</td>\n",
       "      <td>地位 级别 军衔</td>\n",
       "      <td>10</td>\n",
       "      <td>3.0</td>\n",
       "      <td>18</td>\n",
       "    </tr>\n",
       "  </tbody>\n",
       "</table>\n",
       "</div>"
      ],
      "text/plain": [
       "                  单词         意义  数据   avg  first\n",
       "0         officially    官方的 正式的   1  19.5      1\n",
       "1         Keep-Alive        长连接   1  19.5      1\n",
       "2           great on    熟悉的 热衷于   1  19.5      1\n",
       "3              prose         散文   1  19.5      1\n",
       "4         get out of         摆脱   1  19.5      1\n",
       "5            in mind        在心里   1  19.5      1\n",
       "6      contributions      捐款 贡献   2  16.0      7\n",
       "7         as obvious  一目了然 显而易见   3  15.0      8\n",
       "8            webpage         网页   4  12.0      9\n",
       "9            pass in         传入   4  12.0      9\n",
       "10        seamlessly       天衣无缝   4  12.0      9\n",
       "11               raw      未经加工的   4  12.0      9\n",
       "12        explicitly        明确的   4  12.0      9\n",
       "13  case-insensitive     不区分大小写   5   9.0     14\n",
       "14         satisfied    满意的 满足的   6   8.0     15\n",
       "15          profiler        分析器   7   7.0     16\n",
       "16      discontinued      停产 停止   8   6.0     17\n",
       "17       deprecation         反对  10   3.0     18\n",
       "18          fragment         片段  10   3.0     18\n",
       "19            paddle       桨 船桨  10   3.0     18\n",
       "20         inspector         检查  10   3.0     18\n",
       "21              rank   地位 级别 军衔  10   3.0     18"
      ]
     },
     "execution_count": 3,
     "metadata": {},
     "output_type": "execute_result"
    }
   ],
   "source": [
    "import pandas as pd\n",
    "df = pd.read_excel('../english.xlsx')\n",
    "df\n",
    "#df.drop(df.columns[[3,4]],axis=1)"
   ]
  },
  {
   "cell_type": "code",
   "execution_count": 64,
   "metadata": {},
   "outputs": [
    {
     "data": {
      "text/html": [
       "<div>\n",
       "<style scoped>\n",
       "    .dataframe tbody tr th:only-of-type {\n",
       "        vertical-align: middle;\n",
       "    }\n",
       "\n",
       "    .dataframe tbody tr th {\n",
       "        vertical-align: top;\n",
       "    }\n",
       "\n",
       "    .dataframe thead th {\n",
       "        text-align: right;\n",
       "    }\n",
       "</style>\n",
       "<table border=\"1\" class=\"dataframe\">\n",
       "  <thead>\n",
       "    <tr style=\"text-align: right;\">\n",
       "      <th></th>\n",
       "      <th>单词</th>\n",
       "      <th>意义</th>\n",
       "      <th>数据</th>\n",
       "      <th>avg</th>\n",
       "      <th>first</th>\n",
       "    </tr>\n",
       "  </thead>\n",
       "  <tbody>\n",
       "    <tr>\n",
       "      <td>0</td>\n",
       "      <td>officially</td>\n",
       "      <td>官方的 正式的</td>\n",
       "      <td>1</td>\n",
       "      <td>19.5</td>\n",
       "      <td>1</td>\n",
       "    </tr>\n",
       "    <tr>\n",
       "      <td>2</td>\n",
       "      <td>great on</td>\n",
       "      <td>熟悉的 热衷于</td>\n",
       "      <td>1</td>\n",
       "      <td>19.5</td>\n",
       "      <td>1</td>\n",
       "    </tr>\n",
       "    <tr>\n",
       "      <td>3</td>\n",
       "      <td>prose</td>\n",
       "      <td>散文</td>\n",
       "      <td>1</td>\n",
       "      <td>19.5</td>\n",
       "      <td>1</td>\n",
       "    </tr>\n",
       "    <tr>\n",
       "      <td>4</td>\n",
       "      <td>get out of</td>\n",
       "      <td>摆脱</td>\n",
       "      <td>1</td>\n",
       "      <td>19.5</td>\n",
       "      <td>1</td>\n",
       "    </tr>\n",
       "    <tr>\n",
       "      <td>5</td>\n",
       "      <td>in mind</td>\n",
       "      <td>在心里</td>\n",
       "      <td>1</td>\n",
       "      <td>19.5</td>\n",
       "      <td>1</td>\n",
       "    </tr>\n",
       "    <tr>\n",
       "      <td>6</td>\n",
       "      <td>contributions</td>\n",
       "      <td>捐款 贡献</td>\n",
       "      <td>2</td>\n",
       "      <td>16.0</td>\n",
       "      <td>7</td>\n",
       "    </tr>\n",
       "    <tr>\n",
       "      <td>7</td>\n",
       "      <td>as obvious</td>\n",
       "      <td>一目了然 显而易见</td>\n",
       "      <td>3</td>\n",
       "      <td>15.0</td>\n",
       "      <td>8</td>\n",
       "    </tr>\n",
       "    <tr>\n",
       "      <td>8</td>\n",
       "      <td>webpage</td>\n",
       "      <td>网页</td>\n",
       "      <td>4</td>\n",
       "      <td>12.0</td>\n",
       "      <td>9</td>\n",
       "    </tr>\n",
       "    <tr>\n",
       "      <td>9</td>\n",
       "      <td>pass in</td>\n",
       "      <td>传入</td>\n",
       "      <td>4</td>\n",
       "      <td>12.0</td>\n",
       "      <td>9</td>\n",
       "    </tr>\n",
       "    <tr>\n",
       "      <td>10</td>\n",
       "      <td>seamlessly</td>\n",
       "      <td>天衣无缝</td>\n",
       "      <td>4</td>\n",
       "      <td>12.0</td>\n",
       "      <td>9</td>\n",
       "    </tr>\n",
       "    <tr>\n",
       "      <td>11</td>\n",
       "      <td>raw</td>\n",
       "      <td>未经加工的</td>\n",
       "      <td>4</td>\n",
       "      <td>12.0</td>\n",
       "      <td>9</td>\n",
       "    </tr>\n",
       "    <tr>\n",
       "      <td>12</td>\n",
       "      <td>explicitly</td>\n",
       "      <td>明确的</td>\n",
       "      <td>4</td>\n",
       "      <td>12.0</td>\n",
       "      <td>9</td>\n",
       "    </tr>\n",
       "    <tr>\n",
       "      <td>13</td>\n",
       "      <td>case-insensitive</td>\n",
       "      <td>不区分大小写</td>\n",
       "      <td>5</td>\n",
       "      <td>9.0</td>\n",
       "      <td>14</td>\n",
       "    </tr>\n",
       "    <tr>\n",
       "      <td>14</td>\n",
       "      <td>satisfied</td>\n",
       "      <td>满意的 满足的</td>\n",
       "      <td>6</td>\n",
       "      <td>8.0</td>\n",
       "      <td>15</td>\n",
       "    </tr>\n",
       "    <tr>\n",
       "      <td>15</td>\n",
       "      <td>profiler</td>\n",
       "      <td>分析器</td>\n",
       "      <td>7</td>\n",
       "      <td>7.0</td>\n",
       "      <td>16</td>\n",
       "    </tr>\n",
       "    <tr>\n",
       "      <td>16</td>\n",
       "      <td>discontinued</td>\n",
       "      <td>停产 停止</td>\n",
       "      <td>8</td>\n",
       "      <td>6.0</td>\n",
       "      <td>17</td>\n",
       "    </tr>\n",
       "    <tr>\n",
       "      <td>17</td>\n",
       "      <td>deprecation</td>\n",
       "      <td>反对</td>\n",
       "      <td>10</td>\n",
       "      <td>3.0</td>\n",
       "      <td>18</td>\n",
       "    </tr>\n",
       "    <tr>\n",
       "      <td>18</td>\n",
       "      <td>fragment</td>\n",
       "      <td>片段</td>\n",
       "      <td>10</td>\n",
       "      <td>3.0</td>\n",
       "      <td>18</td>\n",
       "    </tr>\n",
       "    <tr>\n",
       "      <td>19</td>\n",
       "      <td>paddle</td>\n",
       "      <td>桨 船桨</td>\n",
       "      <td>10</td>\n",
       "      <td>3.0</td>\n",
       "      <td>18</td>\n",
       "    </tr>\n",
       "    <tr>\n",
       "      <td>21</td>\n",
       "      <td>rank</td>\n",
       "      <td>地位 级别 军衔</td>\n",
       "      <td>10</td>\n",
       "      <td>3.0</td>\n",
       "      <td>18</td>\n",
       "    </tr>\n",
       "  </tbody>\n",
       "</table>\n",
       "</div>"
      ],
      "text/plain": [
       "                  单词         意义  数据   avg  first\n",
       "0         officially    官方的 正式的   1  19.5      1\n",
       "2           great on    熟悉的 热衷于   1  19.5      1\n",
       "3              prose         散文   1  19.5      1\n",
       "4         get out of         摆脱   1  19.5      1\n",
       "5            in mind        在心里   1  19.5      1\n",
       "6      contributions      捐款 贡献   2  16.0      7\n",
       "7         as obvious  一目了然 显而易见   3  15.0      8\n",
       "8            webpage         网页   4  12.0      9\n",
       "9            pass in         传入   4  12.0      9\n",
       "10        seamlessly       天衣无缝   4  12.0      9\n",
       "11               raw      未经加工的   4  12.0      9\n",
       "12        explicitly        明确的   4  12.0      9\n",
       "13  case-insensitive     不区分大小写   5   9.0     14\n",
       "14         satisfied    满意的 满足的   6   8.0     15\n",
       "15          profiler        分析器   7   7.0     16\n",
       "16      discontinued      停产 停止   8   6.0     17\n",
       "17       deprecation         反对  10   3.0     18\n",
       "18          fragment         片段  10   3.0     18\n",
       "19            paddle       桨 船桨  10   3.0     18\n",
       "21              rank   地位 级别 军衔  10   3.0     18"
      ]
     },
     "execution_count": 64,
     "metadata": {},
     "output_type": "execute_result"
    }
   ],
   "source": [
    "#### 7.4.2 删除行\n",
    "#在Python中，依然是用drop()方法，传入行的相关信息，axis=0\n",
    "df.drop([1,20],axis=0)"
   ]
  },
  {
   "cell_type": "markdown",
   "metadata": {},
   "source": [
    "#### 7.4.3 删除特定行(满足某个条件的)\n",
    "#在Python中删除特定行使用的方法有些特殊，不直接删除符合条件的值，而是把不满足条件的值筛选出来作为新的数据源，这样就把要删除的的行过滤掉了。\n",
    "例如，要删除单词表中\"“数据”等于1或不等于10的数据，就是过滤出“数据”不等于1或不等于10的数据"
   ]
  },
  {
   "cell_type": "code",
   "execution_count": 7,
   "metadata": {},
   "outputs": [
    {
     "data": {
      "text/html": [
       "<div>\n",
       "<style scoped>\n",
       "    .dataframe tbody tr th:only-of-type {\n",
       "        vertical-align: middle;\n",
       "    }\n",
       "\n",
       "    .dataframe tbody tr th {\n",
       "        vertical-align: top;\n",
       "    }\n",
       "\n",
       "    .dataframe thead th {\n",
       "        text-align: right;\n",
       "    }\n",
       "</style>\n",
       "<table border=\"1\" class=\"dataframe\">\n",
       "  <thead>\n",
       "    <tr style=\"text-align: right;\">\n",
       "      <th></th>\n",
       "      <th>单词</th>\n",
       "      <th>意义</th>\n",
       "      <th>数据</th>\n",
       "      <th>avg</th>\n",
       "      <th>first</th>\n",
       "    </tr>\n",
       "  </thead>\n",
       "  <tbody>\n",
       "    <tr>\n",
       "      <td>0</td>\n",
       "      <td>officially</td>\n",
       "      <td>官方的 正式的</td>\n",
       "      <td>1</td>\n",
       "      <td>19.5</td>\n",
       "      <td>1</td>\n",
       "    </tr>\n",
       "    <tr>\n",
       "      <td>1</td>\n",
       "      <td>Keep-Alive</td>\n",
       "      <td>长连接</td>\n",
       "      <td>1</td>\n",
       "      <td>19.5</td>\n",
       "      <td>1</td>\n",
       "    </tr>\n",
       "    <tr>\n",
       "      <td>2</td>\n",
       "      <td>great on</td>\n",
       "      <td>熟悉的 热衷于</td>\n",
       "      <td>1</td>\n",
       "      <td>19.5</td>\n",
       "      <td>1</td>\n",
       "    </tr>\n",
       "    <tr>\n",
       "      <td>3</td>\n",
       "      <td>prose</td>\n",
       "      <td>散文</td>\n",
       "      <td>1</td>\n",
       "      <td>19.5</td>\n",
       "      <td>1</td>\n",
       "    </tr>\n",
       "    <tr>\n",
       "      <td>4</td>\n",
       "      <td>get out of</td>\n",
       "      <td>摆脱</td>\n",
       "      <td>1</td>\n",
       "      <td>19.5</td>\n",
       "      <td>1</td>\n",
       "    </tr>\n",
       "    <tr>\n",
       "      <td>5</td>\n",
       "      <td>in mind</td>\n",
       "      <td>在心里</td>\n",
       "      <td>1</td>\n",
       "      <td>19.5</td>\n",
       "      <td>1</td>\n",
       "    </tr>\n",
       "    <tr>\n",
       "      <td>17</td>\n",
       "      <td>deprecation</td>\n",
       "      <td>反对</td>\n",
       "      <td>10</td>\n",
       "      <td>3.0</td>\n",
       "      <td>18</td>\n",
       "    </tr>\n",
       "    <tr>\n",
       "      <td>18</td>\n",
       "      <td>fragment</td>\n",
       "      <td>片段</td>\n",
       "      <td>10</td>\n",
       "      <td>3.0</td>\n",
       "      <td>18</td>\n",
       "    </tr>\n",
       "    <tr>\n",
       "      <td>19</td>\n",
       "      <td>paddle</td>\n",
       "      <td>桨 船桨</td>\n",
       "      <td>10</td>\n",
       "      <td>3.0</td>\n",
       "      <td>18</td>\n",
       "    </tr>\n",
       "    <tr>\n",
       "      <td>20</td>\n",
       "      <td>inspector</td>\n",
       "      <td>检查</td>\n",
       "      <td>10</td>\n",
       "      <td>3.0</td>\n",
       "      <td>18</td>\n",
       "    </tr>\n",
       "    <tr>\n",
       "      <td>21</td>\n",
       "      <td>rank</td>\n",
       "      <td>地位 级别 军衔</td>\n",
       "      <td>10</td>\n",
       "      <td>3.0</td>\n",
       "      <td>18</td>\n",
       "    </tr>\n",
       "  </tbody>\n",
       "</table>\n",
       "</div>"
      ],
      "text/plain": [
       "             单词        意义  数据   avg  first\n",
       "0    officially   官方的 正式的   1  19.5      1\n",
       "1    Keep-Alive       长连接   1  19.5      1\n",
       "2      great on   熟悉的 热衷于   1  19.5      1\n",
       "3         prose        散文   1  19.5      1\n",
       "4    get out of        摆脱   1  19.5      1\n",
       "5       in mind       在心里   1  19.5      1\n",
       "17  deprecation        反对  10   3.0     18\n",
       "18     fragment        片段  10   3.0     18\n",
       "19       paddle      桨 船桨  10   3.0     18\n",
       "20    inspector        检查  10   3.0     18\n",
       "21         rank  地位 级别 军衔  10   3.0     18"
      ]
     },
     "execution_count": 7,
     "metadata": {},
     "output_type": "execute_result"
    }
   ],
   "source": [
    "df[(df['数据']==1) | (df['数据']==10)]"
   ]
  },
  {
   "cell_type": "code",
   "execution_count": 8,
   "metadata": {},
   "outputs": [
    {
     "data": {
      "text/plain": [
       "1     6\n",
       "10    5\n",
       "4     5\n",
       "8     1\n",
       "7     1\n",
       "6     1\n",
       "5     1\n",
       "3     1\n",
       "2     1\n",
       "Name: 数据, dtype: int64"
      ]
     },
     "execution_count": 8,
     "metadata": {},
     "output_type": "execute_result"
    }
   ],
   "source": [
    "### 7.5 数值计数\n",
    "#就是计算某个值在一系列数值中出现的次数。\n",
    "#Excel使用Countif（）函数\n",
    "#Python使用的方法是value_counts()\n",
    "df['数据'].value_counts()"
   ]
  },
  {
   "cell_type": "code",
   "execution_count": 9,
   "metadata": {},
   "outputs": [
    {
     "data": {
      "text/plain": [
       "array([ 1,  2,  3,  4,  5,  6,  7,  8, 10], dtype=int64)"
      ]
     },
     "execution_count": 9,
     "metadata": {},
     "output_type": "execute_result"
    }
   ],
   "source": [
    "### 7.6 唯一值获取\n",
    "#唯一值获取就是把一系列数值删除重复项以后的结果，一般可以将表中某一列认为是一系列值。\n",
    "#Excel中若想查看某一列数值中的唯一值，可以把这一系列数值复制粘贴出来，然后删除重复项，剩下的就是唯一值了。\n",
    "#Python使用unique()方法\n",
    "df['数据'].unique()"
   ]
  },
  {
   "cell_type": "code",
   "execution_count": 13,
   "metadata": {},
   "outputs": [
    {
     "data": {
      "text/plain": [
       "0     False\n",
       "1     False\n",
       "2     False\n",
       "3     False\n",
       "4     False\n",
       "5     False\n",
       "6     False\n",
       "7     False\n",
       "8     False\n",
       "9     False\n",
       "10    False\n",
       "11    False\n",
       "12    False\n",
       "13    False\n",
       "14    False\n",
       "15    False\n",
       "16    False\n",
       "17     True\n",
       "18     True\n",
       "19     True\n",
       "20     True\n",
       "21     True\n",
       "Name: 数据, dtype: bool"
      ]
     },
     "execution_count": 13,
     "metadata": {},
     "output_type": "execute_result"
    }
   ],
   "source": [
    "### 7.7 数值查找\n",
    "#数值查找就是查看数据表中的数据是否包含某个值或者某些值\n",
    "#Python中用isin()方法实现，存在返回true，不存在返回false。\n",
    "#针对某列查找\n",
    "df['数据'].isin([9,10])"
   ]
  },
  {
   "cell_type": "code",
   "execution_count": 22,
   "metadata": {},
   "outputs": [
    {
     "data": {
      "text/html": [
       "<div>\n",
       "<style scoped>\n",
       "    .dataframe tbody tr th:only-of-type {\n",
       "        vertical-align: middle;\n",
       "    }\n",
       "\n",
       "    .dataframe tbody tr th {\n",
       "        vertical-align: top;\n",
       "    }\n",
       "\n",
       "    .dataframe thead th {\n",
       "        text-align: right;\n",
       "    }\n",
       "</style>\n",
       "<table border=\"1\" class=\"dataframe\">\n",
       "  <thead>\n",
       "    <tr style=\"text-align: right;\">\n",
       "      <th></th>\n",
       "      <th>单词</th>\n",
       "      <th>意义</th>\n",
       "      <th>数据</th>\n",
       "      <th>avg</th>\n",
       "      <th>first</th>\n",
       "    </tr>\n",
       "  </thead>\n",
       "  <tbody>\n",
       "    <tr>\n",
       "      <td>0</td>\n",
       "      <td>officially</td>\n",
       "      <td>官方的 正式的</td>\n",
       "      <td>1</td>\n",
       "      <td>19.5</td>\n",
       "      <td>1</td>\n",
       "    </tr>\n",
       "    <tr>\n",
       "      <td>1</td>\n",
       "      <td>Keep-Alive</td>\n",
       "      <td>长连接</td>\n",
       "      <td>1</td>\n",
       "      <td>19.5</td>\n",
       "      <td>1</td>\n",
       "    </tr>\n",
       "    <tr>\n",
       "      <td>2</td>\n",
       "      <td>great on</td>\n",
       "      <td>熟悉的 热衷于</td>\n",
       "      <td>1</td>\n",
       "      <td>19.5</td>\n",
       "      <td>1</td>\n",
       "    </tr>\n",
       "    <tr>\n",
       "      <td>3</td>\n",
       "      <td>prose</td>\n",
       "      <td>散文</td>\n",
       "      <td>1</td>\n",
       "      <td>19.5</td>\n",
       "      <td>1</td>\n",
       "    </tr>\n",
       "    <tr>\n",
       "      <td>4</td>\n",
       "      <td>get out of</td>\n",
       "      <td>摆脱</td>\n",
       "      <td>1</td>\n",
       "      <td>19.5</td>\n",
       "      <td>1</td>\n",
       "    </tr>\n",
       "  </tbody>\n",
       "</table>\n",
       "</div>"
      ],
      "text/plain": [
       "           单词       意义  数据   avg  first\n",
       "0  officially  官方的 正式的   1  19.5      1\n",
       "1  Keep-Alive      长连接   1  19.5      1\n",
       "2    great on  熟悉的 热衷于   1  19.5      1\n",
       "3       prose       散文   1  19.5      1\n",
       "4  get out of       摆脱   1  19.5      1"
      ]
     },
     "execution_count": 22,
     "metadata": {},
     "output_type": "execute_result"
    }
   ],
   "source": [
    "df.iloc[0:5]"
   ]
  },
  {
   "cell_type": "code",
   "execution_count": 21,
   "metadata": {},
   "outputs": [
    {
     "data": {
      "text/html": [
       "<div>\n",
       "<style scoped>\n",
       "    .dataframe tbody tr th:only-of-type {\n",
       "        vertical-align: middle;\n",
       "    }\n",
       "\n",
       "    .dataframe tbody tr th {\n",
       "        vertical-align: top;\n",
       "    }\n",
       "\n",
       "    .dataframe thead th {\n",
       "        text-align: right;\n",
       "    }\n",
       "</style>\n",
       "<table border=\"1\" class=\"dataframe\">\n",
       "  <thead>\n",
       "    <tr style=\"text-align: right;\">\n",
       "      <th></th>\n",
       "      <th>单词</th>\n",
       "      <th>意义</th>\n",
       "      <th>数据</th>\n",
       "      <th>avg</th>\n",
       "      <th>first</th>\n",
       "    </tr>\n",
       "  </thead>\n",
       "  <tbody>\n",
       "    <tr>\n",
       "      <td>0</td>\n",
       "      <td>False</td>\n",
       "      <td>False</td>\n",
       "      <td>True</td>\n",
       "      <td>False</td>\n",
       "      <td>True</td>\n",
       "    </tr>\n",
       "    <tr>\n",
       "      <td>1</td>\n",
       "      <td>False</td>\n",
       "      <td>False</td>\n",
       "      <td>True</td>\n",
       "      <td>False</td>\n",
       "      <td>True</td>\n",
       "    </tr>\n",
       "    <tr>\n",
       "      <td>2</td>\n",
       "      <td>False</td>\n",
       "      <td>False</td>\n",
       "      <td>True</td>\n",
       "      <td>False</td>\n",
       "      <td>True</td>\n",
       "    </tr>\n",
       "    <tr>\n",
       "      <td>3</td>\n",
       "      <td>False</td>\n",
       "      <td>False</td>\n",
       "      <td>True</td>\n",
       "      <td>False</td>\n",
       "      <td>True</td>\n",
       "    </tr>\n",
       "    <tr>\n",
       "      <td>4</td>\n",
       "      <td>False</td>\n",
       "      <td>False</td>\n",
       "      <td>True</td>\n",
       "      <td>False</td>\n",
       "      <td>True</td>\n",
       "    </tr>\n",
       "  </tbody>\n",
       "</table>\n",
       "</div>"
      ],
      "text/plain": [
       "      单词     意义    数据    avg  first\n",
       "0  False  False  True  False   True\n",
       "1  False  False  True  False   True\n",
       "2  False  False  True  False   True\n",
       "3  False  False  True  False   True\n",
       "4  False  False  True  False   True"
      ]
     },
     "execution_count": 21,
     "metadata": {},
     "output_type": "execute_result"
    }
   ],
   "source": [
    "#针对全表查询\n",
    "df.iloc[0:5].isin([1])"
   ]
  },
  {
   "cell_type": "code",
   "execution_count": 28,
   "metadata": {},
   "outputs": [
    {
     "data": {
      "text/html": [
       "<div>\n",
       "<style scoped>\n",
       "    .dataframe tbody tr th:only-of-type {\n",
       "        vertical-align: middle;\n",
       "    }\n",
       "\n",
       "    .dataframe tbody tr th {\n",
       "        vertical-align: top;\n",
       "    }\n",
       "\n",
       "    .dataframe thead th {\n",
       "        text-align: right;\n",
       "    }\n",
       "</style>\n",
       "<table border=\"1\" class=\"dataframe\">\n",
       "  <thead>\n",
       "    <tr style=\"text-align: right;\">\n",
       "      <th></th>\n",
       "      <th>单词</th>\n",
       "      <th>意义</th>\n",
       "      <th>数据</th>\n",
       "      <th>avg</th>\n",
       "      <th>first</th>\n",
       "    </tr>\n",
       "  </thead>\n",
       "  <tbody>\n",
       "    <tr>\n",
       "      <td>0</td>\n",
       "      <td>officially</td>\n",
       "      <td>官方的 正式的</td>\n",
       "      <td>1</td>\n",
       "      <td>19.5</td>\n",
       "      <td>1</td>\n",
       "    </tr>\n",
       "    <tr>\n",
       "      <td>1</td>\n",
       "      <td>Keep-Alive</td>\n",
       "      <td>长连接</td>\n",
       "      <td>1</td>\n",
       "      <td>19.5</td>\n",
       "      <td>1</td>\n",
       "    </tr>\n",
       "    <tr>\n",
       "      <td>2</td>\n",
       "      <td>great on</td>\n",
       "      <td>熟悉的 热衷于</td>\n",
       "      <td>1</td>\n",
       "      <td>19.5</td>\n",
       "      <td>1</td>\n",
       "    </tr>\n",
       "    <tr>\n",
       "      <td>3</td>\n",
       "      <td>prose</td>\n",
       "      <td>散文</td>\n",
       "      <td>1</td>\n",
       "      <td>19.5</td>\n",
       "      <td>1</td>\n",
       "    </tr>\n",
       "    <tr>\n",
       "      <td>4</td>\n",
       "      <td>get out of</td>\n",
       "      <td>摆脱</td>\n",
       "      <td>1</td>\n",
       "      <td>19.5</td>\n",
       "      <td>1</td>\n",
       "    </tr>\n",
       "    <tr>\n",
       "      <td>5</td>\n",
       "      <td>in mind</td>\n",
       "      <td>在心里</td>\n",
       "      <td>1</td>\n",
       "      <td>19.5</td>\n",
       "      <td>1</td>\n",
       "    </tr>\n",
       "    <tr>\n",
       "      <td>6</td>\n",
       "      <td>contributions</td>\n",
       "      <td>捐款 贡献</td>\n",
       "      <td>2</td>\n",
       "      <td>16.0</td>\n",
       "      <td>7</td>\n",
       "    </tr>\n",
       "    <tr>\n",
       "      <td>7</td>\n",
       "      <td>as obvious</td>\n",
       "      <td>一目了然 显而易见</td>\n",
       "      <td>3</td>\n",
       "      <td>15.0</td>\n",
       "      <td>8</td>\n",
       "    </tr>\n",
       "    <tr>\n",
       "      <td>8</td>\n",
       "      <td>webpage</td>\n",
       "      <td>网页</td>\n",
       "      <td>4</td>\n",
       "      <td>12.0</td>\n",
       "      <td>9</td>\n",
       "    </tr>\n",
       "    <tr>\n",
       "      <td>9</td>\n",
       "      <td>pass in</td>\n",
       "      <td>传入</td>\n",
       "      <td>4</td>\n",
       "      <td>12.0</td>\n",
       "      <td>9</td>\n",
       "    </tr>\n",
       "    <tr>\n",
       "      <td>10</td>\n",
       "      <td>seamlessly</td>\n",
       "      <td>天衣无缝</td>\n",
       "      <td>4</td>\n",
       "      <td>12.0</td>\n",
       "      <td>9</td>\n",
       "    </tr>\n",
       "    <tr>\n",
       "      <td>11</td>\n",
       "      <td>raw</td>\n",
       "      <td>未经加工的</td>\n",
       "      <td>4</td>\n",
       "      <td>12.0</td>\n",
       "      <td>9</td>\n",
       "    </tr>\n",
       "    <tr>\n",
       "      <td>12</td>\n",
       "      <td>explicitly</td>\n",
       "      <td>明确的</td>\n",
       "      <td>4</td>\n",
       "      <td>12.0</td>\n",
       "      <td>9</td>\n",
       "    </tr>\n",
       "    <tr>\n",
       "      <td>13</td>\n",
       "      <td>case-insensitive</td>\n",
       "      <td>不区分大小写</td>\n",
       "      <td>5</td>\n",
       "      <td>9.0</td>\n",
       "      <td>14</td>\n",
       "    </tr>\n",
       "    <tr>\n",
       "      <td>14</td>\n",
       "      <td>satisfied</td>\n",
       "      <td>满意的 满足的</td>\n",
       "      <td>6</td>\n",
       "      <td>8.0</td>\n",
       "      <td>15</td>\n",
       "    </tr>\n",
       "    <tr>\n",
       "      <td>15</td>\n",
       "      <td>profiler</td>\n",
       "      <td>分析器</td>\n",
       "      <td>7</td>\n",
       "      <td>7.0</td>\n",
       "      <td>16</td>\n",
       "    </tr>\n",
       "    <tr>\n",
       "      <td>16</td>\n",
       "      <td>discontinued</td>\n",
       "      <td>停产 停止</td>\n",
       "      <td>8</td>\n",
       "      <td>6.0</td>\n",
       "      <td>17</td>\n",
       "    </tr>\n",
       "    <tr>\n",
       "      <td>17</td>\n",
       "      <td>deprecation</td>\n",
       "      <td>反对</td>\n",
       "      <td>10</td>\n",
       "      <td>3.0</td>\n",
       "      <td>18</td>\n",
       "    </tr>\n",
       "    <tr>\n",
       "      <td>18</td>\n",
       "      <td>fragment</td>\n",
       "      <td>片段</td>\n",
       "      <td>10</td>\n",
       "      <td>3.0</td>\n",
       "      <td>18</td>\n",
       "    </tr>\n",
       "    <tr>\n",
       "      <td>19</td>\n",
       "      <td>paddle</td>\n",
       "      <td>桨 船桨</td>\n",
       "      <td>10</td>\n",
       "      <td>3.0</td>\n",
       "      <td>18</td>\n",
       "    </tr>\n",
       "    <tr>\n",
       "      <td>20</td>\n",
       "      <td>inspector</td>\n",
       "      <td>检查</td>\n",
       "      <td>10</td>\n",
       "      <td>3.0</td>\n",
       "      <td>18</td>\n",
       "    </tr>\n",
       "    <tr>\n",
       "      <td>21</td>\n",
       "      <td>rank</td>\n",
       "      <td>地位 级别 军衔</td>\n",
       "      <td>10</td>\n",
       "      <td>3.0</td>\n",
       "      <td>18</td>\n",
       "    </tr>\n",
       "  </tbody>\n",
       "</table>\n",
       "</div>"
      ],
      "text/plain": [
       "                  单词         意义  数据   avg  first\n",
       "0         officially    官方的 正式的   1  19.5      1\n",
       "1         Keep-Alive        长连接   1  19.5      1\n",
       "2           great on    熟悉的 热衷于   1  19.5      1\n",
       "3              prose         散文   1  19.5      1\n",
       "4         get out of         摆脱   1  19.5      1\n",
       "5            in mind        在心里   1  19.5      1\n",
       "6      contributions      捐款 贡献   2  16.0      7\n",
       "7         as obvious  一目了然 显而易见   3  15.0      8\n",
       "8            webpage         网页   4  12.0      9\n",
       "9            pass in         传入   4  12.0      9\n",
       "10        seamlessly       天衣无缝   4  12.0      9\n",
       "11               raw      未经加工的   4  12.0      9\n",
       "12        explicitly        明确的   4  12.0      9\n",
       "13  case-insensitive     不区分大小写   5   9.0     14\n",
       "14         satisfied    满意的 满足的   6   8.0     15\n",
       "15          profiler        分析器   7   7.0     16\n",
       "16      discontinued      停产 停止   8   6.0     17\n",
       "17       deprecation         反对  10   3.0     18\n",
       "18          fragment         片段  10   3.0     18\n",
       "19            paddle       桨 船桨  10   3.0     18\n",
       "20         inspector         检查  10   3.0     18\n",
       "21              rank   地位 级别 军衔  10   3.0     18"
      ]
     },
     "execution_count": 28,
     "metadata": {},
     "output_type": "execute_result"
    }
   ],
   "source": [
    "df"
   ]
  },
  {
   "cell_type": "code",
   "execution_count": 29,
   "metadata": {},
   "outputs": [
    {
     "data": {
      "text/html": [
       "<div>\n",
       "<style scoped>\n",
       "    .dataframe tbody tr th:only-of-type {\n",
       "        vertical-align: middle;\n",
       "    }\n",
       "\n",
       "    .dataframe tbody tr th {\n",
       "        vertical-align: top;\n",
       "    }\n",
       "\n",
       "    .dataframe thead th {\n",
       "        text-align: right;\n",
       "    }\n",
       "</style>\n",
       "<table border=\"1\" class=\"dataframe\">\n",
       "  <thead>\n",
       "    <tr style=\"text-align: right;\">\n",
       "      <th></th>\n",
       "      <th>单词</th>\n",
       "      <th>意义</th>\n",
       "      <th>数据</th>\n",
       "      <th>avg</th>\n",
       "      <th>first</th>\n",
       "    </tr>\n",
       "  </thead>\n",
       "  <tbody>\n",
       "    <tr>\n",
       "      <td>0</td>\n",
       "      <td>officially</td>\n",
       "      <td>官方的 正式的</td>\n",
       "      <td>1</td>\n",
       "      <td>22</td>\n",
       "      <td>1</td>\n",
       "    </tr>\n",
       "    <tr>\n",
       "      <td>1</td>\n",
       "      <td>Keep-Alive</td>\n",
       "      <td>长连接</td>\n",
       "      <td>2</td>\n",
       "      <td>21</td>\n",
       "      <td>2</td>\n",
       "    </tr>\n",
       "    <tr>\n",
       "      <td>2</td>\n",
       "      <td>great on</td>\n",
       "      <td>熟悉的 热衷于</td>\n",
       "      <td>3</td>\n",
       "      <td>20</td>\n",
       "      <td>3</td>\n",
       "    </tr>\n",
       "    <tr>\n",
       "      <td>3</td>\n",
       "      <td>prose</td>\n",
       "      <td>散文</td>\n",
       "      <td>4</td>\n",
       "      <td>19</td>\n",
       "      <td>4</td>\n",
       "    </tr>\n",
       "    <tr>\n",
       "      <td>4</td>\n",
       "      <td>get out of</td>\n",
       "      <td>摆脱</td>\n",
       "      <td>5</td>\n",
       "      <td>18</td>\n",
       "      <td>5</td>\n",
       "    </tr>\n",
       "    <tr>\n",
       "      <td>5</td>\n",
       "      <td>in mind</td>\n",
       "      <td>在心里</td>\n",
       "      <td>6</td>\n",
       "      <td>17</td>\n",
       "      <td>6</td>\n",
       "    </tr>\n",
       "    <tr>\n",
       "      <td>6</td>\n",
       "      <td>contributions</td>\n",
       "      <td>捐款 贡献</td>\n",
       "      <td>7</td>\n",
       "      <td>16</td>\n",
       "      <td>7</td>\n",
       "    </tr>\n",
       "    <tr>\n",
       "      <td>7</td>\n",
       "      <td>as obvious</td>\n",
       "      <td>一目了然 显而易见</td>\n",
       "      <td>8</td>\n",
       "      <td>15</td>\n",
       "      <td>8</td>\n",
       "    </tr>\n",
       "    <tr>\n",
       "      <td>8</td>\n",
       "      <td>webpage</td>\n",
       "      <td>网页</td>\n",
       "      <td>9</td>\n",
       "      <td>14</td>\n",
       "      <td>9</td>\n",
       "    </tr>\n",
       "    <tr>\n",
       "      <td>9</td>\n",
       "      <td>pass in</td>\n",
       "      <td>传入</td>\n",
       "      <td>10</td>\n",
       "      <td>13</td>\n",
       "      <td>10</td>\n",
       "    </tr>\n",
       "    <tr>\n",
       "      <td>10</td>\n",
       "      <td>seamlessly</td>\n",
       "      <td>天衣无缝</td>\n",
       "      <td>11</td>\n",
       "      <td>12</td>\n",
       "      <td>11</td>\n",
       "    </tr>\n",
       "    <tr>\n",
       "      <td>11</td>\n",
       "      <td>raw</td>\n",
       "      <td>未经加工的</td>\n",
       "      <td>12</td>\n",
       "      <td>11</td>\n",
       "      <td>12</td>\n",
       "    </tr>\n",
       "    <tr>\n",
       "      <td>12</td>\n",
       "      <td>explicitly</td>\n",
       "      <td>明确的</td>\n",
       "      <td>13</td>\n",
       "      <td>10</td>\n",
       "      <td>13</td>\n",
       "    </tr>\n",
       "    <tr>\n",
       "      <td>13</td>\n",
       "      <td>case-insensitive</td>\n",
       "      <td>不区分大小写</td>\n",
       "      <td>14</td>\n",
       "      <td>9</td>\n",
       "      <td>14</td>\n",
       "    </tr>\n",
       "    <tr>\n",
       "      <td>14</td>\n",
       "      <td>satisfied</td>\n",
       "      <td>满意的 满足的</td>\n",
       "      <td>15</td>\n",
       "      <td>8</td>\n",
       "      <td>15</td>\n",
       "    </tr>\n",
       "    <tr>\n",
       "      <td>15</td>\n",
       "      <td>profiler</td>\n",
       "      <td>分析器</td>\n",
       "      <td>16</td>\n",
       "      <td>7</td>\n",
       "      <td>16</td>\n",
       "    </tr>\n",
       "    <tr>\n",
       "      <td>16</td>\n",
       "      <td>discontinued</td>\n",
       "      <td>停产 停止</td>\n",
       "      <td>17</td>\n",
       "      <td>6</td>\n",
       "      <td>17</td>\n",
       "    </tr>\n",
       "    <tr>\n",
       "      <td>17</td>\n",
       "      <td>deprecation</td>\n",
       "      <td>反对</td>\n",
       "      <td>18</td>\n",
       "      <td>5</td>\n",
       "      <td>18</td>\n",
       "    </tr>\n",
       "    <tr>\n",
       "      <td>18</td>\n",
       "      <td>fragment</td>\n",
       "      <td>片段</td>\n",
       "      <td>19</td>\n",
       "      <td>4</td>\n",
       "      <td>19</td>\n",
       "    </tr>\n",
       "    <tr>\n",
       "      <td>19</td>\n",
       "      <td>paddle</td>\n",
       "      <td>桨 船桨</td>\n",
       "      <td>20</td>\n",
       "      <td>3</td>\n",
       "      <td>20</td>\n",
       "    </tr>\n",
       "    <tr>\n",
       "      <td>20</td>\n",
       "      <td>inspector</td>\n",
       "      <td>检查</td>\n",
       "      <td>21</td>\n",
       "      <td>2</td>\n",
       "      <td>21</td>\n",
       "    </tr>\n",
       "    <tr>\n",
       "      <td>21</td>\n",
       "      <td>rank</td>\n",
       "      <td>地位 级别 军衔</td>\n",
       "      <td>22</td>\n",
       "      <td>1</td>\n",
       "      <td>22</td>\n",
       "    </tr>\n",
       "  </tbody>\n",
       "</table>\n",
       "</div>"
      ],
      "text/plain": [
       "                  单词         意义  数据  avg  first\n",
       "0         officially    官方的 正式的   1   22      1\n",
       "1         Keep-Alive        长连接   2   21      2\n",
       "2           great on    熟悉的 热衷于   3   20      3\n",
       "3              prose         散文   4   19      4\n",
       "4         get out of         摆脱   5   18      5\n",
       "5            in mind        在心里   6   17      6\n",
       "6      contributions      捐款 贡献   7   16      7\n",
       "7         as obvious  一目了然 显而易见   8   15      8\n",
       "8            webpage         网页   9   14      9\n",
       "9            pass in         传入  10   13     10\n",
       "10        seamlessly       天衣无缝  11   12     11\n",
       "11               raw      未经加工的  12   11     12\n",
       "12        explicitly        明确的  13   10     13\n",
       "13  case-insensitive     不区分大小写  14    9     14\n",
       "14         satisfied    满意的 满足的  15    8     15\n",
       "15          profiler        分析器  16    7     16\n",
       "16      discontinued      停产 停止  17    6     17\n",
       "17       deprecation         反对  18    5     18\n",
       "18          fragment         片段  19    4     19\n",
       "19            paddle       桨 船桨  20    3     20\n",
       "20         inspector         检查  21    2     21\n",
       "21              rank   地位 级别 军衔  22    1     22"
      ]
     },
     "execution_count": 29,
     "metadata": {},
     "output_type": "execute_result"
    }
   ],
   "source": [
    "### 7.8 区间切分\n",
    "#区间切分就是将一系列数值分成若干份，比如有10个人，根据年龄将这10个人分成3组，这个切分过程就是区间切分。\n",
    "#Excel借助if函数来实现\n",
    "#Python中对区间的切分是利用cut()方法，三个参数分别是要切分的列，切分为几个区间，bins设定区间的范围。\n",
    "df = pd.read_excel('../english.xlsx')\n",
    "df                "
   ]
  },
  {
   "cell_type": "code",
   "execution_count": 39,
   "metadata": {},
   "outputs": [
    {
     "ename": "TypeError",
     "evalue": "cut() got multiple values for argument 'bins'",
     "output_type": "error",
     "traceback": [
      "\u001b[1;31m---------------------------------------------------------------------------\u001b[0m",
      "\u001b[1;31mTypeError\u001b[0m                                 Traceback (most recent call last)",
      "\u001b[1;32m<ipython-input-39-4c5889f41d47>\u001b[0m in \u001b[0;36m<module>\u001b[1;34m\u001b[0m\n\u001b[1;32m----> 1\u001b[1;33m \u001b[0mpd\u001b[0m\u001b[1;33m.\u001b[0m\u001b[0mcut\u001b[0m\u001b[1;33m(\u001b[0m\u001b[0mdf\u001b[0m\u001b[1;33m[\u001b[0m\u001b[1;34m'数据'\u001b[0m\u001b[1;33m]\u001b[0m\u001b[1;33m,\u001b[0m\u001b[1;36m5\u001b[0m\u001b[1;33m,\u001b[0m\u001b[0mbins\u001b[0m\u001b[1;33m=\u001b[0m\u001b[1;33m[\u001b[0m\u001b[1;36m0\u001b[0m\u001b[1;33m,\u001b[0m\u001b[1;36m6\u001b[0m\u001b[1;33m,\u001b[0m\u001b[1;36m10\u001b[0m\u001b[1;33m,\u001b[0m\u001b[1;36m23\u001b[0m\u001b[1;33m]\u001b[0m\u001b[1;33m)\u001b[0m\u001b[1;33m\u001b[0m\u001b[1;33m\u001b[0m\u001b[0m\n\u001b[0m",
      "\u001b[1;31mTypeError\u001b[0m: cut() got multiple values for argument 'bins'"
     ]
    }
   ],
   "source": [
    "pd.cut(df['数据'],5,bins=[0,6,10,22])"
   ]
  },
  {
   "cell_type": "code",
   "execution_count": 42,
   "metadata": {},
   "outputs": [
    {
     "data": {
      "text/plain": [
       "0     (0.999, 8.0]\n",
       "1     (0.999, 8.0]\n",
       "2     (0.999, 8.0]\n",
       "3     (0.999, 8.0]\n",
       "4     (0.999, 8.0]\n",
       "5     (0.999, 8.0]\n",
       "6     (0.999, 8.0]\n",
       "7     (0.999, 8.0]\n",
       "8      (8.0, 15.0]\n",
       "9      (8.0, 15.0]\n",
       "10     (8.0, 15.0]\n",
       "11     (8.0, 15.0]\n",
       "12     (8.0, 15.0]\n",
       "13     (8.0, 15.0]\n",
       "14     (8.0, 15.0]\n",
       "15    (15.0, 22.0]\n",
       "16    (15.0, 22.0]\n",
       "17    (15.0, 22.0]\n",
       "18    (15.0, 22.0]\n",
       "19    (15.0, 22.0]\n",
       "20    (15.0, 22.0]\n",
       "21    (15.0, 22.0]\n",
       "Name: 数据, dtype: category\n",
       "Categories (3, interval[float64]): [(0.999, 8.0] < (8.0, 15.0] < (15.0, 22.0]]"
      ]
     },
     "execution_count": 42,
     "metadata": {},
     "output_type": "execute_result"
    }
   ],
   "source": [
    "pd.qcut(df['数据'],3)"
   ]
  },
  {
   "cell_type": "markdown",
   "metadata": {},
   "source": [
    "### 7.9 插入新行或列\n",
    "在Python中没有专门用来插入新行的方法，可以把待插入的行当作一个新的表，然后将两个表在纵轴方向上进行拼接。\n",
    "插入新列用的方法是insert(),在参数中指明要插入的位置、插入后新列的列名以及要插入的数据。"
   ]
  },
  {
   "cell_type": "code",
   "execution_count": 43,
   "metadata": {},
   "outputs": [
    {
     "data": {
      "text/html": [
       "<div>\n",
       "<style scoped>\n",
       "    .dataframe tbody tr th:only-of-type {\n",
       "        vertical-align: middle;\n",
       "    }\n",
       "\n",
       "    .dataframe tbody tr th {\n",
       "        vertical-align: top;\n",
       "    }\n",
       "\n",
       "    .dataframe thead th {\n",
       "        text-align: right;\n",
       "    }\n",
       "</style>\n",
       "<table border=\"1\" class=\"dataframe\">\n",
       "  <thead>\n",
       "    <tr style=\"text-align: right;\">\n",
       "      <th></th>\n",
       "      <th>资材编号</th>\n",
       "      <th>品名</th>\n",
       "      <th>规格</th>\n",
       "      <th>单位</th>\n",
       "      <th>数量</th>\n",
       "    </tr>\n",
       "  </thead>\n",
       "  <tbody>\n",
       "    <tr>\n",
       "      <td>0</td>\n",
       "      <td>JJ36A12083</td>\n",
       "      <td>标签</td>\n",
       "      <td>NK1799</td>\n",
       "      <td>PCS</td>\n",
       "      <td>1</td>\n",
       "    </tr>\n",
       "    <tr>\n",
       "      <td>1</td>\n",
       "      <td>JJ36E00646</td>\n",
       "      <td>标签</td>\n",
       "      <td>NC4629B</td>\n",
       "      <td>NaN</td>\n",
       "      <td>1</td>\n",
       "    </tr>\n",
       "    <tr>\n",
       "      <td>2</td>\n",
       "      <td>JJ36E00657</td>\n",
       "      <td>标签</td>\n",
       "      <td>NC4873</td>\n",
       "      <td>NaN</td>\n",
       "      <td>1</td>\n",
       "    </tr>\n",
       "    <tr>\n",
       "      <td>3</td>\n",
       "      <td>JJ36E21722</td>\n",
       "      <td>表示板</td>\n",
       "      <td>NK5891</td>\n",
       "      <td>PCS</td>\n",
       "      <td>2</td>\n",
       "    </tr>\n",
       "    <tr>\n",
       "      <td>4</td>\n",
       "      <td>JJ36E60019</td>\n",
       "      <td>标签</td>\n",
       "      <td>NK5319</td>\n",
       "      <td>PCS</td>\n",
       "      <td>1</td>\n",
       "    </tr>\n",
       "    <tr>\n",
       "      <td>5</td>\n",
       "      <td>JJ36E60916</td>\n",
       "      <td>标签</td>\n",
       "      <td>NT0006</td>\n",
       "      <td>PCS</td>\n",
       "      <td>1</td>\n",
       "    </tr>\n",
       "    <tr>\n",
       "      <td>6</td>\n",
       "      <td>JJ36E90315</td>\n",
       "      <td>标签</td>\n",
       "      <td>NL0060</td>\n",
       "      <td>PCS</td>\n",
       "      <td>2</td>\n",
       "    </tr>\n",
       "    <tr>\n",
       "      <td>7</td>\n",
       "      <td>JJ36E90326</td>\n",
       "      <td>标签</td>\n",
       "      <td>NL0061</td>\n",
       "      <td>PCS</td>\n",
       "      <td>2</td>\n",
       "    </tr>\n",
       "    <tr>\n",
       "      <td>8</td>\n",
       "      <td>JJ36F42742</td>\n",
       "      <td>标签</td>\n",
       "      <td>NK3384B</td>\n",
       "      <td>PCS</td>\n",
       "      <td>1</td>\n",
       "    </tr>\n",
       "    <tr>\n",
       "      <td>9</td>\n",
       "      <td>MM36D00154</td>\n",
       "      <td>说明书</td>\n",
       "      <td>CPSS-135(P7436)</td>\n",
       "      <td>PCS</td>\n",
       "      <td>1</td>\n",
       "    </tr>\n",
       "    <tr>\n",
       "      <td>10</td>\n",
       "      <td>MM36D00155</td>\n",
       "      <td>说明书</td>\n",
       "      <td>CPSS-135(P7973)</td>\n",
       "      <td>PCS</td>\n",
       "      <td>1</td>\n",
       "    </tr>\n",
       "  </tbody>\n",
       "</table>\n",
       "</div>"
      ],
      "text/plain": [
       "          资材编号   品名               规格   单位  数量\n",
       "0   JJ36A12083   标签           NK1799  PCS   1\n",
       "1   JJ36E00646   标签          NC4629B  NaN   1\n",
       "2   JJ36E00657   标签           NC4873  NaN   1\n",
       "3   JJ36E21722  表示板           NK5891  PCS   2\n",
       "4   JJ36E60019   标签           NK5319  PCS   1\n",
       "5   JJ36E60916   标签           NT0006  PCS   1\n",
       "6   JJ36E90315   标签           NL0060  PCS   2\n",
       "7   JJ36E90326   标签           NL0061  PCS   2\n",
       "8   JJ36F42742   标签          NK3384B  PCS   1\n",
       "9   MM36D00154  说明书  CPSS-135(P7436)  PCS   1\n",
       "10  MM36D00155  说明书  CPSS-135(P7973)  PCS   1"
      ]
     },
     "execution_count": 43,
     "metadata": {},
     "output_type": "execute_result"
    }
   ],
   "source": [
    "df = pd.read_csv(\"./维修焊机用标签.csv\",encoding='ANSI',sep='\\t')\n",
    "df"
   ]
  },
  {
   "cell_type": "code",
   "execution_count": 49,
   "metadata": {},
   "outputs": [],
   "source": [
    "df.insert(3,\"类别1\",['国内','国内','国内','国内','国内','国内','国内','国内','国内','进口','进口'])"
   ]
  },
  {
   "cell_type": "code",
   "execution_count": 52,
   "metadata": {},
   "outputs": [
    {
     "ename": "ValueError",
     "evalue": "Length of values does not match length of index",
     "output_type": "error",
     "traceback": [
      "\u001b[1;31m---------------------------------------------------------------------------\u001b[0m",
      "\u001b[1;31mValueError\u001b[0m                                Traceback (most recent call last)",
      "\u001b[1;32m<ipython-input-52-7e8014049b40>\u001b[0m in \u001b[0;36m<module>\u001b[1;34m\u001b[0m\n\u001b[1;32m----> 1\u001b[1;33m \u001b[0mdf\u001b[0m\u001b[1;33m.\u001b[0m\u001b[0minsert\u001b[0m\u001b[1;33m(\u001b[0m\u001b[1;36m5\u001b[0m\u001b[1;33m,\u001b[0m\u001b[1;34m'类别2'\u001b[0m\u001b[1;33m,\u001b[0m\u001b[1;33m[\u001b[0m\u001b[1;33m]\u001b[0m\u001b[1;33m)\u001b[0m\u001b[1;33m\u001b[0m\u001b[1;33m\u001b[0m\u001b[0m\n\u001b[0m\u001b[0;32m      2\u001b[0m \u001b[0mdf\u001b[0m\u001b[1;33m\u001b[0m\u001b[1;33m\u001b[0m\u001b[0m\n",
      "\u001b[1;32md:\\program files\\python37\\lib\\site-packages\\pandas\\core\\frame.py\u001b[0m in \u001b[0;36minsert\u001b[1;34m(self, loc, column, value, allow_duplicates)\u001b[0m\n\u001b[0;32m   3573\u001b[0m         \"\"\"\n\u001b[0;32m   3574\u001b[0m         \u001b[0mself\u001b[0m\u001b[1;33m.\u001b[0m\u001b[0m_ensure_valid_index\u001b[0m\u001b[1;33m(\u001b[0m\u001b[0mvalue\u001b[0m\u001b[1;33m)\u001b[0m\u001b[1;33m\u001b[0m\u001b[1;33m\u001b[0m\u001b[0m\n\u001b[1;32m-> 3575\u001b[1;33m         \u001b[0mvalue\u001b[0m \u001b[1;33m=\u001b[0m \u001b[0mself\u001b[0m\u001b[1;33m.\u001b[0m\u001b[0m_sanitize_column\u001b[0m\u001b[1;33m(\u001b[0m\u001b[0mcolumn\u001b[0m\u001b[1;33m,\u001b[0m \u001b[0mvalue\u001b[0m\u001b[1;33m,\u001b[0m \u001b[0mbroadcast\u001b[0m\u001b[1;33m=\u001b[0m\u001b[1;32mFalse\u001b[0m\u001b[1;33m)\u001b[0m\u001b[1;33m\u001b[0m\u001b[1;33m\u001b[0m\u001b[0m\n\u001b[0m\u001b[0;32m   3576\u001b[0m         \u001b[0mself\u001b[0m\u001b[1;33m.\u001b[0m\u001b[0m_data\u001b[0m\u001b[1;33m.\u001b[0m\u001b[0minsert\u001b[0m\u001b[1;33m(\u001b[0m\u001b[0mloc\u001b[0m\u001b[1;33m,\u001b[0m \u001b[0mcolumn\u001b[0m\u001b[1;33m,\u001b[0m \u001b[0mvalue\u001b[0m\u001b[1;33m,\u001b[0m \u001b[0mallow_duplicates\u001b[0m\u001b[1;33m=\u001b[0m\u001b[0mallow_duplicates\u001b[0m\u001b[1;33m)\u001b[0m\u001b[1;33m\u001b[0m\u001b[1;33m\u001b[0m\u001b[0m\n\u001b[0;32m   3577\u001b[0m \u001b[1;33m\u001b[0m\u001b[0m\n",
      "\u001b[1;32md:\\program files\\python37\\lib\\site-packages\\pandas\\core\\frame.py\u001b[0m in \u001b[0;36m_sanitize_column\u001b[1;34m(self, key, value, broadcast)\u001b[0m\n\u001b[0;32m   3732\u001b[0m \u001b[1;33m\u001b[0m\u001b[0m\n\u001b[0;32m   3733\u001b[0m             \u001b[1;31m# turn me into an ndarray\u001b[0m\u001b[1;33m\u001b[0m\u001b[1;33m\u001b[0m\u001b[1;33m\u001b[0m\u001b[0m\n\u001b[1;32m-> 3734\u001b[1;33m             \u001b[0mvalue\u001b[0m \u001b[1;33m=\u001b[0m \u001b[0msanitize_index\u001b[0m\u001b[1;33m(\u001b[0m\u001b[0mvalue\u001b[0m\u001b[1;33m,\u001b[0m \u001b[0mself\u001b[0m\u001b[1;33m.\u001b[0m\u001b[0mindex\u001b[0m\u001b[1;33m,\u001b[0m \u001b[0mcopy\u001b[0m\u001b[1;33m=\u001b[0m\u001b[1;32mFalse\u001b[0m\u001b[1;33m)\u001b[0m\u001b[1;33m\u001b[0m\u001b[1;33m\u001b[0m\u001b[0m\n\u001b[0m\u001b[0;32m   3735\u001b[0m             \u001b[1;32mif\u001b[0m \u001b[1;32mnot\u001b[0m \u001b[0misinstance\u001b[0m\u001b[1;33m(\u001b[0m\u001b[0mvalue\u001b[0m\u001b[1;33m,\u001b[0m \u001b[1;33m(\u001b[0m\u001b[0mnp\u001b[0m\u001b[1;33m.\u001b[0m\u001b[0mndarray\u001b[0m\u001b[1;33m,\u001b[0m \u001b[0mIndex\u001b[0m\u001b[1;33m)\u001b[0m\u001b[1;33m)\u001b[0m\u001b[1;33m:\u001b[0m\u001b[1;33m\u001b[0m\u001b[1;33m\u001b[0m\u001b[0m\n\u001b[0;32m   3736\u001b[0m                 \u001b[1;32mif\u001b[0m \u001b[0misinstance\u001b[0m\u001b[1;33m(\u001b[0m\u001b[0mvalue\u001b[0m\u001b[1;33m,\u001b[0m \u001b[0mlist\u001b[0m\u001b[1;33m)\u001b[0m \u001b[1;32mand\u001b[0m \u001b[0mlen\u001b[0m\u001b[1;33m(\u001b[0m\u001b[0mvalue\u001b[0m\u001b[1;33m)\u001b[0m \u001b[1;33m>\u001b[0m \u001b[1;36m0\u001b[0m\u001b[1;33m:\u001b[0m\u001b[1;33m\u001b[0m\u001b[1;33m\u001b[0m\u001b[0m\n",
      "\u001b[1;32md:\\program files\\python37\\lib\\site-packages\\pandas\\core\\internals\\construction.py\u001b[0m in \u001b[0;36msanitize_index\u001b[1;34m(data, index, copy)\u001b[0m\n\u001b[0;32m    610\u001b[0m \u001b[1;33m\u001b[0m\u001b[0m\n\u001b[0;32m    611\u001b[0m     \u001b[1;32mif\u001b[0m \u001b[0mlen\u001b[0m\u001b[1;33m(\u001b[0m\u001b[0mdata\u001b[0m\u001b[1;33m)\u001b[0m \u001b[1;33m!=\u001b[0m \u001b[0mlen\u001b[0m\u001b[1;33m(\u001b[0m\u001b[0mindex\u001b[0m\u001b[1;33m)\u001b[0m\u001b[1;33m:\u001b[0m\u001b[1;33m\u001b[0m\u001b[1;33m\u001b[0m\u001b[0m\n\u001b[1;32m--> 612\u001b[1;33m         \u001b[1;32mraise\u001b[0m \u001b[0mValueError\u001b[0m\u001b[1;33m(\u001b[0m\u001b[1;34m\"Length of values does not match length of index\"\u001b[0m\u001b[1;33m)\u001b[0m\u001b[1;33m\u001b[0m\u001b[1;33m\u001b[0m\u001b[0m\n\u001b[0m\u001b[0;32m    613\u001b[0m \u001b[1;33m\u001b[0m\u001b[0m\n\u001b[0;32m    614\u001b[0m     \u001b[1;32mif\u001b[0m \u001b[0misinstance\u001b[0m\u001b[1;33m(\u001b[0m\u001b[0mdata\u001b[0m\u001b[1;33m,\u001b[0m \u001b[0mABCIndexClass\u001b[0m\u001b[1;33m)\u001b[0m \u001b[1;32mand\u001b[0m \u001b[1;32mnot\u001b[0m \u001b[0mcopy\u001b[0m\u001b[1;33m:\u001b[0m\u001b[1;33m\u001b[0m\u001b[1;33m\u001b[0m\u001b[0m\n",
      "\u001b[1;31mValueError\u001b[0m: Length of values does not match length of index"
     ]
    }
   ],
   "source": [
    "df.insert(5,'类别2',[])\n",
    "df"
   ]
  },
  {
   "cell_type": "code",
   "execution_count": 54,
   "metadata": {},
   "outputs": [
    {
     "ename": "SyntaxError",
     "evalue": "invalid syntax (<ipython-input-54-b75e676aceea>, line 1)",
     "output_type": "error",
     "traceback": [
      "\u001b[1;36m  File \u001b[1;32m\"<ipython-input-54-b75e676aceea>\"\u001b[1;36m, line \u001b[1;32m1\u001b[0m\n\u001b[1;33m    df[\"类别1\"]=['国内','国内','国内','国内','国内','国内','国内','国内','国内','进口','进口'])\u001b[0m\n\u001b[1;37m                                                                      ^\u001b[0m\n\u001b[1;31mSyntaxError\u001b[0m\u001b[1;31m:\u001b[0m invalid syntax\n"
     ]
    }
   ],
   "source": [
    "df[\"类别1\"]=['国内','国内','国内','国内','国内','国内','国内','国内','国内','进口','进口'])"
   ]
  },
  {
   "cell_type": "code",
   "execution_count": 56,
   "metadata": {},
   "outputs": [
    {
     "data": {
      "text/html": [
       "<div>\n",
       "<style scoped>\n",
       "    .dataframe tbody tr th:only-of-type {\n",
       "        vertical-align: middle;\n",
       "    }\n",
       "\n",
       "    .dataframe tbody tr th {\n",
       "        vertical-align: top;\n",
       "    }\n",
       "\n",
       "    .dataframe thead th {\n",
       "        text-align: right;\n",
       "    }\n",
       "</style>\n",
       "<table border=\"1\" class=\"dataframe\">\n",
       "  <thead>\n",
       "    <tr style=\"text-align: right;\">\n",
       "      <th></th>\n",
       "      <th>0</th>\n",
       "      <th>1</th>\n",
       "      <th>2</th>\n",
       "      <th>3</th>\n",
       "      <th>4</th>\n",
       "      <th>5</th>\n",
       "      <th>6</th>\n",
       "      <th>7</th>\n",
       "      <th>8</th>\n",
       "      <th>9</th>\n",
       "      <th>10</th>\n",
       "    </tr>\n",
       "  </thead>\n",
       "  <tbody>\n",
       "    <tr>\n",
       "      <td>资材编号</td>\n",
       "      <td>JJ36A12083</td>\n",
       "      <td>JJ36E00646</td>\n",
       "      <td>JJ36E00657</td>\n",
       "      <td>JJ36E21722</td>\n",
       "      <td>JJ36E60019</td>\n",
       "      <td>JJ36E60916</td>\n",
       "      <td>JJ36E90315</td>\n",
       "      <td>JJ36E90326</td>\n",
       "      <td>JJ36F42742</td>\n",
       "      <td>MM36D00154</td>\n",
       "      <td>MM36D00155</td>\n",
       "    </tr>\n",
       "    <tr>\n",
       "      <td>品名</td>\n",
       "      <td>标签</td>\n",
       "      <td>标签</td>\n",
       "      <td>标签</td>\n",
       "      <td>表示板</td>\n",
       "      <td>标签</td>\n",
       "      <td>标签</td>\n",
       "      <td>标签</td>\n",
       "      <td>标签</td>\n",
       "      <td>标签</td>\n",
       "      <td>说明书</td>\n",
       "      <td>说明书</td>\n",
       "    </tr>\n",
       "    <tr>\n",
       "      <td>规格</td>\n",
       "      <td>NK1799</td>\n",
       "      <td>NC4629B</td>\n",
       "      <td>NC4873</td>\n",
       "      <td>NK5891</td>\n",
       "      <td>NK5319</td>\n",
       "      <td>NT0006</td>\n",
       "      <td>NL0060</td>\n",
       "      <td>NL0061</td>\n",
       "      <td>NK3384B</td>\n",
       "      <td>CPSS-135(P7436)</td>\n",
       "      <td>CPSS-135(P7973)</td>\n",
       "    </tr>\n",
       "    <tr>\n",
       "      <td>类别1</td>\n",
       "      <td>国内</td>\n",
       "      <td>国内</td>\n",
       "      <td>国内</td>\n",
       "      <td>国内</td>\n",
       "      <td>国内</td>\n",
       "      <td>国内</td>\n",
       "      <td>国内</td>\n",
       "      <td>国内</td>\n",
       "      <td>国内</td>\n",
       "      <td>进口</td>\n",
       "      <td>进口</td>\n",
       "    </tr>\n",
       "    <tr>\n",
       "      <td>类别</td>\n",
       "      <td>国内</td>\n",
       "      <td>国内</td>\n",
       "      <td>国内</td>\n",
       "      <td>国内</td>\n",
       "      <td>国内</td>\n",
       "      <td>国内</td>\n",
       "      <td>国内</td>\n",
       "      <td>国内</td>\n",
       "      <td>国内</td>\n",
       "      <td>进口</td>\n",
       "      <td>进口</td>\n",
       "    </tr>\n",
       "    <tr>\n",
       "      <td>单位</td>\n",
       "      <td>PCS</td>\n",
       "      <td>NaN</td>\n",
       "      <td>NaN</td>\n",
       "      <td>PCS</td>\n",
       "      <td>PCS</td>\n",
       "      <td>PCS</td>\n",
       "      <td>PCS</td>\n",
       "      <td>PCS</td>\n",
       "      <td>PCS</td>\n",
       "      <td>PCS</td>\n",
       "      <td>PCS</td>\n",
       "    </tr>\n",
       "    <tr>\n",
       "      <td>数量</td>\n",
       "      <td>1</td>\n",
       "      <td>1</td>\n",
       "      <td>1</td>\n",
       "      <td>2</td>\n",
       "      <td>1</td>\n",
       "      <td>1</td>\n",
       "      <td>2</td>\n",
       "      <td>2</td>\n",
       "      <td>1</td>\n",
       "      <td>1</td>\n",
       "      <td>1</td>\n",
       "    </tr>\n",
       "  </tbody>\n",
       "</table>\n",
       "</div>"
      ],
      "text/plain": [
       "               0           1           2           3           4           5  \\\n",
       "资材编号  JJ36A12083  JJ36E00646  JJ36E00657  JJ36E21722  JJ36E60019  JJ36E60916   \n",
       "品名            标签          标签          标签         表示板          标签          标签   \n",
       "规格        NK1799     NC4629B      NC4873      NK5891      NK5319      NT0006   \n",
       "类别1           国内          国内          国内          国内          国内          国内   \n",
       "类别            国内          国内          国内          国内          国内          国内   \n",
       "单位           PCS         NaN         NaN         PCS         PCS         PCS   \n",
       "数量             1           1           1           2           1           1   \n",
       "\n",
       "               6           7           8                9               10  \n",
       "资材编号  JJ36E90315  JJ36E90326  JJ36F42742       MM36D00154       MM36D00155  \n",
       "品名            标签          标签          标签              说明书              说明书  \n",
       "规格        NL0060      NL0061     NK3384B  CPSS-135(P7436)  CPSS-135(P7973)  \n",
       "类别1           国内          国内          国内               进口               进口  \n",
       "类别            国内          国内          国内               进口               进口  \n",
       "单位           PCS         PCS         PCS              PCS              PCS  \n",
       "数量             2           2           1                1                1  "
      ]
     },
     "execution_count": 56,
     "metadata": {},
     "output_type": "execute_result"
    }
   ],
   "source": [
    "### 7.10 行列互换\n",
    "#所谓行列互换(又称转置)就是将行数据转到列方向上，将列数据转换到行方向上。\n",
    "#Excel操作方法是拷贝→选择性粘贴→转置\n",
    "#Python在源数据表上调用.T方法，方法不带括号，没有参数\n",
    "df.T"
   ]
  },
  {
   "cell_type": "code",
   "execution_count": 57,
   "metadata": {},
   "outputs": [
    {
     "data": {
      "text/html": [
       "<div>\n",
       "<style scoped>\n",
       "    .dataframe tbody tr th:only-of-type {\n",
       "        vertical-align: middle;\n",
       "    }\n",
       "\n",
       "    .dataframe tbody tr th {\n",
       "        vertical-align: top;\n",
       "    }\n",
       "\n",
       "    .dataframe thead th {\n",
       "        text-align: right;\n",
       "    }\n",
       "</style>\n",
       "<table border=\"1\" class=\"dataframe\">\n",
       "  <thead>\n",
       "    <tr style=\"text-align: right;\">\n",
       "      <th></th>\n",
       "      <th>资材编号</th>\n",
       "      <th>品名</th>\n",
       "      <th>规格</th>\n",
       "      <th>类别1</th>\n",
       "      <th>类别</th>\n",
       "      <th>单位</th>\n",
       "      <th>数量</th>\n",
       "    </tr>\n",
       "  </thead>\n",
       "  <tbody>\n",
       "    <tr>\n",
       "      <td>0</td>\n",
       "      <td>JJ36A12083</td>\n",
       "      <td>标签</td>\n",
       "      <td>NK1799</td>\n",
       "      <td>国内</td>\n",
       "      <td>国内</td>\n",
       "      <td>PCS</td>\n",
       "      <td>1</td>\n",
       "    </tr>\n",
       "    <tr>\n",
       "      <td>1</td>\n",
       "      <td>JJ36E00646</td>\n",
       "      <td>标签</td>\n",
       "      <td>NC4629B</td>\n",
       "      <td>国内</td>\n",
       "      <td>国内</td>\n",
       "      <td>NaN</td>\n",
       "      <td>1</td>\n",
       "    </tr>\n",
       "    <tr>\n",
       "      <td>2</td>\n",
       "      <td>JJ36E00657</td>\n",
       "      <td>标签</td>\n",
       "      <td>NC4873</td>\n",
       "      <td>国内</td>\n",
       "      <td>国内</td>\n",
       "      <td>NaN</td>\n",
       "      <td>1</td>\n",
       "    </tr>\n",
       "    <tr>\n",
       "      <td>3</td>\n",
       "      <td>JJ36E21722</td>\n",
       "      <td>表示板</td>\n",
       "      <td>NK5891</td>\n",
       "      <td>国内</td>\n",
       "      <td>国内</td>\n",
       "      <td>PCS</td>\n",
       "      <td>2</td>\n",
       "    </tr>\n",
       "    <tr>\n",
       "      <td>4</td>\n",
       "      <td>JJ36E60019</td>\n",
       "      <td>标签</td>\n",
       "      <td>NK5319</td>\n",
       "      <td>国内</td>\n",
       "      <td>国内</td>\n",
       "      <td>PCS</td>\n",
       "      <td>1</td>\n",
       "    </tr>\n",
       "    <tr>\n",
       "      <td>5</td>\n",
       "      <td>JJ36E60916</td>\n",
       "      <td>标签</td>\n",
       "      <td>NT0006</td>\n",
       "      <td>国内</td>\n",
       "      <td>国内</td>\n",
       "      <td>PCS</td>\n",
       "      <td>1</td>\n",
       "    </tr>\n",
       "    <tr>\n",
       "      <td>6</td>\n",
       "      <td>JJ36E90315</td>\n",
       "      <td>标签</td>\n",
       "      <td>NL0060</td>\n",
       "      <td>国内</td>\n",
       "      <td>国内</td>\n",
       "      <td>PCS</td>\n",
       "      <td>2</td>\n",
       "    </tr>\n",
       "    <tr>\n",
       "      <td>7</td>\n",
       "      <td>JJ36E90326</td>\n",
       "      <td>标签</td>\n",
       "      <td>NL0061</td>\n",
       "      <td>国内</td>\n",
       "      <td>国内</td>\n",
       "      <td>PCS</td>\n",
       "      <td>2</td>\n",
       "    </tr>\n",
       "    <tr>\n",
       "      <td>8</td>\n",
       "      <td>JJ36F42742</td>\n",
       "      <td>标签</td>\n",
       "      <td>NK3384B</td>\n",
       "      <td>国内</td>\n",
       "      <td>国内</td>\n",
       "      <td>PCS</td>\n",
       "      <td>1</td>\n",
       "    </tr>\n",
       "    <tr>\n",
       "      <td>9</td>\n",
       "      <td>MM36D00154</td>\n",
       "      <td>说明书</td>\n",
       "      <td>CPSS-135(P7436)</td>\n",
       "      <td>进口</td>\n",
       "      <td>进口</td>\n",
       "      <td>PCS</td>\n",
       "      <td>1</td>\n",
       "    </tr>\n",
       "    <tr>\n",
       "      <td>10</td>\n",
       "      <td>MM36D00155</td>\n",
       "      <td>说明书</td>\n",
       "      <td>CPSS-135(P7973)</td>\n",
       "      <td>进口</td>\n",
       "      <td>进口</td>\n",
       "      <td>PCS</td>\n",
       "      <td>1</td>\n",
       "    </tr>\n",
       "  </tbody>\n",
       "</table>\n",
       "</div>"
      ],
      "text/plain": [
       "          资材编号   品名               规格 类别1  类别   单位  数量\n",
       "0   JJ36A12083   标签           NK1799  国内  国内  PCS   1\n",
       "1   JJ36E00646   标签          NC4629B  国内  国内  NaN   1\n",
       "2   JJ36E00657   标签           NC4873  国内  国内  NaN   1\n",
       "3   JJ36E21722  表示板           NK5891  国内  国内  PCS   2\n",
       "4   JJ36E60019   标签           NK5319  国内  国内  PCS   1\n",
       "5   JJ36E60916   标签           NT0006  国内  国内  PCS   1\n",
       "6   JJ36E90315   标签           NL0060  国内  国内  PCS   2\n",
       "7   JJ36E90326   标签           NL0061  国内  国内  PCS   2\n",
       "8   JJ36F42742   标签          NK3384B  国内  国内  PCS   1\n",
       "9   MM36D00154  说明书  CPSS-135(P7436)  进口  进口  PCS   1\n",
       "10  MM36D00155  说明书  CPSS-135(P7973)  进口  进口  PCS   1"
      ]
     },
     "execution_count": 57,
     "metadata": {},
     "output_type": "execute_result"
    }
   ],
   "source": [
    "#### 7.11 索引重塑\n",
    "#索引重塑就是将原来的索引进行重新构建。把数据从表格型转换到树形数据的过程叫重塑。Excel中没有该操作，Python中用stack()，unstack()反向操作\n",
    "df"
   ]
  },
  {
   "cell_type": "code",
   "execution_count": 60,
   "metadata": {},
   "outputs": [
    {
     "data": {
      "text/plain": [
       "<bound method DataFrame.stack of           资材编号   品名               规格 类别1  类别   单位  数量\n",
       "0   JJ36A12083   标签           NK1799  国内  国内  PCS   1\n",
       "1   JJ36E00646   标签          NC4629B  国内  国内  NaN   1\n",
       "2   JJ36E00657   标签           NC4873  国内  国内  NaN   1\n",
       "3   JJ36E21722  表示板           NK5891  国内  国内  PCS   2\n",
       "4   JJ36E60019   标签           NK5319  国内  国内  PCS   1\n",
       "5   JJ36E60916   标签           NT0006  国内  国内  PCS   1\n",
       "6   JJ36E90315   标签           NL0060  国内  国内  PCS   2\n",
       "7   JJ36E90326   标签           NL0061  国内  国内  PCS   2\n",
       "8   JJ36F42742   标签          NK3384B  国内  国内  PCS   1\n",
       "9   MM36D00154  说明书  CPSS-135(P7436)  进口  进口  PCS   1\n",
       "10  MM36D00155  说明书  CPSS-135(P7973)  进口  进口  PCS   1>"
      ]
     },
     "execution_count": 60,
     "metadata": {},
     "output_type": "execute_result"
    }
   ],
   "source": [
    "df1 = df.stack\n",
    "df1"
   ]
  },
  {
   "cell_type": "code",
   "execution_count": null,
   "metadata": {},
   "outputs": [],
   "source": [
    "### 7.12 长宽表转换\n",
    "#将比较长的表(很多行)转换为比较宽(很多列)的表，或者将比较宽的表转换为比较长的表\n",
    "#转换过程是有前提的，就是要有公共列\n",
    "#### 7.12.1 宽表转换为长表\n",
    "#Excel中用拷贝粘贴实现\n",
    "#Python中有两种方法，stack()和melt()\n",
    "#这个主题以后在用到时再详细研究"
   ]
  },
  {
   "cell_type": "markdown",
   "metadata": {},
   "source": [
    "### 7.13 apply()和applymap()函数\n",
    "在Python基础知识讲过的Python高级特性map()函数，能够对一个序列中的所有元素执行相同的函数操作。\n",
    "在DataFrame中与map()函数类似的函数有两个，一个是apply()函数，另一个是applymap()函数。都需要与匿名函数lambda结合使用。\n",
    "apply()函数主要用于对DataFrame中的某一列或行中的元素执行相同的函数操作。\n",
    "applymap()函数用于对DataFrame中的每一个元素执行相同的函数操作。"
   ]
  },
  {
   "cell_type": "code",
   "execution_count": 61,
   "metadata": {},
   "outputs": [
    {
     "data": {
      "text/html": [
       "<div>\n",
       "<style scoped>\n",
       "    .dataframe tbody tr th:only-of-type {\n",
       "        vertical-align: middle;\n",
       "    }\n",
       "\n",
       "    .dataframe tbody tr th {\n",
       "        vertical-align: top;\n",
       "    }\n",
       "\n",
       "    .dataframe thead th {\n",
       "        text-align: right;\n",
       "    }\n",
       "</style>\n",
       "<table border=\"1\" class=\"dataframe\">\n",
       "  <thead>\n",
       "    <tr style=\"text-align: right;\">\n",
       "      <th></th>\n",
       "      <th>资材编号</th>\n",
       "      <th>品名</th>\n",
       "      <th>规格</th>\n",
       "      <th>类别1</th>\n",
       "      <th>类别</th>\n",
       "      <th>单位</th>\n",
       "      <th>数量</th>\n",
       "    </tr>\n",
       "  </thead>\n",
       "  <tbody>\n",
       "    <tr>\n",
       "      <td>0</td>\n",
       "      <td>JJ36A12083</td>\n",
       "      <td>标签</td>\n",
       "      <td>NK1799</td>\n",
       "      <td>国内</td>\n",
       "      <td>国内</td>\n",
       "      <td>PCS</td>\n",
       "      <td>1</td>\n",
       "    </tr>\n",
       "    <tr>\n",
       "      <td>1</td>\n",
       "      <td>JJ36E00646</td>\n",
       "      <td>标签</td>\n",
       "      <td>NC4629B</td>\n",
       "      <td>国内</td>\n",
       "      <td>国内</td>\n",
       "      <td>NaN</td>\n",
       "      <td>1</td>\n",
       "    </tr>\n",
       "    <tr>\n",
       "      <td>2</td>\n",
       "      <td>JJ36E00657</td>\n",
       "      <td>标签</td>\n",
       "      <td>NC4873</td>\n",
       "      <td>国内</td>\n",
       "      <td>国内</td>\n",
       "      <td>NaN</td>\n",
       "      <td>1</td>\n",
       "    </tr>\n",
       "    <tr>\n",
       "      <td>3</td>\n",
       "      <td>JJ36E21722</td>\n",
       "      <td>表示板</td>\n",
       "      <td>NK5891</td>\n",
       "      <td>国内</td>\n",
       "      <td>国内</td>\n",
       "      <td>PCS</td>\n",
       "      <td>2</td>\n",
       "    </tr>\n",
       "    <tr>\n",
       "      <td>4</td>\n",
       "      <td>JJ36E60019</td>\n",
       "      <td>标签</td>\n",
       "      <td>NK5319</td>\n",
       "      <td>国内</td>\n",
       "      <td>国内</td>\n",
       "      <td>PCS</td>\n",
       "      <td>1</td>\n",
       "    </tr>\n",
       "    <tr>\n",
       "      <td>5</td>\n",
       "      <td>JJ36E60916</td>\n",
       "      <td>标签</td>\n",
       "      <td>NT0006</td>\n",
       "      <td>国内</td>\n",
       "      <td>国内</td>\n",
       "      <td>PCS</td>\n",
       "      <td>1</td>\n",
       "    </tr>\n",
       "    <tr>\n",
       "      <td>6</td>\n",
       "      <td>JJ36E90315</td>\n",
       "      <td>标签</td>\n",
       "      <td>NL0060</td>\n",
       "      <td>国内</td>\n",
       "      <td>国内</td>\n",
       "      <td>PCS</td>\n",
       "      <td>2</td>\n",
       "    </tr>\n",
       "    <tr>\n",
       "      <td>7</td>\n",
       "      <td>JJ36E90326</td>\n",
       "      <td>标签</td>\n",
       "      <td>NL0061</td>\n",
       "      <td>国内</td>\n",
       "      <td>国内</td>\n",
       "      <td>PCS</td>\n",
       "      <td>2</td>\n",
       "    </tr>\n",
       "    <tr>\n",
       "      <td>8</td>\n",
       "      <td>JJ36F42742</td>\n",
       "      <td>标签</td>\n",
       "      <td>NK3384B</td>\n",
       "      <td>国内</td>\n",
       "      <td>国内</td>\n",
       "      <td>PCS</td>\n",
       "      <td>1</td>\n",
       "    </tr>\n",
       "    <tr>\n",
       "      <td>9</td>\n",
       "      <td>MM36D00154</td>\n",
       "      <td>说明书</td>\n",
       "      <td>CPSS-135(P7436)</td>\n",
       "      <td>进口</td>\n",
       "      <td>进口</td>\n",
       "      <td>PCS</td>\n",
       "      <td>1</td>\n",
       "    </tr>\n",
       "    <tr>\n",
       "      <td>10</td>\n",
       "      <td>MM36D00155</td>\n",
       "      <td>说明书</td>\n",
       "      <td>CPSS-135(P7973)</td>\n",
       "      <td>进口</td>\n",
       "      <td>进口</td>\n",
       "      <td>PCS</td>\n",
       "      <td>1</td>\n",
       "    </tr>\n",
       "  </tbody>\n",
       "</table>\n",
       "</div>"
      ],
      "text/plain": [
       "          资材编号   品名               规格 类别1  类别   单位  数量\n",
       "0   JJ36A12083   标签           NK1799  国内  国内  PCS   1\n",
       "1   JJ36E00646   标签          NC4629B  国内  国内  NaN   1\n",
       "2   JJ36E00657   标签           NC4873  国内  国内  NaN   1\n",
       "3   JJ36E21722  表示板           NK5891  国内  国内  PCS   2\n",
       "4   JJ36E60019   标签           NK5319  国内  国内  PCS   1\n",
       "5   JJ36E60916   标签           NT0006  国内  国内  PCS   1\n",
       "6   JJ36E90315   标签           NL0060  国内  国内  PCS   2\n",
       "7   JJ36E90326   标签           NL0061  国内  国内  PCS   2\n",
       "8   JJ36F42742   标签          NK3384B  国内  国内  PCS   1\n",
       "9   MM36D00154  说明书  CPSS-135(P7436)  进口  进口  PCS   1\n",
       "10  MM36D00155  说明书  CPSS-135(P7973)  进口  进口  PCS   1"
      ]
     },
     "execution_count": 61,
     "metadata": {},
     "output_type": "execute_result"
    }
   ],
   "source": [
    "df"
   ]
  },
  {
   "cell_type": "code",
   "execution_count": 70,
   "metadata": {},
   "outputs": [
    {
     "data": {
      "text/html": [
       "<div>\n",
       "<style scoped>\n",
       "    .dataframe tbody tr th:only-of-type {\n",
       "        vertical-align: middle;\n",
       "    }\n",
       "\n",
       "    .dataframe tbody tr th {\n",
       "        vertical-align: top;\n",
       "    }\n",
       "\n",
       "    .dataframe thead th {\n",
       "        text-align: right;\n",
       "    }\n",
       "</style>\n",
       "<table border=\"1\" class=\"dataframe\">\n",
       "  <thead>\n",
       "    <tr style=\"text-align: right;\">\n",
       "      <th></th>\n",
       "      <th>资材编号</th>\n",
       "      <th>品名</th>\n",
       "      <th>规格</th>\n",
       "      <th>类别1</th>\n",
       "      <th>类别</th>\n",
       "    </tr>\n",
       "  </thead>\n",
       "  <tbody>\n",
       "    <tr>\n",
       "      <td>0</td>\n",
       "      <td>JJ36A12083</td>\n",
       "      <td>标签</td>\n",
       "      <td>NK1799</td>\n",
       "      <td>国内</td>\n",
       "      <td>国内</td>\n",
       "    </tr>\n",
       "    <tr>\n",
       "      <td>1</td>\n",
       "      <td>JJ36E00646</td>\n",
       "      <td>标签</td>\n",
       "      <td>NC4629B</td>\n",
       "      <td>国内</td>\n",
       "      <td>国内</td>\n",
       "    </tr>\n",
       "    <tr>\n",
       "      <td>2</td>\n",
       "      <td>JJ36E00657</td>\n",
       "      <td>标签</td>\n",
       "      <td>NC4873</td>\n",
       "      <td>国内</td>\n",
       "      <td>国内</td>\n",
       "    </tr>\n",
       "    <tr>\n",
       "      <td>3</td>\n",
       "      <td>JJ36E21722</td>\n",
       "      <td>表示板</td>\n",
       "      <td>NK5891</td>\n",
       "      <td>国内</td>\n",
       "      <td>国内</td>\n",
       "    </tr>\n",
       "    <tr>\n",
       "      <td>4</td>\n",
       "      <td>JJ36E60019</td>\n",
       "      <td>标签</td>\n",
       "      <td>NK5319</td>\n",
       "      <td>国内</td>\n",
       "      <td>国内</td>\n",
       "    </tr>\n",
       "    <tr>\n",
       "      <td>5</td>\n",
       "      <td>JJ36E60916</td>\n",
       "      <td>标签</td>\n",
       "      <td>NT0006</td>\n",
       "      <td>国内</td>\n",
       "      <td>国内</td>\n",
       "    </tr>\n",
       "    <tr>\n",
       "      <td>6</td>\n",
       "      <td>JJ36E90315</td>\n",
       "      <td>标签</td>\n",
       "      <td>NL0060</td>\n",
       "      <td>国内</td>\n",
       "      <td>国内</td>\n",
       "    </tr>\n",
       "    <tr>\n",
       "      <td>7</td>\n",
       "      <td>JJ36E90326</td>\n",
       "      <td>标签</td>\n",
       "      <td>NL0061</td>\n",
       "      <td>国内</td>\n",
       "      <td>国内</td>\n",
       "    </tr>\n",
       "    <tr>\n",
       "      <td>8</td>\n",
       "      <td>JJ36F42742</td>\n",
       "      <td>标签</td>\n",
       "      <td>NK3384B</td>\n",
       "      <td>国内</td>\n",
       "      <td>国内</td>\n",
       "    </tr>\n",
       "    <tr>\n",
       "      <td>9</td>\n",
       "      <td>MM36D00154</td>\n",
       "      <td>说明书</td>\n",
       "      <td>CPSS-135(P7436)</td>\n",
       "      <td>进口</td>\n",
       "      <td>进口</td>\n",
       "    </tr>\n",
       "    <tr>\n",
       "      <td>10</td>\n",
       "      <td>MM36D00155</td>\n",
       "      <td>说明书</td>\n",
       "      <td>CPSS-135(P7973)</td>\n",
       "      <td>进口</td>\n",
       "      <td>进口</td>\n",
       "    </tr>\n",
       "  </tbody>\n",
       "</table>\n",
       "</div>"
      ],
      "text/plain": [
       "          资材编号   品名               规格 类别1  类别\n",
       "0   JJ36A12083   标签           NK1799  国内  国内\n",
       "1   JJ36E00646   标签          NC4629B  国内  国内\n",
       "2   JJ36E00657   标签           NC4873  国内  国内\n",
       "3   JJ36E21722  表示板           NK5891  国内  国内\n",
       "4   JJ36E60019   标签           NK5319  国内  国内\n",
       "5   JJ36E60916   标签           NT0006  国内  国内\n",
       "6   JJ36E90315   标签           NL0060  国内  国内\n",
       "7   JJ36E90326   标签           NL0061  国内  国内\n",
       "8   JJ36F42742   标签          NK3384B  国内  国内\n",
       "9   MM36D00154  说明书  CPSS-135(P7436)  进口  进口\n",
       "10  MM36D00155  说明书  CPSS-135(P7973)  进口  进口"
      ]
     },
     "execution_count": 70,
     "metadata": {},
     "output_type": "execute_result"
    }
   ],
   "source": [
    "df.iloc[:,0:5]"
   ]
  },
  {
   "cell_type": "code",
   "execution_count": 66,
   "metadata": {},
   "outputs": [
    {
     "ename": "SyntaxError",
     "evalue": "invalid syntax (<ipython-input-66-263e173ed978>, line 1)",
     "output_type": "error",
     "traceback": [
      "\u001b[1;36m  File \u001b[1;32m\"<ipython-input-66-263e173ed978>\"\u001b[1;36m, line \u001b[1;32m1\u001b[0m\n\u001b[1;33m    df.iloc[:,[0:6]].['数量'].apply(lambda x:x.join(\" aaa\"))\u001b[0m\n\u001b[1;37m                ^\u001b[0m\n\u001b[1;31mSyntaxError\u001b[0m\u001b[1;31m:\u001b[0m invalid syntax\n"
     ]
    }
   ],
   "source": [
    "df.iloc[:,[0:6]].['数量'].apply(lambda x:x.join(\" aaa\"))"
   ]
  },
  {
   "cell_type": "code",
   "execution_count": 72,
   "metadata": {},
   "outputs": [
    {
     "data": {
      "text/html": [
       "<div>\n",
       "<style scoped>\n",
       "    .dataframe tbody tr th:only-of-type {\n",
       "        vertical-align: middle;\n",
       "    }\n",
       "\n",
       "    .dataframe tbody tr th {\n",
       "        vertical-align: top;\n",
       "    }\n",
       "\n",
       "    .dataframe thead th {\n",
       "        text-align: right;\n",
       "    }\n",
       "</style>\n",
       "<table border=\"1\" class=\"dataframe\">\n",
       "  <thead>\n",
       "    <tr style=\"text-align: right;\">\n",
       "      <th></th>\n",
       "      <th>资材编号</th>\n",
       "      <th>品名</th>\n",
       "      <th>规格</th>\n",
       "      <th>类别1</th>\n",
       "      <th>类别</th>\n",
       "    </tr>\n",
       "  </thead>\n",
       "  <tbody>\n",
       "    <tr>\n",
       "      <td>0</td>\n",
       "      <td>JJ36A120832</td>\n",
       "      <td>标签2</td>\n",
       "      <td>NK17992</td>\n",
       "      <td>国内2</td>\n",
       "      <td>国内2</td>\n",
       "    </tr>\n",
       "    <tr>\n",
       "      <td>1</td>\n",
       "      <td>JJ36E006462</td>\n",
       "      <td>标签2</td>\n",
       "      <td>NC4629B2</td>\n",
       "      <td>国内2</td>\n",
       "      <td>国内2</td>\n",
       "    </tr>\n",
       "    <tr>\n",
       "      <td>2</td>\n",
       "      <td>JJ36E006572</td>\n",
       "      <td>标签2</td>\n",
       "      <td>NC48732</td>\n",
       "      <td>国内2</td>\n",
       "      <td>国内2</td>\n",
       "    </tr>\n",
       "    <tr>\n",
       "      <td>3</td>\n",
       "      <td>JJ36E217222</td>\n",
       "      <td>表示板2</td>\n",
       "      <td>NK58912</td>\n",
       "      <td>国内2</td>\n",
       "      <td>国内2</td>\n",
       "    </tr>\n",
       "    <tr>\n",
       "      <td>4</td>\n",
       "      <td>JJ36E600192</td>\n",
       "      <td>标签2</td>\n",
       "      <td>NK53192</td>\n",
       "      <td>国内2</td>\n",
       "      <td>国内2</td>\n",
       "    </tr>\n",
       "    <tr>\n",
       "      <td>5</td>\n",
       "      <td>JJ36E609162</td>\n",
       "      <td>标签2</td>\n",
       "      <td>NT00062</td>\n",
       "      <td>国内2</td>\n",
       "      <td>国内2</td>\n",
       "    </tr>\n",
       "    <tr>\n",
       "      <td>6</td>\n",
       "      <td>JJ36E903152</td>\n",
       "      <td>标签2</td>\n",
       "      <td>NL00602</td>\n",
       "      <td>国内2</td>\n",
       "      <td>国内2</td>\n",
       "    </tr>\n",
       "    <tr>\n",
       "      <td>7</td>\n",
       "      <td>JJ36E903262</td>\n",
       "      <td>标签2</td>\n",
       "      <td>NL00612</td>\n",
       "      <td>国内2</td>\n",
       "      <td>国内2</td>\n",
       "    </tr>\n",
       "    <tr>\n",
       "      <td>8</td>\n",
       "      <td>JJ36F427422</td>\n",
       "      <td>标签2</td>\n",
       "      <td>NK3384B2</td>\n",
       "      <td>国内2</td>\n",
       "      <td>国内2</td>\n",
       "    </tr>\n",
       "    <tr>\n",
       "      <td>9</td>\n",
       "      <td>MM36D001542</td>\n",
       "      <td>说明书2</td>\n",
       "      <td>CPSS-135(P7436)2</td>\n",
       "      <td>进口2</td>\n",
       "      <td>进口2</td>\n",
       "    </tr>\n",
       "    <tr>\n",
       "      <td>10</td>\n",
       "      <td>MM36D001552</td>\n",
       "      <td>说明书2</td>\n",
       "      <td>CPSS-135(P7973)2</td>\n",
       "      <td>进口2</td>\n",
       "      <td>进口2</td>\n",
       "    </tr>\n",
       "  </tbody>\n",
       "</table>\n",
       "</div>"
      ],
      "text/plain": [
       "           资材编号    品名                规格  类别1   类别\n",
       "0   JJ36A120832   标签2           NK17992  国内2  国内2\n",
       "1   JJ36E006462   标签2          NC4629B2  国内2  国内2\n",
       "2   JJ36E006572   标签2           NC48732  国内2  国内2\n",
       "3   JJ36E217222  表示板2           NK58912  国内2  国内2\n",
       "4   JJ36E600192   标签2           NK53192  国内2  国内2\n",
       "5   JJ36E609162   标签2           NT00062  国内2  国内2\n",
       "6   JJ36E903152   标签2           NL00602  国内2  国内2\n",
       "7   JJ36E903262   标签2           NL00612  国内2  国内2\n",
       "8   JJ36F427422   标签2          NK3384B2  国内2  国内2\n",
       "9   MM36D001542  说明书2  CPSS-135(P7436)2  进口2  进口2\n",
       "10  MM36D001552  说明书2  CPSS-135(P7973)2  进口2  进口2"
      ]
     },
     "execution_count": 72,
     "metadata": {},
     "output_type": "execute_result"
    }
   ],
   "source": [
    "df.iloc[:,0:5].applymap(lambda x:x+'2')"
   ]
  },
  {
   "cell_type": "markdown",
   "metadata": {},
   "source": [
    "# Python的操作也跟Excel的基本操作相同：先选择，再操作。"
   ]
  },
  {
   "cell_type": "code",
   "execution_count": 81,
   "metadata": {},
   "outputs": [
    {
     "data": {
      "text/html": [
       "<div>\n",
       "<style scoped>\n",
       "    .dataframe tbody tr th:only-of-type {\n",
       "        vertical-align: middle;\n",
       "    }\n",
       "\n",
       "    .dataframe tbody tr th {\n",
       "        vertical-align: top;\n",
       "    }\n",
       "\n",
       "    .dataframe thead th {\n",
       "        text-align: right;\n",
       "    }\n",
       "</style>\n",
       "<table border=\"1\" class=\"dataframe\">\n",
       "  <thead>\n",
       "    <tr style=\"text-align: right;\">\n",
       "      <th></th>\n",
       "      <th>C1</th>\n",
       "      <th>C2</th>\n",
       "      <th>C3</th>\n",
       "    </tr>\n",
       "  </thead>\n",
       "  <tbody>\n",
       "    <tr>\n",
       "      <td>S1</td>\n",
       "      <td>1</td>\n",
       "      <td>2</td>\n",
       "      <td>3</td>\n",
       "    </tr>\n",
       "    <tr>\n",
       "      <td>S2</td>\n",
       "      <td>4</td>\n",
       "      <td>5</td>\n",
       "      <td>6</td>\n",
       "    </tr>\n",
       "  </tbody>\n",
       "</table>\n",
       "</div>"
      ],
      "text/plain": [
       "    C1  C2  C3\n",
       "S1   1   2   3\n",
       "S2   4   5   6"
      ]
     },
     "execution_count": 81,
     "metadata": {},
     "output_type": "execute_result"
    }
   ],
   "source": [
    "## 第8章 数据运行\n",
    "### 8.1 算术运算\n",
    "df = pd.DataFrame([[1,2,3],[4,5,6]],columns=['C1','C2','C3'],index=['S1','S2'])\n",
    "df"
   ]
  },
  {
   "cell_type": "code",
   "execution_count": 82,
   "metadata": {},
   "outputs": [
    {
     "data": {
      "text/plain": [
       "S1    3\n",
       "S2    9\n",
       "dtype: int64"
      ]
     },
     "execution_count": 82,
     "metadata": {},
     "output_type": "execute_result"
    }
   ],
   "source": [
    "#两列相加\n",
    "df['C1'] + df['C2']"
   ]
  },
  {
   "cell_type": "code",
   "execution_count": 83,
   "metadata": {},
   "outputs": [
    {
     "data": {
      "text/plain": [
       "S1   -1\n",
       "S2   -1\n",
       "dtype: int64"
      ]
     },
     "execution_count": 83,
     "metadata": {},
     "output_type": "execute_result"
    }
   ],
   "source": [
    "#两列相减\n",
    "df['C1'] - df['C2']"
   ]
  },
  {
   "cell_type": "code",
   "execution_count": 84,
   "metadata": {},
   "outputs": [
    {
     "data": {
      "text/plain": [
       "S1     2\n",
       "S2    20\n",
       "dtype: int64"
      ]
     },
     "execution_count": 84,
     "metadata": {},
     "output_type": "execute_result"
    }
   ],
   "source": [
    "#两列相乘\n",
    "df['C1'] * df['C2']"
   ]
  },
  {
   "cell_type": "code",
   "execution_count": 85,
   "metadata": {},
   "outputs": [
    {
     "data": {
      "text/plain": [
       "S1    0.5\n",
       "S2    0.8\n",
       "dtype: float64"
      ]
     },
     "execution_count": 85,
     "metadata": {},
     "output_type": "execute_result"
    }
   ],
   "source": [
    "#两列相除\n",
    "df['C1'] / df['C2']"
   ]
  },
  {
   "cell_type": "code",
   "execution_count": 87,
   "metadata": {},
   "outputs": [
    {
     "data": {
      "text/html": [
       "<div>\n",
       "<style scoped>\n",
       "    .dataframe tbody tr th:only-of-type {\n",
       "        vertical-align: middle;\n",
       "    }\n",
       "\n",
       "    .dataframe tbody tr th {\n",
       "        vertical-align: top;\n",
       "    }\n",
       "\n",
       "    .dataframe thead th {\n",
       "        text-align: right;\n",
       "    }\n",
       "</style>\n",
       "<table border=\"1\" class=\"dataframe\">\n",
       "  <thead>\n",
       "    <tr style=\"text-align: right;\">\n",
       "      <th></th>\n",
       "      <th>C1</th>\n",
       "      <th>C2</th>\n",
       "      <th>C3</th>\n",
       "    </tr>\n",
       "  </thead>\n",
       "  <tbody>\n",
       "    <tr>\n",
       "      <td>S1</td>\n",
       "      <td>1</td>\n",
       "      <td>2</td>\n",
       "      <td>3</td>\n",
       "    </tr>\n",
       "    <tr>\n",
       "      <td>S2</td>\n",
       "      <td>4</td>\n",
       "      <td>5</td>\n",
       "      <td>6</td>\n",
       "    </tr>\n",
       "  </tbody>\n",
       "</table>\n",
       "</div>"
      ],
      "text/plain": [
       "    C1  C2  C3\n",
       "S1   1   2   3\n",
       "S2   4   5   6"
      ]
     },
     "execution_count": 87,
     "metadata": {},
     "output_type": "execute_result"
    }
   ],
   "source": [
    "df"
   ]
  },
  {
   "cell_type": "code",
   "execution_count": 86,
   "metadata": {},
   "outputs": [
    {
     "data": {
      "text/plain": [
       "S1    3\n",
       "S2    6\n",
       "Name: C1, dtype: int64"
      ]
     },
     "execution_count": 86,
     "metadata": {},
     "output_type": "execute_result"
    }
   ],
   "source": [
    "#任意一列加/减/乘/除一个常数，这一列中的所有值都加/减/乘/除这个常数\n",
    "df['C1'] + 2"
   ]
  },
  {
   "cell_type": "code",
   "execution_count": null,
   "metadata": {},
   "outputs": [],
   "source": [
    "### 8.2 比较运算\n",
    "#大于 >  < == != >= <=b"
   ]
  },
  {
   "cell_type": "code",
   "execution_count": 88,
   "metadata": {},
   "outputs": [
    {
     "data": {
      "text/html": [
       "<div>\n",
       "<style scoped>\n",
       "    .dataframe tbody tr th:only-of-type {\n",
       "        vertical-align: middle;\n",
       "    }\n",
       "\n",
       "    .dataframe tbody tr th {\n",
       "        vertical-align: top;\n",
       "    }\n",
       "\n",
       "    .dataframe thead th {\n",
       "        text-align: right;\n",
       "    }\n",
       "</style>\n",
       "<table border=\"1\" class=\"dataframe\">\n",
       "  <thead>\n",
       "    <tr style=\"text-align: right;\">\n",
       "      <th></th>\n",
       "      <th>C1</th>\n",
       "      <th>C2</th>\n",
       "      <th>C3</th>\n",
       "    </tr>\n",
       "  </thead>\n",
       "  <tbody>\n",
       "    <tr>\n",
       "      <td>S1</td>\n",
       "      <td>1</td>\n",
       "      <td>2</td>\n",
       "      <td>3</td>\n",
       "    </tr>\n",
       "    <tr>\n",
       "      <td>S2</td>\n",
       "      <td>4</td>\n",
       "      <td>5</td>\n",
       "      <td>6</td>\n",
       "    </tr>\n",
       "  </tbody>\n",
       "</table>\n",
       "</div>"
      ],
      "text/plain": [
       "    C1  C2  C3\n",
       "S1   1   2   3\n",
       "S2   4   5   6"
      ]
     },
     "execution_count": 88,
     "metadata": {},
     "output_type": "execute_result"
    }
   ],
   "source": [
    "df"
   ]
  },
  {
   "cell_type": "code",
   "execution_count": 89,
   "metadata": {},
   "outputs": [
    {
     "data": {
      "text/plain": [
       "S1    False\n",
       "S2    False\n",
       "dtype: bool"
      ]
     },
     "execution_count": 89,
     "metadata": {},
     "output_type": "execute_result"
    }
   ],
   "source": [
    "df['C1'] > df['C2']"
   ]
  },
  {
   "cell_type": "code",
   "execution_count": 90,
   "metadata": {},
   "outputs": [
    {
     "data": {
      "text/plain": [
       "S1    False\n",
       "S2    False\n",
       "dtype: bool"
      ]
     },
     "execution_count": 90,
     "metadata": {},
     "output_type": "execute_result"
    }
   ],
   "source": [
    "df['C1'] == df['C2']"
   ]
  },
  {
   "cell_type": "code",
   "execution_count": 91,
   "metadata": {},
   "outputs": [
    {
     "data": {
      "text/plain": [
       "S1    True\n",
       "S2    True\n",
       "dtype: bool"
      ]
     },
     "execution_count": 91,
     "metadata": {},
     "output_type": "execute_result"
    }
   ],
   "source": [
    "df['C1'] != df['C2']"
   ]
  },
  {
   "cell_type": "code",
   "execution_count": 92,
   "metadata": {},
   "outputs": [
    {
     "data": {
      "text/plain": [
       "S1    True\n",
       "S2    True\n",
       "dtype: bool"
      ]
     },
     "execution_count": 92,
     "metadata": {},
     "output_type": "execute_result"
    }
   ],
   "source": [
    "df['C1'] < df['C2']"
   ]
  },
  {
   "cell_type": "code",
   "execution_count": 95,
   "metadata": {},
   "outputs": [],
   "source": [
    "### 8.3 汇总运算\n",
    "#算术运算一般是在列之间进行的，而汇总运行是将数据进行汇总返回一个汇总以后的结果值。\n",
    "\n",
    "#### 8.3.1 count非空值计数\n",
    "#非空值计数就是计算某一个区域中非空(单元格)数值的个数。\n",
    "#在Excel中，counta()函数计算某个区域中非空单元格的个数，count()函数用于计算某个区域中含有数字的单元格的个数。\n",
    "#在Python中，直接在数据表上调用count()函数，返回的结果为该数据表中每列的非空值的个数，axis切换行、列操作，也可以单独查看某行或某列的个数"
   ]
  },
  {
   "cell_type": "code",
   "execution_count": 96,
   "metadata": {},
   "outputs": [
    {
     "data": {
      "text/html": [
       "<div>\n",
       "<style scoped>\n",
       "    .dataframe tbody tr th:only-of-type {\n",
       "        vertical-align: middle;\n",
       "    }\n",
       "\n",
       "    .dataframe tbody tr th {\n",
       "        vertical-align: top;\n",
       "    }\n",
       "\n",
       "    .dataframe thead th {\n",
       "        text-align: right;\n",
       "    }\n",
       "</style>\n",
       "<table border=\"1\" class=\"dataframe\">\n",
       "  <thead>\n",
       "    <tr style=\"text-align: right;\">\n",
       "      <th></th>\n",
       "      <th>C1</th>\n",
       "      <th>C2</th>\n",
       "      <th>C3</th>\n",
       "    </tr>\n",
       "  </thead>\n",
       "  <tbody>\n",
       "    <tr>\n",
       "      <td>S1</td>\n",
       "      <td>1</td>\n",
       "      <td>2</td>\n",
       "      <td>3</td>\n",
       "    </tr>\n",
       "    <tr>\n",
       "      <td>S2</td>\n",
       "      <td>4</td>\n",
       "      <td>5</td>\n",
       "      <td>6</td>\n",
       "    </tr>\n",
       "  </tbody>\n",
       "</table>\n",
       "</div>"
      ],
      "text/plain": [
       "    C1  C2  C3\n",
       "S1   1   2   3\n",
       "S2   4   5   6"
      ]
     },
     "execution_count": 96,
     "metadata": {},
     "output_type": "execute_result"
    }
   ],
   "source": [
    "df"
   ]
  },
  {
   "cell_type": "code",
   "execution_count": 97,
   "metadata": {},
   "outputs": [
    {
     "data": {
      "text/plain": [
       "C1    2\n",
       "C2    2\n",
       "C3    2\n",
       "dtype: int64"
      ]
     },
     "execution_count": 97,
     "metadata": {},
     "output_type": "execute_result"
    }
   ],
   "source": [
    "df.count(axis=0)"
   ]
  },
  {
   "cell_type": "code",
   "execution_count": 98,
   "metadata": {},
   "outputs": [
    {
     "data": {
      "text/plain": [
       "S1    3\n",
       "S2    3\n",
       "dtype: int64"
      ]
     },
     "execution_count": 98,
     "metadata": {},
     "output_type": "execute_result"
    }
   ],
   "source": [
    "df.count(axis=1)"
   ]
  },
  {
   "cell_type": "code",
   "execution_count": 100,
   "metadata": {},
   "outputs": [
    {
     "data": {
      "text/plain": [
       "2"
      ]
     },
     "execution_count": 100,
     "metadata": {},
     "output_type": "execute_result"
    }
   ],
   "source": [
    "df['C1'].count()"
   ]
  },
  {
   "cell_type": "code",
   "execution_count": 103,
   "metadata": {},
   "outputs": [
    {
     "data": {
      "text/plain": [
       "3"
      ]
     },
     "execution_count": 103,
     "metadata": {},
     "output_type": "execute_result"
    }
   ],
   "source": [
    "df.loc['S1'].count()"
   ]
  },
  {
   "cell_type": "code",
   "execution_count": 104,
   "metadata": {},
   "outputs": [
    {
     "data": {
      "text/html": [
       "<div>\n",
       "<style scoped>\n",
       "    .dataframe tbody tr th:only-of-type {\n",
       "        vertical-align: middle;\n",
       "    }\n",
       "\n",
       "    .dataframe tbody tr th {\n",
       "        vertical-align: top;\n",
       "    }\n",
       "\n",
       "    .dataframe thead th {\n",
       "        text-align: right;\n",
       "    }\n",
       "</style>\n",
       "<table border=\"1\" class=\"dataframe\">\n",
       "  <thead>\n",
       "    <tr style=\"text-align: right;\">\n",
       "      <th></th>\n",
       "      <th>C1</th>\n",
       "      <th>C2</th>\n",
       "      <th>C3</th>\n",
       "    </tr>\n",
       "  </thead>\n",
       "  <tbody>\n",
       "    <tr>\n",
       "      <td>S1</td>\n",
       "      <td>1</td>\n",
       "      <td>2</td>\n",
       "      <td>3</td>\n",
       "    </tr>\n",
       "    <tr>\n",
       "      <td>S2</td>\n",
       "      <td>4</td>\n",
       "      <td>5</td>\n",
       "      <td>6</td>\n",
       "    </tr>\n",
       "  </tbody>\n",
       "</table>\n",
       "</div>"
      ],
      "text/plain": [
       "    C1  C2  C3\n",
       "S1   1   2   3\n",
       "S2   4   5   6"
      ]
     },
     "execution_count": 104,
     "metadata": {},
     "output_type": "execute_result"
    }
   ],
   "source": [
    "#### 8.3.2 sum求和\n",
    "#在Python中直接在数据表上调用sum()函数，返回的是该数据表每一列求和的结果\n",
    "df"
   ]
  },
  {
   "cell_type": "code",
   "execution_count": 105,
   "metadata": {},
   "outputs": [
    {
     "data": {
      "text/plain": [
       "C1    5\n",
       "C2    7\n",
       "C3    9\n",
       "dtype: int64"
      ]
     },
     "execution_count": 105,
     "metadata": {},
     "output_type": "execute_result"
    }
   ],
   "source": [
    "df.sum(axis=0)"
   ]
  },
  {
   "cell_type": "code",
   "execution_count": 106,
   "metadata": {},
   "outputs": [
    {
     "data": {
      "text/plain": [
       "S1     6\n",
       "S2    15\n",
       "dtype: int64"
      ]
     },
     "execution_count": 106,
     "metadata": {},
     "output_type": "execute_result"
    }
   ],
   "source": [
    "df.sum(axis=1)"
   ]
  },
  {
   "cell_type": "code",
   "execution_count": 107,
   "metadata": {},
   "outputs": [
    {
     "data": {
      "text/plain": [
       "6"
      ]
     },
     "execution_count": 107,
     "metadata": {},
     "output_type": "execute_result"
    }
   ],
   "source": [
    "df.loc['S1'].sum()"
   ]
  },
  {
   "cell_type": "code",
   "execution_count": 108,
   "metadata": {},
   "outputs": [
    {
     "data": {
      "text/plain": [
       "5"
      ]
     },
     "execution_count": 108,
     "metadata": {},
     "output_type": "execute_result"
    }
   ],
   "source": [
    "df['C1'].sum()"
   ]
  },
  {
   "cell_type": "code",
   "execution_count": null,
   "metadata": {},
   "outputs": [],
   "source": [
    "#### 8.3.3 mean求均值\n",
    "#求均值是针对某一区域中的所有值进行算术平均值的运算，均值是用来衡量数据一般情况的指标，容易受极大值、极小值的影响。\n",
    "#Excel中用average()函数\n",
    "#Python中用mean()函数，对全表求均值，返回每一列的均值，通过axis可设定对行或列进行操作，也可以先选定表的一部分进行求均值。"
   ]
  },
  {
   "cell_type": "code",
   "execution_count": 109,
   "metadata": {},
   "outputs": [
    {
     "data": {
      "text/html": [
       "<div>\n",
       "<style scoped>\n",
       "    .dataframe tbody tr th:only-of-type {\n",
       "        vertical-align: middle;\n",
       "    }\n",
       "\n",
       "    .dataframe tbody tr th {\n",
       "        vertical-align: top;\n",
       "    }\n",
       "\n",
       "    .dataframe thead th {\n",
       "        text-align: right;\n",
       "    }\n",
       "</style>\n",
       "<table border=\"1\" class=\"dataframe\">\n",
       "  <thead>\n",
       "    <tr style=\"text-align: right;\">\n",
       "      <th></th>\n",
       "      <th>C1</th>\n",
       "      <th>C2</th>\n",
       "      <th>C3</th>\n",
       "    </tr>\n",
       "  </thead>\n",
       "  <tbody>\n",
       "    <tr>\n",
       "      <td>S1</td>\n",
       "      <td>1</td>\n",
       "      <td>2</td>\n",
       "      <td>3</td>\n",
       "    </tr>\n",
       "    <tr>\n",
       "      <td>S2</td>\n",
       "      <td>4</td>\n",
       "      <td>5</td>\n",
       "      <td>6</td>\n",
       "    </tr>\n",
       "  </tbody>\n",
       "</table>\n",
       "</div>"
      ],
      "text/plain": [
       "    C1  C2  C3\n",
       "S1   1   2   3\n",
       "S2   4   5   6"
      ]
     },
     "execution_count": 109,
     "metadata": {},
     "output_type": "execute_result"
    }
   ],
   "source": [
    "df"
   ]
  },
  {
   "cell_type": "code",
   "execution_count": 110,
   "metadata": {},
   "outputs": [
    {
     "data": {
      "text/plain": [
       "C1    2.5\n",
       "C2    3.5\n",
       "C3    4.5\n",
       "dtype: float64"
      ]
     },
     "execution_count": 110,
     "metadata": {},
     "output_type": "execute_result"
    }
   ],
   "source": [
    "df.mean(axis=0)"
   ]
  },
  {
   "cell_type": "code",
   "execution_count": 111,
   "metadata": {},
   "outputs": [
    {
     "data": {
      "text/plain": [
       "S1    2.0\n",
       "S2    5.0\n",
       "dtype: float64"
      ]
     },
     "execution_count": 111,
     "metadata": {},
     "output_type": "execute_result"
    }
   ],
   "source": [
    "df.mean(axis=1)"
   ]
  },
  {
   "cell_type": "code",
   "execution_count": 112,
   "metadata": {},
   "outputs": [
    {
     "data": {
      "text/plain": [
       "2.5"
      ]
     },
     "execution_count": 112,
     "metadata": {},
     "output_type": "execute_result"
    }
   ],
   "source": [
    "df['C1'].mean()"
   ]
  },
  {
   "cell_type": "code",
   "execution_count": 113,
   "metadata": {},
   "outputs": [
    {
     "data": {
      "text/plain": [
       "2.0"
      ]
     },
     "execution_count": 113,
     "metadata": {},
     "output_type": "execute_result"
    }
   ],
   "source": [
    "df.loc['S1'].mean()"
   ]
  },
  {
   "cell_type": "code",
   "execution_count": 114,
   "metadata": {},
   "outputs": [
    {
     "data": {
      "text/html": [
       "<div>\n",
       "<style scoped>\n",
       "    .dataframe tbody tr th:only-of-type {\n",
       "        vertical-align: middle;\n",
       "    }\n",
       "\n",
       "    .dataframe tbody tr th {\n",
       "        vertical-align: top;\n",
       "    }\n",
       "\n",
       "    .dataframe thead th {\n",
       "        text-align: right;\n",
       "    }\n",
       "</style>\n",
       "<table border=\"1\" class=\"dataframe\">\n",
       "  <thead>\n",
       "    <tr style=\"text-align: right;\">\n",
       "      <th></th>\n",
       "      <th>C1</th>\n",
       "      <th>C2</th>\n",
       "      <th>C3</th>\n",
       "    </tr>\n",
       "  </thead>\n",
       "  <tbody>\n",
       "    <tr>\n",
       "      <td>S1</td>\n",
       "      <td>1</td>\n",
       "      <td>2</td>\n",
       "      <td>3</td>\n",
       "    </tr>\n",
       "    <tr>\n",
       "      <td>S2</td>\n",
       "      <td>4</td>\n",
       "      <td>5</td>\n",
       "      <td>6</td>\n",
       "    </tr>\n",
       "  </tbody>\n",
       "</table>\n",
       "</div>"
      ],
      "text/plain": [
       "    C1  C2  C3\n",
       "S1   1   2   3\n",
       "S2   4   5   6"
      ]
     },
     "execution_count": 114,
     "metadata": {},
     "output_type": "execute_result"
    }
   ],
   "source": [
    "#### 8.3.4 max求最大值\n",
    "#### 8.3.5 min求最小值\n",
    "#### 8.3.6 median求中位数\n",
    "#中位数就是将一组含有n个数据的序列X按从小到大排列，位于中间位置的那个数。\n",
    "#中位数是以中间位置的数来反映数据的一般情况，不容易受到极大值和极小值的影响，因而在反映数据分布情况上要比平均值更有代表性。\n",
    "#如果序列是偶数，则中间的那两个数的平均值就是中位数\n",
    "#在Excel和Python中都使用median()函数来求中位数，在Python中，该函数的使用原则同其他函数一样。\n",
    "df"
   ]
  },
  {
   "cell_type": "code",
   "execution_count": 115,
   "metadata": {},
   "outputs": [
    {
     "data": {
      "text/plain": [
       "C1    2.5\n",
       "C2    3.5\n",
       "C3    4.5\n",
       "dtype: float64"
      ]
     },
     "execution_count": 115,
     "metadata": {},
     "output_type": "execute_result"
    }
   ],
   "source": [
    "df.median(axis=0)"
   ]
  },
  {
   "cell_type": "code",
   "execution_count": 116,
   "metadata": {},
   "outputs": [
    {
     "data": {
      "text/plain": [
       "S1    2.0\n",
       "S2    5.0\n",
       "dtype: float64"
      ]
     },
     "execution_count": 116,
     "metadata": {},
     "output_type": "execute_result"
    }
   ],
   "source": [
    "df.median(axis=1)"
   ]
  },
  {
   "cell_type": "code",
   "execution_count": 117,
   "metadata": {},
   "outputs": [
    {
     "data": {
      "text/plain": [
       "2.5"
      ]
     },
     "execution_count": 117,
     "metadata": {},
     "output_type": "execute_result"
    }
   ],
   "source": [
    "df['C1'].median()"
   ]
  },
  {
   "cell_type": "code",
   "execution_count": null,
   "metadata": {},
   "outputs": [],
   "source": [
    "#### 8.3.7 mode求众数\n",
    "#众数是一组数据中出现次数最多的数，求众数就是返回这组数据中出现次数最多的那个数。\n",
    "#在Excel和Python中都使用mode()函数求众数，函数的使用原则同其他函数一样"
   ]
  },
  {
   "cell_type": "code",
   "execution_count": 120,
   "metadata": {},
   "outputs": [
    {
     "data": {
      "text/html": [
       "<div>\n",
       "<style scoped>\n",
       "    .dataframe tbody tr th:only-of-type {\n",
       "        vertical-align: middle;\n",
       "    }\n",
       "\n",
       "    .dataframe tbody tr th {\n",
       "        vertical-align: top;\n",
       "    }\n",
       "\n",
       "    .dataframe thead th {\n",
       "        text-align: right;\n",
       "    }\n",
       "</style>\n",
       "<table border=\"1\" class=\"dataframe\">\n",
       "  <thead>\n",
       "    <tr style=\"text-align: right;\">\n",
       "      <th></th>\n",
       "      <th>资材编号</th>\n",
       "      <th>品名</th>\n",
       "      <th>规格</th>\n",
       "      <th>单位</th>\n",
       "      <th>数量</th>\n",
       "    </tr>\n",
       "  </thead>\n",
       "  <tbody>\n",
       "    <tr>\n",
       "      <td>0</td>\n",
       "      <td>JJ36A12083</td>\n",
       "      <td>标签</td>\n",
       "      <td>NK1799</td>\n",
       "      <td>PCS</td>\n",
       "      <td>1</td>\n",
       "    </tr>\n",
       "    <tr>\n",
       "      <td>1</td>\n",
       "      <td>JJ36E00646</td>\n",
       "      <td>标签</td>\n",
       "      <td>NC4629B</td>\n",
       "      <td>NaN</td>\n",
       "      <td>1</td>\n",
       "    </tr>\n",
       "    <tr>\n",
       "      <td>2</td>\n",
       "      <td>JJ36E00657</td>\n",
       "      <td>标签</td>\n",
       "      <td>NC4873</td>\n",
       "      <td>NaN</td>\n",
       "      <td>1</td>\n",
       "    </tr>\n",
       "    <tr>\n",
       "      <td>3</td>\n",
       "      <td>JJ36E21722</td>\n",
       "      <td>表示板</td>\n",
       "      <td>NK5891</td>\n",
       "      <td>PCS</td>\n",
       "      <td>2</td>\n",
       "    </tr>\n",
       "    <tr>\n",
       "      <td>4</td>\n",
       "      <td>JJ36E60019</td>\n",
       "      <td>标签</td>\n",
       "      <td>NK5319</td>\n",
       "      <td>PCS</td>\n",
       "      <td>1</td>\n",
       "    </tr>\n",
       "    <tr>\n",
       "      <td>5</td>\n",
       "      <td>JJ36E60916</td>\n",
       "      <td>标签</td>\n",
       "      <td>NT0006</td>\n",
       "      <td>PCS</td>\n",
       "      <td>1</td>\n",
       "    </tr>\n",
       "    <tr>\n",
       "      <td>6</td>\n",
       "      <td>JJ36E90315</td>\n",
       "      <td>标签</td>\n",
       "      <td>NL0060</td>\n",
       "      <td>PCS</td>\n",
       "      <td>2</td>\n",
       "    </tr>\n",
       "    <tr>\n",
       "      <td>7</td>\n",
       "      <td>JJ36E90326</td>\n",
       "      <td>标签</td>\n",
       "      <td>NL0061</td>\n",
       "      <td>PCS</td>\n",
       "      <td>2</td>\n",
       "    </tr>\n",
       "    <tr>\n",
       "      <td>8</td>\n",
       "      <td>JJ36F42742</td>\n",
       "      <td>标签</td>\n",
       "      <td>NK3384B</td>\n",
       "      <td>PCS</td>\n",
       "      <td>1</td>\n",
       "    </tr>\n",
       "    <tr>\n",
       "      <td>9</td>\n",
       "      <td>MM36D00154</td>\n",
       "      <td>说明书</td>\n",
       "      <td>CPSS-135(P7436)</td>\n",
       "      <td>PCS</td>\n",
       "      <td>1</td>\n",
       "    </tr>\n",
       "    <tr>\n",
       "      <td>10</td>\n",
       "      <td>MM36D00155</td>\n",
       "      <td>说明书</td>\n",
       "      <td>CPSS-135(P7973)</td>\n",
       "      <td>PCS</td>\n",
       "      <td>1</td>\n",
       "    </tr>\n",
       "  </tbody>\n",
       "</table>\n",
       "</div>"
      ],
      "text/plain": [
       "          资材编号   品名               规格   单位  数量\n",
       "0   JJ36A12083   标签           NK1799  PCS   1\n",
       "1   JJ36E00646   标签          NC4629B  NaN   1\n",
       "2   JJ36E00657   标签           NC4873  NaN   1\n",
       "3   JJ36E21722  表示板           NK5891  PCS   2\n",
       "4   JJ36E60019   标签           NK5319  PCS   1\n",
       "5   JJ36E60916   标签           NT0006  PCS   1\n",
       "6   JJ36E90315   标签           NL0060  PCS   2\n",
       "7   JJ36E90326   标签           NL0061  PCS   2\n",
       "8   JJ36F42742   标签          NK3384B  PCS   1\n",
       "9   MM36D00154  说明书  CPSS-135(P7436)  PCS   1\n",
       "10  MM36D00155  说明书  CPSS-135(P7973)  PCS   1"
      ]
     },
     "execution_count": 120,
     "metadata": {},
     "output_type": "execute_result"
    }
   ],
   "source": [
    "df1 = pd.read_csv(\"./维修焊机用标签.csv\",encoding='ANSI',sep='\\t')\n",
    "df1"
   ]
  },
  {
   "cell_type": "code",
   "execution_count": 121,
   "metadata": {},
   "outputs": [
    {
     "data": {
      "text/plain": [
       "0    1\n",
       "dtype: int64"
      ]
     },
     "execution_count": 121,
     "metadata": {},
     "output_type": "execute_result"
    }
   ],
   "source": [
    "df1['数量'].mode()"
   ]
  },
  {
   "cell_type": "code",
   "execution_count": 122,
   "metadata": {},
   "outputs": [
    {
     "data": {
      "text/html": [
       "<div>\n",
       "<style scoped>\n",
       "    .dataframe tbody tr th:only-of-type {\n",
       "        vertical-align: middle;\n",
       "    }\n",
       "\n",
       "    .dataframe tbody tr th {\n",
       "        vertical-align: top;\n",
       "    }\n",
       "\n",
       "    .dataframe thead th {\n",
       "        text-align: right;\n",
       "    }\n",
       "</style>\n",
       "<table border=\"1\" class=\"dataframe\">\n",
       "  <thead>\n",
       "    <tr style=\"text-align: right;\">\n",
       "      <th></th>\n",
       "      <th>C1</th>\n",
       "      <th>C2</th>\n",
       "      <th>C3</th>\n",
       "    </tr>\n",
       "  </thead>\n",
       "  <tbody>\n",
       "    <tr>\n",
       "      <td>S1</td>\n",
       "      <td>1</td>\n",
       "      <td>2</td>\n",
       "      <td>3</td>\n",
       "    </tr>\n",
       "    <tr>\n",
       "      <td>S2</td>\n",
       "      <td>4</td>\n",
       "      <td>5</td>\n",
       "      <td>6</td>\n",
       "    </tr>\n",
       "  </tbody>\n",
       "</table>\n",
       "</div>"
      ],
      "text/plain": [
       "    C1  C2  C3\n",
       "S1   1   2   3\n",
       "S2   4   5   6"
      ]
     },
     "execution_count": 122,
     "metadata": {},
     "output_type": "execute_result"
    }
   ],
   "source": [
    "#### 8.3.8 var求方差\n",
    "#方差是用来衡量一组数据的离散程度(即数据的波动幅度)的。\n",
    "#在Excel和Python中求方差都使用var()函数，使用原则同其他函数一致。\n",
    "df"
   ]
  },
  {
   "cell_type": "code",
   "execution_count": 123,
   "metadata": {},
   "outputs": [
    {
     "data": {
      "text/plain": [
       "C1    4.5\n",
       "C2    4.5\n",
       "C3    4.5\n",
       "dtype: float64"
      ]
     },
     "execution_count": 123,
     "metadata": {},
     "output_type": "execute_result"
    }
   ],
   "source": [
    "df.var()"
   ]
  },
  {
   "cell_type": "code",
   "execution_count": 124,
   "metadata": {},
   "outputs": [
    {
     "data": {
      "text/plain": [
       "S1    1.0\n",
       "S2    1.0\n",
       "dtype: float64"
      ]
     },
     "execution_count": 124,
     "metadata": {},
     "output_type": "execute_result"
    }
   ],
   "source": [
    "df.var(axis=1)"
   ]
  },
  {
   "cell_type": "code",
   "execution_count": 125,
   "metadata": {},
   "outputs": [
    {
     "data": {
      "text/plain": [
       "4.5"
      ]
     },
     "execution_count": 125,
     "metadata": {},
     "output_type": "execute_result"
    }
   ],
   "source": [
    "df['C1'].var()"
   ]
  },
  {
   "cell_type": "code",
   "execution_count": 126,
   "metadata": {},
   "outputs": [
    {
     "data": {
      "text/html": [
       "<div>\n",
       "<style scoped>\n",
       "    .dataframe tbody tr th:only-of-type {\n",
       "        vertical-align: middle;\n",
       "    }\n",
       "\n",
       "    .dataframe tbody tr th {\n",
       "        vertical-align: top;\n",
       "    }\n",
       "\n",
       "    .dataframe thead th {\n",
       "        text-align: right;\n",
       "    }\n",
       "</style>\n",
       "<table border=\"1\" class=\"dataframe\">\n",
       "  <thead>\n",
       "    <tr style=\"text-align: right;\">\n",
       "      <th></th>\n",
       "      <th>C1</th>\n",
       "      <th>C2</th>\n",
       "      <th>C3</th>\n",
       "    </tr>\n",
       "  </thead>\n",
       "  <tbody>\n",
       "    <tr>\n",
       "      <td>S1</td>\n",
       "      <td>1</td>\n",
       "      <td>2</td>\n",
       "      <td>3</td>\n",
       "    </tr>\n",
       "    <tr>\n",
       "      <td>S2</td>\n",
       "      <td>4</td>\n",
       "      <td>5</td>\n",
       "      <td>6</td>\n",
       "    </tr>\n",
       "  </tbody>\n",
       "</table>\n",
       "</div>"
      ],
      "text/plain": [
       "    C1  C2  C3\n",
       "S1   1   2   3\n",
       "S2   4   5   6"
      ]
     },
     "execution_count": 126,
     "metadata": {},
     "output_type": "execute_result"
    }
   ],
   "source": [
    "#### 8.3.9 求标准差\n",
    "#标准差是方差的平方根，二者都是用来表示数据的离散程度的。\n",
    "#Excel中计算标准差使用的是stdevp()函数。\n",
    "#在Python中使用的是std()函数，使用原则同其他函数一致。\n",
    "df"
   ]
  },
  {
   "cell_type": "code",
   "execution_count": 127,
   "metadata": {},
   "outputs": [
    {
     "data": {
      "text/plain": [
       "C1    2.12132\n",
       "C2    2.12132\n",
       "C3    2.12132\n",
       "dtype: float64"
      ]
     },
     "execution_count": 127,
     "metadata": {},
     "output_type": "execute_result"
    }
   ],
   "source": [
    "df.std()"
   ]
  },
  {
   "cell_type": "code",
   "execution_count": 128,
   "metadata": {},
   "outputs": [
    {
     "data": {
      "text/plain": [
       "S1    1.0\n",
       "S2    1.0\n",
       "dtype: float64"
      ]
     },
     "execution_count": 128,
     "metadata": {},
     "output_type": "execute_result"
    }
   ],
   "source": [
    "df.std(axis=1)"
   ]
  },
  {
   "cell_type": "code",
   "execution_count": 130,
   "metadata": {},
   "outputs": [
    {
     "data": {
      "text/html": [
       "<div>\n",
       "<style scoped>\n",
       "    .dataframe tbody tr th:only-of-type {\n",
       "        vertical-align: middle;\n",
       "    }\n",
       "\n",
       "    .dataframe tbody tr th {\n",
       "        vertical-align: top;\n",
       "    }\n",
       "\n",
       "    .dataframe thead th {\n",
       "        text-align: right;\n",
       "    }\n",
       "</style>\n",
       "<table border=\"1\" class=\"dataframe\">\n",
       "  <thead>\n",
       "    <tr style=\"text-align: right;\">\n",
       "      <th></th>\n",
       "      <th>C1</th>\n",
       "      <th>C2</th>\n",
       "      <th>C3</th>\n",
       "    </tr>\n",
       "  </thead>\n",
       "  <tbody>\n",
       "    <tr>\n",
       "      <td>S1</td>\n",
       "      <td>1</td>\n",
       "      <td>2</td>\n",
       "      <td>3</td>\n",
       "    </tr>\n",
       "    <tr>\n",
       "      <td>S2</td>\n",
       "      <td>4</td>\n",
       "      <td>5</td>\n",
       "      <td>6</td>\n",
       "    </tr>\n",
       "    <tr>\n",
       "      <td>S3</td>\n",
       "      <td>7</td>\n",
       "      <td>8</td>\n",
       "      <td>9</td>\n",
       "    </tr>\n",
       "    <tr>\n",
       "      <td>S4</td>\n",
       "      <td>10</td>\n",
       "      <td>11</td>\n",
       "      <td>12</td>\n",
       "    </tr>\n",
       "    <tr>\n",
       "      <td>S5</td>\n",
       "      <td>13</td>\n",
       "      <td>14</td>\n",
       "      <td>15</td>\n",
       "    </tr>\n",
       "  </tbody>\n",
       "</table>\n",
       "</div>"
      ],
      "text/plain": [
       "    C1  C2  C3\n",
       "S1   1   2   3\n",
       "S2   4   5   6\n",
       "S3   7   8   9\n",
       "S4  10  11  12\n",
       "S5  13  14  15"
      ]
     },
     "execution_count": 130,
     "metadata": {},
     "output_type": "execute_result"
    }
   ],
   "source": [
    "#### 8.3.10 quantile求分位数\n",
    "#分位数是比中位数更加详细的基于位置的指标，分位数主要有四分之一分位数、四分之二分位数、四分之三分位数，而四分之二分位数就是中位数。\n",
    "#在Excel中求分位数用的是percentile()函数。\n",
    "#在Python中用的是quantile()函数，要在参数值指明分位数值，其他使用规则相同。\n",
    "df = pd.DataFrame([[1,2,3],[4,5,6],[7,8,9],[10,11,12],[13,14,15]],columns=['C1','C2','C3'],index=['S1','S2','S3','S4','S5'])\n",
    "df"
   ]
  },
  {
   "cell_type": "code",
   "execution_count": 131,
   "metadata": {},
   "outputs": [
    {
     "data": {
      "text/plain": [
       "C1    4.0\n",
       "C2    5.0\n",
       "C3    6.0\n",
       "Name: 0.25, dtype: float64"
      ]
     },
     "execution_count": 131,
     "metadata": {},
     "output_type": "execute_result"
    }
   ],
   "source": [
    "df.quantile(0.25) #四分之一分位数"
   ]
  },
  {
   "cell_type": "code",
   "execution_count": 132,
   "metadata": {},
   "outputs": [
    {
     "data": {
      "text/plain": [
       "C1    7.0\n",
       "C2    8.0\n",
       "C3    9.0\n",
       "Name: 0.5, dtype: float64"
      ]
     },
     "execution_count": 132,
     "metadata": {},
     "output_type": "execute_result"
    }
   ],
   "source": [
    "df.quantile(0.5)  #四分之二分位数"
   ]
  },
  {
   "cell_type": "code",
   "execution_count": 133,
   "metadata": {},
   "outputs": [
    {
     "data": {
      "text/plain": [
       "C1    10.0\n",
       "C2    11.0\n",
       "C3    12.0\n",
       "Name: 0.75, dtype: float64"
      ]
     },
     "execution_count": 133,
     "metadata": {},
     "output_type": "execute_result"
    }
   ],
   "source": [
    "df.quantile(0.75)  #四分之三分位数"
   ]
  },
  {
   "cell_type": "code",
   "execution_count": 136,
   "metadata": {},
   "outputs": [
    {
     "data": {
      "text/plain": [
       "4.0"
      ]
     },
     "execution_count": 136,
     "metadata": {},
     "output_type": "execute_result"
    }
   ],
   "source": [
    "#求每一行的四分之一分位数\n",
    "df['C1'].quantile(0.25)"
   ]
  },
  {
   "cell_type": "code",
   "execution_count": 139,
   "metadata": {},
   "outputs": [
    {
     "data": {
      "text/plain": [
       "S1     2.5\n",
       "S2     5.5\n",
       "S3     8.5\n",
       "S4    11.5\n",
       "S5    14.5\n",
       "Name: 0.75, dtype: float64"
      ]
     },
     "execution_count": 139,
     "metadata": {},
     "output_type": "execute_result"
    }
   ],
   "source": [
    "df.quantile(0.75,axis=1)"
   ]
  },
  {
   "cell_type": "code",
   "execution_count": 141,
   "metadata": {},
   "outputs": [
    {
     "data": {
      "text/html": [
       "<div>\n",
       "<style scoped>\n",
       "    .dataframe tbody tr th:only-of-type {\n",
       "        vertical-align: middle;\n",
       "    }\n",
       "\n",
       "    .dataframe tbody tr th {\n",
       "        vertical-align: top;\n",
       "    }\n",
       "\n",
       "    .dataframe thead th {\n",
       "        text-align: right;\n",
       "    }\n",
       "</style>\n",
       "<table border=\"1\" class=\"dataframe\">\n",
       "  <thead>\n",
       "    <tr style=\"text-align: right;\">\n",
       "      <th></th>\n",
       "      <th>C1</th>\n",
       "      <th>C2</th>\n",
       "      <th>C3</th>\n",
       "    </tr>\n",
       "  </thead>\n",
       "  <tbody>\n",
       "    <tr>\n",
       "      <td>S1</td>\n",
       "      <td>1</td>\n",
       "      <td>2</td>\n",
       "      <td>3</td>\n",
       "    </tr>\n",
       "    <tr>\n",
       "      <td>S2</td>\n",
       "      <td>4</td>\n",
       "      <td>5</td>\n",
       "      <td>6</td>\n",
       "    </tr>\n",
       "    <tr>\n",
       "      <td>S3</td>\n",
       "      <td>7</td>\n",
       "      <td>8</td>\n",
       "      <td>9</td>\n",
       "    </tr>\n",
       "    <tr>\n",
       "      <td>S4</td>\n",
       "      <td>10</td>\n",
       "      <td>11</td>\n",
       "      <td>12</td>\n",
       "    </tr>\n",
       "    <tr>\n",
       "      <td>S5</td>\n",
       "      <td>13</td>\n",
       "      <td>14</td>\n",
       "      <td>15</td>\n",
       "    </tr>\n",
       "  </tbody>\n",
       "</table>\n",
       "</div>"
      ],
      "text/plain": [
       "    C1  C2  C3\n",
       "S1   1   2   3\n",
       "S2   4   5   6\n",
       "S3   7   8   9\n",
       "S4  10  11  12\n",
       "S5  13  14  15"
      ]
     },
     "execution_count": 141,
     "metadata": {},
     "output_type": "execute_result"
    }
   ],
   "source": [
    "### 8.4 相关性运算\n",
    "#相关性常用来衡量两个事物之间的相关程度，比如啤酒与尿布之间的相关性很强。一般用相关系数来衡量二者之间的相关程度，所以计算相关性就是求相关系数\n",
    "#在Excel中求相关系数用correl()函数\n",
    "#在Python中用corr()函数。\n",
    "df"
   ]
  },
  {
   "cell_type": "code",
   "execution_count": 142,
   "metadata": {},
   "outputs": [
    {
     "data": {
      "text/plain": [
       "1.0"
      ]
     },
     "execution_count": 142,
     "metadata": {},
     "output_type": "execute_result"
    }
   ],
   "source": [
    "df['C1'].corr(df['C2'])"
   ]
  },
  {
   "cell_type": "code",
   "execution_count": 143,
   "metadata": {},
   "outputs": [
    {
     "data": {
      "text/html": [
       "<div>\n",
       "<style scoped>\n",
       "    .dataframe tbody tr th:only-of-type {\n",
       "        vertical-align: middle;\n",
       "    }\n",
       "\n",
       "    .dataframe tbody tr th {\n",
       "        vertical-align: top;\n",
       "    }\n",
       "\n",
       "    .dataframe thead th {\n",
       "        text-align: right;\n",
       "    }\n",
       "</style>\n",
       "<table border=\"1\" class=\"dataframe\">\n",
       "  <thead>\n",
       "    <tr style=\"text-align: right;\">\n",
       "      <th></th>\n",
       "      <th>C1</th>\n",
       "      <th>C2</th>\n",
       "      <th>C3</th>\n",
       "    </tr>\n",
       "  </thead>\n",
       "  <tbody>\n",
       "    <tr>\n",
       "      <td>C1</td>\n",
       "      <td>1.0</td>\n",
       "      <td>1.0</td>\n",
       "      <td>1.0</td>\n",
       "    </tr>\n",
       "    <tr>\n",
       "      <td>C2</td>\n",
       "      <td>1.0</td>\n",
       "      <td>1.0</td>\n",
       "      <td>1.0</td>\n",
       "    </tr>\n",
       "    <tr>\n",
       "      <td>C3</td>\n",
       "      <td>1.0</td>\n",
       "      <td>1.0</td>\n",
       "      <td>1.0</td>\n",
       "    </tr>\n",
       "  </tbody>\n",
       "</table>\n",
       "</div>"
      ],
      "text/plain": [
       "     C1   C2   C3\n",
       "C1  1.0  1.0  1.0\n",
       "C2  1.0  1.0  1.0\n",
       "C3  1.0  1.0  1.0"
      ]
     },
     "execution_count": 143,
     "metadata": {},
     "output_type": "execute_result"
    }
   ],
   "source": [
    "df.corr()"
   ]
  },
  {
   "cell_type": "code",
   "execution_count": 145,
   "metadata": {},
   "outputs": [
    {
     "data": {
      "text/plain": [
       "datetime.datetime(2019, 12, 6, 13, 46, 1, 99898)"
      ]
     },
     "execution_count": 145,
     "metadata": {},
     "output_type": "execute_result"
    }
   ],
   "source": [
    "## 第10章 时间序列\n",
    "### 9.1 获取当前时刻的时间\n",
    "#获取当前时刻的时间，就是获取此时此刻与时间相关的数据，除了具体的年、月、日、时、分、秒，还会单独看年、月、周、日等指标。\n",
    "\n",
    "#### 9.1.1 返回当前时刻的日期和时间\n",
    "#在Excel是使用Now()函数\n",
    "#Python使用如下代码\n",
    "from datetime import datetime as dt\n",
    "dt.now()"
   ]
  },
  {
   "cell_type": "code",
   "execution_count": 147,
   "metadata": {},
   "outputs": [
    {
     "name": "stdout",
     "output_type": "stream",
     "text": [
      "2019\n",
      "12\n",
      "6\n"
     ]
    }
   ],
   "source": [
    "#### 9.1.2 分别返回当前时刻的日期和时间\n",
    "#Excel实现方法是year(now()) month(now())  day(now())\n",
    "#Python实现方法：\n",
    "print(dt.now().year)\n",
    "print(dt.now().month)\n",
    "print(dt.now().day)"
   ]
  },
  {
   "cell_type": "code",
   "execution_count": 158,
   "metadata": {},
   "outputs": [
    {
     "name": "stdout",
     "output_type": "stream",
     "text": [
      "5\n"
     ]
    }
   ],
   "source": [
    "#### 9.1.3 返回当前时刻的周数\n",
    "#返回周几\n",
    "#Excel： weekday(now()-1)\n",
    "print((dt.now().weekday() + 1))\n",
    "#返回第几周\n",
    "#Excel：  weeknum()\n",
    "#该功能调试没有通过，用的不多，以后用到时再说。"
   ]
  },
  {
   "cell_type": "code",
   "execution_count": 159,
   "metadata": {},
   "outputs": [
    {
     "name": "stdout",
     "output_type": "stream",
     "text": [
      "(2019, 49, 5)\n"
     ]
    }
   ],
   "source": [
    "print(dt.now().isocalendar())"
   ]
  },
  {
   "cell_type": "code",
   "execution_count": 161,
   "metadata": {},
   "outputs": [
    {
     "data": {
      "text/plain": [
       "datetime.date(2019, 12, 6)"
      ]
     },
     "execution_count": 161,
     "metadata": {},
     "output_type": "execute_result"
    }
   ],
   "source": [
    "### 9.2 指定日期和时间的格式\n",
    "#借助date()函数，将日期和时间设置成只展示日期。\n",
    "dt.now().date()"
   ]
  },
  {
   "cell_type": "code",
   "execution_count": 156,
   "metadata": {},
   "outputs": [
    {
     "data": {
      "text/plain": [
       "datetime.time(14, 1, 2, 777489)"
      ]
     },
     "execution_count": 156,
     "metadata": {},
     "output_type": "execute_result"
    }
   ],
   "source": [
    "#借助time()函数将日期和时间设置成只展示时间\n",
    "dt.now().time()"
   ]
  },
  {
   "cell_type": "markdown",
   "metadata": {},
   "source": [
    "#借助strtime()函数可以自定义时间和日期格式，具体格式代码含义如下：\n",
    "%H  小时（24小时制）[00,23]\n",
    "%I  小时（12小时制）[01,12]\n",
    "%M  两位数的分钟 【00,59】\n",
    "%S  秒 【00,61】(60和61表示闰秒)\n",
    "%w  用整数表示的星期 【0,6】\n",
    "%U  每年的第几周，从周日开始\n",
    "%W  每年的第几周，从周一开始\n",
    "%F  %Y-%m-%d的简写形式，例如2018-04-08\n",
    "%D  %m/%d/%y的简写形式，例如04/08/2018\n",
    "%Y  4位的年\n",
    "%m  2位的月\n",
    "%d  2位的日"
   ]
  },
  {
   "cell_type": "code",
   "execution_count": 162,
   "metadata": {},
   "outputs": [
    {
     "data": {
      "text/plain": [
       "'2019-12-06'"
      ]
     },
     "execution_count": 162,
     "metadata": {},
     "output_type": "execute_result"
    }
   ],
   "source": [
    "dt.now().strftime('%F')"
   ]
  },
  {
   "cell_type": "code",
   "execution_count": 163,
   "metadata": {},
   "outputs": [
    {
     "data": {
      "text/plain": [
       "'2019-12-06 14:26:15'"
      ]
     },
     "execution_count": 163,
     "metadata": {},
     "output_type": "execute_result"
    }
   ],
   "source": [
    "dt.now().strftime('%Y-%m-%d %H:%M:%S')"
   ]
  },
  {
   "cell_type": "code",
   "execution_count": 164,
   "metadata": {},
   "outputs": [
    {
     "data": {
      "text/plain": [
       "datetime.datetime(2019, 12, 6, 14, 36, 55, 465694)"
      ]
     },
     "execution_count": 164,
     "metadata": {},
     "output_type": "execute_result"
    }
   ],
   "source": [
    "### 9.3 字符串和时间格式相互转换\n",
    "#### 9.3.1 将时间格式转换为字符串 str()\n",
    "now = dt.now()\n",
    "now"
   ]
  },
  {
   "cell_type": "code",
   "execution_count": 165,
   "metadata": {},
   "outputs": [
    {
     "data": {
      "text/plain": [
       "datetime.datetime"
      ]
     },
     "execution_count": 165,
     "metadata": {},
     "output_type": "execute_result"
    }
   ],
   "source": [
    "type(now)"
   ]
  },
  {
   "cell_type": "code",
   "execution_count": 166,
   "metadata": {},
   "outputs": [
    {
     "data": {
      "text/plain": [
       "str"
      ]
     },
     "execution_count": 166,
     "metadata": {},
     "output_type": "execute_result"
    }
   ],
   "source": [
    "type(str(now))"
   ]
  },
  {
   "cell_type": "code",
   "execution_count": 167,
   "metadata": {},
   "outputs": [
    {
     "data": {
      "text/plain": [
       "str"
      ]
     },
     "execution_count": 167,
     "metadata": {},
     "output_type": "execute_result"
    }
   ],
   "source": [
    "#### 9.3.2 将字符串格式转换为时间格式 parse()\n",
    "str_time = '2019-12-06'\n",
    "type(str_time)"
   ]
  },
  {
   "cell_type": "code",
   "execution_count": 169,
   "metadata": {},
   "outputs": [],
   "source": [
    "from dateutil.parser import parse\n",
    "a = parse(str_time)"
   ]
  },
  {
   "cell_type": "code",
   "execution_count": 170,
   "metadata": {},
   "outputs": [
    {
     "data": {
      "text/plain": [
       "datetime.datetime"
      ]
     },
     "execution_count": 170,
     "metadata": {},
     "output_type": "execute_result"
    }
   ],
   "source": [
    "type(a)"
   ]
  },
  {
   "cell_type": "code",
   "execution_count": 172,
   "metadata": {},
   "outputs": [
    {
     "data": {
      "text/html": [
       "<div>\n",
       "<style scoped>\n",
       "    .dataframe tbody tr th:only-of-type {\n",
       "        vertical-align: middle;\n",
       "    }\n",
       "\n",
       "    .dataframe tbody tr th {\n",
       "        vertical-align: top;\n",
       "    }\n",
       "\n",
       "    .dataframe thead th {\n",
       "        text-align: right;\n",
       "    }\n",
       "</style>\n",
       "<table border=\"1\" class=\"dataframe\">\n",
       "  <thead>\n",
       "    <tr style=\"text-align: right;\">\n",
       "      <th></th>\n",
       "      <th>num</th>\n",
       "    </tr>\n",
       "  </thead>\n",
       "  <tbody>\n",
       "    <tr>\n",
       "      <td>2018-01-01</td>\n",
       "      <td>1</td>\n",
       "    </tr>\n",
       "    <tr>\n",
       "      <td>2018-01-02</td>\n",
       "      <td>2</td>\n",
       "    </tr>\n",
       "    <tr>\n",
       "      <td>2018-01-03</td>\n",
       "      <td>3</td>\n",
       "    </tr>\n",
       "    <tr>\n",
       "      <td>2018-01-04</td>\n",
       "      <td>4</td>\n",
       "    </tr>\n",
       "    <tr>\n",
       "      <td>2018-01-05</td>\n",
       "      <td>5</td>\n",
       "    </tr>\n",
       "    <tr>\n",
       "      <td>2018-01-06</td>\n",
       "      <td>6</td>\n",
       "    </tr>\n",
       "    <tr>\n",
       "      <td>2018-01-07</td>\n",
       "      <td>7</td>\n",
       "    </tr>\n",
       "    <tr>\n",
       "      <td>2018-01-08</td>\n",
       "      <td>8</td>\n",
       "    </tr>\n",
       "    <tr>\n",
       "      <td>2018-01-09</td>\n",
       "      <td>9</td>\n",
       "    </tr>\n",
       "    <tr>\n",
       "      <td>2018-01-10</td>\n",
       "      <td>10</td>\n",
       "    </tr>\n",
       "  </tbody>\n",
       "</table>\n",
       "</div>"
      ],
      "text/plain": [
       "            num\n",
       "2018-01-01    1\n",
       "2018-01-02    2\n",
       "2018-01-03    3\n",
       "2018-01-04    4\n",
       "2018-01-05    5\n",
       "2018-01-06    6\n",
       "2018-01-07    7\n",
       "2018-01-08    8\n",
       "2018-01-09    9\n",
       "2018-01-10   10"
      ]
     },
     "execution_count": 172,
     "metadata": {},
     "output_type": "execute_result"
    }
   ],
   "source": [
    "### 9.4 时间索引\n",
    "#时间索引就是根据时间来对时间格式的字段进行数据选取的一种索引方式\n",
    "#Excel实现专门的日期格式筛选，根据需要选择相应的筛选格式即可\n",
    "#Python实现，可以选取具体的某一时间对应的值，也可以选取某一时间段内的值。\n",
    "#通过时间索引选择数据不适用的情况下，可以用布尔索引，因为时间是有大小的，可以选出时间范围。\n",
    "import numpy as np\n",
    "index = ['2018-01-01','2018-01-02','2018-01-03','2018-01-04','2018-01-05','2018-01-06','2018-01-07','2018-01-08','2018-01-09','2018-01-10']\n",
    "data = pd.DataFrame(np.arange(1,11),columns = [\"num\"],index=index)\n",
    "data"
   ]
  },
  {
   "cell_type": "code",
   "execution_count": 175,
   "metadata": {},
   "outputs": [
    {
     "data": {
      "text/html": [
       "<div>\n",
       "<style scoped>\n",
       "    .dataframe tbody tr th:only-of-type {\n",
       "        vertical-align: middle;\n",
       "    }\n",
       "\n",
       "    .dataframe tbody tr th {\n",
       "        vertical-align: top;\n",
       "    }\n",
       "\n",
       "    .dataframe thead th {\n",
       "        text-align: right;\n",
       "    }\n",
       "</style>\n",
       "<table border=\"1\" class=\"dataframe\">\n",
       "  <thead>\n",
       "    <tr style=\"text-align: right;\">\n",
       "      <th></th>\n",
       "      <th>num</th>\n",
       "    </tr>\n",
       "  </thead>\n",
       "  <tbody>\n",
       "    <tr>\n",
       "      <td>2018-01-10</td>\n",
       "      <td>10</td>\n",
       "    </tr>\n",
       "  </tbody>\n",
       "</table>\n",
       "</div>"
      ],
      "text/plain": [
       "            num\n",
       "2018-01-10   10"
      ]
     },
     "execution_count": 175,
     "metadata": {},
     "output_type": "execute_result"
    }
   ],
   "source": [
    "data['2018-01-10':'2018-01-10']"
   ]
  },
  {
   "cell_type": "code",
   "execution_count": 176,
   "metadata": {},
   "outputs": [
    {
     "data": {
      "text/html": [
       "<div>\n",
       "<style scoped>\n",
       "    .dataframe tbody tr th:only-of-type {\n",
       "        vertical-align: middle;\n",
       "    }\n",
       "\n",
       "    .dataframe tbody tr th {\n",
       "        vertical-align: top;\n",
       "    }\n",
       "\n",
       "    .dataframe thead th {\n",
       "        text-align: right;\n",
       "    }\n",
       "</style>\n",
       "<table border=\"1\" class=\"dataframe\">\n",
       "  <thead>\n",
       "    <tr style=\"text-align: right;\">\n",
       "      <th></th>\n",
       "      <th>num</th>\n",
       "    </tr>\n",
       "  </thead>\n",
       "  <tbody>\n",
       "  </tbody>\n",
       "</table>\n",
       "</div>"
      ],
      "text/plain": [
       "Empty DataFrame\n",
       "Columns: [num]\n",
       "Index: []"
      ]
     },
     "execution_count": 176,
     "metadata": {},
     "output_type": "execute_result"
    }
   ],
   "source": [
    "data['2018':'2018']"
   ]
  },
  {
   "cell_type": "code",
   "execution_count": 177,
   "metadata": {},
   "outputs": [
    {
     "data": {
      "text/html": [
       "<div>\n",
       "<style scoped>\n",
       "    .dataframe tbody tr th:only-of-type {\n",
       "        vertical-align: middle;\n",
       "    }\n",
       "\n",
       "    .dataframe tbody tr th {\n",
       "        vertical-align: top;\n",
       "    }\n",
       "\n",
       "    .dataframe thead th {\n",
       "        text-align: right;\n",
       "    }\n",
       "</style>\n",
       "<table border=\"1\" class=\"dataframe\">\n",
       "  <thead>\n",
       "    <tr style=\"text-align: right;\">\n",
       "      <th></th>\n",
       "      <th>num</th>\n",
       "    </tr>\n",
       "  </thead>\n",
       "  <tbody>\n",
       "    <tr>\n",
       "      <td>2018-01-01</td>\n",
       "      <td>1</td>\n",
       "    </tr>\n",
       "    <tr>\n",
       "      <td>2018-01-02</td>\n",
       "      <td>2</td>\n",
       "    </tr>\n",
       "    <tr>\n",
       "      <td>2018-01-03</td>\n",
       "      <td>3</td>\n",
       "    </tr>\n",
       "    <tr>\n",
       "      <td>2018-01-04</td>\n",
       "      <td>4</td>\n",
       "    </tr>\n",
       "    <tr>\n",
       "      <td>2018-01-05</td>\n",
       "      <td>5</td>\n",
       "    </tr>\n",
       "    <tr>\n",
       "      <td>2018-01-06</td>\n",
       "      <td>6</td>\n",
       "    </tr>\n",
       "    <tr>\n",
       "      <td>2018-01-07</td>\n",
       "      <td>7</td>\n",
       "    </tr>\n",
       "    <tr>\n",
       "      <td>2018-01-08</td>\n",
       "      <td>8</td>\n",
       "    </tr>\n",
       "    <tr>\n",
       "      <td>2018-01-09</td>\n",
       "      <td>9</td>\n",
       "    </tr>\n",
       "  </tbody>\n",
       "</table>\n",
       "</div>"
      ],
      "text/plain": [
       "            num\n",
       "2018-01-01    1\n",
       "2018-01-02    2\n",
       "2018-01-03    3\n",
       "2018-01-04    4\n",
       "2018-01-05    5\n",
       "2018-01-06    6\n",
       "2018-01-07    7\n",
       "2018-01-08    8\n",
       "2018-01-09    9"
      ]
     },
     "execution_count": 177,
     "metadata": {},
     "output_type": "execute_result"
    }
   ],
   "source": [
    "data['2018-01-01':'2018-01-09']"
   ]
  },
  {
   "cell_type": "code",
   "execution_count": 179,
   "metadata": {},
   "outputs": [
    {
     "ename": "KeyError",
     "evalue": "'2018-01-10'",
     "output_type": "error",
     "traceback": [
      "\u001b[1;31m---------------------------------------------------------------------------\u001b[0m",
      "\u001b[1;31mKeyError\u001b[0m                                  Traceback (most recent call last)",
      "\u001b[1;32md:\\program files\\python37\\lib\\site-packages\\pandas\\core\\indexes\\base.py\u001b[0m in \u001b[0;36mget_loc\u001b[1;34m(self, key, method, tolerance)\u001b[0m\n\u001b[0;32m   2896\u001b[0m             \u001b[1;32mtry\u001b[0m\u001b[1;33m:\u001b[0m\u001b[1;33m\u001b[0m\u001b[1;33m\u001b[0m\u001b[0m\n\u001b[1;32m-> 2897\u001b[1;33m                 \u001b[1;32mreturn\u001b[0m \u001b[0mself\u001b[0m\u001b[1;33m.\u001b[0m\u001b[0m_engine\u001b[0m\u001b[1;33m.\u001b[0m\u001b[0mget_loc\u001b[0m\u001b[1;33m(\u001b[0m\u001b[0mkey\u001b[0m\u001b[1;33m)\u001b[0m\u001b[1;33m\u001b[0m\u001b[1;33m\u001b[0m\u001b[0m\n\u001b[0m\u001b[0;32m   2898\u001b[0m             \u001b[1;32mexcept\u001b[0m \u001b[0mKeyError\u001b[0m\u001b[1;33m:\u001b[0m\u001b[1;33m\u001b[0m\u001b[1;33m\u001b[0m\u001b[0m\n",
      "\u001b[1;32mpandas\\_libs\\index.pyx\u001b[0m in \u001b[0;36mpandas._libs.index.IndexEngine.get_loc\u001b[1;34m()\u001b[0m\n",
      "\u001b[1;32mpandas\\_libs\\index.pyx\u001b[0m in \u001b[0;36mpandas._libs.index.IndexEngine.get_loc\u001b[1;34m()\u001b[0m\n",
      "\u001b[1;32mpandas\\_libs\\hashtable_class_helper.pxi\u001b[0m in \u001b[0;36mpandas._libs.hashtable.PyObjectHashTable.get_item\u001b[1;34m()\u001b[0m\n",
      "\u001b[1;32mpandas\\_libs\\hashtable_class_helper.pxi\u001b[0m in \u001b[0;36mpandas._libs.hashtable.PyObjectHashTable.get_item\u001b[1;34m()\u001b[0m\n",
      "\u001b[1;31mKeyError\u001b[0m: '2018-01-10'",
      "\nDuring handling of the above exception, another exception occurred:\n",
      "\u001b[1;31mKeyError\u001b[0m                                  Traceback (most recent call last)",
      "\u001b[1;32m<ipython-input-179-5b1f93537dd6>\u001b[0m in \u001b[0;36m<module>\u001b[1;34m\u001b[0m\n\u001b[1;32m----> 1\u001b[1;33m \u001b[0mdata\u001b[0m\u001b[1;33m[\u001b[0m\u001b[1;34m'2018-01-10'\u001b[0m\u001b[1;33m]\u001b[0m\u001b[1;33m\u001b[0m\u001b[1;33m\u001b[0m\u001b[0m\n\u001b[0m",
      "\u001b[1;32md:\\program files\\python37\\lib\\site-packages\\pandas\\core\\frame.py\u001b[0m in \u001b[0;36m__getitem__\u001b[1;34m(self, key)\u001b[0m\n\u001b[0;32m   2978\u001b[0m             \u001b[1;32mif\u001b[0m \u001b[0mself\u001b[0m\u001b[1;33m.\u001b[0m\u001b[0mcolumns\u001b[0m\u001b[1;33m.\u001b[0m\u001b[0mnlevels\u001b[0m \u001b[1;33m>\u001b[0m \u001b[1;36m1\u001b[0m\u001b[1;33m:\u001b[0m\u001b[1;33m\u001b[0m\u001b[1;33m\u001b[0m\u001b[0m\n\u001b[0;32m   2979\u001b[0m                 \u001b[1;32mreturn\u001b[0m \u001b[0mself\u001b[0m\u001b[1;33m.\u001b[0m\u001b[0m_getitem_multilevel\u001b[0m\u001b[1;33m(\u001b[0m\u001b[0mkey\u001b[0m\u001b[1;33m)\u001b[0m\u001b[1;33m\u001b[0m\u001b[1;33m\u001b[0m\u001b[0m\n\u001b[1;32m-> 2980\u001b[1;33m             \u001b[0mindexer\u001b[0m \u001b[1;33m=\u001b[0m \u001b[0mself\u001b[0m\u001b[1;33m.\u001b[0m\u001b[0mcolumns\u001b[0m\u001b[1;33m.\u001b[0m\u001b[0mget_loc\u001b[0m\u001b[1;33m(\u001b[0m\u001b[0mkey\u001b[0m\u001b[1;33m)\u001b[0m\u001b[1;33m\u001b[0m\u001b[1;33m\u001b[0m\u001b[0m\n\u001b[0m\u001b[0;32m   2981\u001b[0m             \u001b[1;32mif\u001b[0m \u001b[0mis_integer\u001b[0m\u001b[1;33m(\u001b[0m\u001b[0mindexer\u001b[0m\u001b[1;33m)\u001b[0m\u001b[1;33m:\u001b[0m\u001b[1;33m\u001b[0m\u001b[1;33m\u001b[0m\u001b[0m\n\u001b[0;32m   2982\u001b[0m                 \u001b[0mindexer\u001b[0m \u001b[1;33m=\u001b[0m \u001b[1;33m[\u001b[0m\u001b[0mindexer\u001b[0m\u001b[1;33m]\u001b[0m\u001b[1;33m\u001b[0m\u001b[1;33m\u001b[0m\u001b[0m\n",
      "\u001b[1;32md:\\program files\\python37\\lib\\site-packages\\pandas\\core\\indexes\\base.py\u001b[0m in \u001b[0;36mget_loc\u001b[1;34m(self, key, method, tolerance)\u001b[0m\n\u001b[0;32m   2897\u001b[0m                 \u001b[1;32mreturn\u001b[0m \u001b[0mself\u001b[0m\u001b[1;33m.\u001b[0m\u001b[0m_engine\u001b[0m\u001b[1;33m.\u001b[0m\u001b[0mget_loc\u001b[0m\u001b[1;33m(\u001b[0m\u001b[0mkey\u001b[0m\u001b[1;33m)\u001b[0m\u001b[1;33m\u001b[0m\u001b[1;33m\u001b[0m\u001b[0m\n\u001b[0;32m   2898\u001b[0m             \u001b[1;32mexcept\u001b[0m \u001b[0mKeyError\u001b[0m\u001b[1;33m:\u001b[0m\u001b[1;33m\u001b[0m\u001b[1;33m\u001b[0m\u001b[0m\n\u001b[1;32m-> 2899\u001b[1;33m                 \u001b[1;32mreturn\u001b[0m \u001b[0mself\u001b[0m\u001b[1;33m.\u001b[0m\u001b[0m_engine\u001b[0m\u001b[1;33m.\u001b[0m\u001b[0mget_loc\u001b[0m\u001b[1;33m(\u001b[0m\u001b[0mself\u001b[0m\u001b[1;33m.\u001b[0m\u001b[0m_maybe_cast_indexer\u001b[0m\u001b[1;33m(\u001b[0m\u001b[0mkey\u001b[0m\u001b[1;33m)\u001b[0m\u001b[1;33m)\u001b[0m\u001b[1;33m\u001b[0m\u001b[1;33m\u001b[0m\u001b[0m\n\u001b[0m\u001b[0;32m   2900\u001b[0m         \u001b[0mindexer\u001b[0m \u001b[1;33m=\u001b[0m \u001b[0mself\u001b[0m\u001b[1;33m.\u001b[0m\u001b[0mget_indexer\u001b[0m\u001b[1;33m(\u001b[0m\u001b[1;33m[\u001b[0m\u001b[0mkey\u001b[0m\u001b[1;33m]\u001b[0m\u001b[1;33m,\u001b[0m \u001b[0mmethod\u001b[0m\u001b[1;33m=\u001b[0m\u001b[0mmethod\u001b[0m\u001b[1;33m,\u001b[0m \u001b[0mtolerance\u001b[0m\u001b[1;33m=\u001b[0m\u001b[0mtolerance\u001b[0m\u001b[1;33m)\u001b[0m\u001b[1;33m\u001b[0m\u001b[1;33m\u001b[0m\u001b[0m\n\u001b[0;32m   2901\u001b[0m         \u001b[1;32mif\u001b[0m \u001b[0mindexer\u001b[0m\u001b[1;33m.\u001b[0m\u001b[0mndim\u001b[0m \u001b[1;33m>\u001b[0m \u001b[1;36m1\u001b[0m \u001b[1;32mor\u001b[0m \u001b[0mindexer\u001b[0m\u001b[1;33m.\u001b[0m\u001b[0msize\u001b[0m \u001b[1;33m>\u001b[0m \u001b[1;36m1\u001b[0m\u001b[1;33m:\u001b[0m\u001b[1;33m\u001b[0m\u001b[1;33m\u001b[0m\u001b[0m\n",
      "\u001b[1;32mpandas\\_libs\\index.pyx\u001b[0m in \u001b[0;36mpandas._libs.index.IndexEngine.get_loc\u001b[1;34m()\u001b[0m\n",
      "\u001b[1;32mpandas\\_libs\\index.pyx\u001b[0m in \u001b[0;36mpandas._libs.index.IndexEngine.get_loc\u001b[1;34m()\u001b[0m\n",
      "\u001b[1;32mpandas\\_libs\\hashtable_class_helper.pxi\u001b[0m in \u001b[0;36mpandas._libs.hashtable.PyObjectHashTable.get_item\u001b[1;34m()\u001b[0m\n",
      "\u001b[1;32mpandas\\_libs\\hashtable_class_helper.pxi\u001b[0m in \u001b[0;36mpandas._libs.hashtable.PyObjectHashTable.get_item\u001b[1;34m()\u001b[0m\n",
      "\u001b[1;31mKeyError\u001b[0m: '2018-01-10'"
     ]
    }
   ],
   "source": [
    "data['2018-01-10']"
   ]
  },
  {
   "cell_type": "code",
   "execution_count": 180,
   "metadata": {},
   "outputs": [
    {
     "data": {
      "text/plain": [
       "datetime.timedelta(days=2, seconds=83880)"
      ]
     },
     "execution_count": 180,
     "metadata": {},
     "output_type": "execute_result"
    }
   ],
   "source": [
    "### 9.5 时间运算\n",
    "#### 9.5.1 两个时间之差\n",
    "#在Python中两个时间做差会返回一个timedelta对象，该对象中包含天数、秒、微妙三个等级，如果要取小时、分钟，则需要换算。\n",
    "cha = dt(2018,5,21,19,50) - dt(2018,5,18,20,32)\n",
    "cha"
   ]
  },
  {
   "cell_type": "code",
   "execution_count": 181,
   "metadata": {},
   "outputs": [
    {
     "data": {
      "text/plain": [
       "2"
      ]
     },
     "execution_count": 181,
     "metadata": {},
     "output_type": "execute_result"
    }
   ],
   "source": [
    "cha.days"
   ]
  },
  {
   "cell_type": "code",
   "execution_count": 182,
   "metadata": {},
   "outputs": [
    {
     "data": {
      "text/plain": [
       "83880"
      ]
     },
     "execution_count": 182,
     "metadata": {},
     "output_type": "execute_result"
    }
   ],
   "source": [
    "cha.seconds"
   ]
  },
  {
   "cell_type": "code",
   "execution_count": 183,
   "metadata": {},
   "outputs": [
    {
     "data": {
      "text/plain": [
       "23.3"
      ]
     },
     "execution_count": 183,
     "metadata": {},
     "output_type": "execute_result"
    }
   ],
   "source": [
    "cha.seconds/3600"
   ]
  },
  {
   "cell_type": "code",
   "execution_count": 185,
   "metadata": {},
   "outputs": [
    {
     "data": {
      "text/plain": [
       "datetime.datetime(2018, 5, 19, 20, 32)"
      ]
     },
     "execution_count": 185,
     "metadata": {},
     "output_type": "execute_result"
    }
   ],
   "source": [
    "#### 9.5.1 时间偏移\n",
    "#时间偏移是指给时间往前或往后推一段时间，即加或减一段时间。\n",
    "#Excel中应该使用dateadd或datediff函数\n",
    "#Python中有两种实现方式，第一种是借助timedelta，只能偏移天、秒、微秒的时间。第2种是一用pandas中的日期偏移量(date offset)\n",
    "from datetime import timedelta\n",
    "date = dt(2018,5,18,20,32)\n",
    "#往后推1天\n",
    "date + timedelta(days=1)"
   ]
  },
  {
   "cell_type": "code",
   "execution_count": 186,
   "metadata": {},
   "outputs": [
    {
     "data": {
      "text/plain": [
       "datetime.datetime(2018, 5, 18, 20, 33)"
      ]
     },
     "execution_count": 186,
     "metadata": {},
     "output_type": "execute_result"
    }
   ],
   "source": [
    "#往后推60秒\n",
    "date + timedelta(seconds=60)"
   ]
  },
  {
   "cell_type": "code",
   "execution_count": 187,
   "metadata": {},
   "outputs": [
    {
     "data": {
      "text/plain": [
       "datetime.datetime(2018, 5, 17, 20, 32)"
      ]
     },
     "execution_count": 187,
     "metadata": {},
     "output_type": "execute_result"
    }
   ],
   "source": [
    "#往前推1天\n",
    "date - timedelta(days=1)"
   ]
  },
  {
   "cell_type": "code",
   "execution_count": 188,
   "metadata": {},
   "outputs": [
    {
     "data": {
      "text/plain": [
       "datetime.datetime(2018, 5, 18, 20, 31)"
      ]
     },
     "execution_count": 188,
     "metadata": {},
     "output_type": "execute_result"
    }
   ],
   "source": [
    "#往前推60秒\n",
    "date - timedelta(seconds=60)"
   ]
  },
  {
   "cell_type": "code",
   "execution_count": 190,
   "metadata": {},
   "outputs": [
    {
     "ename": "ModuleNotFoundError",
     "evalue": "No module named 'pd'",
     "output_type": "error",
     "traceback": [
      "\u001b[1;31m---------------------------------------------------------------------------\u001b[0m",
      "\u001b[1;31mModuleNotFoundError\u001b[0m                       Traceback (most recent call last)",
      "\u001b[1;32m<ipython-input-190-4048cb41dd02>\u001b[0m in \u001b[0;36m<module>\u001b[1;34m\u001b[0m\n\u001b[0;32m      1\u001b[0m \u001b[1;32mimport\u001b[0m \u001b[0mpandas\u001b[0m \u001b[1;32mas\u001b[0m \u001b[0mpd\u001b[0m\u001b[1;33m\u001b[0m\u001b[1;33m\u001b[0m\u001b[0m\n\u001b[1;32m----> 2\u001b[1;33m \u001b[1;32mfrom\u001b[0m \u001b[0mpd\u001b[0m\u001b[1;33m.\u001b[0m\u001b[0mtseries\u001b[0m\u001b[1;33m.\u001b[0m\u001b[0moffsets\u001b[0m \u001b[1;32mimport\u001b[0m \u001b[0mDay\u001b[0m\u001b[1;33m,\u001b[0m\u001b[0mHour\u001b[0m\u001b[1;33m,\u001b[0m\u001b[0mMinute\u001b[0m\u001b[1;33m\u001b[0m\u001b[1;33m\u001b[0m\u001b[0m\n\u001b[0m\u001b[0;32m      3\u001b[0m \u001b[0mdate\u001b[0m \u001b[1;33m=\u001b[0m \u001b[0mdt\u001b[0m\u001b[1;33m(\u001b[0m\u001b[1;36m2018\u001b[0m\u001b[1;33m,\u001b[0m\u001b[1;36m5\u001b[0m\u001b[1;33m,\u001b[0m\u001b[1;36m18\u001b[0m\u001b[1;33m,\u001b[0m\u001b[1;36m20\u001b[0m\u001b[1;33m,\u001b[0m\u001b[1;36m32\u001b[0m\u001b[1;33m)\u001b[0m\u001b[1;33m\u001b[0m\u001b[1;33m\u001b[0m\u001b[0m\n\u001b[0;32m      4\u001b[0m \u001b[1;31m#往后推1天\u001b[0m\u001b[1;33m\u001b[0m\u001b[1;33m\u001b[0m\u001b[1;33m\u001b[0m\u001b[0m\n\u001b[0;32m      5\u001b[0m \u001b[0mdate\u001b[0m \u001b[1;33m+\u001b[0m \u001b[0mDay\u001b[0m\u001b[1;33m(\u001b[0m\u001b[1;36m1\u001b[0m\u001b[1;33m)\u001b[0m\u001b[1;33m\u001b[0m\u001b[1;33m\u001b[0m\u001b[0m\n",
      "\u001b[1;31mModuleNotFoundError\u001b[0m: No module named 'pd'"
     ]
    }
   ],
   "source": [
    "import pandas as pd\n",
    "from pd.tseries.offsets import Day,Hour,Minute\n",
    "date = dt(2018,5,18,20,32)\n",
    "#往后推1天\n",
    "date + Day(1)"
   ]
  },
  {
   "cell_type": "code",
   "execution_count": null,
   "metadata": {},
   "outputs": [],
   "source": []
  }
 ],
 "metadata": {
  "kernelspec": {
   "display_name": "Python 3",
   "language": "python",
   "name": "python3"
  },
  "language_info": {
   "codemirror_mode": {
    "name": "ipython",
    "version": 3
   },
   "file_extension": ".py",
   "mimetype": "text/x-python",
   "name": "python",
   "nbconvert_exporter": "python",
   "pygments_lexer": "ipython3",
   "version": "3.7.4"
  }
 },
 "nbformat": 4,
 "nbformat_minor": 2
}
