{
 "cells": [
  {
   "cell_type": "code",
   "execution_count": 1,
   "metadata": {},
   "outputs": [
    {
     "name": "stdout",
     "output_type": "stream",
     "text": [
      "Writing mysite/mysite/view.py\n"
     ]
    }
   ],
   "source": [
    "%%writefile 'mysite/mysite/view.py'\n",
    "from django.http import HttpResponse\n",
    "def hello(request):\n",
    "    return HttpResponse(\"Hello world\")"
   ]
  },
  {
   "cell_type": "code",
   "execution_count": null,
   "metadata": {},
   "outputs": [],
   "source": []
  },
  {
   "cell_type": "markdown",
   "metadata": {},
   "source": [
    "### 命令行创建Django项目命令\n",
    "django-admin startproject HelloWorld\n",
    "\n",
    "### django项目目录说明：\n",
    "项目名文件夹：项目的容器\n",
    "manage.py: 一个实用的命令行工具，可以用各种方式与Django项目进行交互。\n",
    "项目文件夹/__init__.py: 一个空文件，告诉Python该目录是一个Python包。\n",
    "项目文件夹/settings.py: Django项目的设置/配置。\n",
    "项目文件夹/urls.py: 项目的url声明，一份由Django驱动的网站目录。\n",
    "项目文件夹/wsgi.py：一个WSGI兼容的Web服务器的入口，用于运行项目。\n",
    "开发测试运行命令：python manage.py runserver 0.0.0.0:8000\n",
    "\n",
    "### 视图和URL配置\n",
    "1.在项目目录下创建视图(view.py)文件\n",
    "from django.http import HttpResponse\n",
    "def hello(request):\n",
    "    return HttpResponse(\"Hello world!\")\n",
    "    \n",
    "2.绑定URL与视图函数(urls.py)\n",
    "from django.conf.urls import url\n",
    "from . import view\n",
    "urlpatterns = [\n",
    "    url(r'^$',view.hello),\n",
    "]\n",
    "\n",
    "\n",
    "\n",
    "### path()函数\n",
    "path(\n",
    "    route,   #字符串，表示URL规则，与之匹配的URL会执行对应的第二个参数view。\n",
    "    view,    #用于执行与正则表达式匹配的URL请求。\n",
    "    kwargs,  #视图使用的字典类型的参数\n",
    "    name     #用来反向获取URL\n",
    ")"
   ]
  },
  {
   "cell_type": "code",
   "execution_count": null,
   "metadata": {},
   "outputs": [],
   "source": [
    "## Django模板标签\n",
    "### if/else 标签\n",
    "基本格式\n",
    "{% if condition %}\n",
    "    ... display 1\n",
    "{% elif condition2 %}\n",
    "    ... display 2\n",
    "{% else %}\n",
    "    ... display 3\n",
    "{% endif %}\n",
    "\n",
    "### for标签\n",
    "与python的for语句的情形类似，循环语法是for x in y，每一次循环模板渲染在{% for %}和{% endfor %}之间的所有内容。\n",
    "<ul>\n",
    "{% for athlete in athlete_list [reversed]%}\n",
    "    <li>{{ athlete.name }}</li>\n",
    "{% endfor %}\n",
    "</ul>\n",
    "增加reversed使得该列表被反向迭代\n",
    "\n",
    "### ifequal/ifnotequal标签\n",
    "与if标签类似，支持可选的{% else %}标签\n",
    "{% ifequal section 'sitenews' %}\n",
    "    <h1>Site New</h1>\n",
    "{% else %}\n",
    "    <h1>No News Here</h1>\n",
    "{% endifequal}\n",
    "\n",
    "### 注释标签\n",
    "{# 这是一个注释 #}\n",
    "    \n",
    "## 过滤器\n",
    "模板过滤器可以在变量被显示修改它，过滤器使用管道字符\n",
    "{{ name|lower }}\n",
    "{{ name }}变量被过滤器lower处理后，文档大写转换文本为小写。\n",
    "过滤管道可以被套接，即一个过滤管道的输出作为下一个管道的输入：\n",
    "{{ my_list|first|upper }}\n",
    "过滤器的参数跟随冒号之后并且总是以双引号包含。\n",
    "{{bio|truncatewords:\"30\"}} #显示变量biio的前30个词。\n",
    "其他过滤器：\n",
    " ○ addslashes：添加反斜杠到任何反斜杠、单引号或者双引号前面\n",
    " ○ date：格式化date或datetime对象 {{pub_date|date:'F j,Y'}}\n",
    " ○ length: 返回变量长度\n",
    "\n",
    "### include标签\n",
    "{% include 'nav.html' %}\n",
    "    \n",
    "## 模板继承\n",
    "模板可以用继承的方式来实现复用\n",
    "<!DOCTYPE html>\n",
    "<html>\n",
    "<head>\n",
    "<meta charset=\"utf-8\">\n",
    "<title>菜鸟教程(runoob.com)</title>\n",
    "</head>\n",
    "<body>\n",
    "    <h1>Hello World!</h1>\n",
    "    <p>菜鸟教程 Django 测试。</p>\n",
    "    {% block mainbody %}\n",
    "       <p>original</p>\n",
    "    {% endblock %}\n",
    "</body>\n",
    "</html>\n",
    "以上代码中，名为mainblock的block标签是可以被继承者们替换掉的部分。\n",
    "所有的{% block %}标签告诉模板引擎，子模板可以重载这些部分。\n",
    "hello.html中继承base.html，并替换特定block，hello.html修改后代码如下："
   ]
  },
  {
   "cell_type": "code",
   "execution_count": null,
   "metadata": {},
   "outputs": [],
   "source": [
    "## Django模型(访问数据库)\n"
   ]
  },
  {
   "cell_type": "code",
   "execution_count": null,
   "metadata": {},
   "outputs": [],
   "source": []
  },
  {
   "cell_type": "code",
   "execution_count": null,
   "metadata": {},
   "outputs": [],
   "source": []
  },
  {
   "cell_type": "code",
   "execution_count": null,
   "metadata": {},
   "outputs": [],
   "source": []
  },
  {
   "cell_type": "code",
   "execution_count": null,
   "metadata": {},
   "outputs": [],
   "source": []
  },
  {
   "cell_type": "code",
   "execution_count": null,
   "metadata": {},
   "outputs": [],
   "source": []
  },
  {
   "cell_type": "code",
   "execution_count": null,
   "metadata": {},
   "outputs": [],
   "source": []
  },
  {
   "cell_type": "code",
   "execution_count": null,
   "metadata": {},
   "outputs": [],
   "source": []
  },
  {
   "cell_type": "code",
   "execution_count": 4,
   "metadata": {},
   "outputs": [
    {
     "name": "stdout",
     "output_type": "stream",
     "text": [
      "Writing HelloWorld/HelloWorld/view1.py\n"
     ]
    }
   ],
   "source": [
    "%%writefile HelloWorld/HelloWorld/view.py\n",
    "\n",
    "from django.shortcuts import render\n",
    " \n",
    "def hello(request):\n",
    "    context          = {}\n",
    "    context['hello'] = 'Hello World!'\n",
    "    return render(request, 'hello.html', context)"
   ]
  }
 ],
 "metadata": {
  "kernelspec": {
   "display_name": "Python 3",
   "language": "python",
   "name": "python3"
  },
  "language_info": {
   "codemirror_mode": {
    "name": "ipython",
    "version": 3
   },
   "file_extension": ".py",
   "mimetype": "text/x-python",
   "name": "python",
   "nbconvert_exporter": "python",
   "pygments_lexer": "ipython3",
   "version": "3.7.4"
  }
 },
 "nbformat": 4,
 "nbformat_minor": 2
}
